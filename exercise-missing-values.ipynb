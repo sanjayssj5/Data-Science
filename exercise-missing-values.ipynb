{
 "cells": [
  {
   "cell_type": "markdown",
   "id": "8a97933b",
   "metadata": {
    "papermill": {
     "duration": 0.010024,
     "end_time": "2023-03-08T12:27:11.747216",
     "exception": false,
     "start_time": "2023-03-08T12:27:11.737192",
     "status": "completed"
    },
    "tags": []
   },
   "source": [
    "**This notebook is an exercise in the [Intermediate Machine Learning](https://www.kaggle.com/learn/intermediate-machine-learning) course.  You can reference the tutorial at [this link](https://www.kaggle.com/alexisbcook/missing-values).**\n",
    "\n",
    "---\n"
   ]
  },
  {
   "cell_type": "markdown",
   "id": "e1870af0",
   "metadata": {
    "papermill": {
     "duration": 0.008141,
     "end_time": "2023-03-08T12:27:11.764281",
     "exception": false,
     "start_time": "2023-03-08T12:27:11.756140",
     "status": "completed"
    },
    "tags": []
   },
   "source": [
    "Now it's your turn to test your new knowledge of **missing values** handling. You'll probably find it makes a big difference.\n",
    "\n",
    "# Setup\n",
    "\n",
    "The questions will give you feedback on your work. Run the following cell to set up the feedback system."
   ]
  },
  {
   "cell_type": "code",
   "execution_count": 1,
   "id": "e17b254f",
   "metadata": {
    "execution": {
     "iopub.execute_input": "2023-03-08T12:27:11.783726Z",
     "iopub.status.busy": "2023-03-08T12:27:11.782922Z",
     "iopub.status.idle": "2023-03-08T12:27:11.836807Z",
     "shell.execute_reply": "2023-03-08T12:27:11.835502Z"
    },
    "papermill": {
     "duration": 0.068624,
     "end_time": "2023-03-08T12:27:11.841432",
     "exception": false,
     "start_time": "2023-03-08T12:27:11.772808",
     "status": "completed"
    },
    "tags": []
   },
   "outputs": [
    {
     "name": "stdout",
     "output_type": "stream",
     "text": [
      "Setup Complete\n"
     ]
    }
   ],
   "source": [
    "# Set up code checking\n",
    "import os\n",
    "if not os.path.exists(\"../input/train.csv\"):\n",
    "    os.symlink(\"../input/home-data-for-ml-course/train.csv\", \"../input/train.csv\")  \n",
    "    os.symlink(\"../input/home-data-for-ml-course/test.csv\", \"../input/test.csv\") \n",
    "from learntools.core import binder\n",
    "binder.bind(globals())\n",
    "from learntools.ml_intermediate.ex2 import *\n",
    "print(\"Setup Complete\")"
   ]
  },
  {
   "cell_type": "markdown",
   "id": "0dd2e4e5",
   "metadata": {
    "papermill": {
     "duration": 0.008328,
     "end_time": "2023-03-08T12:27:11.858529",
     "exception": false,
     "start_time": "2023-03-08T12:27:11.850201",
     "status": "completed"
    },
    "tags": []
   },
   "source": [
    "In this exercise, you will work with data from the [Housing Prices Competition for Kaggle Learn Users](https://www.kaggle.com/c/home-data-for-ml-course). \n",
    "\n",
    "![Ames Housing dataset image](https://i.imgur.com/lTJVG4e.png)\n",
    "\n",
    "Run the next code cell without changes to load the training and validation sets in `X_train`, `X_valid`, `y_train`, and `y_valid`.  The test set is loaded in `X_test`."
   ]
  },
  {
   "cell_type": "code",
   "execution_count": 2,
   "id": "a2595d75",
   "metadata": {
    "execution": {
     "iopub.execute_input": "2023-03-08T12:27:11.878165Z",
     "iopub.status.busy": "2023-03-08T12:27:11.877358Z",
     "iopub.status.idle": "2023-03-08T12:27:13.146627Z",
     "shell.execute_reply": "2023-03-08T12:27:13.145281Z"
    },
    "papermill": {
     "duration": 1.282846,
     "end_time": "2023-03-08T12:27:13.150028",
     "exception": false,
     "start_time": "2023-03-08T12:27:11.867182",
     "status": "completed"
    },
    "tags": []
   },
   "outputs": [],
   "source": [
    "import pandas as pd\n",
    "from sklearn.model_selection import train_test_split\n",
    "\n",
    "# Read the data\n",
    "X_full = pd.read_csv('../input/train.csv', index_col='Id')\n",
    "X_test_full = pd.read_csv('../input/test.csv', index_col='Id')\n",
    "\n",
    "# Remove rows with missing target, separate target from predictors\n",
    "X_full.dropna(axis=0, subset=['SalePrice'], inplace=True)\n",
    "y = X_full.SalePrice\n",
    "X_full.drop(['SalePrice'], axis=1, inplace=True)\n",
    "\n",
    "# To keep things simple, we'll use only numerical predictors\n",
    "X = X_full.select_dtypes(exclude=['object'])\n",
    "X_test = X_test_full.select_dtypes(exclude=['object'])\n",
    "\n",
    "# Break off validation set from training data\n",
    "X_train, X_valid, y_train, y_valid = train_test_split(X, y, train_size=0.8, test_size=0.2,\n",
    "                                                      random_state=0)"
   ]
  },
  {
   "cell_type": "markdown",
   "id": "617381ef",
   "metadata": {
    "papermill": {
     "duration": 0.008199,
     "end_time": "2023-03-08T12:27:13.167036",
     "exception": false,
     "start_time": "2023-03-08T12:27:13.158837",
     "status": "completed"
    },
    "tags": []
   },
   "source": [
    "Use the next code cell to print the first five rows of the data."
   ]
  },
  {
   "cell_type": "code",
   "execution_count": 3,
   "id": "8d538454",
   "metadata": {
    "execution": {
     "iopub.execute_input": "2023-03-08T12:27:13.187105Z",
     "iopub.status.busy": "2023-03-08T12:27:13.185852Z",
     "iopub.status.idle": "2023-03-08T12:27:13.222804Z",
     "shell.execute_reply": "2023-03-08T12:27:13.221451Z"
    },
    "papermill": {
     "duration": 0.050431,
     "end_time": "2023-03-08T12:27:13.226058",
     "exception": false,
     "start_time": "2023-03-08T12:27:13.175627",
     "status": "completed"
    },
    "tags": []
   },
   "outputs": [
    {
     "data": {
      "text/html": [
       "<div>\n",
       "<style scoped>\n",
       "    .dataframe tbody tr th:only-of-type {\n",
       "        vertical-align: middle;\n",
       "    }\n",
       "\n",
       "    .dataframe tbody tr th {\n",
       "        vertical-align: top;\n",
       "    }\n",
       "\n",
       "    .dataframe thead th {\n",
       "        text-align: right;\n",
       "    }\n",
       "</style>\n",
       "<table border=\"1\" class=\"dataframe\">\n",
       "  <thead>\n",
       "    <tr style=\"text-align: right;\">\n",
       "      <th></th>\n",
       "      <th>MSSubClass</th>\n",
       "      <th>LotFrontage</th>\n",
       "      <th>LotArea</th>\n",
       "      <th>OverallQual</th>\n",
       "      <th>OverallCond</th>\n",
       "      <th>YearBuilt</th>\n",
       "      <th>YearRemodAdd</th>\n",
       "      <th>MasVnrArea</th>\n",
       "      <th>BsmtFinSF1</th>\n",
       "      <th>BsmtFinSF2</th>\n",
       "      <th>...</th>\n",
       "      <th>GarageArea</th>\n",
       "      <th>WoodDeckSF</th>\n",
       "      <th>OpenPorchSF</th>\n",
       "      <th>EnclosedPorch</th>\n",
       "      <th>3SsnPorch</th>\n",
       "      <th>ScreenPorch</th>\n",
       "      <th>PoolArea</th>\n",
       "      <th>MiscVal</th>\n",
       "      <th>MoSold</th>\n",
       "      <th>YrSold</th>\n",
       "    </tr>\n",
       "    <tr>\n",
       "      <th>Id</th>\n",
       "      <th></th>\n",
       "      <th></th>\n",
       "      <th></th>\n",
       "      <th></th>\n",
       "      <th></th>\n",
       "      <th></th>\n",
       "      <th></th>\n",
       "      <th></th>\n",
       "      <th></th>\n",
       "      <th></th>\n",
       "      <th></th>\n",
       "      <th></th>\n",
       "      <th></th>\n",
       "      <th></th>\n",
       "      <th></th>\n",
       "      <th></th>\n",
       "      <th></th>\n",
       "      <th></th>\n",
       "      <th></th>\n",
       "      <th></th>\n",
       "      <th></th>\n",
       "    </tr>\n",
       "  </thead>\n",
       "  <tbody>\n",
       "    <tr>\n",
       "      <th>619</th>\n",
       "      <td>20</td>\n",
       "      <td>90.0</td>\n",
       "      <td>11694</td>\n",
       "      <td>9</td>\n",
       "      <td>5</td>\n",
       "      <td>2007</td>\n",
       "      <td>2007</td>\n",
       "      <td>452.0</td>\n",
       "      <td>48</td>\n",
       "      <td>0</td>\n",
       "      <td>...</td>\n",
       "      <td>774</td>\n",
       "      <td>0</td>\n",
       "      <td>108</td>\n",
       "      <td>0</td>\n",
       "      <td>0</td>\n",
       "      <td>260</td>\n",
       "      <td>0</td>\n",
       "      <td>0</td>\n",
       "      <td>7</td>\n",
       "      <td>2007</td>\n",
       "    </tr>\n",
       "    <tr>\n",
       "      <th>871</th>\n",
       "      <td>20</td>\n",
       "      <td>60.0</td>\n",
       "      <td>6600</td>\n",
       "      <td>5</td>\n",
       "      <td>5</td>\n",
       "      <td>1962</td>\n",
       "      <td>1962</td>\n",
       "      <td>0.0</td>\n",
       "      <td>0</td>\n",
       "      <td>0</td>\n",
       "      <td>...</td>\n",
       "      <td>308</td>\n",
       "      <td>0</td>\n",
       "      <td>0</td>\n",
       "      <td>0</td>\n",
       "      <td>0</td>\n",
       "      <td>0</td>\n",
       "      <td>0</td>\n",
       "      <td>0</td>\n",
       "      <td>8</td>\n",
       "      <td>2009</td>\n",
       "    </tr>\n",
       "    <tr>\n",
       "      <th>93</th>\n",
       "      <td>30</td>\n",
       "      <td>80.0</td>\n",
       "      <td>13360</td>\n",
       "      <td>5</td>\n",
       "      <td>7</td>\n",
       "      <td>1921</td>\n",
       "      <td>2006</td>\n",
       "      <td>0.0</td>\n",
       "      <td>713</td>\n",
       "      <td>0</td>\n",
       "      <td>...</td>\n",
       "      <td>432</td>\n",
       "      <td>0</td>\n",
       "      <td>0</td>\n",
       "      <td>44</td>\n",
       "      <td>0</td>\n",
       "      <td>0</td>\n",
       "      <td>0</td>\n",
       "      <td>0</td>\n",
       "      <td>8</td>\n",
       "      <td>2009</td>\n",
       "    </tr>\n",
       "    <tr>\n",
       "      <th>818</th>\n",
       "      <td>20</td>\n",
       "      <td>NaN</td>\n",
       "      <td>13265</td>\n",
       "      <td>8</td>\n",
       "      <td>5</td>\n",
       "      <td>2002</td>\n",
       "      <td>2002</td>\n",
       "      <td>148.0</td>\n",
       "      <td>1218</td>\n",
       "      <td>0</td>\n",
       "      <td>...</td>\n",
       "      <td>857</td>\n",
       "      <td>150</td>\n",
       "      <td>59</td>\n",
       "      <td>0</td>\n",
       "      <td>0</td>\n",
       "      <td>0</td>\n",
       "      <td>0</td>\n",
       "      <td>0</td>\n",
       "      <td>7</td>\n",
       "      <td>2008</td>\n",
       "    </tr>\n",
       "    <tr>\n",
       "      <th>303</th>\n",
       "      <td>20</td>\n",
       "      <td>118.0</td>\n",
       "      <td>13704</td>\n",
       "      <td>7</td>\n",
       "      <td>5</td>\n",
       "      <td>2001</td>\n",
       "      <td>2002</td>\n",
       "      <td>150.0</td>\n",
       "      <td>0</td>\n",
       "      <td>0</td>\n",
       "      <td>...</td>\n",
       "      <td>843</td>\n",
       "      <td>468</td>\n",
       "      <td>81</td>\n",
       "      <td>0</td>\n",
       "      <td>0</td>\n",
       "      <td>0</td>\n",
       "      <td>0</td>\n",
       "      <td>0</td>\n",
       "      <td>1</td>\n",
       "      <td>2006</td>\n",
       "    </tr>\n",
       "  </tbody>\n",
       "</table>\n",
       "<p>5 rows × 36 columns</p>\n",
       "</div>"
      ],
      "text/plain": [
       "     MSSubClass  LotFrontage  LotArea  OverallQual  OverallCond  YearBuilt  \\\n",
       "Id                                                                           \n",
       "619          20         90.0    11694            9            5       2007   \n",
       "871          20         60.0     6600            5            5       1962   \n",
       "93           30         80.0    13360            5            7       1921   \n",
       "818          20          NaN    13265            8            5       2002   \n",
       "303          20        118.0    13704            7            5       2001   \n",
       "\n",
       "     YearRemodAdd  MasVnrArea  BsmtFinSF1  BsmtFinSF2  ...  GarageArea  \\\n",
       "Id                                                     ...               \n",
       "619          2007       452.0          48           0  ...         774   \n",
       "871          1962         0.0           0           0  ...         308   \n",
       "93           2006         0.0         713           0  ...         432   \n",
       "818          2002       148.0        1218           0  ...         857   \n",
       "303          2002       150.0           0           0  ...         843   \n",
       "\n",
       "     WoodDeckSF  OpenPorchSF  EnclosedPorch  3SsnPorch  ScreenPorch  PoolArea  \\\n",
       "Id                                                                              \n",
       "619           0          108              0          0          260         0   \n",
       "871           0            0              0          0            0         0   \n",
       "93            0            0             44          0            0         0   \n",
       "818         150           59              0          0            0         0   \n",
       "303         468           81              0          0            0         0   \n",
       "\n",
       "     MiscVal  MoSold  YrSold  \n",
       "Id                            \n",
       "619        0       7    2007  \n",
       "871        0       8    2009  \n",
       "93         0       8    2009  \n",
       "818        0       7    2008  \n",
       "303        0       1    2006  \n",
       "\n",
       "[5 rows x 36 columns]"
      ]
     },
     "execution_count": 3,
     "metadata": {},
     "output_type": "execute_result"
    }
   ],
   "source": [
    "X_train.head()"
   ]
  },
  {
   "cell_type": "markdown",
   "id": "52de32aa",
   "metadata": {
    "papermill": {
     "duration": 0.008649,
     "end_time": "2023-03-08T12:27:13.244931",
     "exception": false,
     "start_time": "2023-03-08T12:27:13.236282",
     "status": "completed"
    },
    "tags": []
   },
   "source": [
    "You can already see a few missing values in the first several rows.  In the next step, you'll obtain a more comprehensive understanding of the missing values in the dataset.\n",
    "\n",
    "# Step 1: Preliminary investigation\n",
    "\n",
    "Run the code cell below without changes."
   ]
  },
  {
   "cell_type": "code",
   "execution_count": 4,
   "id": "5124ca11",
   "metadata": {
    "execution": {
     "iopub.execute_input": "2023-03-08T12:27:13.265648Z",
     "iopub.status.busy": "2023-03-08T12:27:13.265187Z",
     "iopub.status.idle": "2023-03-08T12:27:13.277264Z",
     "shell.execute_reply": "2023-03-08T12:27:13.274811Z"
    },
    "papermill": {
     "duration": 0.025988,
     "end_time": "2023-03-08T12:27:13.280113",
     "exception": false,
     "start_time": "2023-03-08T12:27:13.254125",
     "status": "completed"
    },
    "tags": []
   },
   "outputs": [
    {
     "name": "stdout",
     "output_type": "stream",
     "text": [
      "(1168, 36)\n",
      "LotFrontage    212\n",
      "MasVnrArea       6\n",
      "GarageYrBlt     58\n",
      "dtype: int64\n",
      "MSSubClass         0\n",
      "LotFrontage      212\n",
      "LotArea            0\n",
      "OverallQual        0\n",
      "OverallCond        0\n",
      "YearBuilt          0\n",
      "YearRemodAdd       0\n",
      "MasVnrArea         6\n",
      "BsmtFinSF1         0\n",
      "BsmtFinSF2         0\n",
      "BsmtUnfSF          0\n",
      "TotalBsmtSF        0\n",
      "1stFlrSF           0\n",
      "2ndFlrSF           0\n",
      "LowQualFinSF       0\n",
      "GrLivArea          0\n",
      "BsmtFullBath       0\n",
      "BsmtHalfBath       0\n",
      "FullBath           0\n",
      "HalfBath           0\n",
      "BedroomAbvGr       0\n",
      "KitchenAbvGr       0\n",
      "TotRmsAbvGrd       0\n",
      "Fireplaces         0\n",
      "GarageYrBlt       58\n",
      "GarageCars         0\n",
      "GarageArea         0\n",
      "WoodDeckSF         0\n",
      "OpenPorchSF        0\n",
      "EnclosedPorch      0\n",
      "3SsnPorch          0\n",
      "ScreenPorch        0\n",
      "PoolArea           0\n",
      "MiscVal            0\n",
      "MoSold             0\n",
      "YrSold             0\n",
      "dtype: int64\n"
     ]
    }
   ],
   "source": [
    "# Shape of training data (num_rows, num_columns)\n",
    "print(X_train.shape)\n",
    "\n",
    "# Number of missing values in each column of training data\n",
    "missing_val_count_by_column = (X_train.isnull().sum())\n",
    "print(missing_val_count_by_column[missing_val_count_by_column > 0])\n",
    "print(missing_val_count_by_column)"
   ]
  },
  {
   "cell_type": "markdown",
   "id": "f8fb62c6",
   "metadata": {
    "papermill": {
     "duration": 0.008681,
     "end_time": "2023-03-08T12:27:13.298159",
     "exception": false,
     "start_time": "2023-03-08T12:27:13.289478",
     "status": "completed"
    },
    "tags": []
   },
   "source": [
    "### Part A\n",
    "\n",
    "Use the above output to answer the questions below."
   ]
  },
  {
   "cell_type": "code",
   "execution_count": 5,
   "id": "4b4cf3c4",
   "metadata": {
    "execution": {
     "iopub.execute_input": "2023-03-08T12:27:13.319094Z",
     "iopub.status.busy": "2023-03-08T12:27:13.317821Z",
     "iopub.status.idle": "2023-03-08T12:27:13.328968Z",
     "shell.execute_reply": "2023-03-08T12:27:13.327768Z"
    },
    "papermill": {
     "duration": 0.024041,
     "end_time": "2023-03-08T12:27:13.331305",
     "exception": false,
     "start_time": "2023-03-08T12:27:13.307264",
     "status": "completed"
    },
    "tags": []
   },
   "outputs": [
    {
     "data": {
      "application/javascript": [
       "parent.postMessage({\"jupyterEvent\": \"custom.exercise_interaction\", \"data\": {\"outcomeType\": 1, \"valueTowardsCompletion\": 1.0, \"interactionType\": 1, \"questionType\": 1, \"questionId\": \"1.1_InvestigateEquality\", \"learnToolsVersion\": \"0.3.4\", \"failureMessage\": \"\", \"exceptionClass\": \"\", \"trace\": \"\"}}, \"*\")"
      ],
      "text/plain": [
       "<IPython.core.display.Javascript object>"
      ]
     },
     "metadata": {},
     "output_type": "display_data"
    },
    {
     "data": {
      "text/markdown": [
       "<span style=\"color:#33cc33\">Correct</span>"
      ],
      "text/plain": [
       "Correct"
      ]
     },
     "metadata": {},
     "output_type": "display_data"
    }
   ],
   "source": [
    "# Fill in the line below: How many rows are in the training data?\n",
    "num_rows = 1168\n",
    "\n",
    "# Fill in the line below: How many columns in the training data\n",
    "# have missing values?\n",
    "num_cols_with_missing = 3\n",
    "\n",
    "# Fill in the line below: How many missing entries are contained in \n",
    "# all of the tr1aining data?\n",
    "tot_missing = 212+6+58\n",
    "\n",
    "# Check your answers\n",
    "step_1.a.check()"
   ]
  },
  {
   "cell_type": "code",
   "execution_count": 6,
   "id": "91da8153",
   "metadata": {
    "execution": {
     "iopub.execute_input": "2023-03-08T12:27:13.352512Z",
     "iopub.status.busy": "2023-03-08T12:27:13.351372Z",
     "iopub.status.idle": "2023-03-08T12:27:13.356033Z",
     "shell.execute_reply": "2023-03-08T12:27:13.355122Z"
    },
    "papermill": {
     "duration": 0.017579,
     "end_time": "2023-03-08T12:27:13.358111",
     "exception": false,
     "start_time": "2023-03-08T12:27:13.340532",
     "status": "completed"
    },
    "tags": []
   },
   "outputs": [],
   "source": [
    "# Lines below will give you a hint or solution code\n",
    "#step_1.a.hint()\n",
    "#step_1.a.solution()"
   ]
  },
  {
   "cell_type": "markdown",
   "id": "1bddc5c4",
   "metadata": {
    "papermill": {
     "duration": 0.009045,
     "end_time": "2023-03-08T12:27:13.376861",
     "exception": false,
     "start_time": "2023-03-08T12:27:13.367816",
     "status": "completed"
    },
    "tags": []
   },
   "source": [
    "### Part B\n",
    "Considering your answers above, what do you think is likely the best approach to dealing with the missing values?"
   ]
  },
  {
   "cell_type": "code",
   "execution_count": 7,
   "id": "3777e1fd",
   "metadata": {
    "execution": {
     "iopub.execute_input": "2023-03-08T12:27:13.398066Z",
     "iopub.status.busy": "2023-03-08T12:27:13.397230Z",
     "iopub.status.idle": "2023-03-08T12:27:13.406456Z",
     "shell.execute_reply": "2023-03-08T12:27:13.405269Z"
    },
    "papermill": {
     "duration": 0.022927,
     "end_time": "2023-03-08T12:27:13.409149",
     "exception": false,
     "start_time": "2023-03-08T12:27:13.386222",
     "status": "completed"
    },
    "tags": []
   },
   "outputs": [
    {
     "data": {
      "application/javascript": [
       "parent.postMessage({\"jupyterEvent\": \"custom.exercise_interaction\", \"data\": {\"outcomeType\": 1, \"valueTowardsCompletion\": 1.0, \"interactionType\": 1, \"questionType\": 4, \"questionId\": \"1.2_InvestigateThought\", \"learnToolsVersion\": \"0.3.4\", \"failureMessage\": \"\", \"exceptionClass\": \"\", \"trace\": \"\"}}, \"*\")"
      ],
      "text/plain": [
       "<IPython.core.display.Javascript object>"
      ]
     },
     "metadata": {},
     "output_type": "display_data"
    },
    {
     "data": {
      "text/markdown": [
       "<span style=\"color:#33cc33\">Correct:</span> \n",
       "\n",
       "Since there are relatively few missing entries in the data (the column with the greatest percentage of missing values is missing less than 20% of its entries), we can expect that dropping columns is unlikely to yield good results.  This is because we'd be throwing away a lot of valuable data, and so imputation will likely perform better."
      ],
      "text/plain": [
       "Correct: \n",
       "\n",
       "Since there are relatively few missing entries in the data (the column with the greatest percentage of missing values is missing less than 20% of its entries), we can expect that dropping columns is unlikely to yield good results.  This is because we'd be throwing away a lot of valuable data, and so imputation will likely perform better."
      ]
     },
     "metadata": {},
     "output_type": "display_data"
    }
   ],
   "source": [
    "# Check your answer (Run this code cell to receive credit!)\n",
    "step_1.b.check()"
   ]
  },
  {
   "cell_type": "code",
   "execution_count": 8,
   "id": "dd53e41d",
   "metadata": {
    "execution": {
     "iopub.execute_input": "2023-03-08T12:27:13.431751Z",
     "iopub.status.busy": "2023-03-08T12:27:13.430653Z",
     "iopub.status.idle": "2023-03-08T12:27:13.436028Z",
     "shell.execute_reply": "2023-03-08T12:27:13.434769Z"
    },
    "papermill": {
     "duration": 0.019306,
     "end_time": "2023-03-08T12:27:13.438397",
     "exception": false,
     "start_time": "2023-03-08T12:27:13.419091",
     "status": "completed"
    },
    "tags": []
   },
   "outputs": [],
   "source": [
    "#step_1.b.hint()"
   ]
  },
  {
   "cell_type": "markdown",
   "id": "1e8911c1",
   "metadata": {
    "papermill": {
     "duration": 0.009881,
     "end_time": "2023-03-08T12:27:13.458239",
     "exception": false,
     "start_time": "2023-03-08T12:27:13.448358",
     "status": "completed"
    },
    "tags": []
   },
   "source": [
    "To compare different approaches to dealing with missing values, you'll use the same `score_dataset()` function from the tutorial.  This function reports the [mean absolute error](https://en.wikipedia.org/wiki/Mean_absolute_error) (MAE) from a random forest model."
   ]
  },
  {
   "cell_type": "code",
   "execution_count": 9,
   "id": "9e62bdfa",
   "metadata": {
    "execution": {
     "iopub.execute_input": "2023-03-08T12:27:13.481046Z",
     "iopub.status.busy": "2023-03-08T12:27:13.479934Z",
     "iopub.status.idle": "2023-03-08T12:27:13.890099Z",
     "shell.execute_reply": "2023-03-08T12:27:13.888709Z"
    },
    "papermill": {
     "duration": 0.425003,
     "end_time": "2023-03-08T12:27:13.893368",
     "exception": false,
     "start_time": "2023-03-08T12:27:13.468365",
     "status": "completed"
    },
    "tags": []
   },
   "outputs": [],
   "source": [
    "from sklearn.ensemble import RandomForestRegressor\n",
    "from sklearn.metrics import mean_absolute_error\n",
    "\n",
    "# Function for comparing different approaches\n",
    "def score_dataset(X_train, X_valid, y_train, y_valid):\n",
    "    model = RandomForestRegressor(n_estimators=100, random_state=0)\n",
    "    model.fit(X_train, y_train)\n",
    "    preds = model.predict(X_valid)\n",
    "    return mean_absolute_error(y_valid, preds)"
   ]
  },
  {
   "cell_type": "markdown",
   "id": "6557ee8a",
   "metadata": {
    "papermill": {
     "duration": 0.009669,
     "end_time": "2023-03-08T12:27:13.912964",
     "exception": false,
     "start_time": "2023-03-08T12:27:13.903295",
     "status": "completed"
    },
    "tags": []
   },
   "source": [
    "# Step 2: Drop columns with missing values\n",
    "\n",
    "In this step, you'll preprocess the data in `X_train` and `X_valid` to remove columns with missing values.  Set the preprocessed DataFrames to `reduced_X_train` and `reduced_X_valid`, respectively.  "
   ]
  },
  {
   "cell_type": "code",
   "execution_count": 10,
   "id": "aa8a8735",
   "metadata": {
    "execution": {
     "iopub.execute_input": "2023-03-08T12:27:13.935418Z",
     "iopub.status.busy": "2023-03-08T12:27:13.934947Z",
     "iopub.status.idle": "2023-03-08T12:27:13.969241Z",
     "shell.execute_reply": "2023-03-08T12:27:13.967923Z"
    },
    "papermill": {
     "duration": 0.04874,
     "end_time": "2023-03-08T12:27:13.971899",
     "exception": false,
     "start_time": "2023-03-08T12:27:13.923159",
     "status": "completed"
    },
    "tags": []
   },
   "outputs": [
    {
     "data": {
      "application/javascript": [
       "parent.postMessage({\"jupyterEvent\": \"custom.exercise_interaction\", \"data\": {\"outcomeType\": 1, \"valueTowardsCompletion\": 1.0, \"interactionType\": 1, \"questionType\": 2, \"questionId\": \"2_DropMissing\", \"learnToolsVersion\": \"0.3.4\", \"failureMessage\": \"\", \"exceptionClass\": \"\", \"trace\": \"\"}}, \"*\")"
      ],
      "text/plain": [
       "<IPython.core.display.Javascript object>"
      ]
     },
     "metadata": {},
     "output_type": "display_data"
    },
    {
     "data": {
      "text/markdown": [
       "<span style=\"color:#33cc33\">Correct</span>"
      ],
      "text/plain": [
       "Correct"
      ]
     },
     "metadata": {},
     "output_type": "display_data"
    }
   ],
   "source": [
    "# Fill in the line below: get names of columns with missing values\n",
    "____ # Your code here\n",
    "cols_with_missing = [col for col in X_train.columns\n",
    "                     if X_train[col].isnull().any()]\n",
    "# Fill in the lines below: drop columns in training and validation data\n",
    "reduced_X_train = X_train.drop(cols_with_missing, axis=1)\n",
    "reduced_X_valid = X_valid.drop(cols_with_missing, axis=1)\n",
    "\n",
    "# Check your answers\n",
    "step_2.check()"
   ]
  },
  {
   "cell_type": "code",
   "execution_count": 11,
   "id": "a562eb72",
   "metadata": {
    "execution": {
     "iopub.execute_input": "2023-03-08T12:27:13.994200Z",
     "iopub.status.busy": "2023-03-08T12:27:13.993736Z",
     "iopub.status.idle": "2023-03-08T12:27:13.999106Z",
     "shell.execute_reply": "2023-03-08T12:27:13.997583Z"
    },
    "papermill": {
     "duration": 0.019574,
     "end_time": "2023-03-08T12:27:14.001533",
     "exception": false,
     "start_time": "2023-03-08T12:27:13.981959",
     "status": "completed"
    },
    "tags": []
   },
   "outputs": [],
   "source": [
    "# Lines below will give you a hint or solution code\n",
    "#step_2.hint()\n",
    "#step_2.solution()"
   ]
  },
  {
   "cell_type": "markdown",
   "id": "b666240e",
   "metadata": {
    "papermill": {
     "duration": 0.009549,
     "end_time": "2023-03-08T12:27:14.021207",
     "exception": false,
     "start_time": "2023-03-08T12:27:14.011658",
     "status": "completed"
    },
    "tags": []
   },
   "source": [
    "Run the next code cell without changes to obtain the MAE for this approach."
   ]
  },
  {
   "cell_type": "code",
   "execution_count": 12,
   "id": "2d570b59",
   "metadata": {
    "execution": {
     "iopub.execute_input": "2023-03-08T12:27:14.043080Z",
     "iopub.status.busy": "2023-03-08T12:27:14.042593Z",
     "iopub.status.idle": "2023-03-08T12:27:15.188168Z",
     "shell.execute_reply": "2023-03-08T12:27:15.186482Z"
    },
    "papermill": {
     "duration": 1.160324,
     "end_time": "2023-03-08T12:27:15.191438",
     "exception": false,
     "start_time": "2023-03-08T12:27:14.031114",
     "status": "completed"
    },
    "tags": []
   },
   "outputs": [
    {
     "name": "stdout",
     "output_type": "stream",
     "text": [
      "MAE (Drop columns with missing values):\n",
      "17837.82570776256\n"
     ]
    }
   ],
   "source": [
    "print(\"MAE (Drop columns with missing values):\")\n",
    "print(score_dataset(reduced_X_train, reduced_X_valid, y_train, y_valid))"
   ]
  },
  {
   "cell_type": "markdown",
   "id": "76ec96ca",
   "metadata": {
    "papermill": {
     "duration": 0.009778,
     "end_time": "2023-03-08T12:27:15.211584",
     "exception": false,
     "start_time": "2023-03-08T12:27:15.201806",
     "status": "completed"
    },
    "tags": []
   },
   "source": [
    "# Step 3: Imputation\n",
    "\n",
    "### Part A\n",
    "\n",
    "Use the next code cell to impute missing values with the mean value along each column.  Set the preprocessed DataFrames to `imputed_X_train` and `imputed_X_valid`.  Make sure that the column names match those in `X_train` and `X_valid`."
   ]
  },
  {
   "cell_type": "code",
   "execution_count": 13,
   "id": "4e153ef1",
   "metadata": {
    "execution": {
     "iopub.execute_input": "2023-03-08T12:27:15.235085Z",
     "iopub.status.busy": "2023-03-08T12:27:15.234364Z",
     "iopub.status.idle": "2023-03-08T12:27:15.274935Z",
     "shell.execute_reply": "2023-03-08T12:27:15.273540Z"
    },
    "papermill": {
     "duration": 0.05511,
     "end_time": "2023-03-08T12:27:15.277367",
     "exception": false,
     "start_time": "2023-03-08T12:27:15.222257",
     "status": "completed"
    },
    "tags": []
   },
   "outputs": [
    {
     "data": {
      "application/javascript": [
       "parent.postMessage({\"jupyterEvent\": \"custom.exercise_interaction\", \"data\": {\"outcomeType\": 1, \"valueTowardsCompletion\": 1.0, \"interactionType\": 1, \"questionType\": 2, \"questionId\": \"3.1_ImputeCode\", \"learnToolsVersion\": \"0.3.4\", \"failureMessage\": \"\", \"exceptionClass\": \"\", \"trace\": \"\"}}, \"*\")"
      ],
      "text/plain": [
       "<IPython.core.display.Javascript object>"
      ]
     },
     "metadata": {},
     "output_type": "display_data"
    },
    {
     "data": {
      "text/markdown": [
       "<span style=\"color:#33cc33\">Correct</span>"
      ],
      "text/plain": [
       "Correct"
      ]
     },
     "metadata": {},
     "output_type": "display_data"
    }
   ],
   "source": [
    "from sklearn.impute import SimpleImputer\n",
    "\n",
    "# Fill in the lines below: imputation\n",
    "my_imputer = SimpleImputer()\n",
    " # Your code here\n",
    "imputed_X_train = pd.DataFrame(my_imputer.fit_transform(X_train))\n",
    "imputed_X_valid = pd.DataFrame(my_imputer.transform(X_valid))\n",
    "\n",
    "# Fill in the lines below: imputation removed column names; put them back\n",
    "imputed_X_train.columns = X_train.columns\n",
    "imputed_X_valid.columns = X_valid.columns\n",
    "\n",
    "# Check your answers\n",
    "step_3.a.check()"
   ]
  },
  {
   "cell_type": "code",
   "execution_count": 14,
   "id": "458d82e6",
   "metadata": {
    "execution": {
     "iopub.execute_input": "2023-03-08T12:27:15.300276Z",
     "iopub.status.busy": "2023-03-08T12:27:15.299821Z",
     "iopub.status.idle": "2023-03-08T12:27:15.304554Z",
     "shell.execute_reply": "2023-03-08T12:27:15.303209Z"
    },
    "papermill": {
     "duration": 0.019074,
     "end_time": "2023-03-08T12:27:15.306828",
     "exception": false,
     "start_time": "2023-03-08T12:27:15.287754",
     "status": "completed"
    },
    "tags": []
   },
   "outputs": [],
   "source": [
    "# Lines below will give you a hint or solution code\n",
    "#step_3.a.hint()\n",
    "#step_3.a.solution()"
   ]
  },
  {
   "cell_type": "markdown",
   "id": "34d59e1c",
   "metadata": {
    "papermill": {
     "duration": 0.010087,
     "end_time": "2023-03-08T12:27:15.327347",
     "exception": false,
     "start_time": "2023-03-08T12:27:15.317260",
     "status": "completed"
    },
    "tags": []
   },
   "source": [
    "Run the next code cell without changes to obtain the MAE for this approach."
   ]
  },
  {
   "cell_type": "code",
   "execution_count": 15,
   "id": "688d548a",
   "metadata": {
    "execution": {
     "iopub.execute_input": "2023-03-08T12:27:15.350544Z",
     "iopub.status.busy": "2023-03-08T12:27:15.350073Z",
     "iopub.status.idle": "2023-03-08T12:27:16.605395Z",
     "shell.execute_reply": "2023-03-08T12:27:16.603768Z"
    },
    "papermill": {
     "duration": 1.270653,
     "end_time": "2023-03-08T12:27:16.608564",
     "exception": false,
     "start_time": "2023-03-08T12:27:15.337911",
     "status": "completed"
    },
    "tags": []
   },
   "outputs": [
    {
     "name": "stdout",
     "output_type": "stream",
     "text": [
      "MAE (Imputation):\n",
      "18062.894611872147\n"
     ]
    }
   ],
   "source": [
    "print(\"MAE (Imputation):\")\n",
    "print(score_dataset(imputed_X_train, imputed_X_valid, y_train, y_valid))"
   ]
  },
  {
   "cell_type": "markdown",
   "id": "09ee73e2",
   "metadata": {
    "papermill": {
     "duration": 0.010553,
     "end_time": "2023-03-08T12:27:16.629897",
     "exception": false,
     "start_time": "2023-03-08T12:27:16.619344",
     "status": "completed"
    },
    "tags": []
   },
   "source": [
    "### Part B\n",
    "\n",
    "Compare the MAE from each approach.  Does anything surprise you about the results?  Why do you think one approach performed better than the other?"
   ]
  },
  {
   "cell_type": "code",
   "execution_count": 16,
   "id": "b03342fc",
   "metadata": {
    "execution": {
     "iopub.execute_input": "2023-03-08T12:27:16.654525Z",
     "iopub.status.busy": "2023-03-08T12:27:16.653599Z",
     "iopub.status.idle": "2023-03-08T12:27:16.662960Z",
     "shell.execute_reply": "2023-03-08T12:27:16.661571Z"
    },
    "papermill": {
     "duration": 0.024473,
     "end_time": "2023-03-08T12:27:16.665643",
     "exception": false,
     "start_time": "2023-03-08T12:27:16.641170",
     "status": "completed"
    },
    "tags": []
   },
   "outputs": [
    {
     "data": {
      "application/javascript": [
       "parent.postMessage({\"jupyterEvent\": \"custom.exercise_interaction\", \"data\": {\"outcomeType\": 1, \"valueTowardsCompletion\": 1.0, \"interactionType\": 1, \"questionType\": 4, \"questionId\": \"3.2_ImputeThought\", \"learnToolsVersion\": \"0.3.4\", \"failureMessage\": \"\", \"exceptionClass\": \"\", \"trace\": \"\"}}, \"*\")"
      ],
      "text/plain": [
       "<IPython.core.display.Javascript object>"
      ]
     },
     "metadata": {},
     "output_type": "display_data"
    },
    {
     "data": {
      "text/markdown": [
       "<span style=\"color:#33cc33\">Correct:</span> \n",
       "\n",
       "Given that thre are so few missing values in the dataset, we'd expect imputation to perform better than dropping columns entirely.  However, we see that dropping columns performs slightly better!  While this can probably partially be attributed to noise in the dataset, another potential explanation is that the imputation method is not a great match to this dataset.  That is, maybe instead of filling in the mean value, it makes more sense to set every missing value to a value of 0, to fill in the most frequently encountered value, or to use some other method.  For instance, consider the `GarageYrBlt` column (which indicates the year that the garage was built).  It's likely that in some cases, a missing value could indicate a house that does not have a garage.  Does it make more sense to fill in the median value along each column in this case?  Or could we get better results by filling in the minimum value along each column?  It's not quite clear what's best in this case, but perhaps we can rule out some options immediately - for instance, setting missing values in this column to 0 is likely to yield horrible results!"
      ],
      "text/plain": [
       "Correct: \n",
       "\n",
       "Given that thre are so few missing values in the dataset, we'd expect imputation to perform better than dropping columns entirely.  However, we see that dropping columns performs slightly better!  While this can probably partially be attributed to noise in the dataset, another potential explanation is that the imputation method is not a great match to this dataset.  That is, maybe instead of filling in the mean value, it makes more sense to set every missing value to a value of 0, to fill in the most frequently encountered value, or to use some other method.  For instance, consider the `GarageYrBlt` column (which indicates the year that the garage was built).  It's likely that in some cases, a missing value could indicate a house that does not have a garage.  Does it make more sense to fill in the median value along each column in this case?  Or could we get better results by filling in the minimum value along each column?  It's not quite clear what's best in this case, but perhaps we can rule out some options immediately - for instance, setting missing values in this column to 0 is likely to yield horrible results!"
      ]
     },
     "metadata": {},
     "output_type": "display_data"
    }
   ],
   "source": [
    "# Check your answer (Run this code cell to receive credit!)\n",
    "step_3.b.check()"
   ]
  },
  {
   "cell_type": "code",
   "execution_count": 17,
   "id": "406af0ae",
   "metadata": {
    "execution": {
     "iopub.execute_input": "2023-03-08T12:27:16.689687Z",
     "iopub.status.busy": "2023-03-08T12:27:16.689219Z",
     "iopub.status.idle": "2023-03-08T12:27:16.694136Z",
     "shell.execute_reply": "2023-03-08T12:27:16.692797Z"
    },
    "papermill": {
     "duration": 0.020327,
     "end_time": "2023-03-08T12:27:16.696995",
     "exception": false,
     "start_time": "2023-03-08T12:27:16.676668",
     "status": "completed"
    },
    "tags": []
   },
   "outputs": [],
   "source": [
    "#step_3.b.hint()"
   ]
  },
  {
   "cell_type": "markdown",
   "id": "a6730618",
   "metadata": {
    "papermill": {
     "duration": 0.010924,
     "end_time": "2023-03-08T12:27:16.718913",
     "exception": false,
     "start_time": "2023-03-08T12:27:16.707989",
     "status": "completed"
    },
    "tags": []
   },
   "source": [
    "# Step 4: Generate test predictions\n",
    "\n",
    "In this final step, you'll use any approach of your choosing to deal with missing values.  Once you've preprocessed the training and validation features, you'll train and evaluate a random forest model.  Then, you'll preprocess the test data before generating predictions that can be submitted to the competition!\n",
    "\n",
    "### Part A\n",
    "\n",
    "Use the next code cell to preprocess the training and validation data.  Set the preprocessed DataFrames to `final_X_train` and `final_X_valid`.  **You can use any approach of your choosing here!**  in order for this step to be marked as correct, you need only ensure:\n",
    "- the preprocessed DataFrames have the same number of columns,\n",
    "- the preprocessed DataFrames have no missing values, \n",
    "- `final_X_train` and `y_train` have the same number of rows, and\n",
    "- `final_X_valid` and `y_valid` have the same number of rows."
   ]
  },
  {
   "cell_type": "code",
   "execution_count": 18,
   "id": "d81a4d16",
   "metadata": {
    "execution": {
     "iopub.execute_input": "2023-03-08T12:27:16.744287Z",
     "iopub.status.busy": "2023-03-08T12:27:16.743819Z",
     "iopub.status.idle": "2023-03-08T12:27:16.764502Z",
     "shell.execute_reply": "2023-03-08T12:27:16.763083Z"
    },
    "papermill": {
     "duration": 0.037274,
     "end_time": "2023-03-08T12:27:16.767302",
     "exception": false,
     "start_time": "2023-03-08T12:27:16.730028",
     "status": "completed"
    },
    "tags": []
   },
   "outputs": [
    {
     "data": {
      "application/javascript": [
       "parent.postMessage({\"jupyterEvent\": \"custom.exercise_interaction\", \"data\": {\"outcomeType\": 1, \"valueTowardsCompletion\": 1.0, \"interactionType\": 1, \"questionType\": 2, \"questionId\": \"4.1_PredsCodeA\", \"learnToolsVersion\": \"0.3.4\", \"failureMessage\": \"\", \"exceptionClass\": \"\", \"trace\": \"\"}}, \"*\")"
      ],
      "text/plain": [
       "<IPython.core.display.Javascript object>"
      ]
     },
     "metadata": {},
     "output_type": "display_data"
    },
    {
     "data": {
      "text/markdown": [
       "<span style=\"color:#33cc33\">Correct</span>"
      ],
      "text/plain": [
       "Correct"
      ]
     },
     "metadata": {},
     "output_type": "display_data"
    }
   ],
   "source": [
    "# Preprocessed training and validation features\n",
    "final_X_train = imputed_X_train\n",
    "final_X_valid = imputed_X_valid\n",
    "\n",
    "# Check your answers\n",
    "step_4.a.check()"
   ]
  },
  {
   "cell_type": "code",
   "execution_count": 19,
   "id": "07419571",
   "metadata": {
    "execution": {
     "iopub.execute_input": "2023-03-08T12:27:16.792688Z",
     "iopub.status.busy": "2023-03-08T12:27:16.792247Z",
     "iopub.status.idle": "2023-03-08T12:27:16.796670Z",
     "shell.execute_reply": "2023-03-08T12:27:16.795774Z"
    },
    "papermill": {
     "duration": 0.020145,
     "end_time": "2023-03-08T12:27:16.799106",
     "exception": false,
     "start_time": "2023-03-08T12:27:16.778961",
     "status": "completed"
    },
    "tags": []
   },
   "outputs": [],
   "source": [
    "# Lines below will give you a hint or solution code\n",
    "#step_4.a.hint()\n",
    "#step_4.a.solution()"
   ]
  },
  {
   "cell_type": "markdown",
   "id": "a52644ce",
   "metadata": {
    "papermill": {
     "duration": 0.010836,
     "end_time": "2023-03-08T12:27:16.821139",
     "exception": false,
     "start_time": "2023-03-08T12:27:16.810303",
     "status": "completed"
    },
    "tags": []
   },
   "source": [
    "Run the next code cell to train and evaluate a random forest model.  (*Note that we don't use the `score_dataset()` function above, because we will soon use the trained model to generate test predictions!*)"
   ]
  },
  {
   "cell_type": "code",
   "execution_count": 20,
   "id": "e2f9ce2d",
   "metadata": {
    "execution": {
     "iopub.execute_input": "2023-03-08T12:27:16.846799Z",
     "iopub.status.busy": "2023-03-08T12:27:16.845559Z",
     "iopub.status.idle": "2023-03-08T12:27:18.093239Z",
     "shell.execute_reply": "2023-03-08T12:27:18.092311Z"
    },
    "papermill": {
     "duration": 1.263691,
     "end_time": "2023-03-08T12:27:18.096179",
     "exception": false,
     "start_time": "2023-03-08T12:27:16.832488",
     "status": "completed"
    },
    "tags": []
   },
   "outputs": [
    {
     "name": "stdout",
     "output_type": "stream",
     "text": [
      "MAE (Your approach):\n",
      "18062.894611872147\n"
     ]
    }
   ],
   "source": [
    "# Define and fit model\n",
    "model = RandomForestRegressor(n_estimators=100, random_state=0)\n",
    "model.fit(final_X_train, y_train)\n",
    "\n",
    "# Get validation predictions and MAE\n",
    "preds_valid = model.predict(final_X_valid)\n",
    "print(\"MAE (Your approach):\")\n",
    "print(mean_absolute_error(y_valid, preds_valid))"
   ]
  },
  {
   "cell_type": "markdown",
   "id": "758ec8d7",
   "metadata": {
    "papermill": {
     "duration": 0.010751,
     "end_time": "2023-03-08T12:27:18.118104",
     "exception": false,
     "start_time": "2023-03-08T12:27:18.107353",
     "status": "completed"
    },
    "tags": []
   },
   "source": [
    "### Part B\n",
    "\n",
    "Use the next code cell to preprocess your test data.  Make sure that you use a method that agrees with how you preprocessed the training and validation data, and set the preprocessed test features to `final_X_test`.\n",
    "\n",
    "Then, use the preprocessed test features and the trained model to generate test predictions in `preds_test`.\n",
    "\n",
    "In order for this step to be marked correct, you need only ensure:\n",
    "- the preprocessed test DataFrame has no missing values, and\n",
    "- `final_X_test` has the same number of rows as `X_test`."
   ]
  },
  {
   "cell_type": "code",
   "execution_count": 21,
   "id": "e54313f3",
   "metadata": {
    "execution": {
     "iopub.execute_input": "2023-03-08T12:27:18.142806Z",
     "iopub.status.busy": "2023-03-08T12:27:18.142313Z",
     "iopub.status.idle": "2023-03-08T12:27:18.199160Z",
     "shell.execute_reply": "2023-03-08T12:27:18.197937Z"
    },
    "papermill": {
     "duration": 0.072862,
     "end_time": "2023-03-08T12:27:18.202058",
     "exception": false,
     "start_time": "2023-03-08T12:27:18.129196",
     "status": "completed"
    },
    "tags": []
   },
   "outputs": [
    {
     "data": {
      "application/javascript": [
       "parent.postMessage({\"jupyterEvent\": \"custom.exercise_interaction\", \"data\": {\"outcomeType\": 1, \"valueTowardsCompletion\": 1.0, \"interactionType\": 1, \"questionType\": 2, \"questionId\": \"4.2_PredsCodeB\", \"learnToolsVersion\": \"0.3.4\", \"failureMessage\": \"\", \"exceptionClass\": \"\", \"trace\": \"\"}}, \"*\")"
      ],
      "text/plain": [
       "<IPython.core.display.Javascript object>"
      ]
     },
     "metadata": {},
     "output_type": "display_data"
    },
    {
     "data": {
      "text/markdown": [
       "<span style=\"color:#33cc33\">Correct</span>"
      ],
      "text/plain": [
       "Correct"
      ]
     },
     "metadata": {},
     "output_type": "display_data"
    }
   ],
   "source": [
    "# Fill in the line below: preprocess test data\n",
    "imputed_X_test = pd.DataFrame(my_imputer.transform(X_test))\n",
    "imputed_X_test.columns=X_test.columns\n",
    "\n",
    "final_X_test = imputed_X_test\n",
    "\n",
    "# Fill in the line below: get test predictions\n",
    "preds_test =  model.predict(final_X_test)\n",
    "\n",
    "# Check your answers\n",
    "step_4.b.check()"
   ]
  },
  {
   "cell_type": "code",
   "execution_count": 22,
   "id": "acca4164",
   "metadata": {
    "execution": {
     "iopub.execute_input": "2023-03-08T12:27:18.227246Z",
     "iopub.status.busy": "2023-03-08T12:27:18.226784Z",
     "iopub.status.idle": "2023-03-08T12:27:18.232174Z",
     "shell.execute_reply": "2023-03-08T12:27:18.230713Z"
    },
    "papermill": {
     "duration": 0.021078,
     "end_time": "2023-03-08T12:27:18.234733",
     "exception": false,
     "start_time": "2023-03-08T12:27:18.213655",
     "status": "completed"
    },
    "tags": []
   },
   "outputs": [],
   "source": [
    "# Lines below will give you a hint or solution code\n",
    "#step_4.b.hint()\n",
    "#step_4.b.solution()"
   ]
  },
  {
   "cell_type": "markdown",
   "id": "47b18782",
   "metadata": {
    "papermill": {
     "duration": 0.011151,
     "end_time": "2023-03-08T12:27:18.257618",
     "exception": false,
     "start_time": "2023-03-08T12:27:18.246467",
     "status": "completed"
    },
    "tags": []
   },
   "source": [
    "Run the next code cell without changes to save your results to a CSV file that can be submitted directly to the competition."
   ]
  },
  {
   "cell_type": "code",
   "execution_count": 23,
   "id": "82cb4950",
   "metadata": {
    "execution": {
     "iopub.execute_input": "2023-03-08T12:27:18.282603Z",
     "iopub.status.busy": "2023-03-08T12:27:18.282150Z",
     "iopub.status.idle": "2023-03-08T12:27:18.296047Z",
     "shell.execute_reply": "2023-03-08T12:27:18.294975Z"
    },
    "papermill": {
     "duration": 0.029495,
     "end_time": "2023-03-08T12:27:18.298535",
     "exception": false,
     "start_time": "2023-03-08T12:27:18.269040",
     "status": "completed"
    },
    "tags": []
   },
   "outputs": [],
   "source": [
    "# Save test predictions to file\n",
    "output = pd.DataFrame({'Id': X_test.index,\n",
    "                       'SalePrice': preds_test})\n",
    "output.to_csv('submission.csv', index=False)"
   ]
  },
  {
   "cell_type": "markdown",
   "id": "b31c97a6",
   "metadata": {
    "papermill": {
     "duration": 0.011279,
     "end_time": "2023-03-08T12:27:18.321368",
     "exception": false,
     "start_time": "2023-03-08T12:27:18.310089",
     "status": "completed"
    },
    "tags": []
   },
   "source": [
    "# Submit your results\n",
    "\n",
    "Once you have successfully completed Step 4, you're ready to submit your results to the leaderboard!  (_You also learned how to do this in the previous exercise.  If you need a reminder of how to do this, please use the instructions below._)  \n",
    "\n",
    "First, you'll need to join the competition if you haven't already.  So open a new window by clicking on [this link](https://www.kaggle.com/c/home-data-for-ml-course).  Then click on the **Join Competition** button.\n",
    "\n",
    "![join competition image](https://i.imgur.com/wLmFtH3.png)\n",
    "\n",
    "Next, follow the instructions below:\n",
    "1. Begin by clicking on the **Save Version** button in the top right corner of the window.  This will generate a pop-up window.  \n",
    "2. Ensure that the **Save and Run All** option is selected, and then click on the **Save** button.\n",
    "3. This generates a window in the bottom left corner of the notebook.  After it has finished running, click on the number to the right of the **Save Version** button.  This pulls up a list of versions on the right of the screen.  Click on the ellipsis **(...)** to the right of the most recent version, and select **Open in Viewer**.  This brings you into view mode of the same page. You will need to scroll down to get back to these instructions.\n",
    "4. Click on the **Output** tab on the right of the screen.  Then, click on the file you would like to submit, and click on the **Submit** button to submit your results to the leaderboard.\n",
    "\n",
    "You have now successfully submitted to the competition!\n",
    "\n",
    "If you want to keep working to improve your performance, select the **Edit** button in the top right of the screen. Then you can change your code and repeat the process. There's a lot of room to improve, and you will climb up the leaderboard as you work.\n",
    "\n",
    "\n",
    "# Keep going\n",
    "\n",
    "Move on to learn what **[categorical variables](https://www.kaggle.com/alexisbcook/categorical-variables)** are, along with how to incorporate them into your machine learning models.  Categorical variables are very common in real-world data, but you'll get an error if you try to plug them into your models without processing them first!"
   ]
  },
  {
   "cell_type": "markdown",
   "id": "914dc7cd",
   "metadata": {
    "papermill": {
     "duration": 0.011093,
     "end_time": "2023-03-08T12:27:18.345014",
     "exception": false,
     "start_time": "2023-03-08T12:27:18.333921",
     "status": "completed"
    },
    "tags": []
   },
   "source": [
    "---\n",
    "\n",
    "\n",
    "\n",
    "\n",
    "*Have questions or comments? Visit the [course discussion forum](https://www.kaggle.com/learn/intermediate-machine-learning/discussion) to chat with other learners.*"
   ]
  }
 ],
 "metadata": {
  "kernelspec": {
   "display_name": "Python 3",
   "language": "python",
   "name": "python3"
  },
  "language_info": {
   "codemirror_mode": {
    "name": "ipython",
    "version": 3
   },
   "file_extension": ".py",
   "mimetype": "text/x-python",
   "name": "python",
   "nbconvert_exporter": "python",
   "pygments_lexer": "ipython3",
   "version": "3.7.12"
  },
  "papermill": {
   "default_parameters": {},
   "duration": 17.792412,
   "end_time": "2023-03-08T12:27:19.181974",
   "environment_variables": {},
   "exception": null,
   "input_path": "__notebook__.ipynb",
   "output_path": "__notebook__.ipynb",
   "parameters": {},
   "start_time": "2023-03-08T12:27:01.389562",
   "version": "2.4.0"
  }
 },
 "nbformat": 4,
 "nbformat_minor": 5
}
