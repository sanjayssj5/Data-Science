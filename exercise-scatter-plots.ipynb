{
 "cells": [
  {
   "cell_type": "markdown",
   "id": "046ddd51",
   "metadata": {
    "papermill": {
     "duration": 0.010591,
     "end_time": "2023-03-09T18:39:56.827265",
     "exception": false,
     "start_time": "2023-03-09T18:39:56.816674",
     "status": "completed"
    },
    "tags": []
   },
   "source": [
    "**This notebook is an exercise in the [Data Visualization](https://www.kaggle.com/learn/data-visualization) course.  You can reference the tutorial at [this link](https://www.kaggle.com/alexisbcook/scatter-plots).**\n",
    "\n",
    "---\n"
   ]
  },
  {
   "cell_type": "markdown",
   "id": "da91a3ec",
   "metadata": {
    "papermill": {
     "duration": 0.008628,
     "end_time": "2023-03-09T18:39:56.845131",
     "exception": false,
     "start_time": "2023-03-09T18:39:56.836503",
     "status": "completed"
    },
    "tags": []
   },
   "source": [
    "In this exercise, you will use your new knowledge to propose a solution to a real-world scenario.  To succeed, you will need to import data into Python, answer questions using the data, and generate **scatter plots** to understand patterns in the data.\n",
    "\n",
    "## Scenario\n",
    "\n",
    "You work for a major candy producer, and your goal is to write a report that your company can use to guide the design of its next product.  Soon after starting your research, you stumble across this [very interesting dataset](https://fivethirtyeight.com/features/the-ultimate-halloween-candy-power-ranking/) containing results from a fun survey to crowdsource favorite candies.\n",
    "\n",
    "## Setup\n",
    "\n",
    "Run the next cell to import and configure the Python libraries that you need to complete the exercise."
   ]
  },
  {
   "cell_type": "code",
   "execution_count": 1,
   "id": "1fe38833",
   "metadata": {
    "execution": {
     "iopub.execute_input": "2023-03-09T18:39:56.867146Z",
     "iopub.status.busy": "2023-03-09T18:39:56.865510Z",
     "iopub.status.idle": "2023-03-09T18:39:58.770424Z",
     "shell.execute_reply": "2023-03-09T18:39:58.767886Z"
    },
    "papermill": {
     "duration": 1.920046,
     "end_time": "2023-03-09T18:39:58.774337",
     "exception": false,
     "start_time": "2023-03-09T18:39:56.854291",
     "status": "completed"
    },
    "tags": []
   },
   "outputs": [
    {
     "name": "stdout",
     "output_type": "stream",
     "text": [
      "Setup Complete\n"
     ]
    }
   ],
   "source": [
    "import pandas as pd\n",
    "pd.plotting.register_matplotlib_converters()\n",
    "import matplotlib.pyplot as plt\n",
    "%matplotlib inline\n",
    "import seaborn as sns\n",
    "print(\"Setup Complete\")"
   ]
  },
  {
   "cell_type": "markdown",
   "id": "6f9feddf",
   "metadata": {
    "papermill": {
     "duration": 0.009338,
     "end_time": "2023-03-09T18:39:58.793883",
     "exception": false,
     "start_time": "2023-03-09T18:39:58.784545",
     "status": "completed"
    },
    "tags": []
   },
   "source": []
  },
  {
   "cell_type": "markdown",
   "id": "6c31bbc1",
   "metadata": {
    "papermill": {
     "duration": 0.009636,
     "end_time": "2023-03-09T18:39:58.814224",
     "exception": false,
     "start_time": "2023-03-09T18:39:58.804588",
     "status": "completed"
    },
    "tags": []
   },
   "source": []
  },
  {
   "cell_type": "markdown",
   "id": "2ff42765",
   "metadata": {
    "papermill": {
     "duration": 0.008451,
     "end_time": "2023-03-09T18:39:58.831593",
     "exception": false,
     "start_time": "2023-03-09T18:39:58.823142",
     "status": "completed"
    },
    "tags": []
   },
   "source": [
    "The questions below will give you feedback on your work. Run the following cell to set up our feedback system."
   ]
  },
  {
   "cell_type": "code",
   "execution_count": 2,
   "id": "837e359c",
   "metadata": {
    "execution": {
     "iopub.execute_input": "2023-03-09T18:39:58.854123Z",
     "iopub.status.busy": "2023-03-09T18:39:58.853055Z",
     "iopub.status.idle": "2023-03-09T18:39:58.983454Z",
     "shell.execute_reply": "2023-03-09T18:39:58.981381Z"
    },
    "papermill": {
     "duration": 0.144538,
     "end_time": "2023-03-09T18:39:58.986578",
     "exception": false,
     "start_time": "2023-03-09T18:39:58.842040",
     "status": "completed"
    },
    "tags": []
   },
   "outputs": [
    {
     "name": "stdout",
     "output_type": "stream",
     "text": [
      "Setup Complete\n"
     ]
    }
   ],
   "source": [
    "# Set up code checking\n",
    "import os\n",
    "if not os.path.exists(\"../input/candy.csv\"):\n",
    "    os.symlink(\"../input/data-for-datavis/candy.csv\", \"../input/candy.csv\") \n",
    "from learntools.core import binder\n",
    "binder.bind(globals())\n",
    "from learntools.data_viz_to_coder.ex4 import *\n",
    "print(\"Setup Complete\")"
   ]
  },
  {
   "cell_type": "markdown",
   "id": "593b613f",
   "metadata": {
    "papermill": {
     "duration": 0.00866,
     "end_time": "2023-03-09T18:39:59.005841",
     "exception": false,
     "start_time": "2023-03-09T18:39:58.997181",
     "status": "completed"
    },
    "tags": []
   },
   "source": [
    "## Step 1: Load the Data\n",
    "\n",
    "Read the candy data file into `candy_data`.  Use the `\"id\"` column to label the rows."
   ]
  },
  {
   "cell_type": "code",
   "execution_count": 3,
   "id": "a632317b",
   "metadata": {
    "execution": {
     "iopub.execute_input": "2023-03-09T18:39:59.027012Z",
     "iopub.status.busy": "2023-03-09T18:39:59.026067Z",
     "iopub.status.idle": "2023-03-09T18:39:59.044757Z",
     "shell.execute_reply": "2023-03-09T18:39:59.042756Z"
    },
    "papermill": {
     "duration": 0.032547,
     "end_time": "2023-03-09T18:39:59.047864",
     "exception": false,
     "start_time": "2023-03-09T18:39:59.015317",
     "status": "completed"
    },
    "tags": []
   },
   "outputs": [
    {
     "data": {
      "application/javascript": [
       "parent.postMessage({\"jupyterEvent\": \"custom.exercise_interaction\", \"data\": {\"outcomeType\": 1, \"valueTowardsCompletion\": 0.3333333333333333, \"interactionType\": 1, \"questionType\": 1, \"questionId\": \"1_LoadData\", \"learnToolsVersion\": \"0.3.4\", \"failureMessage\": \"\", \"exceptionClass\": \"\", \"trace\": \"\"}}, \"*\")"
      ],
      "text/plain": [
       "<IPython.core.display.Javascript object>"
      ]
     },
     "metadata": {},
     "output_type": "display_data"
    },
    {
     "data": {
      "text/markdown": [
       "<span style=\"color:#33cc33\">Correct</span>"
      ],
      "text/plain": [
       "Correct"
      ]
     },
     "metadata": {},
     "output_type": "display_data"
    }
   ],
   "source": [
    "# Path of the file to read\n",
    "candy_filepath = \"../input/candy.csv\"\n",
    "\n",
    "# Fill in the line below to read the file into a variable candy_data\n",
    "candy_data = pd.read_csv(candy_filepath,index_col=\"id\")\n",
    "\n",
    "# Run the line below with no changes to check that you've loaded the data correctly\n",
    "step_1.check()"
   ]
  },
  {
   "cell_type": "code",
   "execution_count": 4,
   "id": "406b1cdb",
   "metadata": {
    "execution": {
     "iopub.execute_input": "2023-03-09T18:39:59.069886Z",
     "iopub.status.busy": "2023-03-09T18:39:59.068368Z",
     "iopub.status.idle": "2023-03-09T18:39:59.076528Z",
     "shell.execute_reply": "2023-03-09T18:39:59.074354Z"
    },
    "papermill": {
     "duration": 0.023865,
     "end_time": "2023-03-09T18:39:59.081138",
     "exception": false,
     "start_time": "2023-03-09T18:39:59.057273",
     "status": "completed"
    },
    "tags": []
   },
   "outputs": [],
   "source": [
    "# Lines below will give you a hint or solution code\n",
    "#step_1.hint()\n",
    "#step_1.solution()"
   ]
  },
  {
   "cell_type": "markdown",
   "id": "4156f7fc",
   "metadata": {
    "papermill": {
     "duration": 0.010953,
     "end_time": "2023-03-09T18:39:59.102399",
     "exception": false,
     "start_time": "2023-03-09T18:39:59.091446",
     "status": "completed"
    },
    "tags": []
   },
   "source": [
    "## Step 2: Review the data\n",
    "\n",
    "Use a Python command to print the first five rows of the data."
   ]
  },
  {
   "cell_type": "code",
   "execution_count": 5,
   "id": "b2250271",
   "metadata": {
    "execution": {
     "iopub.execute_input": "2023-03-09T18:39:59.125851Z",
     "iopub.status.busy": "2023-03-09T18:39:59.124279Z",
     "iopub.status.idle": "2023-03-09T18:39:59.164123Z",
     "shell.execute_reply": "2023-03-09T18:39:59.162300Z"
    },
    "papermill": {
     "duration": 0.05569,
     "end_time": "2023-03-09T18:39:59.168042",
     "exception": false,
     "start_time": "2023-03-09T18:39:59.112352",
     "status": "completed"
    },
    "tags": []
   },
   "outputs": [
    {
     "data": {
      "text/html": [
       "<div>\n",
       "<style scoped>\n",
       "    .dataframe tbody tr th:only-of-type {\n",
       "        vertical-align: middle;\n",
       "    }\n",
       "\n",
       "    .dataframe tbody tr th {\n",
       "        vertical-align: top;\n",
       "    }\n",
       "\n",
       "    .dataframe thead th {\n",
       "        text-align: right;\n",
       "    }\n",
       "</style>\n",
       "<table border=\"1\" class=\"dataframe\">\n",
       "  <thead>\n",
       "    <tr style=\"text-align: right;\">\n",
       "      <th></th>\n",
       "      <th>competitorname</th>\n",
       "      <th>chocolate</th>\n",
       "      <th>fruity</th>\n",
       "      <th>caramel</th>\n",
       "      <th>peanutyalmondy</th>\n",
       "      <th>nougat</th>\n",
       "      <th>crispedricewafer</th>\n",
       "      <th>hard</th>\n",
       "      <th>bar</th>\n",
       "      <th>pluribus</th>\n",
       "      <th>sugarpercent</th>\n",
       "      <th>pricepercent</th>\n",
       "      <th>winpercent</th>\n",
       "    </tr>\n",
       "    <tr>\n",
       "      <th>id</th>\n",
       "      <th></th>\n",
       "      <th></th>\n",
       "      <th></th>\n",
       "      <th></th>\n",
       "      <th></th>\n",
       "      <th></th>\n",
       "      <th></th>\n",
       "      <th></th>\n",
       "      <th></th>\n",
       "      <th></th>\n",
       "      <th></th>\n",
       "      <th></th>\n",
       "      <th></th>\n",
       "    </tr>\n",
       "  </thead>\n",
       "  <tbody>\n",
       "    <tr>\n",
       "      <th>0</th>\n",
       "      <td>100 Grand</td>\n",
       "      <td>Yes</td>\n",
       "      <td>No</td>\n",
       "      <td>Yes</td>\n",
       "      <td>No</td>\n",
       "      <td>No</td>\n",
       "      <td>Yes</td>\n",
       "      <td>No</td>\n",
       "      <td>Yes</td>\n",
       "      <td>No</td>\n",
       "      <td>0.732</td>\n",
       "      <td>0.860</td>\n",
       "      <td>66.971725</td>\n",
       "    </tr>\n",
       "    <tr>\n",
       "      <th>1</th>\n",
       "      <td>3 Musketeers</td>\n",
       "      <td>Yes</td>\n",
       "      <td>No</td>\n",
       "      <td>No</td>\n",
       "      <td>No</td>\n",
       "      <td>Yes</td>\n",
       "      <td>No</td>\n",
       "      <td>No</td>\n",
       "      <td>Yes</td>\n",
       "      <td>No</td>\n",
       "      <td>0.604</td>\n",
       "      <td>0.511</td>\n",
       "      <td>67.602936</td>\n",
       "    </tr>\n",
       "    <tr>\n",
       "      <th>2</th>\n",
       "      <td>Air Heads</td>\n",
       "      <td>No</td>\n",
       "      <td>Yes</td>\n",
       "      <td>No</td>\n",
       "      <td>No</td>\n",
       "      <td>No</td>\n",
       "      <td>No</td>\n",
       "      <td>No</td>\n",
       "      <td>No</td>\n",
       "      <td>No</td>\n",
       "      <td>0.906</td>\n",
       "      <td>0.511</td>\n",
       "      <td>52.341465</td>\n",
       "    </tr>\n",
       "    <tr>\n",
       "      <th>3</th>\n",
       "      <td>Almond Joy</td>\n",
       "      <td>Yes</td>\n",
       "      <td>No</td>\n",
       "      <td>No</td>\n",
       "      <td>Yes</td>\n",
       "      <td>No</td>\n",
       "      <td>No</td>\n",
       "      <td>No</td>\n",
       "      <td>Yes</td>\n",
       "      <td>No</td>\n",
       "      <td>0.465</td>\n",
       "      <td>0.767</td>\n",
       "      <td>50.347546</td>\n",
       "    </tr>\n",
       "    <tr>\n",
       "      <th>4</th>\n",
       "      <td>Baby Ruth</td>\n",
       "      <td>Yes</td>\n",
       "      <td>No</td>\n",
       "      <td>Yes</td>\n",
       "      <td>Yes</td>\n",
       "      <td>Yes</td>\n",
       "      <td>No</td>\n",
       "      <td>No</td>\n",
       "      <td>Yes</td>\n",
       "      <td>No</td>\n",
       "      <td>0.604</td>\n",
       "      <td>0.767</td>\n",
       "      <td>56.914547</td>\n",
       "    </tr>\n",
       "  </tbody>\n",
       "</table>\n",
       "</div>"
      ],
      "text/plain": [
       "   competitorname chocolate fruity caramel peanutyalmondy nougat  \\\n",
       "id                                                                 \n",
       "0       100 Grand       Yes     No     Yes             No     No   \n",
       "1    3 Musketeers       Yes     No      No             No    Yes   \n",
       "2       Air Heads        No    Yes      No             No     No   \n",
       "3      Almond Joy       Yes     No      No            Yes     No   \n",
       "4       Baby Ruth       Yes     No     Yes            Yes    Yes   \n",
       "\n",
       "   crispedricewafer hard  bar pluribus  sugarpercent  pricepercent  winpercent  \n",
       "id                                                                              \n",
       "0               Yes   No  Yes       No         0.732         0.860   66.971725  \n",
       "1                No   No  Yes       No         0.604         0.511   67.602936  \n",
       "2                No   No   No       No         0.906         0.511   52.341465  \n",
       "3                No   No  Yes       No         0.465         0.767   50.347546  \n",
       "4                No   No  Yes       No         0.604         0.767   56.914547  "
      ]
     },
     "execution_count": 5,
     "metadata": {},
     "output_type": "execute_result"
    }
   ],
   "source": [
    "# Print the first five rows of the data\n",
    " # Your code here\n",
    "candy_data.head()"
   ]
  },
  {
   "cell_type": "markdown",
   "id": "4302b423",
   "metadata": {
    "papermill": {
     "duration": 0.009339,
     "end_time": "2023-03-09T18:39:59.187006",
     "exception": false,
     "start_time": "2023-03-09T18:39:59.177667",
     "status": "completed"
    },
    "tags": []
   },
   "source": [
    "The dataset contains 83 rows, where each corresponds to a different candy bar.  There are 13 columns:\n",
    "- `'competitorname'` contains the name of the candy bar. \n",
    "- the next **9** columns (from `'chocolate'` to `'pluribus'`) describe the candy.  For instance, rows with chocolate candies have `\"Yes\"` in the `'chocolate'` column (and candies without chocolate have `\"No\"` in the same column).\n",
    "- `'sugarpercent'` provides some indication of the amount of sugar, where higher values signify higher sugar content.\n",
    "- `'pricepercent'` shows the price per unit, relative to the other candies in the dataset.\n",
    "- `'winpercent'` is calculated from the survey results; higher values indicate that the candy was more popular with survey respondents.\n",
    "\n",
    "Use the first five rows of the data to answer the questions below."
   ]
  },
  {
   "cell_type": "code",
   "execution_count": 6,
   "id": "86736a6d",
   "metadata": {
    "execution": {
     "iopub.execute_input": "2023-03-09T18:39:59.209842Z",
     "iopub.status.busy": "2023-03-09T18:39:59.208875Z",
     "iopub.status.idle": "2023-03-09T18:39:59.221505Z",
     "shell.execute_reply": "2023-03-09T18:39:59.220018Z"
    },
    "papermill": {
     "duration": 0.02822,
     "end_time": "2023-03-09T18:39:59.225287",
     "exception": false,
     "start_time": "2023-03-09T18:39:59.197067",
     "status": "completed"
    },
    "tags": []
   },
   "outputs": [
    {
     "data": {
      "application/javascript": [
       "parent.postMessage({\"jupyterEvent\": \"custom.exercise_interaction\", \"data\": {\"outcomeType\": 1, \"valueTowardsCompletion\": 0.3333333333333333, \"interactionType\": 1, \"questionType\": 1, \"questionId\": \"2_ReviewData\", \"learnToolsVersion\": \"0.3.4\", \"failureMessage\": \"\", \"exceptionClass\": \"\", \"trace\": \"\"}}, \"*\")"
      ],
      "text/plain": [
       "<IPython.core.display.Javascript object>"
      ]
     },
     "metadata": {},
     "output_type": "display_data"
    },
    {
     "data": {
      "text/markdown": [
       "<span style=\"color:#33cc33\">Correct</span>"
      ],
      "text/plain": [
       "Correct"
      ]
     },
     "metadata": {},
     "output_type": "display_data"
    }
   ],
   "source": [
    "# Fill in the line below: Which candy was more popular with survey respondents:\n",
    "# '3 Musketeers' or 'Almond Joy'?  (Please enclose your answer in single quotes.)\n",
    "more_popular = '3 Musketeers'\n",
    "\n",
    "# Fill in the line below: Which candy has higher sugar content: 'Air Heads'\n",
    "# or 'Baby Ruth'? (Please enclose your answer in single quotes.)\n",
    "more_sugar = 'Air Heads'\n",
    "# Check your answers\n",
    "step_2.check()"
   ]
  },
  {
   "cell_type": "code",
   "execution_count": 7,
   "id": "08422f86",
   "metadata": {
    "execution": {
     "iopub.execute_input": "2023-03-09T18:39:59.249665Z",
     "iopub.status.busy": "2023-03-09T18:39:59.249209Z",
     "iopub.status.idle": "2023-03-09T18:39:59.255838Z",
     "shell.execute_reply": "2023-03-09T18:39:59.253323Z"
    },
    "papermill": {
     "duration": 0.022751,
     "end_time": "2023-03-09T18:39:59.259052",
     "exception": false,
     "start_time": "2023-03-09T18:39:59.236301",
     "status": "completed"
    },
    "tags": []
   },
   "outputs": [],
   "source": [
    "# Lines below will give you a hint or solution code\n",
    "#step_2.hint()\n",
    "#step_2.solution()"
   ]
  },
  {
   "cell_type": "markdown",
   "id": "509c72c3",
   "metadata": {
    "papermill": {
     "duration": 0.010179,
     "end_time": "2023-03-09T18:39:59.280623",
     "exception": false,
     "start_time": "2023-03-09T18:39:59.270444",
     "status": "completed"
    },
    "tags": []
   },
   "source": [
    "## Step 3: The role of sugar\n",
    "\n",
    "Do people tend to prefer candies with higher sugar content?  \n",
    "\n",
    "#### Part A\n",
    "\n",
    "Create a scatter plot that shows the relationship between `'sugarpercent'` (on the horizontal x-axis) and `'winpercent'` (on the vertical y-axis).  _Don't add a regression line just yet -- you'll do that in the next step!_"
   ]
  },
  {
   "cell_type": "code",
   "execution_count": 8,
   "id": "caaaa404",
   "metadata": {
    "execution": {
     "iopub.execute_input": "2023-03-09T18:39:59.305237Z",
     "iopub.status.busy": "2023-03-09T18:39:59.304360Z",
     "iopub.status.idle": "2023-03-09T18:39:59.707445Z",
     "shell.execute_reply": "2023-03-09T18:39:59.704837Z"
    },
    "papermill": {
     "duration": 0.41875,
     "end_time": "2023-03-09T18:39:59.711172",
     "exception": false,
     "start_time": "2023-03-09T18:39:59.292422",
     "status": "completed"
    },
    "tags": []
   },
   "outputs": [
    {
     "data": {
      "application/javascript": [
       "parent.postMessage({\"jupyterEvent\": \"custom.exercise_interaction\", \"data\": {\"outcomeType\": 1, \"valueTowardsCompletion\": 0.3333333333333333, \"interactionType\": 1, \"questionType\": 2, \"questionId\": \"3.1_PlotBlueScatter\", \"learnToolsVersion\": \"0.3.4\", \"failureMessage\": \"\", \"exceptionClass\": \"\", \"trace\": \"\"}}, \"*\")"
      ],
      "text/plain": [
       "<IPython.core.display.Javascript object>"
      ]
     },
     "metadata": {},
     "output_type": "display_data"
    },
    {
     "data": {
      "text/markdown": [
       "<span style=\"color:#33cc33\">Correct</span>"
      ],
      "text/plain": [
       "Correct"
      ]
     },
     "metadata": {},
     "output_type": "display_data"
    },
    {
     "data": {
      "image/png": "[encoded data removed]",
      "text/plain": [
       "<Figure size 640x480 with 1 Axes>"
      ]
     },
     "metadata": {},
     "output_type": "display_data"
    }
   ],
   "source": [
    "# Scatter plot showing the relationship between 'sugarpercent' and 'winpercent'\n",
    "# Your code here\n",
    "sns.scatterplot(x=candy_data['sugarpercent'],y=candy_data['winpercent'])\n",
    "# Check your answer\n",
    "step_3.a.check()"
   ]
  },
  {
   "cell_type": "code",
   "execution_count": 9,
   "id": "67743e99",
   "metadata": {
    "execution": {
     "iopub.execute_input": "2023-03-09T18:39:59.737256Z",
     "iopub.status.busy": "2023-03-09T18:39:59.736490Z",
     "iopub.status.idle": "2023-03-09T18:39:59.742125Z",
     "shell.execute_reply": "2023-03-09T18:39:59.740935Z"
    },
    "papermill": {
     "duration": 0.023224,
     "end_time": "2023-03-09T18:39:59.746573",
     "exception": false,
     "start_time": "2023-03-09T18:39:59.723349",
     "status": "completed"
    },
    "tags": []
   },
   "outputs": [],
   "source": [
    "# Lines below will give you a hint or solution code\n",
    "#step_3.a.hint()\n",
    "#step_3.a.solution_plot()"
   ]
  },
  {
   "cell_type": "markdown",
   "id": "4ac88926",
   "metadata": {
    "papermill": {
     "duration": 0.018275,
     "end_time": "2023-03-09T18:39:59.777076",
     "exception": false,
     "start_time": "2023-03-09T18:39:59.758801",
     "status": "completed"
    },
    "tags": []
   },
   "source": [
    "#### Part B\n",
    "\n",
    "Does the scatter plot show a **strong** correlation between the two variables?  If so, are candies with more sugar relatively more or less popular with the survey respondents?"
   ]
  },
  {
   "cell_type": "code",
   "execution_count": 10,
   "id": "d6b321ea",
   "metadata": {
    "execution": {
     "iopub.execute_input": "2023-03-09T18:39:59.805078Z",
     "iopub.status.busy": "2023-03-09T18:39:59.803756Z",
     "iopub.status.idle": "2023-03-09T18:39:59.812237Z",
     "shell.execute_reply": "2023-03-09T18:39:59.810475Z"
    },
    "papermill": {
     "duration": 0.025899,
     "end_time": "2023-03-09T18:39:59.816760",
     "exception": false,
     "start_time": "2023-03-09T18:39:59.790861",
     "status": "completed"
    },
    "tags": []
   },
   "outputs": [],
   "source": [
    "#step_3.b.hint()"
   ]
  },
  {
   "cell_type": "code",
   "execution_count": 11,
   "id": "bc5286c5",
   "metadata": {
    "execution": {
     "iopub.execute_input": "2023-03-09T18:39:59.848759Z",
     "iopub.status.busy": "2023-03-09T18:39:59.848314Z",
     "iopub.status.idle": "2023-03-09T18:39:59.861669Z",
     "shell.execute_reply": "2023-03-09T18:39:59.860043Z"
    },
    "papermill": {
     "duration": 0.03635,
     "end_time": "2023-03-09T18:39:59.866654",
     "exception": false,
     "start_time": "2023-03-09T18:39:59.830304",
     "status": "completed"
    },
    "tags": []
   },
   "outputs": [
    {
     "data": {
      "application/javascript": [
       "parent.postMessage({\"jupyterEvent\": \"custom.exercise_interaction\", \"data\": {\"interactionType\": 3, \"questionType\": 4, \"questionId\": \"3.2_ThinkBlueScatter\", \"learnToolsVersion\": \"0.3.4\", \"valueTowardsCompletion\": 0.0, \"failureMessage\": \"\", \"exceptionClass\": \"\", \"trace\": \"\", \"outcomeType\": 4}}, \"*\")"
      ],
      "text/plain": [
       "<IPython.core.display.Javascript object>"
      ]
     },
     "metadata": {},
     "output_type": "display_data"
    },
    {
     "data": {
      "text/markdown": [
       "<span style=\"color:#33cc99\">Solution:</span> The scatter plot does not show a strong correlation between the two variables. Since there is no clear relationship between the two variables, this tells us that sugar content does not play a strong role in candy popularity."
      ],
      "text/plain": [
       "Solution: The scatter plot does not show a strong correlation between the two variables. Since there is no clear relationship between the two variables, this tells us that sugar content does not play a strong role in candy popularity."
      ]
     },
     "metadata": {},
     "output_type": "display_data"
    }
   ],
   "source": [
    "# Check your answer (Run this code cell to receive credit!)\n",
    "step_3.b.solution()"
   ]
  },
  {
   "cell_type": "markdown",
   "id": "a5dfa894",
   "metadata": {
    "papermill": {
     "duration": 0.017035,
     "end_time": "2023-03-09T18:39:59.900070",
     "exception": false,
     "start_time": "2023-03-09T18:39:59.883035",
     "status": "completed"
    },
    "tags": []
   },
   "source": [
    "## Step 4: Take a closer look\n",
    "\n",
    "#### Part A\n",
    "\n",
    "Create the same scatter plot you created in **Step 3**, but now with a regression line!"
   ]
  },
  {
   "cell_type": "code",
   "execution_count": 12,
   "id": "06ce712f",
   "metadata": {
    "execution": {
     "iopub.execute_input": "2023-03-09T18:39:59.932500Z",
     "iopub.status.busy": "2023-03-09T18:39:59.931358Z",
     "iopub.status.idle": "2023-03-09T18:40:00.375125Z",
     "shell.execute_reply": "2023-03-09T18:40:00.374045Z"
    },
    "papermill": {
     "duration": 0.462021,
     "end_time": "2023-03-09T18:40:00.378681",
     "exception": false,
     "start_time": "2023-03-09T18:39:59.916660",
     "status": "completed"
    },
    "tags": []
   },
   "outputs": [
    {
     "data": {
      "application/javascript": [
       "parent.postMessage({\"jupyterEvent\": \"custom.exercise_interaction\", \"data\": {\"outcomeType\": 1, \"valueTowardsCompletion\": 0.3333333333333333, \"interactionType\": 1, \"questionType\": 2, \"questionId\": \"4.1_PlotBlueReg\", \"learnToolsVersion\": \"0.3.4\", \"failureMessage\": \"\", \"exceptionClass\": \"\", \"trace\": \"\"}}, \"*\")"
      ],
      "text/plain": [
       "<IPython.core.display.Javascript object>"
      ]
     },
     "metadata": {},
     "output_type": "display_data"
    },
    {
     "data": {
      "text/markdown": [
       "<span style=\"color:#33cc33\">Correct</span>"
      ],
      "text/plain": [
       "Correct"
      ]
     },
     "metadata": {},
     "output_type": "display_data"
    },
    {
     "data": {
      "image/png": "[encoded data removed]",
      "text/plain": [
       "<Figure size 640x480 with 1 Axes>"
      ]
     },
     "metadata": {},
     "output_type": "display_data"
    }
   ],
   "source": [
    "# Scatter plot w/ regression line showing the relationship between 'sugarpercent' and 'winpercent'\n",
    "# Your code here\n",
    "sns.regplot(x=candy_data['sugarpercent'] , y=candy_data['winpercent'])\n",
    "# Check your answer\n",
    "step_4.a.check()"
   ]
  },
  {
   "cell_type": "code",
   "execution_count": 13,
   "id": "eb3aa443",
   "metadata": {
    "execution": {
     "iopub.execute_input": "2023-03-09T18:40:00.406690Z",
     "iopub.status.busy": "2023-03-09T18:40:00.405921Z",
     "iopub.status.idle": "2023-03-09T18:40:00.411653Z",
     "shell.execute_reply": "2023-03-09T18:40:00.409727Z"
    },
    "papermill": {
     "duration": 0.025151,
     "end_time": "2023-03-09T18:40:00.415437",
     "exception": false,
     "start_time": "2023-03-09T18:40:00.390286",
     "status": "completed"
    },
    "tags": []
   },
   "outputs": [],
   "source": [
    "# Lines below will give you a hint or solution code\n",
    "#step_4.a.hint()\n",
    "#step_4.a.solution_plot()"
   ]
  },
  {
   "cell_type": "markdown",
   "id": "88a3141a",
   "metadata": {
    "papermill": {
     "duration": 0.011642,
     "end_time": "2023-03-09T18:40:00.440506",
     "exception": false,
     "start_time": "2023-03-09T18:40:00.428864",
     "status": "completed"
    },
    "tags": []
   },
   "source": [
    "#### Part B\n",
    "\n",
    "According to the plot above, is there a **slight** correlation between `'winpercent'` and `'sugarpercent'`?  What does this tell you about the candy that people tend to prefer?"
   ]
  },
  {
   "cell_type": "code",
   "execution_count": 14,
   "id": "890bd076",
   "metadata": {
    "execution": {
     "iopub.execute_input": "2023-03-09T18:40:00.468900Z",
     "iopub.status.busy": "2023-03-09T18:40:00.468363Z",
     "iopub.status.idle": "2023-03-09T18:40:00.475303Z",
     "shell.execute_reply": "2023-03-09T18:40:00.473397Z"
    },
    "papermill": {
     "duration": 0.025023,
     "end_time": "2023-03-09T18:40:00.478235",
     "exception": false,
     "start_time": "2023-03-09T18:40:00.453212",
     "status": "completed"
    },
    "tags": []
   },
   "outputs": [],
   "source": [
    "#step_4.b.hint()"
   ]
  },
  {
   "cell_type": "code",
   "execution_count": 15,
   "id": "76986fd2",
   "metadata": {
    "execution": {
     "iopub.execute_input": "2023-03-09T18:40:00.507738Z",
     "iopub.status.busy": "2023-03-09T18:40:00.507301Z",
     "iopub.status.idle": "2023-03-09T18:40:00.518265Z",
     "shell.execute_reply": "2023-03-09T18:40:00.517210Z"
    },
    "papermill": {
     "duration": 0.029785,
     "end_time": "2023-03-09T18:40:00.522450",
     "exception": false,
     "start_time": "2023-03-09T18:40:00.492665",
     "status": "completed"
    },
    "tags": []
   },
   "outputs": [
    {
     "data": {
      "application/javascript": [
       "parent.postMessage({\"jupyterEvent\": \"custom.exercise_interaction\", \"data\": {\"interactionType\": 3, \"questionType\": 4, \"questionId\": \"4.2_ThinkBlueReg\", \"learnToolsVersion\": \"0.3.4\", \"valueTowardsCompletion\": 0.0, \"failureMessage\": \"\", \"exceptionClass\": \"\", \"trace\": \"\", \"outcomeType\": 4}}, \"*\")"
      ],
      "text/plain": [
       "<IPython.core.display.Javascript object>"
      ]
     },
     "metadata": {},
     "output_type": "display_data"
    },
    {
     "data": {
      "text/markdown": [
       "<span style=\"color:#33cc99\">Solution:</span> Since the regression line has a slightly positive slope, this tells us that there is a slightly positive correlation between `'winpercent'` and `'sugarpercent'`. Thus, people have a slight preference for candies containing relatively more sugar."
      ],
      "text/plain": [
       "Solution: Since the regression line has a slightly positive slope, this tells us that there is a slightly positive correlation between `'winpercent'` and `'sugarpercent'`. Thus, people have a slight preference for candies containing relatively more sugar."
      ]
     },
     "metadata": {},
     "output_type": "display_data"
    }
   ],
   "source": [
    "# Check your answer (Run this code cell to receive credit!)\n",
    "step_4.b.solution()"
   ]
  },
  {
   "cell_type": "markdown",
   "id": "fb68cac5",
   "metadata": {
    "papermill": {
     "duration": 0.011863,
     "end_time": "2023-03-09T18:40:00.546945",
     "exception": false,
     "start_time": "2023-03-09T18:40:00.535082",
     "status": "completed"
    },
    "tags": []
   },
   "source": [
    "## Step 5: Chocolate!\n",
    "\n",
    "In the code cell below, create a scatter plot to show the relationship between `'pricepercent'` (on the horizontal x-axis) and `'winpercent'` (on the vertical y-axis). Use the `'chocolate'` column to color-code the points.  _Don't add any regression lines just yet -- you'll do that in the next step!_"
   ]
  },
  {
   "cell_type": "code",
   "execution_count": 16,
   "id": "1ae0160d",
   "metadata": {
    "execution": {
     "iopub.execute_input": "2023-03-09T18:40:00.576245Z",
     "iopub.status.busy": "2023-03-09T18:40:00.574989Z",
     "iopub.status.idle": "2023-03-09T18:40:00.943838Z",
     "shell.execute_reply": "2023-03-09T18:40:00.942435Z"
    },
    "papermill": {
     "duration": 0.387766,
     "end_time": "2023-03-09T18:40:00.947758",
     "exception": false,
     "start_time": "2023-03-09T18:40:00.559992",
     "status": "completed"
    },
    "tags": []
   },
   "outputs": [
    {
     "data": {
      "application/javascript": [
       "parent.postMessage({\"jupyterEvent\": \"custom.exercise_interaction\", \"data\": {\"outcomeType\": 1, \"valueTowardsCompletion\": 0.3333333333333333, \"interactionType\": 1, \"questionType\": 2, \"questionId\": \"5_ColorScatter\", \"learnToolsVersion\": \"0.3.4\", \"failureMessage\": \"\", \"exceptionClass\": \"\", \"trace\": \"\"}}, \"*\")"
      ],
      "text/plain": [
       "<IPython.core.display.Javascript object>"
      ]
     },
     "metadata": {},
     "output_type": "display_data"
    },
    {
     "data": {
      "text/markdown": [
       "<span style=\"color:#33cc33\">Correct</span>"
      ],
      "text/plain": [
       "Correct"
      ]
     },
     "metadata": {},
     "output_type": "display_data"
    },
    {
     "data": {
      "image/png": "[encoded data removed]",
      "text/plain": [
       "<Figure size 640x480 with 1 Axes>"
      ]
     },
     "metadata": {},
     "output_type": "display_data"
    }
   ],
   "source": [
    "# Scatter plot showing the relationship between 'pricepercent', 'winpercent', and 'chocolate'\n",
    " # Your code here\n",
    "sns.scatterplot(x=candy_data['pricepercent'],y=candy_data['winpercent'],hue=candy_data['chocolate'])\n",
    "# Check your answer\n",
    "step_5.check()"
   ]
  },
  {
   "cell_type": "code",
   "execution_count": 17,
   "id": "b6e2bfc8",
   "metadata": {
    "execution": {
     "iopub.execute_input": "2023-03-09T18:40:00.977848Z",
     "iopub.status.busy": "2023-03-09T18:40:00.976877Z",
     "iopub.status.idle": "2023-03-09T18:40:00.981806Z",
     "shell.execute_reply": "2023-03-09T18:40:00.980651Z"
    },
    "papermill": {
     "duration": 0.024208,
     "end_time": "2023-03-09T18:40:00.984850",
     "exception": false,
     "start_time": "2023-03-09T18:40:00.960642",
     "status": "completed"
    },
    "tags": []
   },
   "outputs": [],
   "source": [
    "# Lines below will give you a hint or solution code\n",
    "#step_5.hint()\n",
    "#step_5.solution_plot()"
   ]
  },
  {
   "cell_type": "markdown",
   "id": "177a57ab",
   "metadata": {
    "papermill": {
     "duration": 0.012772,
     "end_time": "2023-03-09T18:40:01.010783",
     "exception": false,
     "start_time": "2023-03-09T18:40:00.998011",
     "status": "completed"
    },
    "tags": []
   },
   "source": [
    "Can you see any interesting patterns in the scatter plot?  We'll investigate this plot further  by adding regression lines in the next step!\n",
    "\n",
    "## Step 6: Investigate chocolate\n",
    "\n",
    "#### Part A\n",
    "\n",
    "Create the same scatter plot you created in **Step 5**, but now with two regression lines, corresponding to (1) chocolate candies and (2) candies without chocolate."
   ]
  },
  {
   "cell_type": "code",
   "execution_count": 18,
   "id": "a520d5fa",
   "metadata": {
    "execution": {
     "iopub.execute_input": "2023-03-09T18:40:01.039567Z",
     "iopub.status.busy": "2023-03-09T18:40:01.038495Z",
     "iopub.status.idle": "2023-03-09T18:40:01.910503Z",
     "shell.execute_reply": "2023-03-09T18:40:01.908402Z"
    },
    "papermill": {
     "duration": 0.890054,
     "end_time": "2023-03-09T18:40:01.913883",
     "exception": false,
     "start_time": "2023-03-09T18:40:01.023829",
     "status": "completed"
    },
    "tags": []
   },
   "outputs": [
    {
     "data": {
      "application/javascript": [
       "parent.postMessage({\"jupyterEvent\": \"custom.exercise_interaction\", \"data\": {\"outcomeType\": 1, \"valueTowardsCompletion\": 0.3333333333333333, \"interactionType\": 1, \"questionType\": 2, \"questionId\": \"6.1_PlotColorReg\", \"learnToolsVersion\": \"0.3.4\", \"failureMessage\": \"\", \"exceptionClass\": \"\", \"trace\": \"\"}}, \"*\")"
      ],
      "text/plain": [
       "<IPython.core.display.Javascript object>"
      ]
     },
     "metadata": {},
     "output_type": "display_data"
    },
    {
     "data": {
      "text/markdown": [
       "<span style=\"color:#33cc33\">Correct</span>"
      ],
      "text/plain": [
       "Correct"
      ]
     },
     "metadata": {},
     "output_type": "display_data"
    },
    {
     "data": {
      "image/png": "[encoded data removed]",
      "text/plain": [
       "<Figure size 578.611x500 with 1 Axes>"
      ]
     },
     "metadata": {},
     "output_type": "display_data"
    }
   ],
   "source": [
    "# Color-coded scatter plot w/ regression lines\n",
    "# Your code here\n",
    "sns.lmplot(x=\"pricepercent\",y=\"winpercent\",hue=\"chocolate\",data=candy_data)\n",
    "# Check your answer\n",
    "step_6.a.check()"
   ]
  },
  {
   "cell_type": "code",
   "execution_count": 19,
   "id": "27b3c5b1",
   "metadata": {
    "execution": {
     "iopub.execute_input": "2023-03-09T18:40:01.953005Z",
     "iopub.status.busy": "2023-03-09T18:40:01.951686Z",
     "iopub.status.idle": "2023-03-09T18:40:01.959240Z",
     "shell.execute_reply": "2023-03-09T18:40:01.957640Z"
    },
    "papermill": {
     "duration": 0.033105,
     "end_time": "2023-03-09T18:40:01.962830",
     "exception": false,
     "start_time": "2023-03-09T18:40:01.929725",
     "status": "completed"
    },
    "tags": []
   },
   "outputs": [],
   "source": [
    "# Lines below will give you a hint or solution code\n",
    "#step_6.a.hint()\n",
    "#step_6.a.solution_plot()"
   ]
  },
  {
   "cell_type": "markdown",
   "id": "6d3cc1a3",
   "metadata": {
    "papermill": {
     "duration": 0.015269,
     "end_time": "2023-03-09T18:40:01.992588",
     "exception": false,
     "start_time": "2023-03-09T18:40:01.977319",
     "status": "completed"
    },
    "tags": []
   },
   "source": [
    "#### Part B\n",
    "\n",
    "Using the regression lines, what conclusions can you draw about the effects of chocolate and price on candy popularity?"
   ]
  },
  {
   "cell_type": "code",
   "execution_count": 20,
   "id": "c823315b",
   "metadata": {
    "execution": {
     "iopub.execute_input": "2023-03-09T18:40:02.025726Z",
     "iopub.status.busy": "2023-03-09T18:40:02.025231Z",
     "iopub.status.idle": "2023-03-09T18:40:02.032556Z",
     "shell.execute_reply": "2023-03-09T18:40:02.030775Z"
    },
    "papermill": {
     "duration": 0.029006,
     "end_time": "2023-03-09T18:40:02.036640",
     "exception": false,
     "start_time": "2023-03-09T18:40:02.007634",
     "status": "completed"
    },
    "tags": []
   },
   "outputs": [],
   "source": [
    "#step_6.b.hint()"
   ]
  },
  {
   "cell_type": "code",
   "execution_count": 21,
   "id": "2d08b404",
   "metadata": {
    "execution": {
     "iopub.execute_input": "2023-03-09T18:40:02.073508Z",
     "iopub.status.busy": "2023-03-09T18:40:02.071699Z",
     "iopub.status.idle": "2023-03-09T18:40:02.086255Z",
     "shell.execute_reply": "2023-03-09T18:40:02.084327Z"
    },
    "papermill": {
     "duration": 0.036309,
     "end_time": "2023-03-09T18:40:02.089416",
     "exception": false,
     "start_time": "2023-03-09T18:40:02.053107",
     "status": "completed"
    },
    "tags": []
   },
   "outputs": [
    {
     "data": {
      "application/javascript": [
       "parent.postMessage({\"jupyterEvent\": \"custom.exercise_interaction\", \"data\": {\"interactionType\": 3, \"questionType\": 4, \"questionId\": \"6.2_ThinkColorReg\", \"learnToolsVersion\": \"0.3.4\", \"valueTowardsCompletion\": 0.0, \"failureMessage\": \"\", \"exceptionClass\": \"\", \"trace\": \"\", \"outcomeType\": 4}}, \"*\")"
      ],
      "text/plain": [
       "<IPython.core.display.Javascript object>"
      ]
     },
     "metadata": {},
     "output_type": "display_data"
    },
    {
     "data": {
      "text/markdown": [
       "<span style=\"color:#33cc99\">Solution:</span> We'll begin with the regression line for chocolate candies. Since this line has a slightly positive slope, we can say that more expensive chocolate candies tend to be more popular (than relatively cheaper chocolate candies).  Likewise, since the regression line for candies without chocolate has a negative slope, we can say that if candies don't contain chocolate, they tend to be more popular when they are cheaper.  One important note, however, is that the dataset is quite small -- so we shouldn't invest too much trust in these patterns!  To inspire more confidence in the results, we should add more candies to the dataset."
      ],
      "text/plain": [
       "Solution: We'll begin with the regression line for chocolate candies. Since this line has a slightly positive slope, we can say that more expensive chocolate candies tend to be more popular (than relatively cheaper chocolate candies).  Likewise, since the regression line for candies without chocolate has a negative slope, we can say that if candies don't contain chocolate, they tend to be more popular when they are cheaper.  One important note, however, is that the dataset is quite small -- so we shouldn't invest too much trust in these patterns!  To inspire more confidence in the results, we should add more candies to the dataset."
      ]
     },
     "metadata": {},
     "output_type": "display_data"
    }
   ],
   "source": [
    "# Check your answer (Run this code cell to receive credit!)\n",
    "step_6.b.solution()"
   ]
  },
  {
   "cell_type": "markdown",
   "id": "47e7a0c3",
   "metadata": {
    "papermill": {
     "duration": 0.013868,
     "end_time": "2023-03-09T18:40:02.118773",
     "exception": false,
     "start_time": "2023-03-09T18:40:02.104905",
     "status": "completed"
    },
    "tags": []
   },
   "source": [
    "## Step 7: Everybody loves chocolate.\n",
    "\n",
    "#### Part A\n",
    "\n",
    "Create a categorical scatter plot to highlight the relationship between `'chocolate'` and `'winpercent'`.  Put `'chocolate'` on the (horizontal) x-axis, and `'winpercent'` on the (vertical) y-axis."
   ]
  },
  {
   "cell_type": "code",
   "execution_count": 22,
   "id": "7982c764",
   "metadata": {
    "execution": {
     "iopub.execute_input": "2023-03-09T18:40:02.153196Z",
     "iopub.status.busy": "2023-03-09T18:40:02.152321Z",
     "iopub.status.idle": "2023-03-09T18:40:02.569410Z",
     "shell.execute_reply": "2023-03-09T18:40:02.567831Z"
    },
    "papermill": {
     "duration": 0.438677,
     "end_time": "2023-03-09T18:40:02.572449",
     "exception": false,
     "start_time": "2023-03-09T18:40:02.133772",
     "status": "completed"
    },
    "tags": []
   },
   "outputs": [
    {
     "data": {
      "application/javascript": [
       "parent.postMessage({\"jupyterEvent\": \"custom.exercise_interaction\", \"data\": {\"outcomeType\": 1, \"valueTowardsCompletion\": 0.3333333333333333, \"interactionType\": 1, \"questionType\": 2, \"questionId\": \"7.1_PlotSwarm\", \"learnToolsVersion\": \"0.3.4\", \"failureMessage\": \"\", \"exceptionClass\": \"\", \"trace\": \"\"}}, \"*\")"
      ],
      "text/plain": [
       "<IPython.core.display.Javascript object>"
      ]
     },
     "metadata": {},
     "output_type": "display_data"
    },
    {
     "data": {
      "text/markdown": [
       "<span style=\"color:#33cc33\">Correct</span>"
      ],
      "text/plain": [
       "Correct"
      ]
     },
     "metadata": {},
     "output_type": "display_data"
    },
    {
     "data": {
      "image/png": "[encoded data removed]",
      "text/plain": [
       "<Figure size 640x480 with 1 Axes>"
      ]
     },
     "metadata": {},
     "output_type": "display_data"
    }
   ],
   "source": [
    "# Scatter plot showing the relationship between 'chocolate' and 'winpercent'\n",
    "# Your code here\n",
    "sns.swarmplot(x=candy_data['chocolate'],y=candy_data['winpercent'])\n",
    "# Check your answer\n",
    "step_7.a.check()"
   ]
  },
  {
   "cell_type": "code",
   "execution_count": 23,
   "id": "aa1a24b3",
   "metadata": {
    "execution": {
     "iopub.execute_input": "2023-03-09T18:40:02.610101Z",
     "iopub.status.busy": "2023-03-09T18:40:02.607601Z",
     "iopub.status.idle": "2023-03-09T18:40:02.615246Z",
     "shell.execute_reply": "2023-03-09T18:40:02.613963Z"
    },
    "papermill": {
     "duration": 0.027867,
     "end_time": "2023-03-09T18:40:02.618259",
     "exception": false,
     "start_time": "2023-03-09T18:40:02.590392",
     "status": "completed"
    },
    "tags": []
   },
   "outputs": [],
   "source": [
    "# Lines below will give you a hint or solution code\n",
    "#step_7.a.hint()\n",
    "#step_7.a.solution_plot()"
   ]
  },
  {
   "cell_type": "markdown",
   "id": "2848b1c1",
   "metadata": {
    "papermill": {
     "duration": 0.019168,
     "end_time": "2023-03-09T18:40:02.656230",
     "exception": false,
     "start_time": "2023-03-09T18:40:02.637062",
     "status": "completed"
    },
    "tags": []
   },
   "source": [
    "#### Part B\n",
    "\n",
    "You decide to dedicate a section of your report to the fact that chocolate candies tend to be more popular than candies without chocolate.  Which plot is more appropriate to tell this story: the plot from **Step 6**, or the plot from **Step 7**?"
   ]
  },
  {
   "cell_type": "code",
   "execution_count": 24,
   "id": "d5ab26be",
   "metadata": {
    "execution": {
     "iopub.execute_input": "2023-03-09T18:40:02.698626Z",
     "iopub.status.busy": "2023-03-09T18:40:02.697615Z",
     "iopub.status.idle": "2023-03-09T18:40:02.704299Z",
     "shell.execute_reply": "2023-03-09T18:40:02.703038Z"
    },
    "papermill": {
     "duration": 0.034103,
     "end_time": "2023-03-09T18:40:02.708140",
     "exception": false,
     "start_time": "2023-03-09T18:40:02.674037",
     "status": "completed"
    },
    "tags": []
   },
   "outputs": [],
   "source": [
    "#step_7.b.hint()"
   ]
  },
  {
   "cell_type": "code",
   "execution_count": 25,
   "id": "56b20efc",
   "metadata": {
    "execution": {
     "iopub.execute_input": "2023-03-09T18:40:02.748194Z",
     "iopub.status.busy": "2023-03-09T18:40:02.747251Z",
     "iopub.status.idle": "2023-03-09T18:40:02.758760Z",
     "shell.execute_reply": "2023-03-09T18:40:02.757232Z"
    },
    "papermill": {
     "duration": 0.036425,
     "end_time": "2023-03-09T18:40:02.761861",
     "exception": false,
     "start_time": "2023-03-09T18:40:02.725436",
     "status": "completed"
    },
    "tags": []
   },
   "outputs": [
    {
     "data": {
      "application/javascript": [
       "parent.postMessage({\"jupyterEvent\": \"custom.exercise_interaction\", \"data\": {\"interactionType\": 3, \"questionType\": 4, \"questionId\": \"7.2_ThinkSwarm\", \"learnToolsVersion\": \"0.3.4\", \"valueTowardsCompletion\": 0.0, \"failureMessage\": \"\", \"exceptionClass\": \"\", \"trace\": \"\", \"outcomeType\": 4}}, \"*\")"
      ],
      "text/plain": [
       "<IPython.core.display.Javascript object>"
      ]
     },
     "metadata": {},
     "output_type": "display_data"
    },
    {
     "data": {
      "text/markdown": [
       "<span style=\"color:#33cc99\">Solution:</span> In this case, the categorical scatter plot from **Step 7** is the more appropriate plot. While both plots tell the desired story, the plot from **Step 6** conveys far more information that could distract from the main point."
      ],
      "text/plain": [
       "Solution: In this case, the categorical scatter plot from **Step 7** is the more appropriate plot. While both plots tell the desired story, the plot from **Step 6** conveys far more information that could distract from the main point."
      ]
     },
     "metadata": {},
     "output_type": "display_data"
    }
   ],
   "source": [
    "# Check your answer (Run this code cell to receive credit!)\n",
    "step_7.b.solution()"
   ]
  },
  {
   "cell_type": "markdown",
   "id": "2ab5be01",
   "metadata": {
    "papermill": {
     "duration": 0.015859,
     "end_time": "2023-03-09T18:40:02.793383",
     "exception": false,
     "start_time": "2023-03-09T18:40:02.777524",
     "status": "completed"
    },
    "tags": []
   },
   "source": [
    "## Keep going\n",
    "\n",
    "Explore **[histograms and density plots](https://www.kaggle.com/alexisbcook/distributions)**."
   ]
  },
  {
   "cell_type": "markdown",
   "id": "ed62acc4",
   "metadata": {
    "papermill": {
     "duration": 0.015878,
     "end_time": "2023-03-09T18:40:02.824817",
     "exception": false,
     "start_time": "2023-03-09T18:40:02.808939",
     "status": "completed"
    },
    "tags": []
   },
   "source": [
    "---\n",
    "\n",
    "\n",
    "\n",
    "\n",
    "*Have questions or comments? Visit the [course discussion forum](https://www.kaggle.com/learn/data-visualization/discussion) to chat with other learners.*"
   ]
  }
 ],
 "metadata": {
  "kernelspec": {
   "display_name": "Python 3",
   "language": "python",
   "name": "python3"
  },
  "language_info": {
   "codemirror_mode": {
    "name": "ipython",
    "version": 3
   },
   "file_extension": ".py",
   "mimetype": "text/x-python",
   "name": "python",
   "nbconvert_exporter": "python",
   "pygments_lexer": "ipython3",
   "version": "3.7.12"
  },
  "papermill": {
   "default_parameters": {},
   "duration": 21.433058,
   "end_time": "2023-03-09T18:40:03.767287",
   "environment_variables": {},
   "exception": null,
   "input_path": "__notebook__.ipynb",
   "output_path": "__notebook__.ipynb",
   "parameters": {},
   "start_time": "2023-03-09T18:39:42.334229",
   "version": "2.4.0"
  }
 },
 "nbformat": 4,
 "nbformat_minor": 5
}
