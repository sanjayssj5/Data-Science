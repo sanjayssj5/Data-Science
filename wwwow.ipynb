{
 "cells": [
  {
   "cell_type": "markdown",
   "id": "fe1a2016",
   "metadata": {
    "papermill": {
     "duration": 0.015177,
     "end_time": "2023-05-28T22:47:52.946605",
     "exception": false,
     "start_time": "2023-05-28T22:47:52.931428",
     "status": "completed"
    },
    "tags": []
   },
   "source": [
    "- what type of documents does it contain?\n",
    "- how many documents are there?\n",
    "- calculate and visualise some simple statistics for the collection, e.g. the average document length,\n",
    "the average vocabulary size, etc."
   ]
  },
  {
   "cell_type": "markdown",
   "id": "ea8ff5d7",
   "metadata": {
    "papermill": {
     "duration": 0.013703,
     "end_time": "2023-05-28T22:47:52.974442",
     "exception": false,
     "start_time": "2023-05-28T22:47:52.960739",
     "status": "completed"
    },
    "tags": []
   },
   "source": [
    "## Import the dataset"
   ]
  },
  {
   "cell_type": "code",
   "execution_count": 1,
   "id": "55f30709",
   "metadata": {
    "execution": {
     "iopub.execute_input": "2023-05-28T22:47:53.005514Z",
     "iopub.status.busy": "2023-05-28T22:47:53.004436Z",
     "iopub.status.idle": "2023-05-28T22:48:14.488769Z",
     "shell.execute_reply": "2023-05-28T22:48:14.487794Z"
    },
    "papermill": {
     "duration": 21.502433,
     "end_time": "2023-05-28T22:48:14.491261",
     "exception": false,
     "start_time": "2023-05-28T22:47:52.988828",
     "status": "completed"
    },
    "tags": []
   },
   "outputs": [],
   "source": [
    "import json\n",
    "\n",
    "f = open(r'/kaggle/input/wizard-of-wikipedia/train.json', 'r')\n",
    "dataset = json.loads(f.read())\n",
    "\n",
    "# Skip this code if you want to use entire dataset\n",
    "dataset = dataset[:4000]\n",
    "\n"
   ]
  },
  {
   "cell_type": "code",
   "execution_count": 2,
   "id": "214712c2",
   "metadata": {
    "execution": {
     "iopub.execute_input": "2023-05-28T22:48:14.520889Z",
     "iopub.status.busy": "2023-05-28T22:48:14.520601Z",
     "iopub.status.idle": "2023-05-28T22:48:14.525844Z",
     "shell.execute_reply": "2023-05-28T22:48:14.524889Z"
    },
    "papermill": {
     "duration": 0.021963,
     "end_time": "2023-05-28T22:48:14.527646",
     "exception": false,
     "start_time": "2023-05-28T22:48:14.505683",
     "status": "completed"
    },
    "tags": []
   },
   "outputs": [],
   "source": [
    "# Inspect the format of the imported json\n",
    "#dataset"
   ]
  },
  {
   "cell_type": "markdown",
   "id": "c2102ead",
   "metadata": {
    "papermill": {
     "duration": 0.013841,
     "end_time": "2023-05-28T22:48:14.555690",
     "exception": false,
     "start_time": "2023-05-28T22:48:14.541849",
     "status": "completed"
    },
    "tags": []
   },
   "source": [
    "### What's inside this dataset?\n",
    "\n",
    " "
   ]
  },
  {
   "cell_type": "markdown",
   "id": "d2120af3",
   "metadata": {
    "papermill": {
     "duration": 0.013629,
     "end_time": "2023-05-28T22:48:14.583117",
     "exception": false,
     "start_time": "2023-05-28T22:48:14.569488",
     "status": "completed"
    },
    "tags": []
   },
   "source": [
    "PREPEND EACH SENTENCE WITH ARTICLE TITLE: \"We retrieve the top 7 articles (first paragraph only) for each lookup and then flatten all the results into separate sentences (i.e. remove the organization of sentences belonging to articles), but prepend every sentence with its article title. In this way the candidates mc1 , . . . , mcK given to the neural model in the next stage can be attended to independently without having to deal with hierarchical issues.\"\n",
    "\n",
    "DIALOGUE CONTEXT: \"it is given the current dialogue context x1 , . . . , xt of t dialogue turns, where x1 is al- ways the initial starting topic (e.g. “Kurt Cobain”), and the remaining turns swap between the two speakers.\" So, x1 is the topic and x2 will be the first generated text, x2 the answer and so on...\n",
    "THE GOAL AT EACH STAGE IS TO OUTPUT THE NEXT UTTERANCE xt+1."
   ]
  },
  {
   "cell_type": "markdown",
   "id": "e9c613a6",
   "metadata": {
    "papermill": {
     "duration": 0.01366,
     "end_time": "2023-05-28T22:48:14.610300",
     "exception": false,
     "start_time": "2023-05-28T22:48:14.596640",
     "status": "completed"
    },
    "tags": []
   },
   "source": [
    "Now, let's try extracting the CHOSEN TOPIC + TEXT MESSAGE to predict which of the RETRIEVED PASSAGES is the best one."
   ]
  },
  {
   "cell_type": "markdown",
   "id": "462c62b1",
   "metadata": {
    "papermill": {
     "duration": 0.013568,
     "end_time": "2023-05-28T22:48:14.638019",
     "exception": false,
     "start_time": "2023-05-28T22:48:14.624451",
     "status": "completed"
    },
    "tags": []
   },
   "source": [
    "## Building the structure"
   ]
  },
  {
   "cell_type": "code",
   "execution_count": 3,
   "id": "4cdbca2f",
   "metadata": {
    "execution": {
     "iopub.execute_input": "2023-05-28T22:48:14.668702Z",
     "iopub.status.busy": "2023-05-28T22:48:14.666968Z",
     "iopub.status.idle": "2023-05-28T22:48:14.671896Z",
     "shell.execute_reply": "2023-05-28T22:48:14.670991Z"
    },
    "papermill": {
     "duration": 0.022326,
     "end_time": "2023-05-28T22:48:14.674084",
     "exception": false,
     "start_time": "2023-05-28T22:48:14.651758",
     "status": "completed"
    },
    "tags": []
   },
   "outputs": [],
   "source": [
    "#dataset=dataset[:15]"
   ]
  },
  {
   "cell_type": "code",
   "execution_count": 4,
   "id": "54f3ba78",
   "metadata": {
    "execution": {
     "iopub.execute_input": "2023-05-28T22:48:14.703652Z",
     "iopub.status.busy": "2023-05-28T22:48:14.703326Z",
     "iopub.status.idle": "2023-05-28T22:48:15.818387Z",
     "shell.execute_reply": "2023-05-28T22:48:15.817416Z"
    },
    "papermill": {
     "duration": 1.132338,
     "end_time": "2023-05-28T22:48:15.820744",
     "exception": false,
     "start_time": "2023-05-28T22:48:14.688406",
     "status": "completed"
    },
    "tags": []
   },
   "outputs": [],
   "source": [
    "def create_passages_struct(dataset):\n",
    "    structure = []\n",
    "    for conversation in dataset:\n",
    "        dialog_structure = []\n",
    "        for dialog in conversation['dialog']:\n",
    "            dialog_entry = [f\"{list(passage.keys())[0]}: {sentence}\" for passage in dialog['retrieved_passages'] for sentence in list(passage.values())[0]]\n",
    "            dialog_structure.append(dialog_entry)\n",
    "        structure.append(dialog_structure)\n",
    "    return structure\n",
    "\n",
    "passages_struct = create_passages_struct(dataset)             "
   ]
  },
  {
   "cell_type": "code",
   "execution_count": 5,
   "id": "2218e0c0",
   "metadata": {
    "execution": {
     "iopub.execute_input": "2023-05-28T22:48:15.851022Z",
     "iopub.status.busy": "2023-05-28T22:48:15.850723Z",
     "iopub.status.idle": "2023-05-28T22:48:15.855121Z",
     "shell.execute_reply": "2023-05-28T22:48:15.854159Z"
    },
    "papermill": {
     "duration": 0.0219,
     "end_time": "2023-05-28T22:48:15.857492",
     "exception": false,
     "start_time": "2023-05-28T22:48:15.835592",
     "status": "completed"
    },
    "tags": []
   },
   "outputs": [],
   "source": [
    "#passages_struct[:1]"
   ]
  },
  {
   "cell_type": "code",
   "execution_count": 6,
   "id": "e110b176",
   "metadata": {
    "execution": {
     "iopub.execute_input": "2023-05-28T22:48:15.886413Z",
     "iopub.status.busy": "2023-05-28T22:48:15.885702Z",
     "iopub.status.idle": "2023-05-28T22:48:15.923607Z",
     "shell.execute_reply": "2023-05-28T22:48:15.922728Z"
    },
    "papermill": {
     "duration": 0.054734,
     "end_time": "2023-05-28T22:48:15.925772",
     "exception": false,
     "start_time": "2023-05-28T22:48:15.871038",
     "status": "completed"
    },
    "tags": []
   },
   "outputs": [],
   "source": [
    "def create_dialog_context_struct(dataset):\n",
    "    transformed_data = []\n",
    "    for item in dataset:\n",
    "        dialog = item['dialog']\n",
    "        text_list = []\n",
    "        flag = 0\n",
    "        for utterance in dialog:\n",
    "            if flag == 0: \n",
    "                text_list.append('Person A: '+utterance['text'])\n",
    "                flag = 1\n",
    "            else: \n",
    "                text_list.append('Person B: '+utterance['text'])\n",
    "                flag = 0\n",
    "        transformed_data.append(text_list)\n",
    "    return transformed_data\n",
    "\n",
    "\n",
    "dialog_context_struct = create_dialog_context_struct(dataset)"
   ]
  },
  {
   "cell_type": "markdown",
   "id": "b8442079",
   "metadata": {
    "papermill": {
     "duration": 0.01361,
     "end_time": "2023-05-28T22:48:15.953136",
     "exception": false,
     "start_time": "2023-05-28T22:48:15.939526",
     "status": "completed"
    },
    "tags": []
   },
   "source": [
    "Splitting the dialog_context_struct in a training set and validation set"
   ]
  },
  {
   "cell_type": "code",
   "execution_count": 7,
   "id": "b7f47f3e",
   "metadata": {
    "execution": {
     "iopub.execute_input": "2023-05-28T22:48:15.982011Z",
     "iopub.status.busy": "2023-05-28T22:48:15.981222Z",
     "iopub.status.idle": "2023-05-28T22:48:17.038516Z",
     "shell.execute_reply": "2023-05-28T22:48:17.037272Z"
    },
    "papermill": {
     "duration": 1.074709,
     "end_time": "2023-05-28T22:48:17.041317",
     "exception": false,
     "start_time": "2023-05-28T22:48:15.966608",
     "status": "completed"
    },
    "tags": []
   },
   "outputs": [],
   "source": [
    "from sklearn.model_selection import train_test_split\n",
    "\n",
    "train, valid = train_test_split(dialog_context_struct, test_size=0.2, random_state=42)"
   ]
  },
  {
   "cell_type": "code",
   "execution_count": 8,
   "id": "efff3c77",
   "metadata": {
    "execution": {
     "iopub.execute_input": "2023-05-28T22:48:17.071623Z",
     "iopub.status.busy": "2023-05-28T22:48:17.070806Z",
     "iopub.status.idle": "2023-05-28T22:48:17.075415Z",
     "shell.execute_reply": "2023-05-28T22:48:17.074566Z"
    },
    "papermill": {
     "duration": 0.021777,
     "end_time": "2023-05-28T22:48:17.077548",
     "exception": false,
     "start_time": "2023-05-28T22:48:17.055771",
     "status": "completed"
    },
    "tags": []
   },
   "outputs": [],
   "source": [
    "#dialog_context_struct[0:2]"
   ]
  },
  {
   "cell_type": "code",
   "execution_count": 9,
   "id": "533660a2",
   "metadata": {
    "execution": {
     "iopub.execute_input": "2023-05-28T22:48:17.107977Z",
     "iopub.status.busy": "2023-05-28T22:48:17.107145Z",
     "iopub.status.idle": "2023-05-28T22:48:17.114172Z",
     "shell.execute_reply": "2023-05-28T22:48:17.113354Z"
    },
    "papermill": {
     "duration": 0.02393,
     "end_time": "2023-05-28T22:48:17.116129",
     "exception": false,
     "start_time": "2023-05-28T22:48:17.092199",
     "status": "completed"
    },
    "tags": []
   },
   "outputs": [],
   "source": [
    "def build_batch(d_c_struct, p_struct, conv, turn):\n",
    "    length = len(d_c_struct[conv])\n",
    "    if turn >= length-1: \n",
    "        return d_c_struct[conv][length-1], ''.join(d_c_struct[conv][:length-1]), p_struct[conv][length-1]\n",
    "    else: \n",
    "        return d_c_struct[conv][turn+1], ''.join(d_c_struct[conv][0:turn+1]), p_struct[conv][turn]\n",
    "\n",
    "#conv = 0\n",
    "#turn = 10\n",
    "\n",
    "#expected_answer, dialog_context, retrieved_passages = build_batch(dialog_context_struct, passages_struct, conv, turn)\n",
    "\n",
    "#print(dialog_context)\n",
    "#print(retrieved_passages)\n",
    "#print(expected_answer)\n"
   ]
  },
  {
   "cell_type": "code",
   "execution_count": 10,
   "id": "4bb792cb",
   "metadata": {
    "execution": {
     "iopub.execute_input": "2023-05-28T22:48:17.145645Z",
     "iopub.status.busy": "2023-05-28T22:48:17.144837Z",
     "iopub.status.idle": "2023-05-28T22:48:17.148877Z",
     "shell.execute_reply": "2023-05-28T22:48:17.148080Z"
    },
    "papermill": {
     "duration": 0.021049,
     "end_time": "2023-05-28T22:48:17.150926",
     "exception": false,
     "start_time": "2023-05-28T22:48:17.129877",
     "status": "completed"
    },
    "tags": []
   },
   "outputs": [],
   "source": [
    "\n",
    "#print(tdialog_context_struct))\n",
    "#print(type(dialog_context_struct[0]))"
   ]
  },
  {
   "cell_type": "code",
   "execution_count": 11,
   "id": "cce603ca",
   "metadata": {
    "execution": {
     "iopub.execute_input": "2023-05-28T22:48:17.179999Z",
     "iopub.status.busy": "2023-05-28T22:48:17.179731Z",
     "iopub.status.idle": "2023-05-28T22:48:17.183555Z",
     "shell.execute_reply": "2023-05-28T22:48:17.182536Z"
    },
    "papermill": {
     "duration": 0.020467,
     "end_time": "2023-05-28T22:48:17.185644",
     "exception": false,
     "start_time": "2023-05-28T22:48:17.165177",
     "status": "completed"
    },
    "tags": []
   },
   "outputs": [],
   "source": [
    "#input_text = f\"Given the following passage, continue the related conversation.\\n\\nPassage:\\n\\n{passage}\\n\\nCONVERSATION: {dialog_context}\""
   ]
  },
  {
   "cell_type": "markdown",
   "id": "08915429",
   "metadata": {
    "papermill": {
     "duration": 0.013447,
     "end_time": "2023-05-28T22:48:17.212834",
     "exception": false,
     "start_time": "2023-05-28T22:48:17.199387",
     "status": "completed"
    },
    "tags": []
   },
   "source": [
    "## Tutotial 9 adaptation"
   ]
  },
  {
   "cell_type": "markdown",
   "id": "62f00804",
   "metadata": {
    "papermill": {
     "duration": 0.01403,
     "end_time": "2023-05-28T22:48:17.240429",
     "exception": false,
     "start_time": "2023-05-28T22:48:17.226399",
     "status": "completed"
    },
    "tags": []
   },
   "source": [
    "Building the dictionary stuctures for the model"
   ]
  },
  {
   "cell_type": "markdown",
   "id": "ae02267d",
   "metadata": {
    "papermill": {
     "duration": 0.01404,
     "end_time": "2023-05-28T22:48:17.268503",
     "exception": false,
     "start_time": "2023-05-28T22:48:17.254463",
     "status": "completed"
    },
    "tags": []
   },
   "source": [
    "Encoder"
   ]
  },
  {
   "cell_type": "code",
   "execution_count": 12,
   "id": "4197a8e2",
   "metadata": {
    "execution": {
     "iopub.execute_input": "2023-05-28T22:48:17.299214Z",
     "iopub.status.busy": "2023-05-28T22:48:17.298865Z",
     "iopub.status.idle": "2023-05-28T22:48:51.837093Z",
     "shell.execute_reply": "2023-05-28T22:48:51.835962Z"
    },
    "papermill": {
     "duration": 34.556677,
     "end_time": "2023-05-28T22:48:51.839560",
     "exception": false,
     "start_time": "2023-05-28T22:48:17.282883",
     "status": "completed"
    },
    "tags": []
   },
   "outputs": [
    {
     "name": "stdout",
     "output_type": "stream",
     "text": [
      "\u001b[33mWARNING: Running pip as the 'root' user can result in broken permissions and conflicting behaviour with the system package manager. It is recommended to use a virtual environment instead: https://pip.pypa.io/warnings/venv\u001b[0m\u001b[33m\r\n",
      "\u001b[0m\u001b[33mWARNING: Running pip as the 'root' user can result in broken permissions and conflicting behaviour with the system package manager. It is recommended to use a virtual environment instead: https://pip.pypa.io/warnings/venv\u001b[0m\u001b[33m\r\n",
      "\u001b[0m"
     ]
    }
   ],
   "source": [
    "!pip -q install transformers==4.22.2\n",
    "!pip -q install -U sentence-transformers"
   ]
  },
  {
   "cell_type": "markdown",
   "id": "e51f30f9",
   "metadata": {
    "papermill": {
     "duration": 0.014215,
     "end_time": "2023-05-28T22:48:51.868893",
     "exception": false,
     "start_time": "2023-05-28T22:48:51.854678",
     "status": "completed"
    },
    "tags": []
   },
   "source": [
    "Compute the embeddings"
   ]
  },
  {
   "cell_type": "code",
   "execution_count": 13,
   "id": "b523b997",
   "metadata": {
    "execution": {
     "iopub.execute_input": "2023-05-28T22:48:51.898400Z",
     "iopub.status.busy": "2023-05-28T22:48:51.898029Z",
     "iopub.status.idle": "2023-05-28T22:48:51.902759Z",
     "shell.execute_reply": "2023-05-28T22:48:51.901725Z"
    },
    "papermill": {
     "duration": 0.021985,
     "end_time": "2023-05-28T22:48:51.904828",
     "exception": false,
     "start_time": "2023-05-28T22:48:51.882843",
     "status": "completed"
    },
    "tags": []
   },
   "outputs": [],
   "source": [
    "#passages_struct[0][0]"
   ]
  },
  {
   "cell_type": "code",
   "execution_count": 14,
   "id": "b427582e",
   "metadata": {
    "execution": {
     "iopub.execute_input": "2023-05-28T22:48:51.937155Z",
     "iopub.status.busy": "2023-05-28T22:48:51.936237Z",
     "iopub.status.idle": "2023-05-28T22:48:51.940878Z",
     "shell.execute_reply": "2023-05-28T22:48:51.939849Z"
    },
    "papermill": {
     "duration": 0.023406,
     "end_time": "2023-05-28T22:48:51.943083",
     "exception": false,
     "start_time": "2023-05-28T22:48:51.919677",
     "status": "completed"
    },
    "tags": []
   },
   "outputs": [],
   "source": [
    "#embedded_sentences[0][0][0].shape"
   ]
  },
  {
   "cell_type": "markdown",
   "id": "a0d36dd0",
   "metadata": {
    "papermill": {
     "duration": 0.014505,
     "end_time": "2023-05-28T22:48:51.972524",
     "exception": false,
     "start_time": "2023-05-28T22:48:51.958019",
     "status": "completed"
    },
    "tags": []
   },
   "source": [
    "Decoder"
   ]
  },
  {
   "cell_type": "markdown",
   "id": "f4b20d3c",
   "metadata": {
    "papermill": {
     "duration": 0.014834,
     "end_time": "2023-05-28T22:48:52.002414",
     "exception": false,
     "start_time": "2023-05-28T22:48:51.987580",
     "status": "completed"
    },
    "tags": []
   },
   "source": []
  },
  {
   "cell_type": "code",
   "execution_count": null,
   "id": "1b5cf599",
   "metadata": {
    "papermill": {
     "duration": 0.015206,
     "end_time": "2023-05-28T22:48:52.032703",
     "exception": false,
     "start_time": "2023-05-28T22:48:52.017497",
     "status": "completed"
    },
    "tags": []
   },
   "outputs": [],
   "source": []
  },
  {
   "cell_type": "code",
   "execution_count": 15,
   "id": "004a600e",
   "metadata": {
    "execution": {
     "iopub.execute_input": "2023-05-28T22:48:52.064213Z",
     "iopub.status.busy": "2023-05-28T22:48:52.063815Z",
     "iopub.status.idle": "2023-05-28T22:48:54.692174Z",
     "shell.execute_reply": "2023-05-28T22:48:54.690837Z"
    },
    "papermill": {
     "duration": 2.646637,
     "end_time": "2023-05-28T22:48:54.694484",
     "exception": false,
     "start_time": "2023-05-28T22:48:52.047847",
     "status": "completed"
    },
    "tags": []
   },
   "outputs": [
    {
     "name": "stdout",
     "output_type": "stream",
     "text": [
      "sentence-transformers==2.2.2\r\n",
      "transformers==4.22.2\r\n",
      "Note: you may need to restart the kernel to use updated packages.\n"
     ]
    }
   ],
   "source": [
    "pip freeze | grep transformers"
   ]
  },
  {
   "cell_type": "code",
   "execution_count": 16,
   "id": "047beab8",
   "metadata": {
    "execution": {
     "iopub.execute_input": "2023-05-28T22:48:54.725480Z",
     "iopub.status.busy": "2023-05-28T22:48:54.724590Z",
     "iopub.status.idle": "2023-05-28T22:49:06.234944Z",
     "shell.execute_reply": "2023-05-28T22:49:06.233792Z"
    },
    "papermill": {
     "duration": 11.528479,
     "end_time": "2023-05-28T22:49:06.237650",
     "exception": false,
     "start_time": "2023-05-28T22:48:54.709171",
     "status": "completed"
    },
    "tags": []
   },
   "outputs": [
    {
     "name": "stdout",
     "output_type": "stream",
     "text": [
      "Requirement already satisfied: accelerate in /opt/conda/lib/python3.10/site-packages (0.12.0)\r\n",
      "Requirement already satisfied: numpy>=1.17 in /opt/conda/lib/python3.10/site-packages (from accelerate) (1.23.5)\r\n",
      "Requirement already satisfied: packaging>=20.0 in /opt/conda/lib/python3.10/site-packages (from accelerate) (21.3)\r\n",
      "Requirement already satisfied: psutil in /opt/conda/lib/python3.10/site-packages (from accelerate) (5.9.3)\r\n",
      "Requirement already satisfied: pyyaml in /opt/conda/lib/python3.10/site-packages (from accelerate) (5.4.1)\r\n",
      "Requirement already satisfied: torch>=1.4.0 in /opt/conda/lib/python3.10/site-packages (from accelerate) (2.0.0)\r\n",
      "Requirement already satisfied: pyparsing!=3.0.5,>=2.0.2 in /opt/conda/lib/python3.10/site-packages (from packaging>=20.0->accelerate) (3.0.9)\r\n",
      "Requirement already satisfied: filelock in /opt/conda/lib/python3.10/site-packages (from torch>=1.4.0->accelerate) (3.12.0)\r\n",
      "Requirement already satisfied: typing-extensions in /opt/conda/lib/python3.10/site-packages (from torch>=1.4.0->accelerate) (4.5.0)\r\n",
      "Requirement already satisfied: sympy in /opt/conda/lib/python3.10/site-packages (from torch>=1.4.0->accelerate) (1.12)\r\n",
      "Requirement already satisfied: networkx in /opt/conda/lib/python3.10/site-packages (from torch>=1.4.0->accelerate) (3.1)\r\n",
      "Requirement already satisfied: jinja2 in /opt/conda/lib/python3.10/site-packages (from torch>=1.4.0->accelerate) (3.1.2)\r\n",
      "Requirement already satisfied: MarkupSafe>=2.0 in /opt/conda/lib/python3.10/site-packages (from jinja2->torch>=1.4.0->accelerate) (2.1.2)\r\n",
      "Requirement already satisfied: mpmath>=0.19 in /opt/conda/lib/python3.10/site-packages (from sympy->torch>=1.4.0->accelerate) (1.3.0)\r\n",
      "\u001b[33mWARNING: Running pip as the 'root' user can result in broken permissions and conflicting behaviour with the system package manager. It is recommended to use a virtual environment instead: https://pip.pypa.io/warnings/venv\u001b[0m\u001b[33m\r\n",
      "\u001b[0m"
     ]
    }
   ],
   "source": [
    "!pip install accelerate"
   ]
  },
  {
   "cell_type": "markdown",
   "id": "7fd28a44",
   "metadata": {
    "papermill": {
     "duration": 0.014969,
     "end_time": "2023-05-28T22:49:06.268182",
     "exception": false,
     "start_time": "2023-05-28T22:49:06.253213",
     "status": "completed"
    },
    "tags": []
   },
   "source": [
    "Preparation of train and valid sets for fine tuning"
   ]
  },
  {
   "cell_type": "code",
   "execution_count": 17,
   "id": "63a9927e",
   "metadata": {
    "execution": {
     "iopub.execute_input": "2023-05-28T22:49:06.299689Z",
     "iopub.status.busy": "2023-05-28T22:49:06.299288Z",
     "iopub.status.idle": "2023-05-28T22:49:08.919337Z",
     "shell.execute_reply": "2023-05-28T22:49:08.918327Z"
    },
    "papermill": {
     "duration": 2.63881,
     "end_time": "2023-05-28T22:49:08.921638",
     "exception": false,
     "start_time": "2023-05-28T22:49:06.282828",
     "status": "completed"
    },
    "tags": []
   },
   "outputs": [
    {
     "name": "stderr",
     "output_type": "stream",
     "text": [
      "\u001b[34m\u001b[1mwandb\u001b[0m: W&B API key is configured. Use \u001b[1m`wandb login --relogin`\u001b[0m to force relogin\n",
      "\u001b[34m\u001b[1mwandb\u001b[0m: \u001b[33mWARNING\u001b[0m If you're specifying your api key in code, ensure this code is not shared publicly.\n",
      "\u001b[34m\u001b[1mwandb\u001b[0m: \u001b[33mWARNING\u001b[0m Consider setting the WANDB_API_KEY environment variable, or running `wandb login` from the command line.\n",
      "\u001b[34m\u001b[1mwandb\u001b[0m: Appending key for api.wandb.ai to your netrc file: /root/.netrc\n"
     ]
    },
    {
     "data": {
      "text/plain": [
       "True"
      ]
     },
     "execution_count": 17,
     "metadata": {},
     "output_type": "execute_result"
    }
   ],
   "source": [
    "import wandb\n",
    "\n",
    "wandb.login(key=\"3b6a39543333ed99129ca04698a32714e7f91fc4\")\n",
    "#wandb.login(key=[3b6a39543333ed99129ca04698a32714e7f91fc4])"
   ]
  },
  {
   "cell_type": "code",
   "execution_count": 18,
   "id": "87903b95",
   "metadata": {
    "execution": {
     "iopub.execute_input": "2023-05-28T22:49:08.967893Z",
     "iopub.status.busy": "2023-05-28T22:49:08.967370Z",
     "iopub.status.idle": "2023-05-28T22:49:39.676229Z",
     "shell.execute_reply": "2023-05-28T22:49:39.675283Z"
    },
    "papermill": {
     "duration": 30.750082,
     "end_time": "2023-05-28T22:49:39.694133",
     "exception": false,
     "start_time": "2023-05-28T22:49:08.944051",
     "status": "completed"
    },
    "tags": []
   },
   "outputs": [
    {
     "data": {
      "application/vnd.jupyter.widget-view+json": {
       "model_id": "f4a6c6801e1d4ee18139b67ebe6c53d0",
       "version_major": 2,
       "version_minor": 0
      },
      "text/plain": [
       "Downloading (…)lve/main/config.json:   0%|          | 0.00/665 [00:00<?, ?B/s]"
      ]
     },
     "metadata": {},
     "output_type": "display_data"
    },
    {
     "data": {
      "application/vnd.jupyter.widget-view+json": {
       "model_id": "dbf1dff9a4b24c02b0a7a04c56ba40fa",
       "version_major": 2,
       "version_minor": 0
      },
      "text/plain": [
       "Downloading (…)olve/main/vocab.json:   0%|          | 0.00/1.04M [00:00<?, ?B/s]"
      ]
     },
     "metadata": {},
     "output_type": "display_data"
    },
    {
     "data": {
      "application/vnd.jupyter.widget-view+json": {
       "model_id": "579bcc982b6248538666e37b84f44e61",
       "version_major": 2,
       "version_minor": 0
      },
      "text/plain": [
       "Downloading (…)olve/main/merges.txt:   0%|          | 0.00/456k [00:00<?, ?B/s]"
      ]
     },
     "metadata": {},
     "output_type": "display_data"
    },
    {
     "data": {
      "application/vnd.jupyter.widget-view+json": {
       "model_id": "6e56744a65ee441eaa3d2c105becca20",
       "version_major": 2,
       "version_minor": 0
      },
      "text/plain": [
       "Downloading (…)/main/tokenizer.json:   0%|          | 0.00/1.36M [00:00<?, ?B/s]"
      ]
     },
     "metadata": {},
     "output_type": "display_data"
    },
    {
     "name": "stderr",
     "output_type": "stream",
     "text": [
      "/opt/conda/lib/python3.10/site-packages/tensorflow_io/python/ops/__init__.py:98: UserWarning: unable to load libtensorflow_io_plugins.so: unable to open file: libtensorflow_io_plugins.so, from paths: ['/opt/conda/lib/python3.10/site-packages/tensorflow_io/python/ops/libtensorflow_io_plugins.so']\n",
      "caused by: ['/opt/conda/lib/python3.10/site-packages/tensorflow_io/python/ops/libtensorflow_io_plugins.so: undefined symbol: _ZN3tsl6StatusC1EN10tensorflow5error4CodeESt17basic_string_viewIcSt11char_traitsIcEENS_14SourceLocationE']\n",
      "  warnings.warn(f\"unable to load libtensorflow_io_plugins.so: {e}\")\n",
      "/opt/conda/lib/python3.10/site-packages/tensorflow_io/python/ops/__init__.py:104: UserWarning: file system plugins are not loaded: unable to open file: libtensorflow_io.so, from paths: ['/opt/conda/lib/python3.10/site-packages/tensorflow_io/python/ops/libtensorflow_io.so']\n",
      "caused by: ['/opt/conda/lib/python3.10/site-packages/tensorflow_io/python/ops/libtensorflow_io.so: undefined symbol: _ZTVN10tensorflow13GcsFileSystemE']\n",
      "  warnings.warn(f\"file system plugins are not loaded: {e}\")\n"
     ]
    },
    {
     "data": {
      "application/vnd.jupyter.widget-view+json": {
       "model_id": "7eb3abc7769d41b8a05462f04e0ce6d5",
       "version_major": 2,
       "version_minor": 0
      },
      "text/plain": [
       "Downloading pytorch_model.bin:   0%|          | 0.00/548M [00:00<?, ?B/s]"
      ]
     },
     "metadata": {},
     "output_type": "display_data"
    },
    {
     "data": {
      "text/plain": [
       "GPT2LMHeadModel(\n",
       "  (transformer): GPT2Model(\n",
       "    (wte): Embedding(50257, 768)\n",
       "    (wpe): Embedding(1024, 768)\n",
       "    (drop): Dropout(p=0.1, inplace=False)\n",
       "    (h): ModuleList(\n",
       "      (0-11): 12 x GPT2Block(\n",
       "        (ln_1): LayerNorm((768,), eps=1e-05, elementwise_affine=True)\n",
       "        (attn): GPT2Attention(\n",
       "          (c_attn): Conv1D()\n",
       "          (c_proj): Conv1D()\n",
       "          (attn_dropout): Dropout(p=0.1, inplace=False)\n",
       "          (resid_dropout): Dropout(p=0.1, inplace=False)\n",
       "        )\n",
       "        (ln_2): LayerNorm((768,), eps=1e-05, elementwise_affine=True)\n",
       "        (mlp): GPT2MLP(\n",
       "          (c_fc): Conv1D()\n",
       "          (c_proj): Conv1D()\n",
       "          (act): NewGELUActivation()\n",
       "          (dropout): Dropout(p=0.1, inplace=False)\n",
       "        )\n",
       "      )\n",
       "    )\n",
       "    (ln_f): LayerNorm((768,), eps=1e-05, elementwise_affine=True)\n",
       "  )\n",
       "  (lm_head): Linear(in_features=768, out_features=50257, bias=False)\n",
       ")"
      ]
     },
     "execution_count": 18,
     "metadata": {},
     "output_type": "execute_result"
    }
   ],
   "source": [
    "import torch\n",
    "from transformers import AutoTokenizer, AutoModelForCausalLM\n",
    "\n",
    "device = torch.device('cuda' if torch.cuda.is_available() else 'cpu')\n",
    "\n",
    "model_id = 'gpt2'\n",
    "\n",
    "tokenizer = AutoTokenizer.from_pretrained(model_id)\n",
    "model = AutoModelForCausalLM.from_pretrained(model_id, device_map=\"auto\")\n",
    "\n",
    "\n",
    "model.to(device)"
   ]
  },
  {
   "cell_type": "code",
   "execution_count": null,
   "id": "1f554662",
   "metadata": {
    "papermill": {
     "duration": 0.01624,
     "end_time": "2023-05-28T22:49:39.726517",
     "exception": false,
     "start_time": "2023-05-28T22:49:39.710277",
     "status": "completed"
    },
    "tags": []
   },
   "outputs": [],
   "source": []
  },
  {
   "cell_type": "code",
   "execution_count": 19,
   "id": "6459afa0",
   "metadata": {
    "execution": {
     "iopub.execute_input": "2023-05-28T22:49:39.760605Z",
     "iopub.status.busy": "2023-05-28T22:49:39.759822Z",
     "iopub.status.idle": "2023-05-28T22:49:39.764873Z",
     "shell.execute_reply": "2023-05-28T22:49:39.763773Z"
    },
    "papermill": {
     "duration": 0.024243,
     "end_time": "2023-05-28T22:49:39.767149",
     "exception": false,
     "start_time": "2023-05-28T22:49:39.742906",
     "status": "completed"
    },
    "tags": []
   },
   "outputs": [],
   "source": [
    "tokenizer.pad_token = tokenizer.eos_token"
   ]
  },
  {
   "cell_type": "code",
   "execution_count": 20,
   "id": "c2208979",
   "metadata": {
    "execution": {
     "iopub.execute_input": "2023-05-28T22:49:39.801015Z",
     "iopub.status.busy": "2023-05-28T22:49:39.800672Z",
     "iopub.status.idle": "2023-05-28T22:49:39.810251Z",
     "shell.execute_reply": "2023-05-28T22:49:39.809316Z"
    },
    "papermill": {
     "duration": 0.02923,
     "end_time": "2023-05-28T22:49:39.812289",
     "exception": false,
     "start_time": "2023-05-28T22:49:39.783059",
     "status": "completed"
    },
    "tags": []
   },
   "outputs": [],
   "source": [
    "def build_strings(d_c_struct, eos_token):\n",
    "    strings = []\n",
    "    for conversation in d_c_struct:\n",
    "        strings.append(eos_token.join(conversation))\n",
    "    return strings\n",
    "\n",
    "test = build_strings(dialog_context_struct, tokenizer.eos_token)"
   ]
  },
  {
   "cell_type": "code",
   "execution_count": 21,
   "id": "a75707d7",
   "metadata": {
    "execution": {
     "iopub.execute_input": "2023-05-28T22:49:39.847399Z",
     "iopub.status.busy": "2023-05-28T22:49:39.846562Z",
     "iopub.status.idle": "2023-05-28T22:49:40.033851Z",
     "shell.execute_reply": "2023-05-28T22:49:40.032739Z"
    },
    "papermill": {
     "duration": 0.207892,
     "end_time": "2023-05-28T22:49:40.036579",
     "exception": false,
     "start_time": "2023-05-28T22:49:39.828687",
     "status": "completed"
    },
    "tags": []
   },
   "outputs": [],
   "source": [
    "# Split dataset into train and valid sets, then build the dialog context strings\n",
    "\n",
    "training_data_str = build_strings(test, tokenizer.eos_token)\n",
    "validation_data_str = build_strings(valid, tokenizer.eos_token)\n"
   ]
  },
  {
   "cell_type": "markdown",
   "id": "c5c3dcd2",
   "metadata": {
    "papermill": {
     "duration": 0.016764,
     "end_time": "2023-05-28T22:49:40.070932",
     "exception": false,
     "start_time": "2023-05-28T22:49:40.054168",
     "status": "completed"
    },
    "tags": []
   },
   "source": [
    "Building the fine tuning dataset"
   ]
  },
  {
   "cell_type": "code",
   "execution_count": 22,
   "id": "f82fee94",
   "metadata": {
    "execution": {
     "iopub.execute_input": "2023-05-28T22:49:40.107030Z",
     "iopub.status.busy": "2023-05-28T22:49:40.106097Z",
     "iopub.status.idle": "2023-05-28T22:49:40.708739Z",
     "shell.execute_reply": "2023-05-28T22:49:40.707729Z"
    },
    "papermill": {
     "duration": 0.623338,
     "end_time": "2023-05-28T22:49:40.711312",
     "exception": false,
     "start_time": "2023-05-28T22:49:40.087974",
     "status": "completed"
    },
    "tags": []
   },
   "outputs": [],
   "source": [
    "from datasets import Dataset\n",
    "\n",
    "train_data = Dataset.from_dict({'text': training_data_str})\n",
    "valid_data = Dataset.from_dict({'text': validation_data_str})"
   ]
  },
  {
   "cell_type": "code",
   "execution_count": 23,
   "id": "c221c22e",
   "metadata": {
    "execution": {
     "iopub.execute_input": "2023-05-28T22:49:40.747054Z",
     "iopub.status.busy": "2023-05-28T22:49:40.746237Z",
     "iopub.status.idle": "2023-05-28T22:49:40.751479Z",
     "shell.execute_reply": "2023-05-28T22:49:40.750509Z"
    },
    "papermill": {
     "duration": 0.025484,
     "end_time": "2023-05-28T22:49:40.753624",
     "exception": false,
     "start_time": "2023-05-28T22:49:40.728140",
     "status": "completed"
    },
    "tags": []
   },
   "outputs": [],
   "source": [
    "from datasets import DatasetDict\n",
    "\n",
    "data = DatasetDict()\n",
    "data['train'] = train_data\n",
    "data['validation'] = valid_data\n",
    "data['test'] = valid_data"
   ]
  },
  {
   "cell_type": "markdown",
   "id": "2d094095",
   "metadata": {
    "papermill": {
     "duration": 0.017268,
     "end_time": "2023-05-28T22:49:40.787399",
     "exception": false,
     "start_time": "2023-05-28T22:49:40.770131",
     "status": "completed"
    },
    "tags": []
   },
   "source": [
    "Tokenization of inputs"
   ]
  },
  {
   "cell_type": "code",
   "execution_count": 24,
   "id": "865ae895",
   "metadata": {
    "execution": {
     "iopub.execute_input": "2023-05-28T22:49:40.824050Z",
     "iopub.status.busy": "2023-05-28T22:49:40.823315Z",
     "iopub.status.idle": "2023-05-28T22:49:57.038299Z",
     "shell.execute_reply": "2023-05-28T22:49:57.037308Z"
    },
    "papermill": {
     "duration": 16.23553,
     "end_time": "2023-05-28T22:49:57.040460",
     "exception": false,
     "start_time": "2023-05-28T22:49:40.804930",
     "status": "completed"
    },
    "tags": []
   },
   "outputs": [
    {
     "data": {
      "application/vnd.jupyter.widget-view+json": {
       "model_id": "ae01176175ea4b789f640d9c28fb7050",
       "version_major": 2,
       "version_minor": 0
      },
      "text/plain": [
       "  0%|          | 0/4 [00:00<?, ?ba/s]"
      ]
     },
     "metadata": {},
     "output_type": "display_data"
    },
    {
     "data": {
      "application/vnd.jupyter.widget-view+json": {
       "model_id": "0b6856717d6548ce957bca052e572e51",
       "version_major": 2,
       "version_minor": 0
      },
      "text/plain": [
       "  0%|          | 0/1 [00:00<?, ?ba/s]"
      ]
     },
     "metadata": {},
     "output_type": "display_data"
    },
    {
     "data": {
      "application/vnd.jupyter.widget-view+json": {
       "model_id": "a74e9d65e7274ebdbe6d2028655a31bc",
       "version_major": 2,
       "version_minor": 0
      },
      "text/plain": [
       "  0%|          | 0/1 [00:00<?, ?ba/s]"
      ]
     },
     "metadata": {},
     "output_type": "display_data"
    }
   ],
   "source": [
    "def tokenize_function(examples):\n",
    "    input_encodings = tokenizer(examples[\"text\"], padding=True, truncation=True)\n",
    "    sample = {\n",
    "        'input_ids': input_encodings.input_ids\n",
    "    }\n",
    "    return sample\n",
    "\n",
    "tokenized_data = data.map(tokenize_function, batched=True)\n",
    "\n",
    "# TO DO: CACHE THIS tokenized_data SO YOU DON'T HAVE TO RECALCULATE IT EVERY TIME !!!"
   ]
  },
  {
   "cell_type": "code",
   "execution_count": 25,
   "id": "0d67997e",
   "metadata": {
    "execution": {
     "iopub.execute_input": "2023-05-28T22:49:57.076223Z",
     "iopub.status.busy": "2023-05-28T22:49:57.074744Z",
     "iopub.status.idle": "2023-05-28T22:49:57.090601Z",
     "shell.execute_reply": "2023-05-28T22:49:57.089771Z"
    },
    "papermill": {
     "duration": 0.035355,
     "end_time": "2023-05-28T22:49:57.092833",
     "exception": false,
     "start_time": "2023-05-28T22:49:57.057478",
     "status": "completed"
    },
    "tags": []
   },
   "outputs": [],
   "source": [
    "from transformers import DataCollatorForLanguageModeling\n",
    "\n",
    "data_collator = DataCollatorForLanguageModeling(tokenizer, mlm=False)"
   ]
  },
  {
   "cell_type": "code",
   "execution_count": 26,
   "id": "93656f2e",
   "metadata": {
    "execution": {
     "iopub.execute_input": "2023-05-28T22:49:57.127457Z",
     "iopub.status.busy": "2023-05-28T22:49:57.127150Z",
     "iopub.status.idle": "2023-05-28T22:49:57.147796Z",
     "shell.execute_reply": "2023-05-28T22:49:57.146830Z"
    },
    "papermill": {
     "duration": 0.040546,
     "end_time": "2023-05-28T22:49:57.149955",
     "exception": false,
     "start_time": "2023-05-28T22:49:57.109409",
     "status": "completed"
    },
    "tags": []
   },
   "outputs": [],
   "source": [
    "from transformers import TrainingArguments\n",
    "\n",
    "training_args = TrainingArguments(\n",
    "    \"ash_ketchum\", \n",
    "    #evaluation_strategy=\"steps\",\n",
    "    per_device_train_batch_size=2,\n",
    "    per_device_eval_batch_size=2,\n",
    "    gradient_accumulation_steps=2,\n",
    "    num_train_epochs=7,\n",
    "    learning_rate=6.25e-5,\n",
    "    lr_scheduler_type=\"linear\",\n",
    "    save_strategy=\"no\"\n",
    "    \n",
    ")"
   ]
  },
  {
   "cell_type": "code",
   "execution_count": 27,
   "id": "759ccb56",
   "metadata": {
    "execution": {
     "iopub.execute_input": "2023-05-28T22:49:57.185673Z",
     "iopub.status.busy": "2023-05-28T22:49:57.184811Z",
     "iopub.status.idle": "2023-05-28T22:49:57.191369Z",
     "shell.execute_reply": "2023-05-28T22:49:57.190511Z"
    },
    "papermill": {
     "duration": 0.026442,
     "end_time": "2023-05-28T22:49:57.193578",
     "exception": false,
     "start_time": "2023-05-28T22:49:57.167136",
     "status": "completed"
    },
    "tags": []
   },
   "outputs": [],
   "source": [
    "optim = torch.optim.AdamW(model.parameters(),lr=5e-5)\n",
    "scheduler = torch.optim.lr_scheduler.CosineAnnealingWarmRestarts(optim,20,eta_min=1e-7)"
   ]
  },
  {
   "cell_type": "code",
   "execution_count": 28,
   "id": "a4630442",
   "metadata": {
    "execution": {
     "iopub.execute_input": "2023-05-28T22:49:57.228304Z",
     "iopub.status.busy": "2023-05-28T22:49:57.227988Z",
     "iopub.status.idle": "2023-05-28T22:50:09.662974Z",
     "shell.execute_reply": "2023-05-28T22:50:09.661708Z"
    },
    "papermill": {
     "duration": 12.455328,
     "end_time": "2023-05-28T22:50:09.665662",
     "exception": false,
     "start_time": "2023-05-28T22:49:57.210334",
     "status": "completed"
    },
    "tags": []
   },
   "outputs": [
    {
     "name": "stdout",
     "output_type": "stream",
     "text": [
      "huggingface/tokenizers: The current process just got forked, after parallelism has already been used. Disabling parallelism to avoid deadlocks...\n",
      "To disable this warning, you can either:\n",
      "\t- Avoid using `tokenizers` before the fork if possible\n",
      "\t- Explicitly set the environment variable TOKENIZERS_PARALLELISM=(true | false)\n",
      "Requirement already satisfied: accelerate in /opt/conda/lib/python3.10/site-packages (0.12.0)\r\n",
      "Collecting accelerate\r\n",
      "  Downloading accelerate-0.19.0-py3-none-any.whl (219 kB)\r\n",
      "\u001b[2K     \u001b[90m━━━━━━━━━━━━━━━━━━━━━━━━━━━━━━━━━━━━━━━\u001b[0m \u001b[32m219.1/219.1 kB\u001b[0m \u001b[31m5.3 MB/s\u001b[0m eta \u001b[36m0:00:00\u001b[0m\r\n",
      "\u001b[?25hRequirement already satisfied: numpy>=1.17 in /opt/conda/lib/python3.10/site-packages (from accelerate) (1.23.5)\r\n",
      "Requirement already satisfied: packaging>=20.0 in /opt/conda/lib/python3.10/site-packages (from accelerate) (21.3)\r\n",
      "Requirement already satisfied: psutil in /opt/conda/lib/python3.10/site-packages (from accelerate) (5.9.3)\r\n",
      "Requirement already satisfied: pyyaml in /opt/conda/lib/python3.10/site-packages (from accelerate) (5.4.1)\r\n",
      "Requirement already satisfied: torch>=1.6.0 in /opt/conda/lib/python3.10/site-packages (from accelerate) (2.0.0)\r\n",
      "Requirement already satisfied: pyparsing!=3.0.5,>=2.0.2 in /opt/conda/lib/python3.10/site-packages (from packaging>=20.0->accelerate) (3.0.9)\r\n",
      "Requirement already satisfied: filelock in /opt/conda/lib/python3.10/site-packages (from torch>=1.6.0->accelerate) (3.12.0)\r\n",
      "Requirement already satisfied: typing-extensions in /opt/conda/lib/python3.10/site-packages (from torch>=1.6.0->accelerate) (4.5.0)\r\n",
      "Requirement already satisfied: sympy in /opt/conda/lib/python3.10/site-packages (from torch>=1.6.0->accelerate) (1.12)\r\n",
      "Requirement already satisfied: networkx in /opt/conda/lib/python3.10/site-packages (from torch>=1.6.0->accelerate) (3.1)\r\n",
      "Requirement already satisfied: jinja2 in /opt/conda/lib/python3.10/site-packages (from torch>=1.6.0->accelerate) (3.1.2)\r\n",
      "Requirement already satisfied: MarkupSafe>=2.0 in /opt/conda/lib/python3.10/site-packages (from jinja2->torch>=1.6.0->accelerate) (2.1.2)\r\n",
      "Requirement already satisfied: mpmath>=0.19 in /opt/conda/lib/python3.10/site-packages (from sympy->torch>=1.6.0->accelerate) (1.3.0)\r\n",
      "Installing collected packages: accelerate\r\n",
      "  Attempting uninstall: accelerate\r\n",
      "    Found existing installation: accelerate 0.12.0\r\n",
      "    Uninstalling accelerate-0.12.0:\r\n",
      "      Successfully uninstalled accelerate-0.12.0\r\n",
      "Successfully installed accelerate-0.19.0\r\n",
      "\u001b[33mWARNING: Running pip as the 'root' user can result in broken permissions and conflicting behaviour with the system package manager. It is recommended to use a virtual environment instead: https://pip.pypa.io/warnings/venv\u001b[0m\u001b[33m\r\n",
      "\u001b[0m"
     ]
    }
   ],
   "source": [
    "!pip install -U accelerate"
   ]
  },
  {
   "cell_type": "code",
   "execution_count": 29,
   "id": "e999c002",
   "metadata": {
    "execution": {
     "iopub.execute_input": "2023-05-28T22:50:09.703197Z",
     "iopub.status.busy": "2023-05-28T22:50:09.702736Z",
     "iopub.status.idle": "2023-05-28T22:50:09.707589Z",
     "shell.execute_reply": "2023-05-28T22:50:09.706632Z"
    },
    "papermill": {
     "duration": 0.025883,
     "end_time": "2023-05-28T22:50:09.709576",
     "exception": false,
     "start_time": "2023-05-28T22:50:09.683693",
     "status": "completed"
    },
    "tags": []
   },
   "outputs": [],
   "source": [
    "#!pip -q install transformers==4.22.2"
   ]
  },
  {
   "cell_type": "code",
   "execution_count": 30,
   "id": "2edabf9b",
   "metadata": {
    "execution": {
     "iopub.execute_input": "2023-05-28T22:50:09.746781Z",
     "iopub.status.busy": "2023-05-28T22:50:09.746495Z",
     "iopub.status.idle": "2023-05-28T22:50:09.780998Z",
     "shell.execute_reply": "2023-05-28T22:50:09.780087Z"
    },
    "papermill": {
     "duration": 0.055564,
     "end_time": "2023-05-28T22:50:09.783449",
     "exception": false,
     "start_time": "2023-05-28T22:50:09.727885",
     "status": "completed"
    },
    "tags": []
   },
   "outputs": [],
   "source": [
    "from transformers import TrainingArguments, Trainer\n",
    "\n",
    "trainer = Trainer(\n",
    "    model=model, \n",
    "    args=training_args, \n",
    "    train_dataset=tokenized_data['train'], \n",
    "    eval_dataset=tokenized_data['validation'],\n",
    "    data_collator=data_collator,\n",
    ")"
   ]
  },
  {
   "cell_type": "code",
   "execution_count": 31,
   "id": "bf4b51a5",
   "metadata": {
    "execution": {
     "iopub.execute_input": "2023-05-28T22:50:09.820570Z",
     "iopub.status.busy": "2023-05-28T22:50:09.819760Z",
     "iopub.status.idle": "2023-05-28T22:50:10.589329Z",
     "shell.execute_reply": "2023-05-28T22:50:10.588378Z"
    },
    "papermill": {
     "duration": 0.790697,
     "end_time": "2023-05-28T22:50:10.591560",
     "exception": false,
     "start_time": "2023-05-28T22:50:09.800863",
     "status": "completed"
    },
    "tags": []
   },
   "outputs": [
    {
     "data": {
      "text/plain": [
       "76"
      ]
     },
     "execution_count": 31,
     "metadata": {},
     "output_type": "execute_result"
    }
   ],
   "source": [
    "import gc\n",
    "torch.cuda.empty_cache()\n",
    "gc.collect()"
   ]
  },
  {
   "cell_type": "code",
   "execution_count": 32,
   "id": "66bc611e",
   "metadata": {
    "execution": {
     "iopub.execute_input": "2023-05-28T22:50:10.628785Z",
     "iopub.status.busy": "2023-05-28T22:50:10.628122Z",
     "iopub.status.idle": "2023-05-29T00:18:06.420020Z",
     "shell.execute_reply": "2023-05-29T00:18:06.419158Z"
    },
    "papermill": {
     "duration": 5275.813226,
     "end_time": "2023-05-29T00:18:06.422760",
     "exception": false,
     "start_time": "2023-05-28T22:50:10.609534",
     "status": "completed"
    },
    "tags": []
   },
   "outputs": [
    {
     "name": "stderr",
     "output_type": "stream",
     "text": [
      "The following columns in the training set don't have a corresponding argument in `GPT2LMHeadModel.forward` and have been ignored: text. If text are not expected by `GPT2LMHeadModel.forward`,  you can safely ignore this message.\n",
      "/opt/conda/lib/python3.10/site-packages/transformers/optimization.py:306: FutureWarning: This implementation of AdamW is deprecated and will be removed in a future version. Use the PyTorch implementation torch.optim.AdamW instead, or set `no_deprecation_warning=True` to disable this warning\n",
      "  warnings.warn(\n",
      "***** Running training *****\n",
      "  Num examples = 4000\n",
      "  Num Epochs = 7\n",
      "  Instantaneous batch size per device = 2\n",
      "  Total train batch size (w. parallel, distributed & accumulation) = 4\n",
      "  Gradient Accumulation steps = 2\n",
      "  Total optimization steps = 7000\n",
      "Automatic Weights & Biases logging enabled, to disable set os.environ[\"WANDB_DISABLED\"] = \"true\"\n",
      "\u001b[34m\u001b[1mwandb\u001b[0m: Currently logged in as: \u001b[33mmsanjaysivakumar\u001b[0m (\u001b[33mmercurial\u001b[0m). Use \u001b[1m`wandb login --relogin`\u001b[0m to force relogin\n",
      "\u001b[34m\u001b[1mwandb\u001b[0m: Tracking run with wandb version 0.15.3\n",
      "\u001b[34m\u001b[1mwandb\u001b[0m: Run data is saved locally in \u001b[35m\u001b[1m/kaggle/working/wandb/run-20230528_225012-z7dujujm\u001b[0m\n",
      "\u001b[34m\u001b[1mwandb\u001b[0m: Run \u001b[1m`wandb offline`\u001b[0m to turn off syncing.\n",
      "\u001b[34m\u001b[1mwandb\u001b[0m: Syncing run \u001b[33mash_ketchum\u001b[0m\n",
      "\u001b[34m\u001b[1mwandb\u001b[0m: ⭐️ View project at \u001b[34m\u001b[4mhttps://wandb.ai/mercurial/huggingface\u001b[0m\n",
      "\u001b[34m\u001b[1mwandb\u001b[0m: 🚀 View run at \u001b[34m\u001b[4mhttps://wandb.ai/mercurial/huggingface/runs/z7dujujm\u001b[0m\n",
      "You're using a GPT2TokenizerFast tokenizer. Please note that with a fast tokenizer, using the `__call__` method is faster than using a method to encode the text followed by a call to the `pad` method to get a padded encoding.\n"
     ]
    },
    {
     "data": {
      "text/html": [
       "\n",
       "    <div>\n",
       "      \n",
       "      <progress value='7000' max='7000' style='width:300px; height:20px; vertical-align: middle;'></progress>\n",
       "      [7000/7000 1:27:20, Epoch 7/7]\n",
       "    </div>\n",
       "    <table border=\"1\" class=\"dataframe\">\n",
       "  <thead>\n",
       " <tr style=\"text-align: left;\">\n",
       "      <th>Step</th>\n",
       "      <th>Training Loss</th>\n",
       "    </tr>\n",
       "  </thead>\n",
       "  <tbody>\n",
       "    <tr>\n",
       "      <td>500</td>\n",
       "      <td>1.552200</td>\n",
       "    </tr>\n",
       "    <tr>\n",
       "      <td>1000</td>\n",
       "      <td>1.203200</td>\n",
       "    </tr>\n",
       "    <tr>\n",
       "      <td>1500</td>\n",
       "      <td>1.107700</td>\n",
       "    </tr>\n",
       "    <tr>\n",
       "      <td>2000</td>\n",
       "      <td>1.067400</td>\n",
       "    </tr>\n",
       "    <tr>\n",
       "      <td>2500</td>\n",
       "      <td>1.020600</td>\n",
       "    </tr>\n",
       "    <tr>\n",
       "      <td>3000</td>\n",
       "      <td>0.999700</td>\n",
       "    </tr>\n",
       "    <tr>\n",
       "      <td>3500</td>\n",
       "      <td>0.971200</td>\n",
       "    </tr>\n",
       "    <tr>\n",
       "      <td>4000</td>\n",
       "      <td>0.960100</td>\n",
       "    </tr>\n",
       "    <tr>\n",
       "      <td>4500</td>\n",
       "      <td>0.940500</td>\n",
       "    </tr>\n",
       "    <tr>\n",
       "      <td>5000</td>\n",
       "      <td>0.931500</td>\n",
       "    </tr>\n",
       "    <tr>\n",
       "      <td>5500</td>\n",
       "      <td>0.914000</td>\n",
       "    </tr>\n",
       "    <tr>\n",
       "      <td>6000</td>\n",
       "      <td>0.915200</td>\n",
       "    </tr>\n",
       "    <tr>\n",
       "      <td>6500</td>\n",
       "      <td>0.902700</td>\n",
       "    </tr>\n",
       "    <tr>\n",
       "      <td>7000</td>\n",
       "      <td>0.899500</td>\n",
       "    </tr>\n",
       "  </tbody>\n",
       "</table><p>"
      ],
      "text/plain": [
       "<IPython.core.display.HTML object>"
      ]
     },
     "metadata": {},
     "output_type": "display_data"
    },
    {
     "name": "stderr",
     "output_type": "stream",
     "text": [
      "\n",
      "\n",
      "Training completed. Do not forget to share your model on huggingface.co/models =)\n",
      "\n",
      "\n"
     ]
    },
    {
     "data": {
      "text/plain": [
       "TrainOutput(global_step=7000, training_loss=1.0275461948939733, metrics={'train_runtime': 5273.8227, 'train_samples_per_second': 5.309, 'train_steps_per_second': 1.327, 'total_flos': 1.4632353792e+16, 'train_loss': 1.0275461948939733, 'epoch': 7.0})"
      ]
     },
     "execution_count": 32,
     "metadata": {},
     "output_type": "execute_result"
    }
   ],
   "source": [
    "import gc\n",
    "torch.cuda.empty_cache()\n",
    "gc.collect()\n",
    "torch.cuda.empty_cache()\n",
    "gc.collect()\n",
    "torch.cuda.empty_cache()\n",
    "gc.collect()\n",
    "trainer.train()"
   ]
  },
  {
   "cell_type": "code",
   "execution_count": 33,
   "id": "0998b55d",
   "metadata": {
    "execution": {
     "iopub.execute_input": "2023-05-29T00:18:06.478883Z",
     "iopub.status.busy": "2023-05-29T00:18:06.478434Z",
     "iopub.status.idle": "2023-05-29T00:18:07.494786Z",
     "shell.execute_reply": "2023-05-29T00:18:07.493540Z"
    },
    "papermill": {
     "duration": 1.046591,
     "end_time": "2023-05-29T00:18:07.497110",
     "exception": false,
     "start_time": "2023-05-29T00:18:06.450519",
     "status": "completed"
    },
    "tags": []
   },
   "outputs": [
    {
     "name": "stderr",
     "output_type": "stream",
     "text": [
      "tokenizer config file saved in persona_chat_fine_tuning_2023_05_29_00_18_06/tokenizer_config.json\n",
      "Special tokens file saved in persona_chat_fine_tuning_2023_05_29_00_18_06/special_tokens_map.json\n",
      "Configuration saved in persona_chat_fine_tuning_2023_05_29_00_18_06/config.json\n",
      "Model weights saved in persona_chat_fine_tuning_2023_05_29_00_18_06/pytorch_model.bin\n"
     ]
    },
    {
     "name": "stdout",
     "output_type": "stream",
     "text": [
      "Checkpoint saved at: 'persona_chat_fine_tuning_2023_05_29_00_18_06'\n"
     ]
    }
   ],
   "source": [
    "from datetime import datetime\n",
    "\n",
    "checkpoint_path = f\"persona_chat_fine_tuning_{datetime.now().strftime('%Y_%m_%d_%H_%M_%S')}\"\n",
    "tokenizer.save_pretrained(checkpoint_path)\n",
    "model.save_pretrained(checkpoint_path)\n",
    "print(f\"Checkpoint saved at: \\'{checkpoint_path}\\'\")"
   ]
  },
  {
   "cell_type": "code",
   "execution_count": 34,
   "id": "74022593",
   "metadata": {
    "execution": {
     "iopub.execute_input": "2023-05-29T00:18:07.539159Z",
     "iopub.status.busy": "2023-05-29T00:18:07.538861Z",
     "iopub.status.idle": "2023-05-29T00:18:36.377761Z",
     "shell.execute_reply": "2023-05-29T00:18:36.376632Z"
    },
    "papermill": {
     "duration": 28.863031,
     "end_time": "2023-05-29T00:18:36.380296",
     "exception": false,
     "start_time": "2023-05-29T00:18:07.517265",
     "status": "completed"
    },
    "tags": []
   },
   "outputs": [
    {
     "name": "stdout",
     "output_type": "stream",
     "text": [
      "huggingface/tokenizers: The current process just got forked, after parallelism has already been used. Disabling parallelism to avoid deadlocks...\n",
      "To disable this warning, you can either:\n",
      "\t- Avoid using `tokenizers` before the fork if possible\n",
      "\t- Explicitly set the environment variable TOKENIZERS_PARALLELISM=(true | false)\n",
      "  adding: kaggle/working/ (stored 0%)\r\n",
      "  adding: kaggle/working/persona_chat_fine_tuning_2023_05_29_00_18_06/ (stored 0%)\r\n",
      "  adding: kaggle/working/persona_chat_fine_tuning_2023_05_29_00_18_06/special_tokens_map.json (deflated 60%)\r\n",
      "  adding: kaggle/working/persona_chat_fine_tuning_2023_05_29_00_18_06/pytorch_model.bin (deflated 16%)\r\n",
      "  adding: kaggle/working/persona_chat_fine_tuning_2023_05_29_00_18_06/tokenizer.json (deflated 72%)\r\n",
      "  adding: kaggle/working/persona_chat_fine_tuning_2023_05_29_00_18_06/config.json (deflated 52%)\r\n",
      "  adding: kaggle/working/persona_chat_fine_tuning_2023_05_29_00_18_06/vocab.json (deflated 59%)\r\n",
      "  adding: kaggle/working/persona_chat_fine_tuning_2023_05_29_00_18_06/merges.txt (deflated 53%)\r\n",
      "  adding: kaggle/working/persona_chat_fine_tuning_2023_05_29_00_18_06/tokenizer_config.json (deflated 41%)\r\n",
      "  adding: kaggle/working/ash_ketchum/ (stored 0%)\r\n",
      "  adding: kaggle/working/ash_ketchum/runs/ (stored 0%)\r\n",
      "  adding: kaggle/working/ash_ketchum/runs/May28_22-49-57_6ba3405fdee9/ (stored 0%)\r\n",
      "  adding: kaggle/working/ash_ketchum/runs/May28_22-49-57_6ba3405fdee9/events.out.tfevents.1685314212.6ba3405fdee9.23.0 (deflated 60%)\r\n",
      "  adding: kaggle/working/ash_ketchum/runs/May28_22-49-57_6ba3405fdee9/1685314212.6133065/ (stored 0%)\r\n",
      "  adding: kaggle/working/ash_ketchum/runs/May28_22-49-57_6ba3405fdee9/1685314212.6133065/events.out.tfevents.1685314212.6ba3405fdee9.23.1 (deflated 62%)\r\n",
      "  adding: kaggle/working/wandb/ (stored 0%)\r\n",
      "  adding: kaggle/working/wandb/latest-run/ (stored 0%)\r\n",
      "  adding: kaggle/working/wandb/latest-run/tmp/ (stored 0%)\r\n",
      "  adding: kaggle/working/wandb/latest-run/tmp/code/ (stored 0%)\r\n",
      "  adding: kaggle/working/wandb/latest-run/logs/ (stored 0%)\r\n",
      "  adding: kaggle/working/wandb/latest-run/logs/debug.log (deflated 67%)\r\n",
      "  adding: kaggle/working/wandb/latest-run/logs/debug-internal.log (deflated 96%)\r\n",
      "  adding: kaggle/working/wandb/latest-run/files/ (stored 0%)\r\n",
      "  adding: kaggle/working/wandb/latest-run/files/output.log (deflated 56%)\r\n",
      "  adding: kaggle/working/wandb/latest-run/files/wandb-summary.json (deflated 63%)\r\n",
      "  adding: kaggle/working/wandb/latest-run/files/config.yaml (deflated 92%)\r\n",
      "  adding: kaggle/working/wandb/latest-run/files/conda-environment.yaml (deflated 66%)\r\n",
      "  adding: kaggle/working/wandb/latest-run/files/wandb-metadata.json (deflated 58%)\r\n",
      "  adding: kaggle/working/wandb/latest-run/files/requirements.txt (deflated 58%)\r\n",
      "  adding: kaggle/working/wandb/latest-run/run-z7dujujm.wandb\r\n",
      "\tzip warning:  file size changed while zipping /kaggle/working/wandb/latest-run/run-z7dujujm.wandb\r\n",
      " (deflated 63%)\r\n",
      "  adding: kaggle/working/wandb/debug.log (deflated 67%)\r\n",
      "  adding: kaggle/working/wandb/run-20230528_225012-z7dujujm/ (stored 0%)\r\n",
      "  adding: kaggle/working/wandb/run-20230528_225012-z7dujujm/tmp/ (stored 0%)\r\n",
      "  adding: kaggle/working/wandb/run-20230528_225012-z7dujujm/tmp/code/ (stored 0%)\r\n",
      "  adding: kaggle/working/wandb/run-20230528_225012-z7dujujm/logs/ (stored 0%)\r\n",
      "  adding: kaggle/working/wandb/run-20230528_225012-z7dujujm/logs/debug.log (deflated 67%)\r\n",
      "  adding: kaggle/working/wandb/run-20230528_225012-z7dujujm/logs/debug-internal.log (deflated 96%)\r\n",
      "  adding: kaggle/working/wandb/run-20230528_225012-z7dujujm/files/ (stored 0%)\r\n",
      "  adding: kaggle/working/wandb/run-20230528_225012-z7dujujm/files/output.log (deflated 56%)\r\n",
      "  adding: kaggle/working/wandb/run-20230528_225012-z7dujujm/files/wandb-summary.json (deflated 63%)\r\n",
      "  adding: kaggle/working/wandb/run-20230528_225012-z7dujujm/files/config.yaml (deflated 92%)\r\n",
      "  adding: kaggle/working/wandb/run-20230528_225012-z7dujujm/files/conda-environment.yaml (deflated 66%)\r\n",
      "  adding: kaggle/working/wandb/run-20230528_225012-z7dujujm/files/wandb-metadata.json (deflated 58%)\r\n",
      "  adding: kaggle/working/wandb/run-20230528_225012-z7dujujm/files/requirements.txt (deflated 58%)\r\n",
      "  adding: kaggle/working/wandb/run-20230528_225012-z7dujujm/run-z7dujujm.wandb (deflated 63%)\r\n",
      "  adding: kaggle/working/wandb/debug-internal.log (deflated 96%)\r\n",
      "  adding: kaggle/working/__notebook__.ipynb (deflated 82%)\r\n"
     ]
    }
   ],
   "source": [
    "!zip -r /kaggle/working/output.zip /kaggle/working/"
   ]
  },
  {
   "cell_type": "code",
   "execution_count": 35,
   "id": "a2088f59",
   "metadata": {
    "execution": {
     "iopub.execute_input": "2023-05-29T00:18:36.423798Z",
     "iopub.status.busy": "2023-05-29T00:18:36.422825Z",
     "iopub.status.idle": "2023-05-29T00:18:36.430312Z",
     "shell.execute_reply": "2023-05-29T00:18:36.429362Z"
    },
    "papermill": {
     "duration": 0.030941,
     "end_time": "2023-05-29T00:18:36.432327",
     "exception": false,
     "start_time": "2023-05-29T00:18:36.401386",
     "status": "completed"
    },
    "tags": []
   },
   "outputs": [
    {
     "data": {
      "text/html": [
       "<a href='output.zip' target='_blank'>output.zip</a><br>"
      ],
      "text/plain": [
       "/kaggle/working/output.zip"
      ]
     },
     "execution_count": 35,
     "metadata": {},
     "output_type": "execute_result"
    }
   ],
   "source": [
    "from IPython.display import FileLink \n",
    "FileLink(r'output.zip')"
   ]
  },
  {
   "cell_type": "code",
   "execution_count": 36,
   "id": "a9ce4147",
   "metadata": {
    "execution": {
     "iopub.execute_input": "2023-05-29T00:18:36.474505Z",
     "iopub.status.busy": "2023-05-29T00:18:36.474052Z",
     "iopub.status.idle": "2023-05-29T00:18:36.478028Z",
     "shell.execute_reply": "2023-05-29T00:18:36.477175Z"
    },
    "papermill": {
     "duration": 0.027418,
     "end_time": "2023-05-29T00:18:36.480113",
     "exception": false,
     "start_time": "2023-05-29T00:18:36.452695",
     "status": "completed"
    },
    "tags": []
   },
   "outputs": [],
   "source": [
    "#print(len(tokenized_data['train']))\n",
    "#print(len(tokenized_data['validation']))\n"
   ]
  },
  {
   "cell_type": "markdown",
   "id": "3b600a6a",
   "metadata": {
    "papermill": {
     "duration": 0.020021,
     "end_time": "2023-05-29T00:18:36.520310",
     "exception": false,
     "start_time": "2023-05-29T00:18:36.500289",
     "status": "completed"
    },
    "tags": []
   },
   "source": [
    "The resulting sentence is not the same we find in the dataset! Maybe we could find a way to fine-tune this BERT encoder, using as batches this sequences, and as expected label, the sentence it should instead find. For example, in this case, the index should have been 4.\n",
    "The problem of building this dataset is that we need to specifically build it by looking at the label... or maybe find a way to reduce it to a classification problem? Find the better frase between 7? I don't know..."
   ]
  },
  {
   "cell_type": "markdown",
   "id": "24e45427",
   "metadata": {
    "papermill": {
     "duration": 0.020008,
     "end_time": "2023-05-29T00:18:36.560740",
     "exception": false,
     "start_time": "2023-05-29T00:18:36.540732",
     "status": "completed"
    },
    "tags": []
   },
   "source": [
    "Part 1: Knowledge Attention\n",
    "\n",
    "We need to use an attention dot-product mechanism to decide which sentence should be used to generate the next utterance. To do so, each sentence is encoded INDIPENDENTLY with a transformer encoder, and THE SAME TRANSFORMER IS USED TO ENCODE THE DIALOGUE CONTEXT x.\n",
    "We then perform standard dot-product attention between the sentence candidates and the dialogue context."
   ]
  },
  {
   "cell_type": "markdown",
   "id": "6464a4d1",
   "metadata": {
    "papermill": {
     "duration": 0.020111,
     "end_time": "2023-05-29T00:18:36.601573",
     "exception": false,
     "start_time": "2023-05-29T00:18:36.581462",
     "status": "completed"
    },
    "tags": []
   },
   "source": [
    "## Transformer transfer learning\n"
   ]
  },
  {
   "cell_type": "markdown",
   "id": "efda6ba2",
   "metadata": {
    "papermill": {
     "duration": 0.02001,
     "end_time": "2023-05-29T00:18:36.642154",
     "exception": false,
     "start_time": "2023-05-29T00:18:36.622144",
     "status": "completed"
    },
    "tags": []
   },
   "source": [
    "## Transformer"
   ]
  },
  {
   "cell_type": "markdown",
   "id": "c49f5c93",
   "metadata": {
    "papermill": {
     "duration": 0.020522,
     "end_time": "2023-05-29T00:18:36.683549",
     "exception": false,
     "start_time": "2023-05-29T00:18:36.663027",
     "status": "completed"
    },
    "tags": []
   },
   "source": [
    "### Embedding and positional encoding\n"
   ]
  },
  {
   "cell_type": "markdown",
   "id": "bc32bca2",
   "metadata": {
    "papermill": {
     "duration": 0.020313,
     "end_time": "2023-05-29T00:18:36.724546",
     "exception": false,
     "start_time": "2023-05-29T00:18:36.704233",
     "status": "completed"
    },
    "tags": []
   },
   "source": [
    "### Embedding and positional encoding of input"
   ]
  },
  {
   "cell_type": "markdown",
   "id": "da608654",
   "metadata": {
    "papermill": {
     "duration": 0.020181,
     "end_time": "2023-05-29T00:18:36.765162",
     "exception": false,
     "start_time": "2023-05-29T00:18:36.744981",
     "status": "completed"
    },
    "tags": []
   },
   "source": [
    "### Transformer encoder"
   ]
  },
  {
   "cell_type": "markdown",
   "id": "d1f53802",
   "metadata": {
    "papermill": {
     "duration": 0.020426,
     "end_time": "2023-05-29T00:18:36.806001",
     "exception": false,
     "start_time": "2023-05-29T00:18:36.785575",
     "status": "completed"
    },
    "tags": []
   },
   "source": [
    "Due to the fact that we are working with knowledge extracted from Wikipedia, we can use a Wikipedia pre-trained embedding such as glove-wiki-gigaword-50. Let's see how the embedding of wikipedia compares with the embedding of the conversational text of the dataset."
   ]
  },
  {
   "cell_type": "markdown",
   "id": "7734edea",
   "metadata": {
    "papermill": {
     "duration": 0.020378,
     "end_time": "2023-05-29T00:18:36.846733",
     "exception": false,
     "start_time": "2023-05-29T00:18:36.826355",
     "status": "completed"
    },
    "tags": []
   },
   "source": [
    "### Comparing the two embeddings"
   ]
  },
  {
   "cell_type": "markdown",
   "id": "085f391c",
   "metadata": {
    "papermill": {
     "duration": 0.020163,
     "end_time": "2023-05-29T00:18:36.887204",
     "exception": false,
     "start_time": "2023-05-29T00:18:36.867041",
     "status": "completed"
    },
    "tags": []
   },
   "source": [
    "#### Obviously the conversational embedding yealds better results with terms such as 'haha', 'lol', while more complex words like 'axolotl' don't even exist in our conversational vocabulary."
   ]
  }
 ],
 "metadata": {
  "kernelspec": {
   "display_name": "Python 3",
   "language": "python",
   "name": "python3"
  },
  "language_info": {
   "codemirror_mode": {
    "name": "ipython",
    "version": 3
   },
   "file_extension": ".py",
   "mimetype": "text/x-python",
   "name": "python",
   "nbconvert_exporter": "python",
   "pygments_lexer": "ipython3",
   "version": "3.10.10"
  },
  "papermill": {
   "default_parameters": {},
   "duration": 5457.836442,
   "end_time": "2023-05-29T00:18:39.846583",
   "environment_variables": {},
   "exception": null,
   "input_path": "__notebook__.ipynb",
   "output_path": "__notebook__.ipynb",
   "parameters": {},
   "start_time": "2023-05-28T22:47:42.010141",
   "version": "2.4.0"
  },
  "widgets": {
   "application/vnd.jupyter.widget-state+json": {
    "state": {
     "04696070f4eb42cdaa44490b54398c3f": {
      "model_module": "@jupyter-widgets/controls",
      "model_module_version": "1.5.0",
      "model_name": "ProgressStyleModel",
      "state": {
       "_model_module": "@jupyter-widgets/controls",
       "_model_module_version": "1.5.0",
       "_model_name": "ProgressStyleModel",
       "_view_count": null,
       "_view_module": "@jupyter-widgets/base",
       "_view_module_version": "1.2.0",
       "_view_name": "StyleView",
       "bar_color": null,
       "description_width": ""
      }
     },
     "05fc8abb4ae949cf9431121a6399ce3d": {
      "model_module": "@jupyter-widgets/base",
      "model_module_version": "1.2.0",
      "model_name": "LayoutModel",
      "state": {
       "_model_module": "@jupyter-widgets/base",
       "_model_module_version": "1.2.0",
       "_model_name": "LayoutModel",
       "_view_count": null,
       "_view_module": "@jupyter-widgets/base",
       "_view_module_version": "1.2.0",
       "_view_name": "LayoutView",
       "align_content": null,
       "align_items": null,
       "align_self": null,
       "border": null,
       "bottom": null,
       "display": null,
       "flex": null,
       "flex_flow": null,
       "grid_area": null,
       "grid_auto_columns": null,
       "grid_auto_flow": null,
       "grid_auto_rows": null,
       "grid_column": null,
       "grid_gap": null,
       "grid_row": null,
       "grid_template_areas": null,
       "grid_template_columns": null,
       "grid_template_rows": null,
       "height": null,
       "justify_content": null,
       "justify_items": null,
       "left": null,
       "margin": null,
       "max_height": null,
       "max_width": null,
       "min_height": null,
       "min_width": null,
       "object_fit": null,
       "object_position": null,
       "order": null,
       "overflow": null,
       "overflow_x": null,
       "overflow_y": null,
       "padding": null,
       "right": null,
       "top": null,
       "visibility": null,
       "width": null
      }
     },
     "0b6856717d6548ce957bca052e572e51": {
      "model_module": "@jupyter-widgets/controls",
      "model_module_version": "1.5.0",
      "model_name": "HBoxModel",
      "state": {
       "_dom_classes": [],
       "_model_module": "@jupyter-widgets/controls",
       "_model_module_version": "1.5.0",
       "_model_name": "HBoxModel",
       "_view_count": null,
       "_view_module": "@jupyter-widgets/controls",
       "_view_module_version": "1.5.0",
       "_view_name": "HBoxView",
       "box_style": "",
       "children": [
        "IPY_MODEL_c367c140d8b84bdf82c2446a405f810c",
        "IPY_MODEL_b3f33b1ba04744a0b60da84c1e70aa04",
        "IPY_MODEL_1d3f7bc0dc31411ca9389abb95552791"
       ],
       "layout": "IPY_MODEL_8e6fadf443b5416fa97ebc309d4fb4d2"
      }
     },
     "124f53f700ac4cfeb1ddc6bf85baf873": {
      "model_module": "@jupyter-widgets/base",
      "model_module_version": "1.2.0",
      "model_name": "LayoutModel",
      "state": {
       "_model_module": "@jupyter-widgets/base",
       "_model_module_version": "1.2.0",
       "_model_name": "LayoutModel",
       "_view_count": null,
       "_view_module": "@jupyter-widgets/base",
       "_view_module_version": "1.2.0",
       "_view_name": "LayoutView",
       "align_content": null,
       "align_items": null,
       "align_self": null,
       "border": null,
       "bottom": null,
       "display": null,
       "flex": null,
       "flex_flow": null,
       "grid_area": null,
       "grid_auto_columns": null,
       "grid_auto_flow": null,
       "grid_auto_rows": null,
       "grid_column": null,
       "grid_gap": null,
       "grid_row": null,
       "grid_template_areas": null,
       "grid_template_columns": null,
       "grid_template_rows": null,
       "height": null,
       "justify_content": null,
       "justify_items": null,
       "left": null,
       "margin": null,
       "max_height": null,
       "max_width": null,
       "min_height": null,
       "min_width": null,
       "object_fit": null,
       "object_position": null,
       "order": null,
       "overflow": null,
       "overflow_x": null,
       "overflow_y": null,
       "padding": null,
       "right": null,
       "top": null,
       "visibility": null,
       "width": null
      }
     },
     "173349d7803f46578711b4de3cd04874": {
      "model_module": "@jupyter-widgets/controls",
      "model_module_version": "1.5.0",
      "model_name": "FloatProgressModel",
      "state": {
       "_dom_classes": [],
       "_model_module": "@jupyter-widgets/controls",
       "_model_module_version": "1.5.0",
       "_model_name": "FloatProgressModel",
       "_view_count": null,
       "_view_module": "@jupyter-widgets/controls",
       "_view_module_version": "1.5.0",
       "_view_name": "ProgressView",
       "bar_style": "success",
       "description": "",
       "description_tooltip": null,
       "layout": "IPY_MODEL_05fc8abb4ae949cf9431121a6399ce3d",
       "max": 1355256.0,
       "min": 0.0,
       "orientation": "horizontal",
       "style": "IPY_MODEL_f10b45de7f83436cbbac44246562086f",
       "value": 1355256.0
      }
     },
     "189061ad71964eec859bbecfe6c71fcc": {
      "model_module": "@jupyter-widgets/base",
      "model_module_version": "1.2.0",
      "model_name": "LayoutModel",
      "state": {
       "_model_module": "@jupyter-widgets/base",
       "_model_module_version": "1.2.0",
       "_model_name": "LayoutModel",
       "_view_count": null,
       "_view_module": "@jupyter-widgets/base",
       "_view_module_version": "1.2.0",
       "_view_name": "LayoutView",
       "align_content": null,
       "align_items": null,
       "align_self": null,
       "border": null,
       "bottom": null,
       "display": null,
       "flex": null,
       "flex_flow": null,
       "grid_area": null,
       "grid_auto_columns": null,
       "grid_auto_flow": null,
       "grid_auto_rows": null,
       "grid_column": null,
       "grid_gap": null,
       "grid_row": null,
       "grid_template_areas": null,
       "grid_template_columns": null,
       "grid_template_rows": null,
       "height": null,
       "justify_content": null,
       "justify_items": null,
       "left": null,
       "margin": null,
       "max_height": null,
       "max_width": null,
       "min_height": null,
       "min_width": null,
       "object_fit": null,
       "object_position": null,
       "order": null,
       "overflow": null,
       "overflow_x": null,
       "overflow_y": null,
       "padding": null,
       "right": null,
       "top": null,
       "visibility": null,
       "width": null
      }
     },
     "1d148fdb64044df0936e48b2660d1d2c": {
      "model_module": "@jupyter-widgets/controls",
      "model_module_version": "1.5.0",
      "model_name": "ProgressStyleModel",
      "state": {
       "_model_module": "@jupyter-widgets/controls",
       "_model_module_version": "1.5.0",
       "_model_name": "ProgressStyleModel",
       "_view_count": null,
       "_view_module": "@jupyter-widgets/base",
       "_view_module_version": "1.2.0",
       "_view_name": "StyleView",
       "bar_color": null,
       "description_width": ""
      }
     },
     "1d3f7bc0dc31411ca9389abb95552791": {
      "model_module": "@jupyter-widgets/controls",
      "model_module_version": "1.5.0",
      "model_name": "HTMLModel",
      "state": {
       "_dom_classes": [],
       "_model_module": "@jupyter-widgets/controls",
       "_model_module_version": "1.5.0",
       "_model_name": "HTMLModel",
       "_view_count": null,
       "_view_module": "@jupyter-widgets/controls",
       "_view_module_version": "1.5.0",
       "_view_name": "HTMLView",
       "description": "",
       "description_tooltip": null,
       "layout": "IPY_MODEL_28124943f50942b58ca05af67f46d9d5",
       "placeholder": "​",
       "style": "IPY_MODEL_3b96d7b2d9a343c78f05433254d176ec",
       "value": " 1/1 [00:00&lt;00:00,  2.01ba/s]"
      }
     },
     "1d6de2e7f7ab43349face5c78335b7a6": {
      "model_module": "@jupyter-widgets/base",
      "model_module_version": "1.2.0",
      "model_name": "LayoutModel",
      "state": {
       "_model_module": "@jupyter-widgets/base",
       "_model_module_version": "1.2.0",
       "_model_name": "LayoutModel",
       "_view_count": null,
       "_view_module": "@jupyter-widgets/base",
       "_view_module_version": "1.2.0",
       "_view_name": "LayoutView",
       "align_content": null,
       "align_items": null,
       "align_self": null,
       "border": null,
       "bottom": null,
       "display": null,
       "flex": null,
       "flex_flow": null,
       "grid_area": null,
       "grid_auto_columns": null,
       "grid_auto_flow": null,
       "grid_auto_rows": null,
       "grid_column": null,
       "grid_gap": null,
       "grid_row": null,
       "grid_template_areas": null,
       "grid_template_columns": null,
       "grid_template_rows": null,
       "height": null,
       "justify_content": null,
       "justify_items": null,
       "left": null,
       "margin": null,
       "max_height": null,
       "max_width": null,
       "min_height": null,
       "min_width": null,
       "object_fit": null,
       "object_position": null,
       "order": null,
       "overflow": null,
       "overflow_x": null,
       "overflow_y": null,
       "padding": null,
       "right": null,
       "top": null,
       "visibility": null,
       "width": null
      }
     },
     "1e673ac693b0483697a75bb5aff88ab9": {
      "model_module": "@jupyter-widgets/controls",
      "model_module_version": "1.5.0",
      "model_name": "ProgressStyleModel",
      "state": {
       "_model_module": "@jupyter-widgets/controls",
       "_model_module_version": "1.5.0",
       "_model_name": "ProgressStyleModel",
       "_view_count": null,
       "_view_module": "@jupyter-widgets/base",
       "_view_module_version": "1.2.0",
       "_view_name": "StyleView",
       "bar_color": null,
       "description_width": ""
      }
     },
     "1fbf3c9f842b48559a14bba638386a90": {
      "model_module": "@jupyter-widgets/controls",
      "model_module_version": "1.5.0",
      "model_name": "ProgressStyleModel",
      "state": {
       "_model_module": "@jupyter-widgets/controls",
       "_model_module_version": "1.5.0",
       "_model_name": "ProgressStyleModel",
       "_view_count": null,
       "_view_module": "@jupyter-widgets/base",
       "_view_module_version": "1.2.0",
       "_view_name": "StyleView",
       "bar_color": null,
       "description_width": ""
      }
     },
     "214318624db14f9b9f22e492002601f0": {
      "model_module": "@jupyter-widgets/controls",
      "model_module_version": "1.5.0",
      "model_name": "DescriptionStyleModel",
      "state": {
       "_model_module": "@jupyter-widgets/controls",
       "_model_module_version": "1.5.0",
       "_model_name": "DescriptionStyleModel",
       "_view_count": null,
       "_view_module": "@jupyter-widgets/base",
       "_view_module_version": "1.2.0",
       "_view_name": "StyleView",
       "description_width": ""
      }
     },
     "22368056089b45d6ada690f3088d84d5": {
      "model_module": "@jupyter-widgets/base",
      "model_module_version": "1.2.0",
      "model_name": "LayoutModel",
      "state": {
       "_model_module": "@jupyter-widgets/base",
       "_model_module_version": "1.2.0",
       "_model_name": "LayoutModel",
       "_view_count": null,
       "_view_module": "@jupyter-widgets/base",
       "_view_module_version": "1.2.0",
       "_view_name": "LayoutView",
       "align_content": null,
       "align_items": null,
       "align_self": null,
       "border": null,
       "bottom": null,
       "display": null,
       "flex": null,
       "flex_flow": null,
       "grid_area": null,
       "grid_auto_columns": null,
       "grid_auto_flow": null,
       "grid_auto_rows": null,
       "grid_column": null,
       "grid_gap": null,
       "grid_row": null,
       "grid_template_areas": null,
       "grid_template_columns": null,
       "grid_template_rows": null,
       "height": null,
       "justify_content": null,
       "justify_items": null,
       "left": null,
       "margin": null,
       "max_height": null,
       "max_width": null,
       "min_height": null,
       "min_width": null,
       "object_fit": null,
       "object_position": null,
       "order": null,
       "overflow": null,
       "overflow_x": null,
       "overflow_y": null,
       "padding": null,
       "right": null,
       "top": null,
       "visibility": null,
       "width": null
      }
     },
     "28124943f50942b58ca05af67f46d9d5": {
      "model_module": "@jupyter-widgets/base",
      "model_module_version": "1.2.0",
      "model_name": "LayoutModel",
      "state": {
       "_model_module": "@jupyter-widgets/base",
       "_model_module_version": "1.2.0",
       "_model_name": "LayoutModel",
       "_view_count": null,
       "_view_module": "@jupyter-widgets/base",
       "_view_module_version": "1.2.0",
       "_view_name": "LayoutView",
       "align_content": null,
       "align_items": null,
       "align_self": null,
       "border": null,
       "bottom": null,
       "display": null,
       "flex": null,
       "flex_flow": null,
       "grid_area": null,
       "grid_auto_columns": null,
       "grid_auto_flow": null,
       "grid_auto_rows": null,
       "grid_column": null,
       "grid_gap": null,
       "grid_row": null,
       "grid_template_areas": null,
       "grid_template_columns": null,
       "grid_template_rows": null,
       "height": null,
       "justify_content": null,
       "justify_items": null,
       "left": null,
       "margin": null,
       "max_height": null,
       "max_width": null,
       "min_height": null,
       "min_width": null,
       "object_fit": null,
       "object_position": null,
       "order": null,
       "overflow": null,
       "overflow_x": null,
       "overflow_y": null,
       "padding": null,
       "right": null,
       "top": null,
       "visibility": null,
       "width": null
      }
     },
     "28827428475f40ba902cc08333753179": {
      "model_module": "@jupyter-widgets/controls",
      "model_module_version": "1.5.0",
      "model_name": "HTMLModel",
      "state": {
       "_dom_classes": [],
       "_model_module": "@jupyter-widgets/controls",
       "_model_module_version": "1.5.0",
       "_model_name": "HTMLModel",
       "_view_count": null,
       "_view_module": "@jupyter-widgets/controls",
       "_view_module_version": "1.5.0",
       "_view_name": "HTMLView",
       "description": "",
       "description_tooltip": null,
       "layout": "IPY_MODEL_66323d62224c477389d5b138b3e2f077",
       "placeholder": "​",
       "style": "IPY_MODEL_ef0ae326470a4a95ab4d56104732e713",
       "value": " 456k/456k [00:00&lt;00:00, 29.9MB/s]"
      }
     },
     "2c748e2ed17d4ee8a030141d20fa6109": {
      "model_module": "@jupyter-widgets/controls",
      "model_module_version": "1.5.0",
      "model_name": "DescriptionStyleModel",
      "state": {
       "_model_module": "@jupyter-widgets/controls",
       "_model_module_version": "1.5.0",
       "_model_name": "DescriptionStyleModel",
       "_view_count": null,
       "_view_module": "@jupyter-widgets/base",
       "_view_module_version": "1.2.0",
       "_view_name": "StyleView",
       "description_width": ""
      }
     },
     "2d23b414e8564d90b99ae558ce09d752": {
      "model_module": "@jupyter-widgets/base",
      "model_module_version": "1.2.0",
      "model_name": "LayoutModel",
      "state": {
       "_model_module": "@jupyter-widgets/base",
       "_model_module_version": "1.2.0",
       "_model_name": "LayoutModel",
       "_view_count": null,
       "_view_module": "@jupyter-widgets/base",
       "_view_module_version": "1.2.0",
       "_view_name": "LayoutView",
       "align_content": null,
       "align_items": null,
       "align_self": null,
       "border": null,
       "bottom": null,
       "display": null,
       "flex": null,
       "flex_flow": null,
       "grid_area": null,
       "grid_auto_columns": null,
       "grid_auto_flow": null,
       "grid_auto_rows": null,
       "grid_column": null,
       "grid_gap": null,
       "grid_row": null,
       "grid_template_areas": null,
       "grid_template_columns": null,
       "grid_template_rows": null,
       "height": null,
       "justify_content": null,
       "justify_items": null,
       "left": null,
       "margin": null,
       "max_height": null,
       "max_width": null,
       "min_height": null,
       "min_width": null,
       "object_fit": null,
       "object_position": null,
       "order": null,
       "overflow": null,
       "overflow_x": null,
       "overflow_y": null,
       "padding": null,
       "right": null,
       "top": null,
       "visibility": null,
       "width": null
      }
     },
     "30195346d2a24a99a7927e66f8aeead3": {
      "model_module": "@jupyter-widgets/base",
      "model_module_version": "1.2.0",
      "model_name": "LayoutModel",
      "state": {
       "_model_module": "@jupyter-widgets/base",
       "_model_module_version": "1.2.0",
       "_model_name": "LayoutModel",
       "_view_count": null,
       "_view_module": "@jupyter-widgets/base",
       "_view_module_version": "1.2.0",
       "_view_name": "LayoutView",
       "align_content": null,
       "align_items": null,
       "align_self": null,
       "border": null,
       "bottom": null,
       "display": null,
       "flex": null,
       "flex_flow": null,
       "grid_area": null,
       "grid_auto_columns": null,
       "grid_auto_flow": null,
       "grid_auto_rows": null,
       "grid_column": null,
       "grid_gap": null,
       "grid_row": null,
       "grid_template_areas": null,
       "grid_template_columns": null,
       "grid_template_rows": null,
       "height": null,
       "justify_content": null,
       "justify_items": null,
       "left": null,
       "margin": null,
       "max_height": null,
       "max_width": null,
       "min_height": null,
       "min_width": null,
       "object_fit": null,
       "object_position": null,
       "order": null,
       "overflow": null,
       "overflow_x": null,
       "overflow_y": null,
       "padding": null,
       "right": null,
       "top": null,
       "visibility": null,
       "width": null
      }
     },
     "305e1870ddab44be9ceed42e719a2519": {
      "model_module": "@jupyter-widgets/controls",
      "model_module_version": "1.5.0",
      "model_name": "FloatProgressModel",
      "state": {
       "_dom_classes": [],
       "_model_module": "@jupyter-widgets/controls",
       "_model_module_version": "1.5.0",
       "_model_name": "FloatProgressModel",
       "_view_count": null,
       "_view_module": "@jupyter-widgets/controls",
       "_view_module_version": "1.5.0",
       "_view_name": "ProgressView",
       "bar_style": "success",
       "description": "",
       "description_tooltip": null,
       "layout": "IPY_MODEL_2d23b414e8564d90b99ae558ce09d752",
       "max": 4.0,
       "min": 0.0,
       "orientation": "horizontal",
       "style": "IPY_MODEL_1fbf3c9f842b48559a14bba638386a90",
       "value": 4.0
      }
     },
     "3932fca164c64621819b3262ce5ac97b": {
      "model_module": "@jupyter-widgets/controls",
      "model_module_version": "1.5.0",
      "model_name": "HTMLModel",
      "state": {
       "_dom_classes": [],
       "_model_module": "@jupyter-widgets/controls",
       "_model_module_version": "1.5.0",
       "_model_name": "HTMLModel",
       "_view_count": null,
       "_view_module": "@jupyter-widgets/controls",
       "_view_module_version": "1.5.0",
       "_view_name": "HTMLView",
       "description": "",
       "description_tooltip": null,
       "layout": "IPY_MODEL_fe1b8bec916f4e7f9dc426e7c6f632df",
       "placeholder": "​",
       "style": "IPY_MODEL_7d7c21d08aeb4bc09438e9b815bf16bc",
       "value": "Downloading (…)lve/main/config.json: 100%"
      }
     },
     "3b96d7b2d9a343c78f05433254d176ec": {
      "model_module": "@jupyter-widgets/controls",
      "model_module_version": "1.5.0",
      "model_name": "DescriptionStyleModel",
      "state": {
       "_model_module": "@jupyter-widgets/controls",
       "_model_module_version": "1.5.0",
       "_model_name": "DescriptionStyleModel",
       "_view_count": null,
       "_view_module": "@jupyter-widgets/base",
       "_view_module_version": "1.2.0",
       "_view_name": "StyleView",
       "description_width": ""
      }
     },
     "3c4c6a4f42d84579b227fbcab75f9fcb": {
      "model_module": "@jupyter-widgets/controls",
      "model_module_version": "1.5.0",
      "model_name": "ProgressStyleModel",
      "state": {
       "_model_module": "@jupyter-widgets/controls",
       "_model_module_version": "1.5.0",
       "_model_name": "ProgressStyleModel",
       "_view_count": null,
       "_view_module": "@jupyter-widgets/base",
       "_view_module_version": "1.2.0",
       "_view_name": "StyleView",
       "bar_color": null,
       "description_width": ""
      }
     },
     "40b48fe903b84daeb32cc164b4acf519": {
      "model_module": "@jupyter-widgets/controls",
      "model_module_version": "1.5.0",
      "model_name": "HTMLModel",
      "state": {
       "_dom_classes": [],
       "_model_module": "@jupyter-widgets/controls",
       "_model_module_version": "1.5.0",
       "_model_name": "HTMLModel",
       "_view_count": null,
       "_view_module": "@jupyter-widgets/controls",
       "_view_module_version": "1.5.0",
       "_view_name": "HTMLView",
       "description": "",
       "description_tooltip": null,
       "layout": "IPY_MODEL_682aa502d2104dbab46fb39a2e456453",
       "placeholder": "​",
       "style": "IPY_MODEL_b98d69bde0994abbb56c2bf8418602e3",
       "value": "100%"
      }
     },
     "413e896c82c4441890f5ad51caa3688a": {
      "model_module": "@jupyter-widgets/controls",
      "model_module_version": "1.5.0",
      "model_name": "HTMLModel",
      "state": {
       "_dom_classes": [],
       "_model_module": "@jupyter-widgets/controls",
       "_model_module_version": "1.5.0",
       "_model_name": "HTMLModel",
       "_view_count": null,
       "_view_module": "@jupyter-widgets/controls",
       "_view_module_version": "1.5.0",
       "_view_name": "HTMLView",
       "description": "",
       "description_tooltip": null,
       "layout": "IPY_MODEL_abf21ab3d65e4cb3a2fbd7a2886b0712",
       "placeholder": "​",
       "style": "IPY_MODEL_49dbd869d9724d649ea46337739cfb12",
       "value": "Downloading (…)olve/main/merges.txt: 100%"
      }
     },
     "41a1acd6716a4413b85e50502d93380b": {
      "model_module": "@jupyter-widgets/controls",
      "model_module_version": "1.5.0",
      "model_name": "HTMLModel",
      "state": {
       "_dom_classes": [],
       "_model_module": "@jupyter-widgets/controls",
       "_model_module_version": "1.5.0",
       "_model_name": "HTMLModel",
       "_view_count": null,
       "_view_module": "@jupyter-widgets/controls",
       "_view_module_version": "1.5.0",
       "_view_name": "HTMLView",
       "description": "",
       "description_tooltip": null,
       "layout": "IPY_MODEL_736807cc43574d29a51584d565aee9a8",
       "placeholder": "​",
       "style": "IPY_MODEL_d5a05d9fa94441cdbfe862b70a5c4806",
       "value": " 665/665 [00:00&lt;00:00, 46.3kB/s]"
      }
     },
     "44d17e5fa4f54112b7cefed64ee3a8b3": {
      "model_module": "@jupyter-widgets/controls",
      "model_module_version": "1.5.0",
      "model_name": "HTMLModel",
      "state": {
       "_dom_classes": [],
       "_model_module": "@jupyter-widgets/controls",
       "_model_module_version": "1.5.0",
       "_model_name": "HTMLModel",
       "_view_count": null,
       "_view_module": "@jupyter-widgets/controls",
       "_view_module_version": "1.5.0",
       "_view_name": "HTMLView",
       "description": "",
       "description_tooltip": null,
       "layout": "IPY_MODEL_7fa7a7bfaf1f47d0bd4a863af1aef70a",
       "placeholder": "​",
       "style": "IPY_MODEL_2c748e2ed17d4ee8a030141d20fa6109",
       "value": "Downloading pytorch_model.bin: 100%"
      }
     },
     "49dbd869d9724d649ea46337739cfb12": {
      "model_module": "@jupyter-widgets/controls",
      "model_module_version": "1.5.0",
      "model_name": "DescriptionStyleModel",
      "state": {
       "_model_module": "@jupyter-widgets/controls",
       "_model_module_version": "1.5.0",
       "_model_name": "DescriptionStyleModel",
       "_view_count": null,
       "_view_module": "@jupyter-widgets/base",
       "_view_module_version": "1.2.0",
       "_view_name": "StyleView",
       "description_width": ""
      }
     },
     "4c62c9b001c2494dbf98356d94cbd40f": {
      "model_module": "@jupyter-widgets/controls",
      "model_module_version": "1.5.0",
      "model_name": "FloatProgressModel",
      "state": {
       "_dom_classes": [],
       "_model_module": "@jupyter-widgets/controls",
       "_model_module_version": "1.5.0",
       "_model_name": "FloatProgressModel",
       "_view_count": null,
       "_view_module": "@jupyter-widgets/controls",
       "_view_module_version": "1.5.0",
       "_view_name": "ProgressView",
       "bar_style": "success",
       "description": "",
       "description_tooltip": null,
       "layout": "IPY_MODEL_599730afc4e44a54a945cf11c1b9508f",
       "max": 1.0,
       "min": 0.0,
       "orientation": "horizontal",
       "style": "IPY_MODEL_1d148fdb64044df0936e48b2660d1d2c",
       "value": 1.0
      }
     },
     "4ec756fe75e84dfd9a766b8fcaf5c7c8": {
      "model_module": "@jupyter-widgets/controls",
      "model_module_version": "1.5.0",
      "model_name": "FloatProgressModel",
      "state": {
       "_dom_classes": [],
       "_model_module": "@jupyter-widgets/controls",
       "_model_module_version": "1.5.0",
       "_model_name": "FloatProgressModel",
       "_view_count": null,
       "_view_module": "@jupyter-widgets/controls",
       "_view_module_version": "1.5.0",
       "_view_name": "ProgressView",
       "bar_style": "success",
       "description": "",
       "description_tooltip": null,
       "layout": "IPY_MODEL_607fc8c086ab4aada3440b35c9b57abe",
       "max": 665.0,
       "min": 0.0,
       "orientation": "horizontal",
       "style": "IPY_MODEL_1e673ac693b0483697a75bb5aff88ab9",
       "value": 665.0
      }
     },
     "4efdf44ddb93414eb996de3a01030fed": {
      "model_module": "@jupyter-widgets/base",
      "model_module_version": "1.2.0",
      "model_name": "LayoutModel",
      "state": {
       "_model_module": "@jupyter-widgets/base",
       "_model_module_version": "1.2.0",
       "_model_name": "LayoutModel",
       "_view_count": null,
       "_view_module": "@jupyter-widgets/base",
       "_view_module_version": "1.2.0",
       "_view_name": "LayoutView",
       "align_content": null,
       "align_items": null,
       "align_self": null,
       "border": null,
       "bottom": null,
       "display": null,
       "flex": null,
       "flex_flow": null,
       "grid_area": null,
       "grid_auto_columns": null,
       "grid_auto_flow": null,
       "grid_auto_rows": null,
       "grid_column": null,
       "grid_gap": null,
       "grid_row": null,
       "grid_template_areas": null,
       "grid_template_columns": null,
       "grid_template_rows": null,
       "height": null,
       "justify_content": null,
       "justify_items": null,
       "left": null,
       "margin": null,
       "max_height": null,
       "max_width": null,
       "min_height": null,
       "min_width": null,
       "object_fit": null,
       "object_position": null,
       "order": null,
       "overflow": null,
       "overflow_x": null,
       "overflow_y": null,
       "padding": null,
       "right": null,
       "top": null,
       "visibility": null,
       "width": null
      }
     },
     "4fb6c974b59b40ca8701f1c019acf6c3": {
      "model_module": "@jupyter-widgets/controls",
      "model_module_version": "1.5.0",
      "model_name": "DescriptionStyleModel",
      "state": {
       "_model_module": "@jupyter-widgets/controls",
       "_model_module_version": "1.5.0",
       "_model_name": "DescriptionStyleModel",
       "_view_count": null,
       "_view_module": "@jupyter-widgets/base",
       "_view_module_version": "1.2.0",
       "_view_name": "StyleView",
       "description_width": ""
      }
     },
     "50affab27758412b9d473ad55c185ddc": {
      "model_module": "@jupyter-widgets/base",
      "model_module_version": "1.2.0",
      "model_name": "LayoutModel",
      "state": {
       "_model_module": "@jupyter-widgets/base",
       "_model_module_version": "1.2.0",
       "_model_name": "LayoutModel",
       "_view_count": null,
       "_view_module": "@jupyter-widgets/base",
       "_view_module_version": "1.2.0",
       "_view_name": "LayoutView",
       "align_content": null,
       "align_items": null,
       "align_self": null,
       "border": null,
       "bottom": null,
       "display": null,
       "flex": null,
       "flex_flow": null,
       "grid_area": null,
       "grid_auto_columns": null,
       "grid_auto_flow": null,
       "grid_auto_rows": null,
       "grid_column": null,
       "grid_gap": null,
       "grid_row": null,
       "grid_template_areas": null,
       "grid_template_columns": null,
       "grid_template_rows": null,
       "height": null,
       "justify_content": null,
       "justify_items": null,
       "left": null,
       "margin": null,
       "max_height": null,
       "max_width": null,
       "min_height": null,
       "min_width": null,
       "object_fit": null,
       "object_position": null,
       "order": null,
       "overflow": null,
       "overflow_x": null,
       "overflow_y": null,
       "padding": null,
       "right": null,
       "top": null,
       "visibility": null,
       "width": null
      }
     },
     "523544f9ec8245e09941bb7e6e4d2d45": {
      "model_module": "@jupyter-widgets/controls",
      "model_module_version": "1.5.0",
      "model_name": "DescriptionStyleModel",
      "state": {
       "_model_module": "@jupyter-widgets/controls",
       "_model_module_version": "1.5.0",
       "_model_name": "DescriptionStyleModel",
       "_view_count": null,
       "_view_module": "@jupyter-widgets/base",
       "_view_module_version": "1.2.0",
       "_view_name": "StyleView",
       "description_width": ""
      }
     },
     "563af302d8364398a2e0ea22c9a3c52a": {
      "model_module": "@jupyter-widgets/base",
      "model_module_version": "1.2.0",
      "model_name": "LayoutModel",
      "state": {
       "_model_module": "@jupyter-widgets/base",
       "_model_module_version": "1.2.0",
       "_model_name": "LayoutModel",
       "_view_count": null,
       "_view_module": "@jupyter-widgets/base",
       "_view_module_version": "1.2.0",
       "_view_name": "LayoutView",
       "align_content": null,
       "align_items": null,
       "align_self": null,
       "border": null,
       "bottom": null,
       "display": null,
       "flex": null,
       "flex_flow": null,
       "grid_area": null,
       "grid_auto_columns": null,
       "grid_auto_flow": null,
       "grid_auto_rows": null,
       "grid_column": null,
       "grid_gap": null,
       "grid_row": null,
       "grid_template_areas": null,
       "grid_template_columns": null,
       "grid_template_rows": null,
       "height": null,
       "justify_content": null,
       "justify_items": null,
       "left": null,
       "margin": null,
       "max_height": null,
       "max_width": null,
       "min_height": null,
       "min_width": null,
       "object_fit": null,
       "object_position": null,
       "order": null,
       "overflow": null,
       "overflow_x": null,
       "overflow_y": null,
       "padding": null,
       "right": null,
       "top": null,
       "visibility": null,
       "width": null
      }
     },
     "579bcc982b6248538666e37b84f44e61": {
      "model_module": "@jupyter-widgets/controls",
      "model_module_version": "1.5.0",
      "model_name": "HBoxModel",
      "state": {
       "_dom_classes": [],
       "_model_module": "@jupyter-widgets/controls",
       "_model_module_version": "1.5.0",
       "_model_name": "HBoxModel",
       "_view_count": null,
       "_view_module": "@jupyter-widgets/controls",
       "_view_module_version": "1.5.0",
       "_view_name": "HBoxView",
       "box_style": "",
       "children": [
        "IPY_MODEL_413e896c82c4441890f5ad51caa3688a",
        "IPY_MODEL_79ee4a393767467c8f626be07cee9d45",
        "IPY_MODEL_28827428475f40ba902cc08333753179"
       ],
       "layout": "IPY_MODEL_af3d4a9ca5c841b196a9b21cd3aa042b"
      }
     },
     "599730afc4e44a54a945cf11c1b9508f": {
      "model_module": "@jupyter-widgets/base",
      "model_module_version": "1.2.0",
      "model_name": "LayoutModel",
      "state": {
       "_model_module": "@jupyter-widgets/base",
       "_model_module_version": "1.2.0",
       "_model_name": "LayoutModel",
       "_view_count": null,
       "_view_module": "@jupyter-widgets/base",
       "_view_module_version": "1.2.0",
       "_view_name": "LayoutView",
       "align_content": null,
       "align_items": null,
       "align_self": null,
       "border": null,
       "bottom": null,
       "display": null,
       "flex": null,
       "flex_flow": null,
       "grid_area": null,
       "grid_auto_columns": null,
       "grid_auto_flow": null,
       "grid_auto_rows": null,
       "grid_column": null,
       "grid_gap": null,
       "grid_row": null,
       "grid_template_areas": null,
       "grid_template_columns": null,
       "grid_template_rows": null,
       "height": null,
       "justify_content": null,
       "justify_items": null,
       "left": null,
       "margin": null,
       "max_height": null,
       "max_width": null,
       "min_height": null,
       "min_width": null,
       "object_fit": null,
       "object_position": null,
       "order": null,
       "overflow": null,
       "overflow_x": null,
       "overflow_y": null,
       "padding": null,
       "right": null,
       "top": null,
       "visibility": null,
       "width": null
      }
     },
     "607fc8c086ab4aada3440b35c9b57abe": {
      "model_module": "@jupyter-widgets/base",
      "model_module_version": "1.2.0",
      "model_name": "LayoutModel",
      "state": {
       "_model_module": "@jupyter-widgets/base",
       "_model_module_version": "1.2.0",
       "_model_name": "LayoutModel",
       "_view_count": null,
       "_view_module": "@jupyter-widgets/base",
       "_view_module_version": "1.2.0",
       "_view_name": "LayoutView",
       "align_content": null,
       "align_items": null,
       "align_self": null,
       "border": null,
       "bottom": null,
       "display": null,
       "flex": null,
       "flex_flow": null,
       "grid_area": null,
       "grid_auto_columns": null,
       "grid_auto_flow": null,
       "grid_auto_rows": null,
       "grid_column": null,
       "grid_gap": null,
       "grid_row": null,
       "grid_template_areas": null,
       "grid_template_columns": null,
       "grid_template_rows": null,
       "height": null,
       "justify_content": null,
       "justify_items": null,
       "left": null,
       "margin": null,
       "max_height": null,
       "max_width": null,
       "min_height": null,
       "min_width": null,
       "object_fit": null,
       "object_position": null,
       "order": null,
       "overflow": null,
       "overflow_x": null,
       "overflow_y": null,
       "padding": null,
       "right": null,
       "top": null,
       "visibility": null,
       "width": null
      }
     },
     "66323d62224c477389d5b138b3e2f077": {
      "model_module": "@jupyter-widgets/base",
      "model_module_version": "1.2.0",
      "model_name": "LayoutModel",
      "state": {
       "_model_module": "@jupyter-widgets/base",
       "_model_module_version": "1.2.0",
       "_model_name": "LayoutModel",
       "_view_count": null,
       "_view_module": "@jupyter-widgets/base",
       "_view_module_version": "1.2.0",
       "_view_name": "LayoutView",
       "align_content": null,
       "align_items": null,
       "align_self": null,
       "border": null,
       "bottom": null,
       "display": null,
       "flex": null,
       "flex_flow": null,
       "grid_area": null,
       "grid_auto_columns": null,
       "grid_auto_flow": null,
       "grid_auto_rows": null,
       "grid_column": null,
       "grid_gap": null,
       "grid_row": null,
       "grid_template_areas": null,
       "grid_template_columns": null,
       "grid_template_rows": null,
       "height": null,
       "justify_content": null,
       "justify_items": null,
       "left": null,
       "margin": null,
       "max_height": null,
       "max_width": null,
       "min_height": null,
       "min_width": null,
       "object_fit": null,
       "object_position": null,
       "order": null,
       "overflow": null,
       "overflow_x": null,
       "overflow_y": null,
       "padding": null,
       "right": null,
       "top": null,
       "visibility": null,
       "width": null
      }
     },
     "680b3838d58d42d2b8b3c9cdc649e433": {
      "model_module": "@jupyter-widgets/controls",
      "model_module_version": "1.5.0",
      "model_name": "DescriptionStyleModel",
      "state": {
       "_model_module": "@jupyter-widgets/controls",
       "_model_module_version": "1.5.0",
       "_model_name": "DescriptionStyleModel",
       "_view_count": null,
       "_view_module": "@jupyter-widgets/base",
       "_view_module_version": "1.2.0",
       "_view_name": "StyleView",
       "description_width": ""
      }
     },
     "682aa502d2104dbab46fb39a2e456453": {
      "model_module": "@jupyter-widgets/base",
      "model_module_version": "1.2.0",
      "model_name": "LayoutModel",
      "state": {
       "_model_module": "@jupyter-widgets/base",
       "_model_module_version": "1.2.0",
       "_model_name": "LayoutModel",
       "_view_count": null,
       "_view_module": "@jupyter-widgets/base",
       "_view_module_version": "1.2.0",
       "_view_name": "LayoutView",
       "align_content": null,
       "align_items": null,
       "align_self": null,
       "border": null,
       "bottom": null,
       "display": null,
       "flex": null,
       "flex_flow": null,
       "grid_area": null,
       "grid_auto_columns": null,
       "grid_auto_flow": null,
       "grid_auto_rows": null,
       "grid_column": null,
       "grid_gap": null,
       "grid_row": null,
       "grid_template_areas": null,
       "grid_template_columns": null,
       "grid_template_rows": null,
       "height": null,
       "justify_content": null,
       "justify_items": null,
       "left": null,
       "margin": null,
       "max_height": null,
       "max_width": null,
       "min_height": null,
       "min_width": null,
       "object_fit": null,
       "object_position": null,
       "order": null,
       "overflow": null,
       "overflow_x": null,
       "overflow_y": null,
       "padding": null,
       "right": null,
       "top": null,
       "visibility": null,
       "width": null
      }
     },
     "6e56744a65ee441eaa3d2c105becca20": {
      "model_module": "@jupyter-widgets/controls",
      "model_module_version": "1.5.0",
      "model_name": "HBoxModel",
      "state": {
       "_dom_classes": [],
       "_model_module": "@jupyter-widgets/controls",
       "_model_module_version": "1.5.0",
       "_model_name": "HBoxModel",
       "_view_count": null,
       "_view_module": "@jupyter-widgets/controls",
       "_view_module_version": "1.5.0",
       "_view_name": "HBoxView",
       "box_style": "",
       "children": [
        "IPY_MODEL_755b9932c16a41a5bc4a86c378510d0d",
        "IPY_MODEL_173349d7803f46578711b4de3cd04874",
        "IPY_MODEL_72dfc861db8d43998a405ca46e01bc34"
       ],
       "layout": "IPY_MODEL_9d13e8575eb646b0900ab18b364527cd"
      }
     },
     "726d389469ee495386812b6e73091db6": {
      "model_module": "@jupyter-widgets/base",
      "model_module_version": "1.2.0",
      "model_name": "LayoutModel",
      "state": {
       "_model_module": "@jupyter-widgets/base",
       "_model_module_version": "1.2.0",
       "_model_name": "LayoutModel",
       "_view_count": null,
       "_view_module": "@jupyter-widgets/base",
       "_view_module_version": "1.2.0",
       "_view_name": "LayoutView",
       "align_content": null,
       "align_items": null,
       "align_self": null,
       "border": null,
       "bottom": null,
       "display": null,
       "flex": null,
       "flex_flow": null,
       "grid_area": null,
       "grid_auto_columns": null,
       "grid_auto_flow": null,
       "grid_auto_rows": null,
       "grid_column": null,
       "grid_gap": null,
       "grid_row": null,
       "grid_template_areas": null,
       "grid_template_columns": null,
       "grid_template_rows": null,
       "height": null,
       "justify_content": null,
       "justify_items": null,
       "left": null,
       "margin": null,
       "max_height": null,
       "max_width": null,
       "min_height": null,
       "min_width": null,
       "object_fit": null,
       "object_position": null,
       "order": null,
       "overflow": null,
       "overflow_x": null,
       "overflow_y": null,
       "padding": null,
       "right": null,
       "top": null,
       "visibility": null,
       "width": null
      }
     },
     "72dfc861db8d43998a405ca46e01bc34": {
      "model_module": "@jupyter-widgets/controls",
      "model_module_version": "1.5.0",
      "model_name": "HTMLModel",
      "state": {
       "_dom_classes": [],
       "_model_module": "@jupyter-widgets/controls",
       "_model_module_version": "1.5.0",
       "_model_name": "HTMLModel",
       "_view_count": null,
       "_view_module": "@jupyter-widgets/controls",
       "_view_module_version": "1.5.0",
       "_view_name": "HTMLView",
       "description": "",
       "description_tooltip": null,
       "layout": "IPY_MODEL_50affab27758412b9d473ad55c185ddc",
       "placeholder": "​",
       "style": "IPY_MODEL_4fb6c974b59b40ca8701f1c019acf6c3",
       "value": " 1.36M/1.36M [00:00&lt;00:00, 61.3MB/s]"
      }
     },
     "736807cc43574d29a51584d565aee9a8": {
      "model_module": "@jupyter-widgets/base",
      "model_module_version": "1.2.0",
      "model_name": "LayoutModel",
      "state": {
       "_model_module": "@jupyter-widgets/base",
       "_model_module_version": "1.2.0",
       "_model_name": "LayoutModel",
       "_view_count": null,
       "_view_module": "@jupyter-widgets/base",
       "_view_module_version": "1.2.0",
       "_view_name": "LayoutView",
       "align_content": null,
       "align_items": null,
       "align_self": null,
       "border": null,
       "bottom": null,
       "display": null,
       "flex": null,
       "flex_flow": null,
       "grid_area": null,
       "grid_auto_columns": null,
       "grid_auto_flow": null,
       "grid_auto_rows": null,
       "grid_column": null,
       "grid_gap": null,
       "grid_row": null,
       "grid_template_areas": null,
       "grid_template_columns": null,
       "grid_template_rows": null,
       "height": null,
       "justify_content": null,
       "justify_items": null,
       "left": null,
       "margin": null,
       "max_height": null,
       "max_width": null,
       "min_height": null,
       "min_width": null,
       "object_fit": null,
       "object_position": null,
       "order": null,
       "overflow": null,
       "overflow_x": null,
       "overflow_y": null,
       "padding": null,
       "right": null,
       "top": null,
       "visibility": null,
       "width": null
      }
     },
     "73ef7ef66b704323b4d8781b1811b40a": {
      "model_module": "@jupyter-widgets/base",
      "model_module_version": "1.2.0",
      "model_name": "LayoutModel",
      "state": {
       "_model_module": "@jupyter-widgets/base",
       "_model_module_version": "1.2.0",
       "_model_name": "LayoutModel",
       "_view_count": null,
       "_view_module": "@jupyter-widgets/base",
       "_view_module_version": "1.2.0",
       "_view_name": "LayoutView",
       "align_content": null,
       "align_items": null,
       "align_self": null,
       "border": null,
       "bottom": null,
       "display": null,
       "flex": null,
       "flex_flow": null,
       "grid_area": null,
       "grid_auto_columns": null,
       "grid_auto_flow": null,
       "grid_auto_rows": null,
       "grid_column": null,
       "grid_gap": null,
       "grid_row": null,
       "grid_template_areas": null,
       "grid_template_columns": null,
       "grid_template_rows": null,
       "height": null,
       "justify_content": null,
       "justify_items": null,
       "left": null,
       "margin": null,
       "max_height": null,
       "max_width": null,
       "min_height": null,
       "min_width": null,
       "object_fit": null,
       "object_position": null,
       "order": null,
       "overflow": null,
       "overflow_x": null,
       "overflow_y": null,
       "padding": null,
       "right": null,
       "top": null,
       "visibility": null,
       "width": null
      }
     },
     "755b9932c16a41a5bc4a86c378510d0d": {
      "model_module": "@jupyter-widgets/controls",
      "model_module_version": "1.5.0",
      "model_name": "HTMLModel",
      "state": {
       "_dom_classes": [],
       "_model_module": "@jupyter-widgets/controls",
       "_model_module_version": "1.5.0",
       "_model_name": "HTMLModel",
       "_view_count": null,
       "_view_module": "@jupyter-widgets/controls",
       "_view_module_version": "1.5.0",
       "_view_name": "HTMLView",
       "description": "",
       "description_tooltip": null,
       "layout": "IPY_MODEL_1d6de2e7f7ab43349face5c78335b7a6",
       "placeholder": "​",
       "style": "IPY_MODEL_cd0a53ecc4524938ad2940fbf5150cf0",
       "value": "Downloading (…)/main/tokenizer.json: 100%"
      }
     },
     "79ee4a393767467c8f626be07cee9d45": {
      "model_module": "@jupyter-widgets/controls",
      "model_module_version": "1.5.0",
      "model_name": "FloatProgressModel",
      "state": {
       "_dom_classes": [],
       "_model_module": "@jupyter-widgets/controls",
       "_model_module_version": "1.5.0",
       "_model_name": "FloatProgressModel",
       "_view_count": null,
       "_view_module": "@jupyter-widgets/controls",
       "_view_module_version": "1.5.0",
       "_view_name": "ProgressView",
       "bar_style": "success",
       "description": "",
       "description_tooltip": null,
       "layout": "IPY_MODEL_9f56019d4ad1448fae699fff6efa09b1",
       "max": 456318.0,
       "min": 0.0,
       "orientation": "horizontal",
       "style": "IPY_MODEL_8a5e0982bf8643babe610bde3e7188e6",
       "value": 456318.0
      }
     },
     "7d7c21d08aeb4bc09438e9b815bf16bc": {
      "model_module": "@jupyter-widgets/controls",
      "model_module_version": "1.5.0",
      "model_name": "DescriptionStyleModel",
      "state": {
       "_model_module": "@jupyter-widgets/controls",
       "_model_module_version": "1.5.0",
       "_model_name": "DescriptionStyleModel",
       "_view_count": null,
       "_view_module": "@jupyter-widgets/base",
       "_view_module_version": "1.2.0",
       "_view_name": "StyleView",
       "description_width": ""
      }
     },
     "7eb3abc7769d41b8a05462f04e0ce6d5": {
      "model_module": "@jupyter-widgets/controls",
      "model_module_version": "1.5.0",
      "model_name": "HBoxModel",
      "state": {
       "_dom_classes": [],
       "_model_module": "@jupyter-widgets/controls",
       "_model_module_version": "1.5.0",
       "_model_name": "HBoxModel",
       "_view_count": null,
       "_view_module": "@jupyter-widgets/controls",
       "_view_module_version": "1.5.0",
       "_view_name": "HBoxView",
       "box_style": "",
       "children": [
        "IPY_MODEL_44d17e5fa4f54112b7cefed64ee3a8b3",
        "IPY_MODEL_9d7df3789c3e4e699a7d9aa23605f8fa",
        "IPY_MODEL_87eadba0bc7c45f29ebdd482d66a1fb1"
       ],
       "layout": "IPY_MODEL_ef12e1a518b74c4fbb4e6d306fdacc09"
      }
     },
     "7fa7a7bfaf1f47d0bd4a863af1aef70a": {
      "model_module": "@jupyter-widgets/base",
      "model_module_version": "1.2.0",
      "model_name": "LayoutModel",
      "state": {
       "_model_module": "@jupyter-widgets/base",
       "_model_module_version": "1.2.0",
       "_model_name": "LayoutModel",
       "_view_count": null,
       "_view_module": "@jupyter-widgets/base",
       "_view_module_version": "1.2.0",
       "_view_name": "LayoutView",
       "align_content": null,
       "align_items": null,
       "align_self": null,
       "border": null,
       "bottom": null,
       "display": null,
       "flex": null,
       "flex_flow": null,
       "grid_area": null,
       "grid_auto_columns": null,
       "grid_auto_flow": null,
       "grid_auto_rows": null,
       "grid_column": null,
       "grid_gap": null,
       "grid_row": null,
       "grid_template_areas": null,
       "grid_template_columns": null,
       "grid_template_rows": null,
       "height": null,
       "justify_content": null,
       "justify_items": null,
       "left": null,
       "margin": null,
       "max_height": null,
       "max_width": null,
       "min_height": null,
       "min_width": null,
       "object_fit": null,
       "object_position": null,
       "order": null,
       "overflow": null,
       "overflow_x": null,
       "overflow_y": null,
       "padding": null,
       "right": null,
       "top": null,
       "visibility": null,
       "width": null
      }
     },
     "812a2ec0040e4da89b5720b5bfc6d6d4": {
      "model_module": "@jupyter-widgets/controls",
      "model_module_version": "1.5.0",
      "model_name": "HTMLModel",
      "state": {
       "_dom_classes": [],
       "_model_module": "@jupyter-widgets/controls",
       "_model_module_version": "1.5.0",
       "_model_name": "HTMLModel",
       "_view_count": null,
       "_view_module": "@jupyter-widgets/controls",
       "_view_module_version": "1.5.0",
       "_view_name": "HTMLView",
       "description": "",
       "description_tooltip": null,
       "layout": "IPY_MODEL_8813928650ee4e8a9e99a30459a9e0e6",
       "placeholder": "​",
       "style": "IPY_MODEL_680b3838d58d42d2b8b3c9cdc649e433",
       "value": "100%"
      }
     },
     "87eadba0bc7c45f29ebdd482d66a1fb1": {
      "model_module": "@jupyter-widgets/controls",
      "model_module_version": "1.5.0",
      "model_name": "HTMLModel",
      "state": {
       "_dom_classes": [],
       "_model_module": "@jupyter-widgets/controls",
       "_model_module_version": "1.5.0",
       "_model_name": "HTMLModel",
       "_view_count": null,
       "_view_module": "@jupyter-widgets/controls",
       "_view_module_version": "1.5.0",
       "_view_name": "HTMLView",
       "description": "",
       "description_tooltip": null,
       "layout": "IPY_MODEL_f78f14c1ea6b4e3fa5fcf6b72e5dd198",
       "placeholder": "​",
       "style": "IPY_MODEL_890d96e9caea4789add678392dfc24e7",
       "value": " 548M/548M [00:10&lt;00:00, 55.9MB/s]"
      }
     },
     "8813928650ee4e8a9e99a30459a9e0e6": {
      "model_module": "@jupyter-widgets/base",
      "model_module_version": "1.2.0",
      "model_name": "LayoutModel",
      "state": {
       "_model_module": "@jupyter-widgets/base",
       "_model_module_version": "1.2.0",
       "_model_name": "LayoutModel",
       "_view_count": null,
       "_view_module": "@jupyter-widgets/base",
       "_view_module_version": "1.2.0",
       "_view_name": "LayoutView",
       "align_content": null,
       "align_items": null,
       "align_self": null,
       "border": null,
       "bottom": null,
       "display": null,
       "flex": null,
       "flex_flow": null,
       "grid_area": null,
       "grid_auto_columns": null,
       "grid_auto_flow": null,
       "grid_auto_rows": null,
       "grid_column": null,
       "grid_gap": null,
       "grid_row": null,
       "grid_template_areas": null,
       "grid_template_columns": null,
       "grid_template_rows": null,
       "height": null,
       "justify_content": null,
       "justify_items": null,
       "left": null,
       "margin": null,
       "max_height": null,
       "max_width": null,
       "min_height": null,
       "min_width": null,
       "object_fit": null,
       "object_position": null,
       "order": null,
       "overflow": null,
       "overflow_x": null,
       "overflow_y": null,
       "padding": null,
       "right": null,
       "top": null,
       "visibility": null,
       "width": null
      }
     },
     "890d96e9caea4789add678392dfc24e7": {
      "model_module": "@jupyter-widgets/controls",
      "model_module_version": "1.5.0",
      "model_name": "DescriptionStyleModel",
      "state": {
       "_model_module": "@jupyter-widgets/controls",
       "_model_module_version": "1.5.0",
       "_model_name": "DescriptionStyleModel",
       "_view_count": null,
       "_view_module": "@jupyter-widgets/base",
       "_view_module_version": "1.2.0",
       "_view_name": "StyleView",
       "description_width": ""
      }
     },
     "8a5e0982bf8643babe610bde3e7188e6": {
      "model_module": "@jupyter-widgets/controls",
      "model_module_version": "1.5.0",
      "model_name": "ProgressStyleModel",
      "state": {
       "_model_module": "@jupyter-widgets/controls",
       "_model_module_version": "1.5.0",
       "_model_name": "ProgressStyleModel",
       "_view_count": null,
       "_view_module": "@jupyter-widgets/base",
       "_view_module_version": "1.2.0",
       "_view_name": "StyleView",
       "bar_color": null,
       "description_width": ""
      }
     },
     "8aa7ecd6769146998281c122713a4de9": {
      "model_module": "@jupyter-widgets/controls",
      "model_module_version": "1.5.0",
      "model_name": "FloatProgressModel",
      "state": {
       "_dom_classes": [],
       "_model_module": "@jupyter-widgets/controls",
       "_model_module_version": "1.5.0",
       "_model_name": "FloatProgressModel",
       "_view_count": null,
       "_view_module": "@jupyter-widgets/controls",
       "_view_module_version": "1.5.0",
       "_view_name": "ProgressView",
       "bar_style": "success",
       "description": "",
       "description_tooltip": null,
       "layout": "IPY_MODEL_726d389469ee495386812b6e73091db6",
       "max": 1042301.0,
       "min": 0.0,
       "orientation": "horizontal",
       "style": "IPY_MODEL_3c4c6a4f42d84579b227fbcab75f9fcb",
       "value": 1042301.0
      }
     },
     "8e6fadf443b5416fa97ebc309d4fb4d2": {
      "model_module": "@jupyter-widgets/base",
      "model_module_version": "1.2.0",
      "model_name": "LayoutModel",
      "state": {
       "_model_module": "@jupyter-widgets/base",
       "_model_module_version": "1.2.0",
       "_model_name": "LayoutModel",
       "_view_count": null,
       "_view_module": "@jupyter-widgets/base",
       "_view_module_version": "1.2.0",
       "_view_name": "LayoutView",
       "align_content": null,
       "align_items": null,
       "align_self": null,
       "border": null,
       "bottom": null,
       "display": null,
       "flex": null,
       "flex_flow": null,
       "grid_area": null,
       "grid_auto_columns": null,
       "grid_auto_flow": null,
       "grid_auto_rows": null,
       "grid_column": null,
       "grid_gap": null,
       "grid_row": null,
       "grid_template_areas": null,
       "grid_template_columns": null,
       "grid_template_rows": null,
       "height": null,
       "justify_content": null,
       "justify_items": null,
       "left": null,
       "margin": null,
       "max_height": null,
       "max_width": null,
       "min_height": null,
       "min_width": null,
       "object_fit": null,
       "object_position": null,
       "order": null,
       "overflow": null,
       "overflow_x": null,
       "overflow_y": null,
       "padding": null,
       "right": null,
       "top": null,
       "visibility": null,
       "width": null
      }
     },
     "9007c2fa937742fd8554bb9e4332b58a": {
      "model_module": "@jupyter-widgets/base",
      "model_module_version": "1.2.0",
      "model_name": "LayoutModel",
      "state": {
       "_model_module": "@jupyter-widgets/base",
       "_model_module_version": "1.2.0",
       "_model_name": "LayoutModel",
       "_view_count": null,
       "_view_module": "@jupyter-widgets/base",
       "_view_module_version": "1.2.0",
       "_view_name": "LayoutView",
       "align_content": null,
       "align_items": null,
       "align_self": null,
       "border": null,
       "bottom": null,
       "display": null,
       "flex": null,
       "flex_flow": null,
       "grid_area": null,
       "grid_auto_columns": null,
       "grid_auto_flow": null,
       "grid_auto_rows": null,
       "grid_column": null,
       "grid_gap": null,
       "grid_row": null,
       "grid_template_areas": null,
       "grid_template_columns": null,
       "grid_template_rows": null,
       "height": null,
       "justify_content": null,
       "justify_items": null,
       "left": null,
       "margin": null,
       "max_height": null,
       "max_width": null,
       "min_height": null,
       "min_width": null,
       "object_fit": null,
       "object_position": null,
       "order": null,
       "overflow": null,
       "overflow_x": null,
       "overflow_y": null,
       "padding": null,
       "right": null,
       "top": null,
       "visibility": null,
       "width": null
      }
     },
     "9516fa2add67423db083657b65dc023c": {
      "model_module": "@jupyter-widgets/controls",
      "model_module_version": "1.5.0",
      "model_name": "HTMLModel",
      "state": {
       "_dom_classes": [],
       "_model_module": "@jupyter-widgets/controls",
       "_model_module_version": "1.5.0",
       "_model_name": "HTMLModel",
       "_view_count": null,
       "_view_module": "@jupyter-widgets/controls",
       "_view_module_version": "1.5.0",
       "_view_name": "HTMLView",
       "description": "",
       "description_tooltip": null,
       "layout": "IPY_MODEL_124f53f700ac4cfeb1ddc6bf85baf873",
       "placeholder": "​",
       "style": "IPY_MODEL_d6b0b3cac82f48a180ff22e5ac5b474b",
       "value": " 4/4 [00:15&lt;00:00,  3.78s/ba]"
      }
     },
     "962bad7dfef44b12b7c0c2c58c22362d": {
      "model_module": "@jupyter-widgets/controls",
      "model_module_version": "1.5.0",
      "model_name": "ProgressStyleModel",
      "state": {
       "_model_module": "@jupyter-widgets/controls",
       "_model_module_version": "1.5.0",
       "_model_name": "ProgressStyleModel",
       "_view_count": null,
       "_view_module": "@jupyter-widgets/base",
       "_view_module_version": "1.2.0",
       "_view_name": "StyleView",
       "bar_color": null,
       "description_width": ""
      }
     },
     "9d13e8575eb646b0900ab18b364527cd": {
      "model_module": "@jupyter-widgets/base",
      "model_module_version": "1.2.0",
      "model_name": "LayoutModel",
      "state": {
       "_model_module": "@jupyter-widgets/base",
       "_model_module_version": "1.2.0",
       "_model_name": "LayoutModel",
       "_view_count": null,
       "_view_module": "@jupyter-widgets/base",
       "_view_module_version": "1.2.0",
       "_view_name": "LayoutView",
       "align_content": null,
       "align_items": null,
       "align_self": null,
       "border": null,
       "bottom": null,
       "display": null,
       "flex": null,
       "flex_flow": null,
       "grid_area": null,
       "grid_auto_columns": null,
       "grid_auto_flow": null,
       "grid_auto_rows": null,
       "grid_column": null,
       "grid_gap": null,
       "grid_row": null,
       "grid_template_areas": null,
       "grid_template_columns": null,
       "grid_template_rows": null,
       "height": null,
       "justify_content": null,
       "justify_items": null,
       "left": null,
       "margin": null,
       "max_height": null,
       "max_width": null,
       "min_height": null,
       "min_width": null,
       "object_fit": null,
       "object_position": null,
       "order": null,
       "overflow": null,
       "overflow_x": null,
       "overflow_y": null,
       "padding": null,
       "right": null,
       "top": null,
       "visibility": null,
       "width": null
      }
     },
     "9d7df3789c3e4e699a7d9aa23605f8fa": {
      "model_module": "@jupyter-widgets/controls",
      "model_module_version": "1.5.0",
      "model_name": "FloatProgressModel",
      "state": {
       "_dom_classes": [],
       "_model_module": "@jupyter-widgets/controls",
       "_model_module_version": "1.5.0",
       "_model_name": "FloatProgressModel",
       "_view_count": null,
       "_view_module": "@jupyter-widgets/controls",
       "_view_module_version": "1.5.0",
       "_view_name": "ProgressView",
       "bar_style": "success",
       "description": "",
       "description_tooltip": null,
       "layout": "IPY_MODEL_adcffc83a6da459cb8787ad215dec7e2",
       "max": 548118077.0,
       "min": 0.0,
       "orientation": "horizontal",
       "style": "IPY_MODEL_962bad7dfef44b12b7c0c2c58c22362d",
       "value": 548118077.0
      }
     },
     "9f56019d4ad1448fae699fff6efa09b1": {
      "model_module": "@jupyter-widgets/base",
      "model_module_version": "1.2.0",
      "model_name": "LayoutModel",
      "state": {
       "_model_module": "@jupyter-widgets/base",
       "_model_module_version": "1.2.0",
       "_model_name": "LayoutModel",
       "_view_count": null,
       "_view_module": "@jupyter-widgets/base",
       "_view_module_version": "1.2.0",
       "_view_name": "LayoutView",
       "align_content": null,
       "align_items": null,
       "align_self": null,
       "border": null,
       "bottom": null,
       "display": null,
       "flex": null,
       "flex_flow": null,
       "grid_area": null,
       "grid_auto_columns": null,
       "grid_auto_flow": null,
       "grid_auto_rows": null,
       "grid_column": null,
       "grid_gap": null,
       "grid_row": null,
       "grid_template_areas": null,
       "grid_template_columns": null,
       "grid_template_rows": null,
       "height": null,
       "justify_content": null,
       "justify_items": null,
       "left": null,
       "margin": null,
       "max_height": null,
       "max_width": null,
       "min_height": null,
       "min_width": null,
       "object_fit": null,
       "object_position": null,
       "order": null,
       "overflow": null,
       "overflow_x": null,
       "overflow_y": null,
       "padding": null,
       "right": null,
       "top": null,
       "visibility": null,
       "width": null
      }
     },
     "a74e9d65e7274ebdbe6d2028655a31bc": {
      "model_module": "@jupyter-widgets/controls",
      "model_module_version": "1.5.0",
      "model_name": "HBoxModel",
      "state": {
       "_dom_classes": [],
       "_model_module": "@jupyter-widgets/controls",
       "_model_module_version": "1.5.0",
       "_model_name": "HBoxModel",
       "_view_count": null,
       "_view_module": "@jupyter-widgets/controls",
       "_view_module_version": "1.5.0",
       "_view_name": "HBoxView",
       "box_style": "",
       "children": [
        "IPY_MODEL_40b48fe903b84daeb32cc164b4acf519",
        "IPY_MODEL_4c62c9b001c2494dbf98356d94cbd40f",
        "IPY_MODEL_d39f7376d98f43ae9ce8d85fca138269"
       ],
       "layout": "IPY_MODEL_9007c2fa937742fd8554bb9e4332b58a"
      }
     },
     "abf21ab3d65e4cb3a2fbd7a2886b0712": {
      "model_module": "@jupyter-widgets/base",
      "model_module_version": "1.2.0",
      "model_name": "LayoutModel",
      "state": {
       "_model_module": "@jupyter-widgets/base",
       "_model_module_version": "1.2.0",
       "_model_name": "LayoutModel",
       "_view_count": null,
       "_view_module": "@jupyter-widgets/base",
       "_view_module_version": "1.2.0",
       "_view_name": "LayoutView",
       "align_content": null,
       "align_items": null,
       "align_self": null,
       "border": null,
       "bottom": null,
       "display": null,
       "flex": null,
       "flex_flow": null,
       "grid_area": null,
       "grid_auto_columns": null,
       "grid_auto_flow": null,
       "grid_auto_rows": null,
       "grid_column": null,
       "grid_gap": null,
       "grid_row": null,
       "grid_template_areas": null,
       "grid_template_columns": null,
       "grid_template_rows": null,
       "height": null,
       "justify_content": null,
       "justify_items": null,
       "left": null,
       "margin": null,
       "max_height": null,
       "max_width": null,
       "min_height": null,
       "min_width": null,
       "object_fit": null,
       "object_position": null,
       "order": null,
       "overflow": null,
       "overflow_x": null,
       "overflow_y": null,
       "padding": null,
       "right": null,
       "top": null,
       "visibility": null,
       "width": null
      }
     },
     "adcffc83a6da459cb8787ad215dec7e2": {
      "model_module": "@jupyter-widgets/base",
      "model_module_version": "1.2.0",
      "model_name": "LayoutModel",
      "state": {
       "_model_module": "@jupyter-widgets/base",
       "_model_module_version": "1.2.0",
       "_model_name": "LayoutModel",
       "_view_count": null,
       "_view_module": "@jupyter-widgets/base",
       "_view_module_version": "1.2.0",
       "_view_name": "LayoutView",
       "align_content": null,
       "align_items": null,
       "align_self": null,
       "border": null,
       "bottom": null,
       "display": null,
       "flex": null,
       "flex_flow": null,
       "grid_area": null,
       "grid_auto_columns": null,
       "grid_auto_flow": null,
       "grid_auto_rows": null,
       "grid_column": null,
       "grid_gap": null,
       "grid_row": null,
       "grid_template_areas": null,
       "grid_template_columns": null,
       "grid_template_rows": null,
       "height": null,
       "justify_content": null,
       "justify_items": null,
       "left": null,
       "margin": null,
       "max_height": null,
       "max_width": null,
       "min_height": null,
       "min_width": null,
       "object_fit": null,
       "object_position": null,
       "order": null,
       "overflow": null,
       "overflow_x": null,
       "overflow_y": null,
       "padding": null,
       "right": null,
       "top": null,
       "visibility": null,
       "width": null
      }
     },
     "ae01176175ea4b789f640d9c28fb7050": {
      "model_module": "@jupyter-widgets/controls",
      "model_module_version": "1.5.0",
      "model_name": "HBoxModel",
      "state": {
       "_dom_classes": [],
       "_model_module": "@jupyter-widgets/controls",
       "_model_module_version": "1.5.0",
       "_model_name": "HBoxModel",
       "_view_count": null,
       "_view_module": "@jupyter-widgets/controls",
       "_view_module_version": "1.5.0",
       "_view_name": "HBoxView",
       "box_style": "",
       "children": [
        "IPY_MODEL_812a2ec0040e4da89b5720b5bfc6d6d4",
        "IPY_MODEL_305e1870ddab44be9ceed42e719a2519",
        "IPY_MODEL_9516fa2add67423db083657b65dc023c"
       ],
       "layout": "IPY_MODEL_189061ad71964eec859bbecfe6c71fcc"
      }
     },
     "ae7d72c67d864c9e88319fe0bb43b23b": {
      "model_module": "@jupyter-widgets/controls",
      "model_module_version": "1.5.0",
      "model_name": "DescriptionStyleModel",
      "state": {
       "_model_module": "@jupyter-widgets/controls",
       "_model_module_version": "1.5.0",
       "_model_name": "DescriptionStyleModel",
       "_view_count": null,
       "_view_module": "@jupyter-widgets/base",
       "_view_module_version": "1.2.0",
       "_view_name": "StyleView",
       "description_width": ""
      }
     },
     "af3d4a9ca5c841b196a9b21cd3aa042b": {
      "model_module": "@jupyter-widgets/base",
      "model_module_version": "1.2.0",
      "model_name": "LayoutModel",
      "state": {
       "_model_module": "@jupyter-widgets/base",
       "_model_module_version": "1.2.0",
       "_model_name": "LayoutModel",
       "_view_count": null,
       "_view_module": "@jupyter-widgets/base",
       "_view_module_version": "1.2.0",
       "_view_name": "LayoutView",
       "align_content": null,
       "align_items": null,
       "align_self": null,
       "border": null,
       "bottom": null,
       "display": null,
       "flex": null,
       "flex_flow": null,
       "grid_area": null,
       "grid_auto_columns": null,
       "grid_auto_flow": null,
       "grid_auto_rows": null,
       "grid_column": null,
       "grid_gap": null,
       "grid_row": null,
       "grid_template_areas": null,
       "grid_template_columns": null,
       "grid_template_rows": null,
       "height": null,
       "justify_content": null,
       "justify_items": null,
       "left": null,
       "margin": null,
       "max_height": null,
       "max_width": null,
       "min_height": null,
       "min_width": null,
       "object_fit": null,
       "object_position": null,
       "order": null,
       "overflow": null,
       "overflow_x": null,
       "overflow_y": null,
       "padding": null,
       "right": null,
       "top": null,
       "visibility": null,
       "width": null
      }
     },
     "b3f33b1ba04744a0b60da84c1e70aa04": {
      "model_module": "@jupyter-widgets/controls",
      "model_module_version": "1.5.0",
      "model_name": "FloatProgressModel",
      "state": {
       "_dom_classes": [],
       "_model_module": "@jupyter-widgets/controls",
       "_model_module_version": "1.5.0",
       "_model_name": "FloatProgressModel",
       "_view_count": null,
       "_view_module": "@jupyter-widgets/controls",
       "_view_module_version": "1.5.0",
       "_view_name": "ProgressView",
       "bar_style": "success",
       "description": "",
       "description_tooltip": null,
       "layout": "IPY_MODEL_e0b61ad20bac4a17834fae7805a7ea64",
       "max": 1.0,
       "min": 0.0,
       "orientation": "horizontal",
       "style": "IPY_MODEL_04696070f4eb42cdaa44490b54398c3f",
       "value": 1.0
      }
     },
     "b98d69bde0994abbb56c2bf8418602e3": {
      "model_module": "@jupyter-widgets/controls",
      "model_module_version": "1.5.0",
      "model_name": "DescriptionStyleModel",
      "state": {
       "_model_module": "@jupyter-widgets/controls",
       "_model_module_version": "1.5.0",
       "_model_name": "DescriptionStyleModel",
       "_view_count": null,
       "_view_module": "@jupyter-widgets/base",
       "_view_module_version": "1.2.0",
       "_view_name": "StyleView",
       "description_width": ""
      }
     },
     "bc9ffe53297c4a289719d6e0bc1762b5": {
      "model_module": "@jupyter-widgets/controls",
      "model_module_version": "1.5.0",
      "model_name": "HTMLModel",
      "state": {
       "_dom_classes": [],
       "_model_module": "@jupyter-widgets/controls",
       "_model_module_version": "1.5.0",
       "_model_name": "HTMLModel",
       "_view_count": null,
       "_view_module": "@jupyter-widgets/controls",
       "_view_module_version": "1.5.0",
       "_view_name": "HTMLView",
       "description": "",
       "description_tooltip": null,
       "layout": "IPY_MODEL_30195346d2a24a99a7927e66f8aeead3",
       "placeholder": "​",
       "style": "IPY_MODEL_214318624db14f9b9f22e492002601f0",
       "value": " 1.04M/1.04M [00:00&lt;00:00, 13.5MB/s]"
      }
     },
     "c367c140d8b84bdf82c2446a405f810c": {
      "model_module": "@jupyter-widgets/controls",
      "model_module_version": "1.5.0",
      "model_name": "HTMLModel",
      "state": {
       "_dom_classes": [],
       "_model_module": "@jupyter-widgets/controls",
       "_model_module_version": "1.5.0",
       "_model_name": "HTMLModel",
       "_view_count": null,
       "_view_module": "@jupyter-widgets/controls",
       "_view_module_version": "1.5.0",
       "_view_name": "HTMLView",
       "description": "",
       "description_tooltip": null,
       "layout": "IPY_MODEL_e8556cc2b6454687acced26da871bfc3",
       "placeholder": "​",
       "style": "IPY_MODEL_523544f9ec8245e09941bb7e6e4d2d45",
       "value": "100%"
      }
     },
     "cd0a53ecc4524938ad2940fbf5150cf0": {
      "model_module": "@jupyter-widgets/controls",
      "model_module_version": "1.5.0",
      "model_name": "DescriptionStyleModel",
      "state": {
       "_model_module": "@jupyter-widgets/controls",
       "_model_module_version": "1.5.0",
       "_model_name": "DescriptionStyleModel",
       "_view_count": null,
       "_view_module": "@jupyter-widgets/base",
       "_view_module_version": "1.2.0",
       "_view_name": "StyleView",
       "description_width": ""
      }
     },
     "d39f7376d98f43ae9ce8d85fca138269": {
      "model_module": "@jupyter-widgets/controls",
      "model_module_version": "1.5.0",
      "model_name": "HTMLModel",
      "state": {
       "_dom_classes": [],
       "_model_module": "@jupyter-widgets/controls",
       "_model_module_version": "1.5.0",
       "_model_name": "HTMLModel",
       "_view_count": null,
       "_view_module": "@jupyter-widgets/controls",
       "_view_module_version": "1.5.0",
       "_view_name": "HTMLView",
       "description": "",
       "description_tooltip": null,
       "layout": "IPY_MODEL_73ef7ef66b704323b4d8781b1811b40a",
       "placeholder": "​",
       "style": "IPY_MODEL_ae7d72c67d864c9e88319fe0bb43b23b",
       "value": " 1/1 [00:00&lt;00:00,  2.10ba/s]"
      }
     },
     "d5a05d9fa94441cdbfe862b70a5c4806": {
      "model_module": "@jupyter-widgets/controls",
      "model_module_version": "1.5.0",
      "model_name": "DescriptionStyleModel",
      "state": {
       "_model_module": "@jupyter-widgets/controls",
       "_model_module_version": "1.5.0",
       "_model_name": "DescriptionStyleModel",
       "_view_count": null,
       "_view_module": "@jupyter-widgets/base",
       "_view_module_version": "1.2.0",
       "_view_name": "StyleView",
       "description_width": ""
      }
     },
     "d6b0b3cac82f48a180ff22e5ac5b474b": {
      "model_module": "@jupyter-widgets/controls",
      "model_module_version": "1.5.0",
      "model_name": "DescriptionStyleModel",
      "state": {
       "_model_module": "@jupyter-widgets/controls",
       "_model_module_version": "1.5.0",
       "_model_name": "DescriptionStyleModel",
       "_view_count": null,
       "_view_module": "@jupyter-widgets/base",
       "_view_module_version": "1.2.0",
       "_view_name": "StyleView",
       "description_width": ""
      }
     },
     "dbf1dff9a4b24c02b0a7a04c56ba40fa": {
      "model_module": "@jupyter-widgets/controls",
      "model_module_version": "1.5.0",
      "model_name": "HBoxModel",
      "state": {
       "_dom_classes": [],
       "_model_module": "@jupyter-widgets/controls",
       "_model_module_version": "1.5.0",
       "_model_name": "HBoxModel",
       "_view_count": null,
       "_view_module": "@jupyter-widgets/controls",
       "_view_module_version": "1.5.0",
       "_view_name": "HBoxView",
       "box_style": "",
       "children": [
        "IPY_MODEL_f2fe28f084d74e37b4eb7fd86c624e9b",
        "IPY_MODEL_8aa7ecd6769146998281c122713a4de9",
        "IPY_MODEL_bc9ffe53297c4a289719d6e0bc1762b5"
       ],
       "layout": "IPY_MODEL_4efdf44ddb93414eb996de3a01030fed"
      }
     },
     "de57c38b95694887a8fdf37545accab9": {
      "model_module": "@jupyter-widgets/controls",
      "model_module_version": "1.5.0",
      "model_name": "DescriptionStyleModel",
      "state": {
       "_model_module": "@jupyter-widgets/controls",
       "_model_module_version": "1.5.0",
       "_model_name": "DescriptionStyleModel",
       "_view_count": null,
       "_view_module": "@jupyter-widgets/base",
       "_view_module_version": "1.2.0",
       "_view_name": "StyleView",
       "description_width": ""
      }
     },
     "e0b61ad20bac4a17834fae7805a7ea64": {
      "model_module": "@jupyter-widgets/base",
      "model_module_version": "1.2.0",
      "model_name": "LayoutModel",
      "state": {
       "_model_module": "@jupyter-widgets/base",
       "_model_module_version": "1.2.0",
       "_model_name": "LayoutModel",
       "_view_count": null,
       "_view_module": "@jupyter-widgets/base",
       "_view_module_version": "1.2.0",
       "_view_name": "LayoutView",
       "align_content": null,
       "align_items": null,
       "align_self": null,
       "border": null,
       "bottom": null,
       "display": null,
       "flex": null,
       "flex_flow": null,
       "grid_area": null,
       "grid_auto_columns": null,
       "grid_auto_flow": null,
       "grid_auto_rows": null,
       "grid_column": null,
       "grid_gap": null,
       "grid_row": null,
       "grid_template_areas": null,
       "grid_template_columns": null,
       "grid_template_rows": null,
       "height": null,
       "justify_content": null,
       "justify_items": null,
       "left": null,
       "margin": null,
       "max_height": null,
       "max_width": null,
       "min_height": null,
       "min_width": null,
       "object_fit": null,
       "object_position": null,
       "order": null,
       "overflow": null,
       "overflow_x": null,
       "overflow_y": null,
       "padding": null,
       "right": null,
       "top": null,
       "visibility": null,
       "width": null
      }
     },
     "e8556cc2b6454687acced26da871bfc3": {
      "model_module": "@jupyter-widgets/base",
      "model_module_version": "1.2.0",
      "model_name": "LayoutModel",
      "state": {
       "_model_module": "@jupyter-widgets/base",
       "_model_module_version": "1.2.0",
       "_model_name": "LayoutModel",
       "_view_count": null,
       "_view_module": "@jupyter-widgets/base",
       "_view_module_version": "1.2.0",
       "_view_name": "LayoutView",
       "align_content": null,
       "align_items": null,
       "align_self": null,
       "border": null,
       "bottom": null,
       "display": null,
       "flex": null,
       "flex_flow": null,
       "grid_area": null,
       "grid_auto_columns": null,
       "grid_auto_flow": null,
       "grid_auto_rows": null,
       "grid_column": null,
       "grid_gap": null,
       "grid_row": null,
       "grid_template_areas": null,
       "grid_template_columns": null,
       "grid_template_rows": null,
       "height": null,
       "justify_content": null,
       "justify_items": null,
       "left": null,
       "margin": null,
       "max_height": null,
       "max_width": null,
       "min_height": null,
       "min_width": null,
       "object_fit": null,
       "object_position": null,
       "order": null,
       "overflow": null,
       "overflow_x": null,
       "overflow_y": null,
       "padding": null,
       "right": null,
       "top": null,
       "visibility": null,
       "width": null
      }
     },
     "ef0ae326470a4a95ab4d56104732e713": {
      "model_module": "@jupyter-widgets/controls",
      "model_module_version": "1.5.0",
      "model_name": "DescriptionStyleModel",
      "state": {
       "_model_module": "@jupyter-widgets/controls",
       "_model_module_version": "1.5.0",
       "_model_name": "DescriptionStyleModel",
       "_view_count": null,
       "_view_module": "@jupyter-widgets/base",
       "_view_module_version": "1.2.0",
       "_view_name": "StyleView",
       "description_width": ""
      }
     },
     "ef12e1a518b74c4fbb4e6d306fdacc09": {
      "model_module": "@jupyter-widgets/base",
      "model_module_version": "1.2.0",
      "model_name": "LayoutModel",
      "state": {
       "_model_module": "@jupyter-widgets/base",
       "_model_module_version": "1.2.0",
       "_model_name": "LayoutModel",
       "_view_count": null,
       "_view_module": "@jupyter-widgets/base",
       "_view_module_version": "1.2.0",
       "_view_name": "LayoutView",
       "align_content": null,
       "align_items": null,
       "align_self": null,
       "border": null,
       "bottom": null,
       "display": null,
       "flex": null,
       "flex_flow": null,
       "grid_area": null,
       "grid_auto_columns": null,
       "grid_auto_flow": null,
       "grid_auto_rows": null,
       "grid_column": null,
       "grid_gap": null,
       "grid_row": null,
       "grid_template_areas": null,
       "grid_template_columns": null,
       "grid_template_rows": null,
       "height": null,
       "justify_content": null,
       "justify_items": null,
       "left": null,
       "margin": null,
       "max_height": null,
       "max_width": null,
       "min_height": null,
       "min_width": null,
       "object_fit": null,
       "object_position": null,
       "order": null,
       "overflow": null,
       "overflow_x": null,
       "overflow_y": null,
       "padding": null,
       "right": null,
       "top": null,
       "visibility": null,
       "width": null
      }
     },
     "f10b45de7f83436cbbac44246562086f": {
      "model_module": "@jupyter-widgets/controls",
      "model_module_version": "1.5.0",
      "model_name": "ProgressStyleModel",
      "state": {
       "_model_module": "@jupyter-widgets/controls",
       "_model_module_version": "1.5.0",
       "_model_name": "ProgressStyleModel",
       "_view_count": null,
       "_view_module": "@jupyter-widgets/base",
       "_view_module_version": "1.2.0",
       "_view_name": "StyleView",
       "bar_color": null,
       "description_width": ""
      }
     },
     "f2fe28f084d74e37b4eb7fd86c624e9b": {
      "model_module": "@jupyter-widgets/controls",
      "model_module_version": "1.5.0",
      "model_name": "HTMLModel",
      "state": {
       "_dom_classes": [],
       "_model_module": "@jupyter-widgets/controls",
       "_model_module_version": "1.5.0",
       "_model_name": "HTMLModel",
       "_view_count": null,
       "_view_module": "@jupyter-widgets/controls",
       "_view_module_version": "1.5.0",
       "_view_name": "HTMLView",
       "description": "",
       "description_tooltip": null,
       "layout": "IPY_MODEL_22368056089b45d6ada690f3088d84d5",
       "placeholder": "​",
       "style": "IPY_MODEL_de57c38b95694887a8fdf37545accab9",
       "value": "Downloading (…)olve/main/vocab.json: 100%"
      }
     },
     "f4a6c6801e1d4ee18139b67ebe6c53d0": {
      "model_module": "@jupyter-widgets/controls",
      "model_module_version": "1.5.0",
      "model_name": "HBoxModel",
      "state": {
       "_dom_classes": [],
       "_model_module": "@jupyter-widgets/controls",
       "_model_module_version": "1.5.0",
       "_model_name": "HBoxModel",
       "_view_count": null,
       "_view_module": "@jupyter-widgets/controls",
       "_view_module_version": "1.5.0",
       "_view_name": "HBoxView",
       "box_style": "",
       "children": [
        "IPY_MODEL_3932fca164c64621819b3262ce5ac97b",
        "IPY_MODEL_4ec756fe75e84dfd9a766b8fcaf5c7c8",
        "IPY_MODEL_41a1acd6716a4413b85e50502d93380b"
       ],
       "layout": "IPY_MODEL_563af302d8364398a2e0ea22c9a3c52a"
      }
     },
     "f78f14c1ea6b4e3fa5fcf6b72e5dd198": {
      "model_module": "@jupyter-widgets/base",
      "model_module_version": "1.2.0",
      "model_name": "LayoutModel",
      "state": {
       "_model_module": "@jupyter-widgets/base",
       "_model_module_version": "1.2.0",
       "_model_name": "LayoutModel",
       "_view_count": null,
       "_view_module": "@jupyter-widgets/base",
       "_view_module_version": "1.2.0",
       "_view_name": "LayoutView",
       "align_content": null,
       "align_items": null,
       "align_self": null,
       "border": null,
       "bottom": null,
       "display": null,
       "flex": null,
       "flex_flow": null,
       "grid_area": null,
       "grid_auto_columns": null,
       "grid_auto_flow": null,
       "grid_auto_rows": null,
       "grid_column": null,
       "grid_gap": null,
       "grid_row": null,
       "grid_template_areas": null,
       "grid_template_columns": null,
       "grid_template_rows": null,
       "height": null,
       "justify_content": null,
       "justify_items": null,
       "left": null,
       "margin": null,
       "max_height": null,
       "max_width": null,
       "min_height": null,
       "min_width": null,
       "object_fit": null,
       "object_position": null,
       "order": null,
       "overflow": null,
       "overflow_x": null,
       "overflow_y": null,
       "padding": null,
       "right": null,
       "top": null,
       "visibility": null,
       "width": null
      }
     },
     "fe1b8bec916f4e7f9dc426e7c6f632df": {
      "model_module": "@jupyter-widgets/base",
      "model_module_version": "1.2.0",
      "model_name": "LayoutModel",
      "state": {
       "_model_module": "@jupyter-widgets/base",
       "_model_module_version": "1.2.0",
       "_model_name": "LayoutModel",
       "_view_count": null,
       "_view_module": "@jupyter-widgets/base",
       "_view_module_version": "1.2.0",
       "_view_name": "LayoutView",
       "align_content": null,
       "align_items": null,
       "align_self": null,
       "border": null,
       "bottom": null,
       "display": null,
       "flex": null,
       "flex_flow": null,
       "grid_area": null,
       "grid_auto_columns": null,
       "grid_auto_flow": null,
       "grid_auto_rows": null,
       "grid_column": null,
       "grid_gap": null,
       "grid_row": null,
       "grid_template_areas": null,
       "grid_template_columns": null,
       "grid_template_rows": null,
       "height": null,
       "justify_content": null,
       "justify_items": null,
       "left": null,
       "margin": null,
       "max_height": null,
       "max_width": null,
       "min_height": null,
       "min_width": null,
       "object_fit": null,
       "object_position": null,
       "order": null,
       "overflow": null,
       "overflow_x": null,
       "overflow_y": null,
       "padding": null,
       "right": null,
       "top": null,
       "visibility": null,
       "width": null
      }
     }
    },
    "version_major": 2,
    "version_minor": 0
   }
  }
 },
 "nbformat": 4,
 "nbformat_minor": 5
}
