{
 "cells": [
  {
   "cell_type": "markdown",
   "id": "0c359941",
   "metadata": {
    "papermill": {
     "duration": 0.014238,
     "end_time": "2023-05-29T00:41:08.143452",
     "exception": false,
     "start_time": "2023-05-29T00:41:08.129214",
     "status": "completed"
    },
    "tags": []
   },
   "source": [
    "- what type of documents does it contain?\n",
    "- how many documents are there?\n",
    "- calculate and visualise some simple statistics for the collection, e.g. the average document length,\n",
    "the average vocabulary size, etc."
   ]
  },
  {
   "cell_type": "markdown",
   "id": "7b09c85a",
   "metadata": {
    "papermill": {
     "duration": 0.013617,
     "end_time": "2023-05-29T00:41:08.170814",
     "exception": false,
     "start_time": "2023-05-29T00:41:08.157197",
     "status": "completed"
    },
    "tags": []
   },
   "source": [
    "## Import the dataset"
   ]
  },
  {
   "cell_type": "code",
   "execution_count": 1,
   "id": "cdb25889",
   "metadata": {
    "execution": {
     "iopub.execute_input": "2023-05-29T00:41:08.200009Z",
     "iopub.status.busy": "2023-05-29T00:41:08.199319Z",
     "iopub.status.idle": "2023-05-29T00:41:30.656544Z",
     "shell.execute_reply": "2023-05-29T00:41:30.655628Z"
    },
    "papermill": {
     "duration": 22.47425,
     "end_time": "2023-05-29T00:41:30.658978",
     "exception": false,
     "start_time": "2023-05-29T00:41:08.184728",
     "status": "completed"
    },
    "tags": []
   },
   "outputs": [],
   "source": [
    "import json\n",
    "\n",
    "f = open(r'/kaggle/input/wizard-of-wikipedia/train.json', 'r')\n",
    "dataset = json.loads(f.read())\n",
    "\n",
    "# Skip this code if you want to use entire dataset\n",
    "dataset = dataset[:8000]\n",
    "\n"
   ]
  },
  {
   "cell_type": "code",
   "execution_count": 2,
   "id": "95f9beb6",
   "metadata": {
    "execution": {
     "iopub.execute_input": "2023-05-29T00:41:30.689649Z",
     "iopub.status.busy": "2023-05-29T00:41:30.687981Z",
     "iopub.status.idle": "2023-05-29T00:41:30.692664Z",
     "shell.execute_reply": "2023-05-29T00:41:30.691787Z"
    },
    "papermill": {
     "duration": 0.021922,
     "end_time": "2023-05-29T00:41:30.694901",
     "exception": false,
     "start_time": "2023-05-29T00:41:30.672979",
     "status": "completed"
    },
    "tags": []
   },
   "outputs": [],
   "source": [
    "# Inspect the format of the imported json\n",
    "#dataset"
   ]
  },
  {
   "cell_type": "markdown",
   "id": "2d1561f6",
   "metadata": {
    "papermill": {
     "duration": 0.013299,
     "end_time": "2023-05-29T00:41:30.722530",
     "exception": false,
     "start_time": "2023-05-29T00:41:30.709231",
     "status": "completed"
    },
    "tags": []
   },
   "source": [
    "### What's inside this dataset?\n",
    "\n",
    " "
   ]
  },
  {
   "cell_type": "markdown",
   "id": "7dd7ad7b",
   "metadata": {
    "papermill": {
     "duration": 0.013286,
     "end_time": "2023-05-29T00:41:30.749502",
     "exception": false,
     "start_time": "2023-05-29T00:41:30.736216",
     "status": "completed"
    },
    "tags": []
   },
   "source": [
    "PREPEND EACH SENTENCE WITH ARTICLE TITLE: \"We retrieve the top 7 articles (first paragraph only) for each lookup and then flatten all the results into separate sentences (i.e. remove the organization of sentences belonging to articles), but prepend every sentence with its article title. In this way the candidates mc1 , . . . , mcK given to the neural model in the next stage can be attended to independently without having to deal with hierarchical issues.\"\n",
    "\n",
    "DIALOGUE CONTEXT: \"it is given the current dialogue context x1 , . . . , xt of t dialogue turns, where x1 is al- ways the initial starting topic (e.g. “Kurt Cobain”), and the remaining turns swap between the two speakers.\" So, x1 is the topic and x2 will be the first generated text, x2 the answer and so on...\n",
    "THE GOAL AT EACH STAGE IS TO OUTPUT THE NEXT UTTERANCE xt+1."
   ]
  },
  {
   "cell_type": "markdown",
   "id": "1edd80a0",
   "metadata": {
    "papermill": {
     "duration": 0.013462,
     "end_time": "2023-05-29T00:41:30.776383",
     "exception": false,
     "start_time": "2023-05-29T00:41:30.762921",
     "status": "completed"
    },
    "tags": []
   },
   "source": [
    "Now, let's try extracting the CHOSEN TOPIC + TEXT MESSAGE to predict which of the RETRIEVED PASSAGES is the best one."
   ]
  },
  {
   "cell_type": "markdown",
   "id": "08291083",
   "metadata": {
    "papermill": {
     "duration": 0.013237,
     "end_time": "2023-05-29T00:41:30.803046",
     "exception": false,
     "start_time": "2023-05-29T00:41:30.789809",
     "status": "completed"
    },
    "tags": []
   },
   "source": [
    "## Building the structure"
   ]
  },
  {
   "cell_type": "code",
   "execution_count": 3,
   "id": "d5f14d1a",
   "metadata": {
    "execution": {
     "iopub.execute_input": "2023-05-29T00:41:30.831727Z",
     "iopub.status.busy": "2023-05-29T00:41:30.830985Z",
     "iopub.status.idle": "2023-05-29T00:41:30.835320Z",
     "shell.execute_reply": "2023-05-29T00:41:30.834446Z"
    },
    "papermill": {
     "duration": 0.02062,
     "end_time": "2023-05-29T00:41:30.837375",
     "exception": false,
     "start_time": "2023-05-29T00:41:30.816755",
     "status": "completed"
    },
    "tags": []
   },
   "outputs": [],
   "source": [
    "#dataset=dataset[:15]"
   ]
  },
  {
   "cell_type": "code",
   "execution_count": 4,
   "id": "39966cbb",
   "metadata": {
    "execution": {
     "iopub.execute_input": "2023-05-29T00:41:30.866164Z",
     "iopub.status.busy": "2023-05-29T00:41:30.865285Z",
     "iopub.status.idle": "2023-05-29T00:41:32.992217Z",
     "shell.execute_reply": "2023-05-29T00:41:32.991223Z"
    },
    "papermill": {
     "duration": 2.144084,
     "end_time": "2023-05-29T00:41:32.994898",
     "exception": false,
     "start_time": "2023-05-29T00:41:30.850814",
     "status": "completed"
    },
    "tags": []
   },
   "outputs": [],
   "source": [
    "def create_passages_struct(dataset):\n",
    "    structure = []\n",
    "    for conversation in dataset:\n",
    "        dialog_structure = []\n",
    "        for dialog in conversation['dialog']:\n",
    "            dialog_entry = [f\"{list(passage.keys())[0]}: {sentence}\" for passage in dialog['retrieved_passages'] for sentence in list(passage.values())[0]]\n",
    "            dialog_structure.append(dialog_entry)\n",
    "        structure.append(dialog_structure)\n",
    "    return structure\n",
    "\n",
    "passages_struct = create_passages_struct(dataset)             "
   ]
  },
  {
   "cell_type": "code",
   "execution_count": 5,
   "id": "c23ba638",
   "metadata": {
    "execution": {
     "iopub.execute_input": "2023-05-29T00:41:33.023930Z",
     "iopub.status.busy": "2023-05-29T00:41:33.023562Z",
     "iopub.status.idle": "2023-05-29T00:41:33.028809Z",
     "shell.execute_reply": "2023-05-29T00:41:33.027987Z"
    },
    "papermill": {
     "duration": 0.021883,
     "end_time": "2023-05-29T00:41:33.030736",
     "exception": false,
     "start_time": "2023-05-29T00:41:33.008853",
     "status": "completed"
    },
    "tags": []
   },
   "outputs": [],
   "source": [
    "#passages_struct[:1]"
   ]
  },
  {
   "cell_type": "code",
   "execution_count": 6,
   "id": "cf7edacb",
   "metadata": {
    "execution": {
     "iopub.execute_input": "2023-05-29T00:41:33.058841Z",
     "iopub.status.busy": "2023-05-29T00:41:33.058326Z",
     "iopub.status.idle": "2023-05-29T00:41:33.127909Z",
     "shell.execute_reply": "2023-05-29T00:41:33.127057Z"
    },
    "papermill": {
     "duration": 0.086171,
     "end_time": "2023-05-29T00:41:33.130225",
     "exception": false,
     "start_time": "2023-05-29T00:41:33.044054",
     "status": "completed"
    },
    "tags": []
   },
   "outputs": [],
   "source": [
    "def create_dialog_context_struct(dataset):\n",
    "    transformed_data = []\n",
    "    for item in dataset:\n",
    "        dialog = item['dialog']\n",
    "        text_list = []\n",
    "        flag = 0\n",
    "        for utterance in dialog:\n",
    "            if flag == 0: \n",
    "                text_list.append('Person A: '+utterance['text'])\n",
    "                flag = 1\n",
    "            else: \n",
    "                text_list.append('Person B: '+utterance['text'])\n",
    "                flag = 0\n",
    "        transformed_data.append(text_list)\n",
    "    return transformed_data\n",
    "\n",
    "\n",
    "dialog_context_struct = create_dialog_context_struct(dataset)"
   ]
  },
  {
   "cell_type": "markdown",
   "id": "8b367460",
   "metadata": {
    "papermill": {
     "duration": 0.013336,
     "end_time": "2023-05-29T00:41:33.157196",
     "exception": false,
     "start_time": "2023-05-29T00:41:33.143860",
     "status": "completed"
    },
    "tags": []
   },
   "source": [
    "Splitting the dialog_context_struct in a training set and validation set"
   ]
  },
  {
   "cell_type": "code",
   "execution_count": 7,
   "id": "f2d2b28f",
   "metadata": {
    "execution": {
     "iopub.execute_input": "2023-05-29T00:41:33.185911Z",
     "iopub.status.busy": "2023-05-29T00:41:33.185056Z",
     "iopub.status.idle": "2023-05-29T00:41:34.206724Z",
     "shell.execute_reply": "2023-05-29T00:41:34.205742Z"
    },
    "papermill": {
     "duration": 1.03855,
     "end_time": "2023-05-29T00:41:34.209091",
     "exception": false,
     "start_time": "2023-05-29T00:41:33.170541",
     "status": "completed"
    },
    "tags": []
   },
   "outputs": [],
   "source": [
    "from sklearn.model_selection import train_test_split\n",
    "\n",
    "train, valid = train_test_split(dialog_context_struct, test_size=0.2, random_state=42)"
   ]
  },
  {
   "cell_type": "code",
   "execution_count": 8,
   "id": "c8287ae6",
   "metadata": {
    "execution": {
     "iopub.execute_input": "2023-05-29T00:41:34.238526Z",
     "iopub.status.busy": "2023-05-29T00:41:34.237767Z",
     "iopub.status.idle": "2023-05-29T00:41:34.242087Z",
     "shell.execute_reply": "2023-05-29T00:41:34.241248Z"
    },
    "papermill": {
     "duration": 0.020922,
     "end_time": "2023-05-29T00:41:34.244029",
     "exception": false,
     "start_time": "2023-05-29T00:41:34.223107",
     "status": "completed"
    },
    "tags": []
   },
   "outputs": [],
   "source": [
    "#dialog_context_struct[0:2]"
   ]
  },
  {
   "cell_type": "code",
   "execution_count": 9,
   "id": "8e70f726",
   "metadata": {
    "execution": {
     "iopub.execute_input": "2023-05-29T00:41:34.272521Z",
     "iopub.status.busy": "2023-05-29T00:41:34.272252Z",
     "iopub.status.idle": "2023-05-29T00:41:34.278414Z",
     "shell.execute_reply": "2023-05-29T00:41:34.277541Z"
    },
    "papermill": {
     "duration": 0.022344,
     "end_time": "2023-05-29T00:41:34.280357",
     "exception": false,
     "start_time": "2023-05-29T00:41:34.258013",
     "status": "completed"
    },
    "tags": []
   },
   "outputs": [],
   "source": [
    "def build_batch(d_c_struct, p_struct, conv, turn):\n",
    "    length = len(d_c_struct[conv])\n",
    "    if turn >= length-1: \n",
    "        return d_c_struct[conv][length-1], ''.join(d_c_struct[conv][:length-1]), p_struct[conv][length-1]\n",
    "    else: \n",
    "        return d_c_struct[conv][turn+1], ''.join(d_c_struct[conv][0:turn+1]), p_struct[conv][turn]\n",
    "\n",
    "#conv = 0\n",
    "#turn = 10\n",
    "\n",
    "#expected_answer, dialog_context, retrieved_passages = build_batch(dialog_context_struct, passages_struct, conv, turn)\n",
    "\n",
    "#print(dialog_context)\n",
    "#print(retrieved_passages)\n",
    "#print(expected_answer)\n"
   ]
  },
  {
   "cell_type": "code",
   "execution_count": 10,
   "id": "cfb43255",
   "metadata": {
    "execution": {
     "iopub.execute_input": "2023-05-29T00:41:34.309058Z",
     "iopub.status.busy": "2023-05-29T00:41:34.308307Z",
     "iopub.status.idle": "2023-05-29T00:41:34.312342Z",
     "shell.execute_reply": "2023-05-29T00:41:34.311501Z"
    },
    "papermill": {
     "duration": 0.020552,
     "end_time": "2023-05-29T00:41:34.314239",
     "exception": false,
     "start_time": "2023-05-29T00:41:34.293687",
     "status": "completed"
    },
    "tags": []
   },
   "outputs": [],
   "source": [
    "\n",
    "#print(tdialog_context_struct))\n",
    "#print(type(dialog_context_struct[0]))"
   ]
  },
  {
   "cell_type": "code",
   "execution_count": 11,
   "id": "78270c58",
   "metadata": {
    "execution": {
     "iopub.execute_input": "2023-05-29T00:41:34.342666Z",
     "iopub.status.busy": "2023-05-29T00:41:34.341960Z",
     "iopub.status.idle": "2023-05-29T00:41:34.346315Z",
     "shell.execute_reply": "2023-05-29T00:41:34.345486Z"
    },
    "papermill": {
     "duration": 0.020375,
     "end_time": "2023-05-29T00:41:34.348205",
     "exception": false,
     "start_time": "2023-05-29T00:41:34.327830",
     "status": "completed"
    },
    "tags": []
   },
   "outputs": [],
   "source": [
    "#input_text = f\"Given the following passage, continue the related conversation.\\n\\nPassage:\\n\\n{passage}\\n\\nCONVERSATION: {dialog_context}\""
   ]
  },
  {
   "cell_type": "markdown",
   "id": "533f1b17",
   "metadata": {
    "papermill": {
     "duration": 0.01334,
     "end_time": "2023-05-29T00:41:34.374953",
     "exception": false,
     "start_time": "2023-05-29T00:41:34.361613",
     "status": "completed"
    },
    "tags": []
   },
   "source": [
    "## Tutotial 9 adaptation"
   ]
  },
  {
   "cell_type": "markdown",
   "id": "c94f77bd",
   "metadata": {
    "papermill": {
     "duration": 0.013105,
     "end_time": "2023-05-29T00:41:34.401390",
     "exception": false,
     "start_time": "2023-05-29T00:41:34.388285",
     "status": "completed"
    },
    "tags": []
   },
   "source": [
    "Building the dictionary stuctures for the model"
   ]
  },
  {
   "cell_type": "markdown",
   "id": "063dde2c",
   "metadata": {
    "papermill": {
     "duration": 0.013449,
     "end_time": "2023-05-29T00:41:34.428292",
     "exception": false,
     "start_time": "2023-05-29T00:41:34.414843",
     "status": "completed"
    },
    "tags": []
   },
   "source": [
    "Encoder"
   ]
  },
  {
   "cell_type": "code",
   "execution_count": 12,
   "id": "504b204c",
   "metadata": {
    "execution": {
     "iopub.execute_input": "2023-05-29T00:41:34.456520Z",
     "iopub.status.busy": "2023-05-29T00:41:34.455819Z",
     "iopub.status.idle": "2023-05-29T00:42:08.459134Z",
     "shell.execute_reply": "2023-05-29T00:42:08.457927Z"
    },
    "papermill": {
     "duration": 34.02038,
     "end_time": "2023-05-29T00:42:08.461886",
     "exception": false,
     "start_time": "2023-05-29T00:41:34.441506",
     "status": "completed"
    },
    "tags": []
   },
   "outputs": [
    {
     "name": "stdout",
     "output_type": "stream",
     "text": [
      "\u001b[33mWARNING: Running pip as the 'root' user can result in broken permissions and conflicting behaviour with the system package manager. It is recommended to use a virtual environment instead: https://pip.pypa.io/warnings/venv\u001b[0m\u001b[33m\r\n",
      "\u001b[0m\u001b[33mWARNING: Running pip as the 'root' user can result in broken permissions and conflicting behaviour with the system package manager. It is recommended to use a virtual environment instead: https://pip.pypa.io/warnings/venv\u001b[0m\u001b[33m\r\n",
      "\u001b[0m"
     ]
    }
   ],
   "source": [
    "!pip -q install transformers==4.22.2\n",
    "!pip -q install -U sentence-transformers"
   ]
  },
  {
   "cell_type": "markdown",
   "id": "9f9ec602",
   "metadata": {
    "papermill": {
     "duration": 0.013665,
     "end_time": "2023-05-29T00:42:08.489601",
     "exception": false,
     "start_time": "2023-05-29T00:42:08.475936",
     "status": "completed"
    },
    "tags": []
   },
   "source": [
    "Compute the embeddings"
   ]
  },
  {
   "cell_type": "code",
   "execution_count": 13,
   "id": "588f01e8",
   "metadata": {
    "execution": {
     "iopub.execute_input": "2023-05-29T00:42:08.518323Z",
     "iopub.status.busy": "2023-05-29T00:42:08.517989Z",
     "iopub.status.idle": "2023-05-29T00:42:08.522455Z",
     "shell.execute_reply": "2023-05-29T00:42:08.521553Z"
    },
    "papermill": {
     "duration": 0.021407,
     "end_time": "2023-05-29T00:42:08.524412",
     "exception": false,
     "start_time": "2023-05-29T00:42:08.503005",
     "status": "completed"
    },
    "tags": []
   },
   "outputs": [],
   "source": [
    "#passages_struct[0][0]"
   ]
  },
  {
   "cell_type": "code",
   "execution_count": 14,
   "id": "71140314",
   "metadata": {
    "execution": {
     "iopub.execute_input": "2023-05-29T00:42:08.553681Z",
     "iopub.status.busy": "2023-05-29T00:42:08.552912Z",
     "iopub.status.idle": "2023-05-29T00:42:08.557396Z",
     "shell.execute_reply": "2023-05-29T00:42:08.556474Z"
    },
    "papermill": {
     "duration": 0.021226,
     "end_time": "2023-05-29T00:42:08.559394",
     "exception": false,
     "start_time": "2023-05-29T00:42:08.538168",
     "status": "completed"
    },
    "tags": []
   },
   "outputs": [],
   "source": [
    "#embedded_sentences[0][0][0].shape"
   ]
  },
  {
   "cell_type": "markdown",
   "id": "133536c9",
   "metadata": {
    "papermill": {
     "duration": 0.014415,
     "end_time": "2023-05-29T00:42:08.587325",
     "exception": false,
     "start_time": "2023-05-29T00:42:08.572910",
     "status": "completed"
    },
    "tags": []
   },
   "source": [
    "Decoder"
   ]
  },
  {
   "cell_type": "markdown",
   "id": "58f8dba5",
   "metadata": {
    "papermill": {
     "duration": 0.015544,
     "end_time": "2023-05-29T00:42:08.618593",
     "exception": false,
     "start_time": "2023-05-29T00:42:08.603049",
     "status": "completed"
    },
    "tags": []
   },
   "source": []
  },
  {
   "cell_type": "code",
   "execution_count": null,
   "id": "b683b515",
   "metadata": {
    "papermill": {
     "duration": 0.015814,
     "end_time": "2023-05-29T00:42:08.650234",
     "exception": false,
     "start_time": "2023-05-29T00:42:08.634420",
     "status": "completed"
    },
    "tags": []
   },
   "outputs": [],
   "source": []
  },
  {
   "cell_type": "code",
   "execution_count": 15,
   "id": "3cf90c93",
   "metadata": {
    "execution": {
     "iopub.execute_input": "2023-05-29T00:42:08.682879Z",
     "iopub.status.busy": "2023-05-29T00:42:08.681928Z",
     "iopub.status.idle": "2023-05-29T00:42:11.284401Z",
     "shell.execute_reply": "2023-05-29T00:42:11.282594Z"
    },
    "papermill": {
     "duration": 2.620524,
     "end_time": "2023-05-29T00:42:11.286642",
     "exception": false,
     "start_time": "2023-05-29T00:42:08.666118",
     "status": "completed"
    },
    "tags": []
   },
   "outputs": [
    {
     "name": "stdout",
     "output_type": "stream",
     "text": [
      "sentence-transformers==2.2.2\r\n",
      "transformers==4.22.2\r\n",
      "Note: you may need to restart the kernel to use updated packages.\n"
     ]
    }
   ],
   "source": [
    "pip freeze | grep transformers"
   ]
  },
  {
   "cell_type": "code",
   "execution_count": 16,
   "id": "cba63d78",
   "metadata": {
    "execution": {
     "iopub.execute_input": "2023-05-29T00:42:11.316031Z",
     "iopub.status.busy": "2023-05-29T00:42:11.315722Z",
     "iopub.status.idle": "2023-05-29T00:42:22.603944Z",
     "shell.execute_reply": "2023-05-29T00:42:22.602647Z"
    },
    "papermill": {
     "duration": 11.305855,
     "end_time": "2023-05-29T00:42:22.606684",
     "exception": false,
     "start_time": "2023-05-29T00:42:11.300829",
     "status": "completed"
    },
    "tags": []
   },
   "outputs": [
    {
     "name": "stdout",
     "output_type": "stream",
     "text": [
      "Requirement already satisfied: accelerate in /opt/conda/lib/python3.10/site-packages (0.12.0)\r\n",
      "Requirement already satisfied: numpy>=1.17 in /opt/conda/lib/python3.10/site-packages (from accelerate) (1.23.5)\r\n",
      "Requirement already satisfied: packaging>=20.0 in /opt/conda/lib/python3.10/site-packages (from accelerate) (21.3)\r\n",
      "Requirement already satisfied: psutil in /opt/conda/lib/python3.10/site-packages (from accelerate) (5.9.3)\r\n",
      "Requirement already satisfied: pyyaml in /opt/conda/lib/python3.10/site-packages (from accelerate) (5.4.1)\r\n",
      "Requirement already satisfied: torch>=1.4.0 in /opt/conda/lib/python3.10/site-packages (from accelerate) (2.0.0)\r\n",
      "Requirement already satisfied: pyparsing!=3.0.5,>=2.0.2 in /opt/conda/lib/python3.10/site-packages (from packaging>=20.0->accelerate) (3.0.9)\r\n",
      "Requirement already satisfied: filelock in /opt/conda/lib/python3.10/site-packages (from torch>=1.4.0->accelerate) (3.12.0)\r\n",
      "Requirement already satisfied: typing-extensions in /opt/conda/lib/python3.10/site-packages (from torch>=1.4.0->accelerate) (4.5.0)\r\n",
      "Requirement already satisfied: sympy in /opt/conda/lib/python3.10/site-packages (from torch>=1.4.0->accelerate) (1.12)\r\n",
      "Requirement already satisfied: networkx in /opt/conda/lib/python3.10/site-packages (from torch>=1.4.0->accelerate) (3.1)\r\n",
      "Requirement already satisfied: jinja2 in /opt/conda/lib/python3.10/site-packages (from torch>=1.4.0->accelerate) (3.1.2)\r\n",
      "Requirement already satisfied: MarkupSafe>=2.0 in /opt/conda/lib/python3.10/site-packages (from jinja2->torch>=1.4.0->accelerate) (2.1.2)\r\n",
      "Requirement already satisfied: mpmath>=0.19 in /opt/conda/lib/python3.10/site-packages (from sympy->torch>=1.4.0->accelerate) (1.3.0)\r\n",
      "\u001b[33mWARNING: Running pip as the 'root' user can result in broken permissions and conflicting behaviour with the system package manager. It is recommended to use a virtual environment instead: https://pip.pypa.io/warnings/venv\u001b[0m\u001b[33m\r\n",
      "\u001b[0m"
     ]
    }
   ],
   "source": [
    "!pip install accelerate"
   ]
  },
  {
   "cell_type": "markdown",
   "id": "30c607fc",
   "metadata": {
    "papermill": {
     "duration": 0.01454,
     "end_time": "2023-05-29T00:42:22.636768",
     "exception": false,
     "start_time": "2023-05-29T00:42:22.622228",
     "status": "completed"
    },
    "tags": []
   },
   "source": [
    "Preparation of train and valid sets for fine tuning"
   ]
  },
  {
   "cell_type": "code",
   "execution_count": 17,
   "id": "97a75445",
   "metadata": {
    "execution": {
     "iopub.execute_input": "2023-05-29T00:42:22.666882Z",
     "iopub.status.busy": "2023-05-29T00:42:22.666522Z",
     "iopub.status.idle": "2023-05-29T00:42:25.272421Z",
     "shell.execute_reply": "2023-05-29T00:42:25.271501Z"
    },
    "papermill": {
     "duration": 2.62324,
     "end_time": "2023-05-29T00:42:25.274453",
     "exception": false,
     "start_time": "2023-05-29T00:42:22.651213",
     "status": "completed"
    },
    "tags": []
   },
   "outputs": [
    {
     "name": "stderr",
     "output_type": "stream",
     "text": [
      "\u001b[34m\u001b[1mwandb\u001b[0m: W&B API key is configured. Use \u001b[1m`wandb login --relogin`\u001b[0m to force relogin\n",
      "\u001b[34m\u001b[1mwandb\u001b[0m: \u001b[33mWARNING\u001b[0m If you're specifying your api key in code, ensure this code is not shared publicly.\n",
      "\u001b[34m\u001b[1mwandb\u001b[0m: \u001b[33mWARNING\u001b[0m Consider setting the WANDB_API_KEY environment variable, or running `wandb login` from the command line.\n",
      "\u001b[34m\u001b[1mwandb\u001b[0m: Appending key for api.wandb.ai to your netrc file: /root/.netrc\n"
     ]
    },
    {
     "data": {
      "text/plain": [
       "True"
      ]
     },
     "execution_count": 17,
     "metadata": {},
     "output_type": "execute_result"
    }
   ],
   "source": [
    "import wandb\n",
    "\n",
    "wandb.login(key=\"3b6a39543333ed99129ca04698a32714e7f91fc4\")\n",
    "#wandb.login(key=[3b6a39543333ed99129ca04698a32714e7f91fc4])"
   ]
  },
  {
   "cell_type": "code",
   "execution_count": 18,
   "id": "897df891",
   "metadata": {
    "execution": {
     "iopub.execute_input": "2023-05-29T00:42:25.306841Z",
     "iopub.status.busy": "2023-05-29T00:42:25.306124Z",
     "iopub.status.idle": "2023-05-29T00:42:48.219354Z",
     "shell.execute_reply": "2023-05-29T00:42:48.218439Z"
    },
    "papermill": {
     "duration": 22.931567,
     "end_time": "2023-05-29T00:42:48.221787",
     "exception": false,
     "start_time": "2023-05-29T00:42:25.290220",
     "status": "completed"
    },
    "tags": []
   },
   "outputs": [
    {
     "data": {
      "application/vnd.jupyter.widget-view+json": {
       "model_id": "3463c8ad37ca41558d35cb9ce068a170",
       "version_major": 2,
       "version_minor": 0
      },
      "text/plain": [
       "Downloading (…)lve/main/config.json:   0%|          | 0.00/665 [00:00<?, ?B/s]"
      ]
     },
     "metadata": {},
     "output_type": "display_data"
    },
    {
     "data": {
      "application/vnd.jupyter.widget-view+json": {
       "model_id": "86c92e253a7a4a20a34eac817ea3f987",
       "version_major": 2,
       "version_minor": 0
      },
      "text/plain": [
       "Downloading (…)olve/main/vocab.json:   0%|          | 0.00/1.04M [00:00<?, ?B/s]"
      ]
     },
     "metadata": {},
     "output_type": "display_data"
    },
    {
     "data": {
      "application/vnd.jupyter.widget-view+json": {
       "model_id": "da168bec1b074020b27ba57c4ce3a55f",
       "version_major": 2,
       "version_minor": 0
      },
      "text/plain": [
       "Downloading (…)olve/main/merges.txt:   0%|          | 0.00/456k [00:00<?, ?B/s]"
      ]
     },
     "metadata": {},
     "output_type": "display_data"
    },
    {
     "data": {
      "application/vnd.jupyter.widget-view+json": {
       "model_id": "14af7fa808d448cca34e29c7df260ff9",
       "version_major": 2,
       "version_minor": 0
      },
      "text/plain": [
       "Downloading (…)/main/tokenizer.json:   0%|          | 0.00/1.36M [00:00<?, ?B/s]"
      ]
     },
     "metadata": {},
     "output_type": "display_data"
    },
    {
     "name": "stderr",
     "output_type": "stream",
     "text": [
      "/opt/conda/lib/python3.10/site-packages/tensorflow_io/python/ops/__init__.py:98: UserWarning: unable to load libtensorflow_io_plugins.so: unable to open file: libtensorflow_io_plugins.so, from paths: ['/opt/conda/lib/python3.10/site-packages/tensorflow_io/python/ops/libtensorflow_io_plugins.so']\n",
      "caused by: ['/opt/conda/lib/python3.10/site-packages/tensorflow_io/python/ops/libtensorflow_io_plugins.so: undefined symbol: _ZN3tsl6StatusC1EN10tensorflow5error4CodeESt17basic_string_viewIcSt11char_traitsIcEENS_14SourceLocationE']\n",
      "  warnings.warn(f\"unable to load libtensorflow_io_plugins.so: {e}\")\n",
      "/opt/conda/lib/python3.10/site-packages/tensorflow_io/python/ops/__init__.py:104: UserWarning: file system plugins are not loaded: unable to open file: libtensorflow_io.so, from paths: ['/opt/conda/lib/python3.10/site-packages/tensorflow_io/python/ops/libtensorflow_io.so']\n",
      "caused by: ['/opt/conda/lib/python3.10/site-packages/tensorflow_io/python/ops/libtensorflow_io.so: undefined symbol: _ZTVN10tensorflow13GcsFileSystemE']\n",
      "  warnings.warn(f\"file system plugins are not loaded: {e}\")\n"
     ]
    },
    {
     "data": {
      "application/vnd.jupyter.widget-view+json": {
       "model_id": "b44cca73d0ce4e8d8d92d12ca99fe2b4",
       "version_major": 2,
       "version_minor": 0
      },
      "text/plain": [
       "Downloading pytorch_model.bin:   0%|          | 0.00/548M [00:00<?, ?B/s]"
      ]
     },
     "metadata": {},
     "output_type": "display_data"
    },
    {
     "data": {
      "text/plain": [
       "GPT2LMHeadModel(\n",
       "  (transformer): GPT2Model(\n",
       "    (wte): Embedding(50257, 768)\n",
       "    (wpe): Embedding(1024, 768)\n",
       "    (drop): Dropout(p=0.1, inplace=False)\n",
       "    (h): ModuleList(\n",
       "      (0-11): 12 x GPT2Block(\n",
       "        (ln_1): LayerNorm((768,), eps=1e-05, elementwise_affine=True)\n",
       "        (attn): GPT2Attention(\n",
       "          (c_attn): Conv1D()\n",
       "          (c_proj): Conv1D()\n",
       "          (attn_dropout): Dropout(p=0.1, inplace=False)\n",
       "          (resid_dropout): Dropout(p=0.1, inplace=False)\n",
       "        )\n",
       "        (ln_2): LayerNorm((768,), eps=1e-05, elementwise_affine=True)\n",
       "        (mlp): GPT2MLP(\n",
       "          (c_fc): Conv1D()\n",
       "          (c_proj): Conv1D()\n",
       "          (act): NewGELUActivation()\n",
       "          (dropout): Dropout(p=0.1, inplace=False)\n",
       "        )\n",
       "      )\n",
       "    )\n",
       "    (ln_f): LayerNorm((768,), eps=1e-05, elementwise_affine=True)\n",
       "  )\n",
       "  (lm_head): Linear(in_features=768, out_features=50257, bias=False)\n",
       ")"
      ]
     },
     "execution_count": 18,
     "metadata": {},
     "output_type": "execute_result"
    }
   ],
   "source": [
    "import torch\n",
    "from transformers import AutoTokenizer, AutoModelForCausalLM\n",
    "\n",
    "device = torch.device('cuda' if torch.cuda.is_available() else 'cpu')\n",
    "\n",
    "model_id = 'gpt2'\n",
    "\n",
    "tokenizer = AutoTokenizer.from_pretrained(model_id)\n",
    "model = AutoModelForCausalLM.from_pretrained(model_id, device_map=\"auto\")\n",
    "\n",
    "\n",
    "model.to(device)"
   ]
  },
  {
   "cell_type": "code",
   "execution_count": null,
   "id": "f36802c0",
   "metadata": {
    "papermill": {
     "duration": 0.015986,
     "end_time": "2023-05-29T00:42:48.254119",
     "exception": false,
     "start_time": "2023-05-29T00:42:48.238133",
     "status": "completed"
    },
    "tags": []
   },
   "outputs": [],
   "source": []
  },
  {
   "cell_type": "code",
   "execution_count": 19,
   "id": "3047e0e4",
   "metadata": {
    "execution": {
     "iopub.execute_input": "2023-05-29T00:42:48.289126Z",
     "iopub.status.busy": "2023-05-29T00:42:48.287854Z",
     "iopub.status.idle": "2023-05-29T00:42:48.293405Z",
     "shell.execute_reply": "2023-05-29T00:42:48.292601Z"
    },
    "papermill": {
     "duration": 0.024228,
     "end_time": "2023-05-29T00:42:48.295372",
     "exception": false,
     "start_time": "2023-05-29T00:42:48.271144",
     "status": "completed"
    },
    "tags": []
   },
   "outputs": [],
   "source": [
    "tokenizer.pad_token = tokenizer.eos_token"
   ]
  },
  {
   "cell_type": "code",
   "execution_count": 20,
   "id": "4a467ec4",
   "metadata": {
    "execution": {
     "iopub.execute_input": "2023-05-29T00:42:48.330100Z",
     "iopub.status.busy": "2023-05-29T00:42:48.329445Z",
     "iopub.status.idle": "2023-05-29T00:42:48.340672Z",
     "shell.execute_reply": "2023-05-29T00:42:48.339629Z"
    },
    "papermill": {
     "duration": 0.029558,
     "end_time": "2023-05-29T00:42:48.342668",
     "exception": false,
     "start_time": "2023-05-29T00:42:48.313110",
     "status": "completed"
    },
    "tags": []
   },
   "outputs": [],
   "source": [
    "def build_strings(d_c_struct, eos_token):\n",
    "    strings = []\n",
    "    for conversation in d_c_struct:\n",
    "        strings.append(eos_token.join(conversation))\n",
    "    return strings\n",
    "\n",
    "test = build_strings(dialog_context_struct, tokenizer.eos_token)"
   ]
  },
  {
   "cell_type": "code",
   "execution_count": 21,
   "id": "c381e64c",
   "metadata": {
    "execution": {
     "iopub.execute_input": "2023-05-29T00:42:48.376152Z",
     "iopub.status.busy": "2023-05-29T00:42:48.375890Z",
     "iopub.status.idle": "2023-05-29T00:42:48.712934Z",
     "shell.execute_reply": "2023-05-29T00:42:48.709956Z"
    },
    "papermill": {
     "duration": 0.357363,
     "end_time": "2023-05-29T00:42:48.715427",
     "exception": false,
     "start_time": "2023-05-29T00:42:48.358064",
     "status": "completed"
    },
    "tags": []
   },
   "outputs": [],
   "source": [
    "# Split dataset into train and valid sets, then build the dialog context strings\n",
    "\n",
    "training_data_str = build_strings(test, tokenizer.eos_token)\n",
    "validation_data_str = build_strings(valid, tokenizer.eos_token)\n"
   ]
  },
  {
   "cell_type": "markdown",
   "id": "ce0c73e1",
   "metadata": {
    "papermill": {
     "duration": 0.015799,
     "end_time": "2023-05-29T00:42:48.747466",
     "exception": false,
     "start_time": "2023-05-29T00:42:48.731667",
     "status": "completed"
    },
    "tags": []
   },
   "source": [
    "Building the fine tuning dataset"
   ]
  },
  {
   "cell_type": "code",
   "execution_count": 22,
   "id": "e919143e",
   "metadata": {
    "execution": {
     "iopub.execute_input": "2023-05-29T00:42:48.781191Z",
     "iopub.status.busy": "2023-05-29T00:42:48.780225Z",
     "iopub.status.idle": "2023-05-29T00:42:49.544410Z",
     "shell.execute_reply": "2023-05-29T00:42:49.543484Z"
    },
    "papermill": {
     "duration": 0.783409,
     "end_time": "2023-05-29T00:42:49.546846",
     "exception": false,
     "start_time": "2023-05-29T00:42:48.763437",
     "status": "completed"
    },
    "tags": []
   },
   "outputs": [],
   "source": [
    "from datasets import Dataset\n",
    "\n",
    "train_data = Dataset.from_dict({'text': training_data_str})\n",
    "valid_data = Dataset.from_dict({'text': validation_data_str})"
   ]
  },
  {
   "cell_type": "code",
   "execution_count": 23,
   "id": "aebbf0bd",
   "metadata": {
    "execution": {
     "iopub.execute_input": "2023-05-29T00:42:49.581957Z",
     "iopub.status.busy": "2023-05-29T00:42:49.579874Z",
     "iopub.status.idle": "2023-05-29T00:42:49.585881Z",
     "shell.execute_reply": "2023-05-29T00:42:49.585009Z"
    },
    "papermill": {
     "duration": 0.024597,
     "end_time": "2023-05-29T00:42:49.587824",
     "exception": false,
     "start_time": "2023-05-29T00:42:49.563227",
     "status": "completed"
    },
    "tags": []
   },
   "outputs": [],
   "source": [
    "from datasets import DatasetDict\n",
    "\n",
    "data = DatasetDict()\n",
    "data['train'] = train_data\n",
    "data['validation'] = valid_data\n",
    "data['test'] = valid_data"
   ]
  },
  {
   "cell_type": "markdown",
   "id": "97f5c6f4",
   "metadata": {
    "papermill": {
     "duration": 0.015383,
     "end_time": "2023-05-29T00:42:49.619366",
     "exception": false,
     "start_time": "2023-05-29T00:42:49.603983",
     "status": "completed"
    },
    "tags": []
   },
   "source": [
    "Tokenization of inputs"
   ]
  },
  {
   "cell_type": "code",
   "execution_count": 24,
   "id": "e58332f9",
   "metadata": {
    "execution": {
     "iopub.execute_input": "2023-05-29T00:42:49.652968Z",
     "iopub.status.busy": "2023-05-29T00:42:49.652704Z",
     "iopub.status.idle": "2023-05-29T00:43:26.100209Z",
     "shell.execute_reply": "2023-05-29T00:43:26.099246Z"
    },
    "papermill": {
     "duration": 36.466655,
     "end_time": "2023-05-29T00:43:26.102332",
     "exception": false,
     "start_time": "2023-05-29T00:42:49.635677",
     "status": "completed"
    },
    "tags": []
   },
   "outputs": [
    {
     "data": {
      "application/vnd.jupyter.widget-view+json": {
       "model_id": "eefe4b42de084cd88c9bc5eb8a9aa6bb",
       "version_major": 2,
       "version_minor": 0
      },
      "text/plain": [
       "  0%|          | 0/8 [00:00<?, ?ba/s]"
      ]
     },
     "metadata": {},
     "output_type": "display_data"
    },
    {
     "data": {
      "application/vnd.jupyter.widget-view+json": {
       "model_id": "815160f2a9184b85a90bc5646299f502",
       "version_major": 2,
       "version_minor": 0
      },
      "text/plain": [
       "  0%|          | 0/2 [00:00<?, ?ba/s]"
      ]
     },
     "metadata": {},
     "output_type": "display_data"
    },
    {
     "data": {
      "application/vnd.jupyter.widget-view+json": {
       "model_id": "5e44a28600df4b6696b3f1bec69fbc97",
       "version_major": 2,
       "version_minor": 0
      },
      "text/plain": [
       "  0%|          | 0/2 [00:00<?, ?ba/s]"
      ]
     },
     "metadata": {},
     "output_type": "display_data"
    }
   ],
   "source": [
    "def tokenize_function(examples):\n",
    "    input_encodings = tokenizer(examples[\"text\"], padding=True, truncation=True)\n",
    "    sample = {\n",
    "        'input_ids': input_encodings.input_ids\n",
    "    }\n",
    "    return sample\n",
    "\n",
    "tokenized_data = data.map(tokenize_function, batched=True)\n",
    "\n",
    "# TO DO: CACHE THIS tokenized_data SO YOU DON'T HAVE TO RECALCULATE IT EVERY TIME !!!"
   ]
  },
  {
   "cell_type": "code",
   "execution_count": 25,
   "id": "d85b5aec",
   "metadata": {
    "execution": {
     "iopub.execute_input": "2023-05-29T00:43:26.137090Z",
     "iopub.status.busy": "2023-05-29T00:43:26.136232Z",
     "iopub.status.idle": "2023-05-29T00:43:26.150677Z",
     "shell.execute_reply": "2023-05-29T00:43:26.149847Z"
    },
    "papermill": {
     "duration": 0.03364,
     "end_time": "2023-05-29T00:43:26.152688",
     "exception": false,
     "start_time": "2023-05-29T00:43:26.119048",
     "status": "completed"
    },
    "tags": []
   },
   "outputs": [],
   "source": [
    "from transformers import DataCollatorForLanguageModeling\n",
    "\n",
    "data_collator = DataCollatorForLanguageModeling(tokenizer, mlm=False)"
   ]
  },
  {
   "cell_type": "code",
   "execution_count": 26,
   "id": "ecc2cacb",
   "metadata": {
    "execution": {
     "iopub.execute_input": "2023-05-29T00:43:26.186943Z",
     "iopub.status.busy": "2023-05-29T00:43:26.186673Z",
     "iopub.status.idle": "2023-05-29T00:43:26.205829Z",
     "shell.execute_reply": "2023-05-29T00:43:26.204989Z"
    },
    "papermill": {
     "duration": 0.038928,
     "end_time": "2023-05-29T00:43:26.207754",
     "exception": false,
     "start_time": "2023-05-29T00:43:26.168826",
     "status": "completed"
    },
    "tags": []
   },
   "outputs": [],
   "source": [
    "from transformers import TrainingArguments\n",
    "\n",
    "training_args = TrainingArguments(\n",
    "    \"ash_ketchum\", \n",
    "    #evaluation_strategy=\"steps\",\n",
    "    per_device_train_batch_size=2,\n",
    "    per_device_eval_batch_size=2,\n",
    "    gradient_accumulation_steps=2,\n",
    "    num_train_epochs=11,\n",
    "    learning_rate=6.25e-5,\n",
    "    lr_scheduler_type=\"linear\",\n",
    "    save_strategy=\"no\"\n",
    "    \n",
    ")"
   ]
  },
  {
   "cell_type": "code",
   "execution_count": 27,
   "id": "3e4e87bf",
   "metadata": {
    "execution": {
     "iopub.execute_input": "2023-05-29T00:43:26.241476Z",
     "iopub.status.busy": "2023-05-29T00:43:26.240710Z",
     "iopub.status.idle": "2023-05-29T00:43:26.247253Z",
     "shell.execute_reply": "2023-05-29T00:43:26.246202Z"
    },
    "papermill": {
     "duration": 0.025257,
     "end_time": "2023-05-29T00:43:26.249234",
     "exception": false,
     "start_time": "2023-05-29T00:43:26.223977",
     "status": "completed"
    },
    "tags": []
   },
   "outputs": [],
   "source": [
    "optim = torch.optim.AdamW(model.parameters(),lr=5e-5)\n",
    "scheduler = torch.optim.lr_scheduler.CosineAnnealingWarmRestarts(optim,20,eta_min=1e-7)"
   ]
  },
  {
   "cell_type": "code",
   "execution_count": 28,
   "id": "3d5b7cb5",
   "metadata": {
    "execution": {
     "iopub.execute_input": "2023-05-29T00:43:26.284352Z",
     "iopub.status.busy": "2023-05-29T00:43:26.283469Z",
     "iopub.status.idle": "2023-05-29T00:43:37.704662Z",
     "shell.execute_reply": "2023-05-29T00:43:37.703314Z"
    },
    "papermill": {
     "duration": 11.441539,
     "end_time": "2023-05-29T00:43:37.707419",
     "exception": false,
     "start_time": "2023-05-29T00:43:26.265880",
     "status": "completed"
    },
    "tags": []
   },
   "outputs": [
    {
     "name": "stdout",
     "output_type": "stream",
     "text": [
      "huggingface/tokenizers: The current process just got forked, after parallelism has already been used. Disabling parallelism to avoid deadlocks...\n",
      "To disable this warning, you can either:\n",
      "\t- Avoid using `tokenizers` before the fork if possible\n",
      "\t- Explicitly set the environment variable TOKENIZERS_PARALLELISM=(true | false)\n",
      "Requirement already satisfied: accelerate in /opt/conda/lib/python3.10/site-packages (0.12.0)\r\n",
      "Collecting accelerate\r\n",
      "  Downloading accelerate-0.19.0-py3-none-any.whl (219 kB)\r\n",
      "\u001b[2K     \u001b[90m━━━━━━━━━━━━━━━━━━━━━━━━━━━━━━━━━━━━━━━\u001b[0m \u001b[32m219.1/219.1 kB\u001b[0m \u001b[31m5.0 MB/s\u001b[0m eta \u001b[36m0:00:00\u001b[0m\r\n",
      "\u001b[?25hRequirement already satisfied: numpy>=1.17 in /opt/conda/lib/python3.10/site-packages (from accelerate) (1.23.5)\r\n",
      "Requirement already satisfied: packaging>=20.0 in /opt/conda/lib/python3.10/site-packages (from accelerate) (21.3)\r\n",
      "Requirement already satisfied: psutil in /opt/conda/lib/python3.10/site-packages (from accelerate) (5.9.3)\r\n",
      "Requirement already satisfied: pyyaml in /opt/conda/lib/python3.10/site-packages (from accelerate) (5.4.1)\r\n",
      "Requirement already satisfied: torch>=1.6.0 in /opt/conda/lib/python3.10/site-packages (from accelerate) (2.0.0)\r\n",
      "Requirement already satisfied: pyparsing!=3.0.5,>=2.0.2 in /opt/conda/lib/python3.10/site-packages (from packaging>=20.0->accelerate) (3.0.9)\r\n",
      "Requirement already satisfied: filelock in /opt/conda/lib/python3.10/site-packages (from torch>=1.6.0->accelerate) (3.12.0)\r\n",
      "Requirement already satisfied: typing-extensions in /opt/conda/lib/python3.10/site-packages (from torch>=1.6.0->accelerate) (4.5.0)\r\n",
      "Requirement already satisfied: sympy in /opt/conda/lib/python3.10/site-packages (from torch>=1.6.0->accelerate) (1.12)\r\n",
      "Requirement already satisfied: networkx in /opt/conda/lib/python3.10/site-packages (from torch>=1.6.0->accelerate) (3.1)\r\n",
      "Requirement already satisfied: jinja2 in /opt/conda/lib/python3.10/site-packages (from torch>=1.6.0->accelerate) (3.1.2)\r\n",
      "Requirement already satisfied: MarkupSafe>=2.0 in /opt/conda/lib/python3.10/site-packages (from jinja2->torch>=1.6.0->accelerate) (2.1.2)\r\n",
      "Requirement already satisfied: mpmath>=0.19 in /opt/conda/lib/python3.10/site-packages (from sympy->torch>=1.6.0->accelerate) (1.3.0)\r\n",
      "Installing collected packages: accelerate\r\n",
      "  Attempting uninstall: accelerate\r\n",
      "    Found existing installation: accelerate 0.12.0\r\n",
      "    Uninstalling accelerate-0.12.0:\r\n",
      "      Successfully uninstalled accelerate-0.12.0\r\n",
      "Successfully installed accelerate-0.19.0\r\n",
      "\u001b[33mWARNING: Running pip as the 'root' user can result in broken permissions and conflicting behaviour with the system package manager. It is recommended to use a virtual environment instead: https://pip.pypa.io/warnings/venv\u001b[0m\u001b[33m\r\n",
      "\u001b[0m"
     ]
    }
   ],
   "source": [
    "!pip install -U accelerate"
   ]
  },
  {
   "cell_type": "code",
   "execution_count": 29,
   "id": "9d6e22c5",
   "metadata": {
    "execution": {
     "iopub.execute_input": "2023-05-29T00:43:37.744007Z",
     "iopub.status.busy": "2023-05-29T00:43:37.743654Z",
     "iopub.status.idle": "2023-05-29T00:43:37.748468Z",
     "shell.execute_reply": "2023-05-29T00:43:37.747540Z"
    },
    "papermill": {
     "duration": 0.024987,
     "end_time": "2023-05-29T00:43:37.750418",
     "exception": false,
     "start_time": "2023-05-29T00:43:37.725431",
     "status": "completed"
    },
    "tags": []
   },
   "outputs": [],
   "source": [
    "#!pip -q install transformers==4.22.2"
   ]
  },
  {
   "cell_type": "code",
   "execution_count": 30,
   "id": "9a4b93af",
   "metadata": {
    "execution": {
     "iopub.execute_input": "2023-05-29T00:43:37.786989Z",
     "iopub.status.busy": "2023-05-29T00:43:37.786192Z",
     "iopub.status.idle": "2023-05-29T00:43:37.818955Z",
     "shell.execute_reply": "2023-05-29T00:43:37.818137Z"
    },
    "papermill": {
     "duration": 0.053265,
     "end_time": "2023-05-29T00:43:37.820920",
     "exception": false,
     "start_time": "2023-05-29T00:43:37.767655",
     "status": "completed"
    },
    "tags": []
   },
   "outputs": [],
   "source": [
    "from transformers import TrainingArguments, Trainer\n",
    "\n",
    "trainer = Trainer(\n",
    "    model=model, \n",
    "    args=training_args, \n",
    "    train_dataset=tokenized_data['train'], \n",
    "    eval_dataset=tokenized_data['validation'],\n",
    "    data_collator=data_collator,\n",
    ")"
   ]
  },
  {
   "cell_type": "code",
   "execution_count": 31,
   "id": "6c1c52d7",
   "metadata": {
    "execution": {
     "iopub.execute_input": "2023-05-29T00:43:37.856788Z",
     "iopub.status.busy": "2023-05-29T00:43:37.855907Z",
     "iopub.status.idle": "2023-05-29T00:43:38.959536Z",
     "shell.execute_reply": "2023-05-29T00:43:38.958525Z"
    },
    "papermill": {
     "duration": 1.123603,
     "end_time": "2023-05-29T00:43:38.961656",
     "exception": false,
     "start_time": "2023-05-29T00:43:37.838053",
     "status": "completed"
    },
    "tags": []
   },
   "outputs": [
    {
     "data": {
      "text/plain": [
       "99"
      ]
     },
     "execution_count": 31,
     "metadata": {},
     "output_type": "execute_result"
    }
   ],
   "source": [
    "import gc\n",
    "torch.cuda.empty_cache()\n",
    "gc.collect()"
   ]
  },
  {
   "cell_type": "code",
   "execution_count": 32,
   "id": "86fc511d",
   "metadata": {
    "execution": {
     "iopub.execute_input": "2023-05-29T00:43:38.998461Z",
     "iopub.status.busy": "2023-05-29T00:43:38.998172Z",
     "iopub.status.idle": "2023-05-29T05:18:33.121091Z",
     "shell.execute_reply": "2023-05-29T05:18:33.120099Z"
    },
    "papermill": {
     "duration": 16494.14422,
     "end_time": "2023-05-29T05:18:33.124001",
     "exception": false,
     "start_time": "2023-05-29T00:43:38.979781",
     "status": "completed"
    },
    "tags": []
   },
   "outputs": [
    {
     "name": "stderr",
     "output_type": "stream",
     "text": [
      "The following columns in the training set don't have a corresponding argument in `GPT2LMHeadModel.forward` and have been ignored: text. If text are not expected by `GPT2LMHeadModel.forward`,  you can safely ignore this message.\n",
      "/opt/conda/lib/python3.10/site-packages/transformers/optimization.py:306: FutureWarning: This implementation of AdamW is deprecated and will be removed in a future version. Use the PyTorch implementation torch.optim.AdamW instead, or set `no_deprecation_warning=True` to disable this warning\n",
      "  warnings.warn(\n",
      "***** Running training *****\n",
      "  Num examples = 8000\n",
      "  Num Epochs = 11\n",
      "  Instantaneous batch size per device = 2\n",
      "  Total train batch size (w. parallel, distributed & accumulation) = 4\n",
      "  Gradient Accumulation steps = 2\n",
      "  Total optimization steps = 22000\n",
      "Automatic Weights & Biases logging enabled, to disable set os.environ[\"WANDB_DISABLED\"] = \"true\"\n",
      "\u001b[34m\u001b[1mwandb\u001b[0m: Currently logged in as: \u001b[33mmsanjaysivakumar\u001b[0m (\u001b[33mmercurial\u001b[0m). Use \u001b[1m`wandb login --relogin`\u001b[0m to force relogin\n",
      "\u001b[34m\u001b[1mwandb\u001b[0m: Tracking run with wandb version 0.15.3\n",
      "\u001b[34m\u001b[1mwandb\u001b[0m: Run data is saved locally in \u001b[35m\u001b[1m/kaggle/working/wandb/run-20230529_004342-5cj2a69g\u001b[0m\n",
      "\u001b[34m\u001b[1mwandb\u001b[0m: Run \u001b[1m`wandb offline`\u001b[0m to turn off syncing.\n",
      "\u001b[34m\u001b[1mwandb\u001b[0m: Syncing run \u001b[33mash_ketchum\u001b[0m\n",
      "\u001b[34m\u001b[1mwandb\u001b[0m: ⭐️ View project at \u001b[34m\u001b[4mhttps://wandb.ai/mercurial/huggingface\u001b[0m\n",
      "\u001b[34m\u001b[1mwandb\u001b[0m: 🚀 View run at \u001b[34m\u001b[4mhttps://wandb.ai/mercurial/huggingface/runs/5cj2a69g\u001b[0m\n",
      "You're using a GPT2TokenizerFast tokenizer. Please note that with a fast tokenizer, using the `__call__` method is faster than using a method to encode the text followed by a call to the `pad` method to get a padded encoding.\n"
     ]
    },
    {
     "data": {
      "text/html": [
       "\n",
       "    <div>\n",
       "      \n",
       "      <progress value='22000' max='22000' style='width:300px; height:20px; vertical-align: middle;'></progress>\n",
       "      [22000/22000 4:34:17, Epoch 11/11]\n",
       "    </div>\n",
       "    <table border=\"1\" class=\"dataframe\">\n",
       "  <thead>\n",
       " <tr style=\"text-align: left;\">\n",
       "      <th>Step</th>\n",
       "      <th>Training Loss</th>\n",
       "    </tr>\n",
       "  </thead>\n",
       "  <tbody>\n",
       "    <tr>\n",
       "      <td>500</td>\n",
       "      <td>1.556400</td>\n",
       "    </tr>\n",
       "    <tr>\n",
       "      <td>1000</td>\n",
       "      <td>1.202900</td>\n",
       "    </tr>\n",
       "    <tr>\n",
       "      <td>1500</td>\n",
       "      <td>1.118500</td>\n",
       "    </tr>\n",
       "    <tr>\n",
       "      <td>2000</td>\n",
       "      <td>1.065900</td>\n",
       "    </tr>\n",
       "    <tr>\n",
       "      <td>2500</td>\n",
       "      <td>1.021000</td>\n",
       "    </tr>\n",
       "    <tr>\n",
       "      <td>3000</td>\n",
       "      <td>0.999300</td>\n",
       "    </tr>\n",
       "    <tr>\n",
       "      <td>3500</td>\n",
       "      <td>0.983000</td>\n",
       "    </tr>\n",
       "    <tr>\n",
       "      <td>4000</td>\n",
       "      <td>0.962000</td>\n",
       "    </tr>\n",
       "    <tr>\n",
       "      <td>4500</td>\n",
       "      <td>0.936100</td>\n",
       "    </tr>\n",
       "    <tr>\n",
       "      <td>5000</td>\n",
       "      <td>0.929500</td>\n",
       "    </tr>\n",
       "    <tr>\n",
       "      <td>5500</td>\n",
       "      <td>0.917800</td>\n",
       "    </tr>\n",
       "    <tr>\n",
       "      <td>6000</td>\n",
       "      <td>0.913400</td>\n",
       "    </tr>\n",
       "    <tr>\n",
       "      <td>6500</td>\n",
       "      <td>0.889500</td>\n",
       "    </tr>\n",
       "    <tr>\n",
       "      <td>7000</td>\n",
       "      <td>0.887200</td>\n",
       "    </tr>\n",
       "    <tr>\n",
       "      <td>7500</td>\n",
       "      <td>0.882200</td>\n",
       "    </tr>\n",
       "    <tr>\n",
       "      <td>8000</td>\n",
       "      <td>0.875600</td>\n",
       "    </tr>\n",
       "    <tr>\n",
       "      <td>8500</td>\n",
       "      <td>0.857300</td>\n",
       "    </tr>\n",
       "    <tr>\n",
       "      <td>9000</td>\n",
       "      <td>0.854500</td>\n",
       "    </tr>\n",
       "    <tr>\n",
       "      <td>9500</td>\n",
       "      <td>0.853800</td>\n",
       "    </tr>\n",
       "    <tr>\n",
       "      <td>10000</td>\n",
       "      <td>0.854100</td>\n",
       "    </tr>\n",
       "    <tr>\n",
       "      <td>10500</td>\n",
       "      <td>0.831300</td>\n",
       "    </tr>\n",
       "    <tr>\n",
       "      <td>11000</td>\n",
       "      <td>0.838600</td>\n",
       "    </tr>\n",
       "    <tr>\n",
       "      <td>11500</td>\n",
       "      <td>0.830100</td>\n",
       "    </tr>\n",
       "    <tr>\n",
       "      <td>12000</td>\n",
       "      <td>0.829100</td>\n",
       "    </tr>\n",
       "    <tr>\n",
       "      <td>12500</td>\n",
       "      <td>0.819000</td>\n",
       "    </tr>\n",
       "    <tr>\n",
       "      <td>13000</td>\n",
       "      <td>0.810500</td>\n",
       "    </tr>\n",
       "    <tr>\n",
       "      <td>13500</td>\n",
       "      <td>0.814700</td>\n",
       "    </tr>\n",
       "    <tr>\n",
       "      <td>14000</td>\n",
       "      <td>0.815100</td>\n",
       "    </tr>\n",
       "    <tr>\n",
       "      <td>14500</td>\n",
       "      <td>0.799700</td>\n",
       "    </tr>\n",
       "    <tr>\n",
       "      <td>15000</td>\n",
       "      <td>0.801100</td>\n",
       "    </tr>\n",
       "    <tr>\n",
       "      <td>15500</td>\n",
       "      <td>0.800800</td>\n",
       "    </tr>\n",
       "    <tr>\n",
       "      <td>16000</td>\n",
       "      <td>0.798600</td>\n",
       "    </tr>\n",
       "    <tr>\n",
       "      <td>16500</td>\n",
       "      <td>0.784400</td>\n",
       "    </tr>\n",
       "    <tr>\n",
       "      <td>17000</td>\n",
       "      <td>0.792300</td>\n",
       "    </tr>\n",
       "    <tr>\n",
       "      <td>17500</td>\n",
       "      <td>0.787400</td>\n",
       "    </tr>\n",
       "    <tr>\n",
       "      <td>18000</td>\n",
       "      <td>0.789100</td>\n",
       "    </tr>\n",
       "    <tr>\n",
       "      <td>18500</td>\n",
       "      <td>0.780000</td>\n",
       "    </tr>\n",
       "    <tr>\n",
       "      <td>19000</td>\n",
       "      <td>0.778900</td>\n",
       "    </tr>\n",
       "    <tr>\n",
       "      <td>19500</td>\n",
       "      <td>0.780500</td>\n",
       "    </tr>\n",
       "    <tr>\n",
       "      <td>20000</td>\n",
       "      <td>0.776000</td>\n",
       "    </tr>\n",
       "    <tr>\n",
       "      <td>20500</td>\n",
       "      <td>0.771100</td>\n",
       "    </tr>\n",
       "    <tr>\n",
       "      <td>21000</td>\n",
       "      <td>0.776300</td>\n",
       "    </tr>\n",
       "    <tr>\n",
       "      <td>21500</td>\n",
       "      <td>0.772400</td>\n",
       "    </tr>\n",
       "    <tr>\n",
       "      <td>22000</td>\n",
       "      <td>0.769200</td>\n",
       "    </tr>\n",
       "  </tbody>\n",
       "</table><p>"
      ],
      "text/plain": [
       "<IPython.core.display.HTML object>"
      ]
     },
     "metadata": {},
     "output_type": "display_data"
    },
    {
     "name": "stderr",
     "output_type": "stream",
     "text": [
      "\n",
      "\n",
      "Training completed. Do not forget to share your model on huggingface.co/models =)\n",
      "\n",
      "\n"
     ]
    },
    {
     "data": {
      "text/plain": [
       "TrainOutput(global_step=22000, training_loss=0.8796830694025213, metrics={'train_runtime': 16491.0832, 'train_samples_per_second': 5.336, 'train_steps_per_second': 1.334, 'total_flos': 4.5987397632e+16, 'train_loss': 0.8796830694025213, 'epoch': 11.0})"
      ]
     },
     "execution_count": 32,
     "metadata": {},
     "output_type": "execute_result"
    }
   ],
   "source": [
    "import gc\n",
    "torch.cuda.empty_cache()\n",
    "gc.collect()\n",
    "torch.cuda.empty_cache()\n",
    "gc.collect()\n",
    "torch.cuda.empty_cache()\n",
    "gc.collect()\n",
    "trainer.train()"
   ]
  },
  {
   "cell_type": "code",
   "execution_count": 33,
   "id": "7f3367f6",
   "metadata": {
    "execution": {
     "iopub.execute_input": "2023-05-29T05:18:33.185380Z",
     "iopub.status.busy": "2023-05-29T05:18:33.184368Z",
     "iopub.status.idle": "2023-05-29T05:18:34.169754Z",
     "shell.execute_reply": "2023-05-29T05:18:34.168566Z"
    },
    "papermill": {
     "duration": 1.016516,
     "end_time": "2023-05-29T05:18:34.171825",
     "exception": false,
     "start_time": "2023-05-29T05:18:33.155309",
     "status": "completed"
    },
    "tags": []
   },
   "outputs": [
    {
     "name": "stderr",
     "output_type": "stream",
     "text": [
      "tokenizer config file saved in persona_chat_fine_tuning_2023_05_29_05_18_33/tokenizer_config.json\n",
      "Special tokens file saved in persona_chat_fine_tuning_2023_05_29_05_18_33/special_tokens_map.json\n",
      "Configuration saved in persona_chat_fine_tuning_2023_05_29_05_18_33/config.json\n",
      "Model weights saved in persona_chat_fine_tuning_2023_05_29_05_18_33/pytorch_model.bin\n"
     ]
    },
    {
     "name": "stdout",
     "output_type": "stream",
     "text": [
      "Checkpoint saved at: 'persona_chat_fine_tuning_2023_05_29_05_18_33'\n"
     ]
    }
   ],
   "source": [
    "from datetime import datetime\n",
    "\n",
    "checkpoint_path = f\"persona_chat_fine_tuning_{datetime.now().strftime('%Y_%m_%d_%H_%M_%S')}\"\n",
    "tokenizer.save_pretrained(checkpoint_path)\n",
    "model.save_pretrained(checkpoint_path)\n",
    "print(f\"Checkpoint saved at: \\'{checkpoint_path}\\'\")"
   ]
  },
  {
   "cell_type": "code",
   "execution_count": 34,
   "id": "b8a7d0e0",
   "metadata": {
    "execution": {
     "iopub.execute_input": "2023-05-29T05:18:34.212112Z",
     "iopub.status.busy": "2023-05-29T05:18:34.211821Z",
     "iopub.status.idle": "2023-05-29T05:19:03.600983Z",
     "shell.execute_reply": "2023-05-29T05:19:03.599867Z"
    },
    "papermill": {
     "duration": 29.411699,
     "end_time": "2023-05-29T05:19:03.603260",
     "exception": false,
     "start_time": "2023-05-29T05:18:34.191561",
     "status": "completed"
    },
    "tags": []
   },
   "outputs": [
    {
     "name": "stdout",
     "output_type": "stream",
     "text": [
      "huggingface/tokenizers: The current process just got forked, after parallelism has already been used. Disabling parallelism to avoid deadlocks...\n",
      "To disable this warning, you can either:\n",
      "\t- Avoid using `tokenizers` before the fork if possible\n",
      "\t- Explicitly set the environment variable TOKENIZERS_PARALLELISM=(true | false)\n",
      "  adding: kaggle/working/ (stored 0%)\r\n",
      "  adding: kaggle/working/__notebook__.ipynb (deflated 83%)\r\n",
      "  adding: kaggle/working/persona_chat_fine_tuning_2023_05_29_05_18_33/ (stored 0%)\r\n",
      "  adding: kaggle/working/persona_chat_fine_tuning_2023_05_29_05_18_33/config.json (deflated 52%)\r\n",
      "  adding: kaggle/working/persona_chat_fine_tuning_2023_05_29_05_18_33/pytorch_model.bin (deflated 16%)\r\n",
      "  adding: kaggle/working/persona_chat_fine_tuning_2023_05_29_05_18_33/special_tokens_map.json (deflated 60%)\r\n",
      "  adding: kaggle/working/persona_chat_fine_tuning_2023_05_29_05_18_33/vocab.json (deflated 59%)\r\n",
      "  adding: kaggle/working/persona_chat_fine_tuning_2023_05_29_05_18_33/tokenizer.json (deflated 72%)\r\n",
      "  adding: kaggle/working/persona_chat_fine_tuning_2023_05_29_05_18_33/merges.txt (deflated 53%)\r\n",
      "  adding: kaggle/working/persona_chat_fine_tuning_2023_05_29_05_18_33/tokenizer_config.json (deflated 41%)\r\n",
      "  adding: kaggle/working/wandb/ (stored 0%)\r\n",
      "  adding: kaggle/working/wandb/debug-internal.log (deflated 96%)\r\n",
      "  adding: kaggle/working/wandb/latest-run/ (stored 0%)\r\n",
      "  adding: kaggle/working/wandb/latest-run/tmp/ (stored 0%)\r\n",
      "  adding: kaggle/working/wandb/latest-run/tmp/code/ (stored 0%)\r\n",
      "  adding: kaggle/working/wandb/latest-run/logs/ (stored 0%)\r\n",
      "  adding: kaggle/working/wandb/latest-run/logs/debug-internal.log (deflated 96%)\r\n",
      "  adding: kaggle/working/wandb/latest-run/logs/debug.log (deflated 67%)\r\n",
      "  adding: kaggle/working/wandb/latest-run/run-5cj2a69g.wandb\r\n",
      "\tzip warning:  file size changed while zipping /kaggle/working/wandb/latest-run/run-5cj2a69g.wandb\r\n",
      " (deflated 63%)\r\n",
      "  adding: kaggle/working/wandb/latest-run/files/ (stored 0%)\r\n",
      "  adding: kaggle/working/wandb/latest-run/files/conda-environment.yaml (deflated 66%)\r\n",
      "  adding: kaggle/working/wandb/latest-run/files/wandb-summary.json (deflated 63%)\r\n",
      "  adding: kaggle/working/wandb/latest-run/files/output.log (deflated 67%)\r\n",
      "  adding: kaggle/working/wandb/latest-run/files/requirements.txt (deflated 58%)\r\n",
      "  adding: kaggle/working/wandb/latest-run/files/wandb-metadata.json (deflated 58%)\r\n",
      "  adding: kaggle/working/wandb/latest-run/files/config.yaml (deflated 92%)\r\n",
      "  adding: kaggle/working/wandb/debug.log (deflated 67%)\r\n",
      "  adding: kaggle/working/wandb/run-20230529_004342-5cj2a69g/ (stored 0%)\r\n",
      "  adding: kaggle/working/wandb/run-20230529_004342-5cj2a69g/tmp/ (stored 0%)\r\n",
      "  adding: kaggle/working/wandb/run-20230529_004342-5cj2a69g/tmp/code/ (stored 0%)\r\n",
      "  adding: kaggle/working/wandb/run-20230529_004342-5cj2a69g/logs/ (stored 0%)\r\n",
      "  adding: kaggle/working/wandb/run-20230529_004342-5cj2a69g/logs/debug-internal.log (deflated 96%)\r\n",
      "  adding: kaggle/working/wandb/run-20230529_004342-5cj2a69g/logs/debug.log (deflated 67%)\r\n",
      "  adding: kaggle/working/wandb/run-20230529_004342-5cj2a69g/run-5cj2a69g.wandb\r\n",
      "\tzip warning:  file size changed while zipping /kaggle/working/wandb/run-20230529_004342-5cj2a69g/run-5cj2a69g.wandb\r\n",
      " (deflated 63%)\r\n",
      "  adding: kaggle/working/wandb/run-20230529_004342-5cj2a69g/files/ (stored 0%)\r\n",
      "  adding: kaggle/working/wandb/run-20230529_004342-5cj2a69g/files/conda-environment.yaml (deflated 66%)\r\n",
      "  adding: kaggle/working/wandb/run-20230529_004342-5cj2a69g/files/wandb-summary.json (deflated 63%)\r\n",
      "  adding: kaggle/working/wandb/run-20230529_004342-5cj2a69g/files/output.log (deflated 67%)\r\n",
      "  adding: kaggle/working/wandb/run-20230529_004342-5cj2a69g/files/requirements.txt (deflated 58%)\r\n",
      "  adding: kaggle/working/wandb/run-20230529_004342-5cj2a69g/files/wandb-metadata.json (deflated 58%)\r\n",
      "  adding: kaggle/working/wandb/run-20230529_004342-5cj2a69g/files/config.yaml (deflated 92%)\r\n",
      "  adding: kaggle/working/ash_ketchum/ (stored 0%)\r\n",
      "  adding: kaggle/working/ash_ketchum/runs/ (stored 0%)\r\n",
      "  adding: kaggle/working/ash_ketchum/runs/May29_00-43-26_87a1e00ba2e7/ (stored 0%)\r\n",
      "  adding: kaggle/working/ash_ketchum/runs/May29_00-43-26_87a1e00ba2e7/1685321022.049184/ (stored 0%)\r\n",
      "  adding: kaggle/working/ash_ketchum/runs/May29_00-43-26_87a1e00ba2e7/1685321022.049184/events.out.tfevents.1685321022.87a1e00ba2e7.24.1 (deflated 62%)\r\n",
      "  adding: kaggle/working/ash_ketchum/runs/May29_00-43-26_87a1e00ba2e7/events.out.tfevents.1685321022.87a1e00ba2e7.24.0 (deflated 63%)\r\n"
     ]
    }
   ],
   "source": [
    "!zip -r /kaggle/working/output.zip /kaggle/working/"
   ]
  },
  {
   "cell_type": "code",
   "execution_count": 35,
   "id": "407f5767",
   "metadata": {
    "execution": {
     "iopub.execute_input": "2023-05-29T05:19:03.645927Z",
     "iopub.status.busy": "2023-05-29T05:19:03.645542Z",
     "iopub.status.idle": "2023-05-29T05:19:03.652530Z",
     "shell.execute_reply": "2023-05-29T05:19:03.651647Z"
    },
    "papermill": {
     "duration": 0.030276,
     "end_time": "2023-05-29T05:19:03.654381",
     "exception": false,
     "start_time": "2023-05-29T05:19:03.624105",
     "status": "completed"
    },
    "tags": []
   },
   "outputs": [
    {
     "data": {
      "text/html": [
       "<a href='output.zip' target='_blank'>output.zip</a><br>"
      ],
      "text/plain": [
       "/kaggle/working/output.zip"
      ]
     },
     "execution_count": 35,
     "metadata": {},
     "output_type": "execute_result"
    }
   ],
   "source": [
    "from IPython.display import FileLink \n",
    "FileLink(r'output.zip')"
   ]
  },
  {
   "cell_type": "code",
   "execution_count": 36,
   "id": "bd9d1a11",
   "metadata": {
    "execution": {
     "iopub.execute_input": "2023-05-29T05:19:03.696830Z",
     "iopub.status.busy": "2023-05-29T05:19:03.696205Z",
     "iopub.status.idle": "2023-05-29T05:19:03.701263Z",
     "shell.execute_reply": "2023-05-29T05:19:03.700450Z"
    },
    "papermill": {
     "duration": 0.028545,
     "end_time": "2023-05-29T05:19:03.703200",
     "exception": false,
     "start_time": "2023-05-29T05:19:03.674655",
     "status": "completed"
    },
    "tags": []
   },
   "outputs": [],
   "source": [
    "#print(len(tokenized_data['train']))\n",
    "#print(len(tokenized_data['validation']))\n"
   ]
  },
  {
   "cell_type": "markdown",
   "id": "6afb3dc2",
   "metadata": {
    "papermill": {
     "duration": 0.022491,
     "end_time": "2023-05-29T05:19:03.745875",
     "exception": false,
     "start_time": "2023-05-29T05:19:03.723384",
     "status": "completed"
    },
    "tags": []
   },
   "source": [
    "The resulting sentence is not the same we find in the dataset! Maybe we could find a way to fine-tune this BERT encoder, using as batches this sequences, and as expected label, the sentence it should instead find. For example, in this case, the index should have been 4.\n",
    "The problem of building this dataset is that we need to specifically build it by looking at the label... or maybe find a way to reduce it to a classification problem? Find the better frase between 7? I don't know..."
   ]
  },
  {
   "cell_type": "markdown",
   "id": "49bb9df7",
   "metadata": {
    "papermill": {
     "duration": 0.019827,
     "end_time": "2023-05-29T05:19:03.786847",
     "exception": false,
     "start_time": "2023-05-29T05:19:03.767020",
     "status": "completed"
    },
    "tags": []
   },
   "source": [
    "Part 1: Knowledge Attention\n",
    "\n",
    "We need to use an attention dot-product mechanism to decide which sentence should be used to generate the next utterance. To do so, each sentence is encoded INDIPENDENTLY with a transformer encoder, and THE SAME TRANSFORMER IS USED TO ENCODE THE DIALOGUE CONTEXT x.\n",
    "We then perform standard dot-product attention between the sentence candidates and the dialogue context."
   ]
  },
  {
   "cell_type": "markdown",
   "id": "e28b9a11",
   "metadata": {
    "papermill": {
     "duration": 0.019957,
     "end_time": "2023-05-29T05:19:03.826954",
     "exception": false,
     "start_time": "2023-05-29T05:19:03.806997",
     "status": "completed"
    },
    "tags": []
   },
   "source": [
    "## Transformer transfer learning\n"
   ]
  },
  {
   "cell_type": "markdown",
   "id": "40238ba8",
   "metadata": {
    "papermill": {
     "duration": 0.019893,
     "end_time": "2023-05-29T05:19:03.866977",
     "exception": false,
     "start_time": "2023-05-29T05:19:03.847084",
     "status": "completed"
    },
    "tags": []
   },
   "source": [
    "## Transformer"
   ]
  },
  {
   "cell_type": "markdown",
   "id": "fa15c125",
   "metadata": {
    "papermill": {
     "duration": 0.019868,
     "end_time": "2023-05-29T05:19:03.906841",
     "exception": false,
     "start_time": "2023-05-29T05:19:03.886973",
     "status": "completed"
    },
    "tags": []
   },
   "source": [
    "### Embedding and positional encoding\n"
   ]
  },
  {
   "cell_type": "markdown",
   "id": "d51398af",
   "metadata": {
    "papermill": {
     "duration": 0.020708,
     "end_time": "2023-05-29T05:19:03.948928",
     "exception": false,
     "start_time": "2023-05-29T05:19:03.928220",
     "status": "completed"
    },
    "tags": []
   },
   "source": [
    "### Embedding and positional encoding of input"
   ]
  },
  {
   "cell_type": "markdown",
   "id": "d5c2c083",
   "metadata": {
    "papermill": {
     "duration": 0.020529,
     "end_time": "2023-05-29T05:19:03.990627",
     "exception": false,
     "start_time": "2023-05-29T05:19:03.970098",
     "status": "completed"
    },
    "tags": []
   },
   "source": [
    "### Transformer encoder"
   ]
  },
  {
   "cell_type": "markdown",
   "id": "38fba090",
   "metadata": {
    "papermill": {
     "duration": 0.022917,
     "end_time": "2023-05-29T05:19:04.036528",
     "exception": false,
     "start_time": "2023-05-29T05:19:04.013611",
     "status": "completed"
    },
    "tags": []
   },
   "source": [
    "Due to the fact that we are working with knowledge extracted from Wikipedia, we can use a Wikipedia pre-trained embedding such as glove-wiki-gigaword-50. Let's see how the embedding of wikipedia compares with the embedding of the conversational text of the dataset."
   ]
  },
  {
   "cell_type": "markdown",
   "id": "016e7fe3",
   "metadata": {
    "papermill": {
     "duration": 0.021929,
     "end_time": "2023-05-29T05:19:04.080973",
     "exception": false,
     "start_time": "2023-05-29T05:19:04.059044",
     "status": "completed"
    },
    "tags": []
   },
   "source": [
    "### Comparing the two embeddings"
   ]
  },
  {
   "cell_type": "markdown",
   "id": "c0d2527e",
   "metadata": {
    "papermill": {
     "duration": 0.021401,
     "end_time": "2023-05-29T05:19:04.124019",
     "exception": false,
     "start_time": "2023-05-29T05:19:04.102618",
     "status": "completed"
    },
    "tags": []
   },
   "source": [
    "#### Obviously the conversational embedding yealds better results with terms such as 'haha', 'lol', while more complex words like 'axolotl' don't even exist in our conversational vocabulary."
   ]
  }
 ],
 "metadata": {
  "kernelspec": {
   "display_name": "Python 3",
   "language": "python",
   "name": "python3"
  },
  "language_info": {
   "codemirror_mode": {
    "name": "ipython",
    "version": 3
   },
   "file_extension": ".py",
   "mimetype": "text/x-python",
   "name": "python",
   "nbconvert_exporter": "python",
   "pygments_lexer": "ipython3",
   "version": "3.10.10"
  },
  "papermill": {
   "default_parameters": {},
   "duration": 16689.607135,
   "end_time": "2023-05-29T05:19:07.104965",
   "environment_variables": {},
   "exception": null,
   "input_path": "__notebook__.ipynb",
   "output_path": "__notebook__.ipynb",
   "parameters": {},
   "start_time": "2023-05-29T00:40:57.497830",
   "version": "2.4.0"
  },
  "widgets": {
   "application/vnd.jupyter.widget-state+json": {
    "state": {
     "01f74718a0a54748ada2e1202f325c25": {
      "model_module": "@jupyter-widgets/base",
      "model_module_version": "1.2.0",
      "model_name": "LayoutModel",
      "state": {
       "_model_module": "@jupyter-widgets/base",
       "_model_module_version": "1.2.0",
       "_model_name": "LayoutModel",
       "_view_count": null,
       "_view_module": "@jupyter-widgets/base",
       "_view_module_version": "1.2.0",
       "_view_name": "LayoutView",
       "align_content": null,
       "align_items": null,
       "align_self": null,
       "border": null,
       "bottom": null,
       "display": null,
       "flex": null,
       "flex_flow": null,
       "grid_area": null,
       "grid_auto_columns": null,
       "grid_auto_flow": null,
       "grid_auto_rows": null,
       "grid_column": null,
       "grid_gap": null,
       "grid_row": null,
       "grid_template_areas": null,
       "grid_template_columns": null,
       "grid_template_rows": null,
       "height": null,
       "justify_content": null,
       "justify_items": null,
       "left": null,
       "margin": null,
       "max_height": null,
       "max_width": null,
       "min_height": null,
       "min_width": null,
       "object_fit": null,
       "object_position": null,
       "order": null,
       "overflow": null,
       "overflow_x": null,
       "overflow_y": null,
       "padding": null,
       "right": null,
       "top": null,
       "visibility": null,
       "width": null
      }
     },
     "04b0201149c64478a8e8149a85282059": {
      "model_module": "@jupyter-widgets/base",
      "model_module_version": "1.2.0",
      "model_name": "LayoutModel",
      "state": {
       "_model_module": "@jupyter-widgets/base",
       "_model_module_version": "1.2.0",
       "_model_name": "LayoutModel",
       "_view_count": null,
       "_view_module": "@jupyter-widgets/base",
       "_view_module_version": "1.2.0",
       "_view_name": "LayoutView",
       "align_content": null,
       "align_items": null,
       "align_self": null,
       "border": null,
       "bottom": null,
       "display": null,
       "flex": null,
       "flex_flow": null,
       "grid_area": null,
       "grid_auto_columns": null,
       "grid_auto_flow": null,
       "grid_auto_rows": null,
       "grid_column": null,
       "grid_gap": null,
       "grid_row": null,
       "grid_template_areas": null,
       "grid_template_columns": null,
       "grid_template_rows": null,
       "height": null,
       "justify_content": null,
       "justify_items": null,
       "left": null,
       "margin": null,
       "max_height": null,
       "max_width": null,
       "min_height": null,
       "min_width": null,
       "object_fit": null,
       "object_position": null,
       "order": null,
       "overflow": null,
       "overflow_x": null,
       "overflow_y": null,
       "padding": null,
       "right": null,
       "top": null,
       "visibility": null,
       "width": null
      }
     },
     "084f75435c7144f09ad5a71eea0037f9": {
      "model_module": "@jupyter-widgets/base",
      "model_module_version": "1.2.0",
      "model_name": "LayoutModel",
      "state": {
       "_model_module": "@jupyter-widgets/base",
       "_model_module_version": "1.2.0",
       "_model_name": "LayoutModel",
       "_view_count": null,
       "_view_module": "@jupyter-widgets/base",
       "_view_module_version": "1.2.0",
       "_view_name": "LayoutView",
       "align_content": null,
       "align_items": null,
       "align_self": null,
       "border": null,
       "bottom": null,
       "display": null,
       "flex": null,
       "flex_flow": null,
       "grid_area": null,
       "grid_auto_columns": null,
       "grid_auto_flow": null,
       "grid_auto_rows": null,
       "grid_column": null,
       "grid_gap": null,
       "grid_row": null,
       "grid_template_areas": null,
       "grid_template_columns": null,
       "grid_template_rows": null,
       "height": null,
       "justify_content": null,
       "justify_items": null,
       "left": null,
       "margin": null,
       "max_height": null,
       "max_width": null,
       "min_height": null,
       "min_width": null,
       "object_fit": null,
       "object_position": null,
       "order": null,
       "overflow": null,
       "overflow_x": null,
       "overflow_y": null,
       "padding": null,
       "right": null,
       "top": null,
       "visibility": null,
       "width": null
      }
     },
     "0ca4ec8679e3474e92045f98f668a659": {
      "model_module": "@jupyter-widgets/controls",
      "model_module_version": "1.5.0",
      "model_name": "DescriptionStyleModel",
      "state": {
       "_model_module": "@jupyter-widgets/controls",
       "_model_module_version": "1.5.0",
       "_model_name": "DescriptionStyleModel",
       "_view_count": null,
       "_view_module": "@jupyter-widgets/base",
       "_view_module_version": "1.2.0",
       "_view_name": "StyleView",
       "description_width": ""
      }
     },
     "13c5b664eb364c92a3ddbfa8e5ef9449": {
      "model_module": "@jupyter-widgets/controls",
      "model_module_version": "1.5.0",
      "model_name": "FloatProgressModel",
      "state": {
       "_dom_classes": [],
       "_model_module": "@jupyter-widgets/controls",
       "_model_module_version": "1.5.0",
       "_model_name": "FloatProgressModel",
       "_view_count": null,
       "_view_module": "@jupyter-widgets/controls",
       "_view_module_version": "1.5.0",
       "_view_name": "ProgressView",
       "bar_style": "success",
       "description": "",
       "description_tooltip": null,
       "layout": "IPY_MODEL_83275ab272a740209630caccb4203873",
       "max": 456318.0,
       "min": 0.0,
       "orientation": "horizontal",
       "style": "IPY_MODEL_83c09a01005e473e8f87def7fda64c73",
       "value": 456318.0
      }
     },
     "14af7fa808d448cca34e29c7df260ff9": {
      "model_module": "@jupyter-widgets/controls",
      "model_module_version": "1.5.0",
      "model_name": "HBoxModel",
      "state": {
       "_dom_classes": [],
       "_model_module": "@jupyter-widgets/controls",
       "_model_module_version": "1.5.0",
       "_model_name": "HBoxModel",
       "_view_count": null,
       "_view_module": "@jupyter-widgets/controls",
       "_view_module_version": "1.5.0",
       "_view_name": "HBoxView",
       "box_style": "",
       "children": [
        "IPY_MODEL_9ab4cd25e0914f3a849c44e96167ff04",
        "IPY_MODEL_d8ea1bf739a44a3f8ec4f4af28bb8346",
        "IPY_MODEL_c34071c1831842ffa8493087d61ee430"
       ],
       "layout": "IPY_MODEL_265cff2ac332434a879a35b2f5ec7b75"
      }
     },
     "1ca8ec9d5127457b97e4da60b8385ed5": {
      "model_module": "@jupyter-widgets/controls",
      "model_module_version": "1.5.0",
      "model_name": "FloatProgressModel",
      "state": {
       "_dom_classes": [],
       "_model_module": "@jupyter-widgets/controls",
       "_model_module_version": "1.5.0",
       "_model_name": "FloatProgressModel",
       "_view_count": null,
       "_view_module": "@jupyter-widgets/controls",
       "_view_module_version": "1.5.0",
       "_view_name": "ProgressView",
       "bar_style": "success",
       "description": "",
       "description_tooltip": null,
       "layout": "IPY_MODEL_c7c385efa8284aeeae41ff675ec72138",
       "max": 8.0,
       "min": 0.0,
       "orientation": "horizontal",
       "style": "IPY_MODEL_f9fc008d8fb44b219e6e2d5b46463303",
       "value": 8.0
      }
     },
     "1d0af7d2fe1648c9a9ee3a040ece8ce4": {
      "model_module": "@jupyter-widgets/controls",
      "model_module_version": "1.5.0",
      "model_name": "DescriptionStyleModel",
      "state": {
       "_model_module": "@jupyter-widgets/controls",
       "_model_module_version": "1.5.0",
       "_model_name": "DescriptionStyleModel",
       "_view_count": null,
       "_view_module": "@jupyter-widgets/base",
       "_view_module_version": "1.2.0",
       "_view_name": "StyleView",
       "description_width": ""
      }
     },
     "208ec6529f3548ec9dc30d7a537f8956": {
      "model_module": "@jupyter-widgets/controls",
      "model_module_version": "1.5.0",
      "model_name": "HTMLModel",
      "state": {
       "_dom_classes": [],
       "_model_module": "@jupyter-widgets/controls",
       "_model_module_version": "1.5.0",
       "_model_name": "HTMLModel",
       "_view_count": null,
       "_view_module": "@jupyter-widgets/controls",
       "_view_module_version": "1.5.0",
       "_view_name": "HTMLView",
       "description": "",
       "description_tooltip": null,
       "layout": "IPY_MODEL_737ef4317d744da1afd954fc0b30f670",
       "placeholder": "​",
       "style": "IPY_MODEL_25e51112da774dd3a4c5221d867b4633",
       "value": " 548M/548M [00:02&lt;00:00, 229MB/s]"
      }
     },
     "25e51112da774dd3a4c5221d867b4633": {
      "model_module": "@jupyter-widgets/controls",
      "model_module_version": "1.5.0",
      "model_name": "DescriptionStyleModel",
      "state": {
       "_model_module": "@jupyter-widgets/controls",
       "_model_module_version": "1.5.0",
       "_model_name": "DescriptionStyleModel",
       "_view_count": null,
       "_view_module": "@jupyter-widgets/base",
       "_view_module_version": "1.2.0",
       "_view_name": "StyleView",
       "description_width": ""
      }
     },
     "2601223194bc43ef862cd5d0566579d3": {
      "model_module": "@jupyter-widgets/base",
      "model_module_version": "1.2.0",
      "model_name": "LayoutModel",
      "state": {
       "_model_module": "@jupyter-widgets/base",
       "_model_module_version": "1.2.0",
       "_model_name": "LayoutModel",
       "_view_count": null,
       "_view_module": "@jupyter-widgets/base",
       "_view_module_version": "1.2.0",
       "_view_name": "LayoutView",
       "align_content": null,
       "align_items": null,
       "align_self": null,
       "border": null,
       "bottom": null,
       "display": null,
       "flex": null,
       "flex_flow": null,
       "grid_area": null,
       "grid_auto_columns": null,
       "grid_auto_flow": null,
       "grid_auto_rows": null,
       "grid_column": null,
       "grid_gap": null,
       "grid_row": null,
       "grid_template_areas": null,
       "grid_template_columns": null,
       "grid_template_rows": null,
       "height": null,
       "justify_content": null,
       "justify_items": null,
       "left": null,
       "margin": null,
       "max_height": null,
       "max_width": null,
       "min_height": null,
       "min_width": null,
       "object_fit": null,
       "object_position": null,
       "order": null,
       "overflow": null,
       "overflow_x": null,
       "overflow_y": null,
       "padding": null,
       "right": null,
       "top": null,
       "visibility": null,
       "width": null
      }
     },
     "26460b37f8b442b68da28cdb7e0eb20f": {
      "model_module": "@jupyter-widgets/controls",
      "model_module_version": "1.5.0",
      "model_name": "HTMLModel",
      "state": {
       "_dom_classes": [],
       "_model_module": "@jupyter-widgets/controls",
       "_model_module_version": "1.5.0",
       "_model_name": "HTMLModel",
       "_view_count": null,
       "_view_module": "@jupyter-widgets/controls",
       "_view_module_version": "1.5.0",
       "_view_name": "HTMLView",
       "description": "",
       "description_tooltip": null,
       "layout": "IPY_MODEL_58c9e4f7bca14956ad31175fa9a23e59",
       "placeholder": "​",
       "style": "IPY_MODEL_6659b1d0a7194c4d8e44a999a334e6e9",
       "value": " 665/665 [00:00&lt;00:00, 46.0kB/s]"
      }
     },
     "265cff2ac332434a879a35b2f5ec7b75": {
      "model_module": "@jupyter-widgets/base",
      "model_module_version": "1.2.0",
      "model_name": "LayoutModel",
      "state": {
       "_model_module": "@jupyter-widgets/base",
       "_model_module_version": "1.2.0",
       "_model_name": "LayoutModel",
       "_view_count": null,
       "_view_module": "@jupyter-widgets/base",
       "_view_module_version": "1.2.0",
       "_view_name": "LayoutView",
       "align_content": null,
       "align_items": null,
       "align_self": null,
       "border": null,
       "bottom": null,
       "display": null,
       "flex": null,
       "flex_flow": null,
       "grid_area": null,
       "grid_auto_columns": null,
       "grid_auto_flow": null,
       "grid_auto_rows": null,
       "grid_column": null,
       "grid_gap": null,
       "grid_row": null,
       "grid_template_areas": null,
       "grid_template_columns": null,
       "grid_template_rows": null,
       "height": null,
       "justify_content": null,
       "justify_items": null,
       "left": null,
       "margin": null,
       "max_height": null,
       "max_width": null,
       "min_height": null,
       "min_width": null,
       "object_fit": null,
       "object_position": null,
       "order": null,
       "overflow": null,
       "overflow_x": null,
       "overflow_y": null,
       "padding": null,
       "right": null,
       "top": null,
       "visibility": null,
       "width": null
      }
     },
     "2c7f52fda65d40d385613348bb113ce1": {
      "model_module": "@jupyter-widgets/base",
      "model_module_version": "1.2.0",
      "model_name": "LayoutModel",
      "state": {
       "_model_module": "@jupyter-widgets/base",
       "_model_module_version": "1.2.0",
       "_model_name": "LayoutModel",
       "_view_count": null,
       "_view_module": "@jupyter-widgets/base",
       "_view_module_version": "1.2.0",
       "_view_name": "LayoutView",
       "align_content": null,
       "align_items": null,
       "align_self": null,
       "border": null,
       "bottom": null,
       "display": null,
       "flex": null,
       "flex_flow": null,
       "grid_area": null,
       "grid_auto_columns": null,
       "grid_auto_flow": null,
       "grid_auto_rows": null,
       "grid_column": null,
       "grid_gap": null,
       "grid_row": null,
       "grid_template_areas": null,
       "grid_template_columns": null,
       "grid_template_rows": null,
       "height": null,
       "justify_content": null,
       "justify_items": null,
       "left": null,
       "margin": null,
       "max_height": null,
       "max_width": null,
       "min_height": null,
       "min_width": null,
       "object_fit": null,
       "object_position": null,
       "order": null,
       "overflow": null,
       "overflow_x": null,
       "overflow_y": null,
       "padding": null,
       "right": null,
       "top": null,
       "visibility": null,
       "width": null
      }
     },
     "2cf1f5a230e74b59b7fba882a6486caa": {
      "model_module": "@jupyter-widgets/controls",
      "model_module_version": "1.5.0",
      "model_name": "DescriptionStyleModel",
      "state": {
       "_model_module": "@jupyter-widgets/controls",
       "_model_module_version": "1.5.0",
       "_model_name": "DescriptionStyleModel",
       "_view_count": null,
       "_view_module": "@jupyter-widgets/base",
       "_view_module_version": "1.2.0",
       "_view_name": "StyleView",
       "description_width": ""
      }
     },
     "2e89fc4717a6447d8e619cfea1bd5a78": {
      "model_module": "@jupyter-widgets/controls",
      "model_module_version": "1.5.0",
      "model_name": "HTMLModel",
      "state": {
       "_dom_classes": [],
       "_model_module": "@jupyter-widgets/controls",
       "_model_module_version": "1.5.0",
       "_model_name": "HTMLModel",
       "_view_count": null,
       "_view_module": "@jupyter-widgets/controls",
       "_view_module_version": "1.5.0",
       "_view_name": "HTMLView",
       "description": "",
       "description_tooltip": null,
       "layout": "IPY_MODEL_898f95ea1d644f8ab4d6ac258099058a",
       "placeholder": "​",
       "style": "IPY_MODEL_fa3f8f5dc7ba46809ec1e3a616803e9d",
       "value": " 1.04M/1.04M [00:00&lt;00:00, 15.2MB/s]"
      }
     },
     "32e9ddfa6fe341bdadc81524eb3ddc19": {
      "model_module": "@jupyter-widgets/base",
      "model_module_version": "1.2.0",
      "model_name": "LayoutModel",
      "state": {
       "_model_module": "@jupyter-widgets/base",
       "_model_module_version": "1.2.0",
       "_model_name": "LayoutModel",
       "_view_count": null,
       "_view_module": "@jupyter-widgets/base",
       "_view_module_version": "1.2.0",
       "_view_name": "LayoutView",
       "align_content": null,
       "align_items": null,
       "align_self": null,
       "border": null,
       "bottom": null,
       "display": null,
       "flex": null,
       "flex_flow": null,
       "grid_area": null,
       "grid_auto_columns": null,
       "grid_auto_flow": null,
       "grid_auto_rows": null,
       "grid_column": null,
       "grid_gap": null,
       "grid_row": null,
       "grid_template_areas": null,
       "grid_template_columns": null,
       "grid_template_rows": null,
       "height": null,
       "justify_content": null,
       "justify_items": null,
       "left": null,
       "margin": null,
       "max_height": null,
       "max_width": null,
       "min_height": null,
       "min_width": null,
       "object_fit": null,
       "object_position": null,
       "order": null,
       "overflow": null,
       "overflow_x": null,
       "overflow_y": null,
       "padding": null,
       "right": null,
       "top": null,
       "visibility": null,
       "width": null
      }
     },
     "3463c8ad37ca41558d35cb9ce068a170": {
      "model_module": "@jupyter-widgets/controls",
      "model_module_version": "1.5.0",
      "model_name": "HBoxModel",
      "state": {
       "_dom_classes": [],
       "_model_module": "@jupyter-widgets/controls",
       "_model_module_version": "1.5.0",
       "_model_name": "HBoxModel",
       "_view_count": null,
       "_view_module": "@jupyter-widgets/controls",
       "_view_module_version": "1.5.0",
       "_view_name": "HBoxView",
       "box_style": "",
       "children": [
        "IPY_MODEL_60cdcbce33714990b3b107a5d79f7381",
        "IPY_MODEL_4e63106ec17c492cac05a04d04c1356f",
        "IPY_MODEL_26460b37f8b442b68da28cdb7e0eb20f"
       ],
       "layout": "IPY_MODEL_ce2f5d86e3ea415bb6039bc012f56e24"
      }
     },
     "366b8c1154974927b91030deb4d4af03": {
      "model_module": "@jupyter-widgets/controls",
      "model_module_version": "1.5.0",
      "model_name": "HTMLModel",
      "state": {
       "_dom_classes": [],
       "_model_module": "@jupyter-widgets/controls",
       "_model_module_version": "1.5.0",
       "_model_name": "HTMLModel",
       "_view_count": null,
       "_view_module": "@jupyter-widgets/controls",
       "_view_module_version": "1.5.0",
       "_view_name": "HTMLView",
       "description": "",
       "description_tooltip": null,
       "layout": "IPY_MODEL_90c94cfb38794d09b2491d0a0d2da350",
       "placeholder": "​",
       "style": "IPY_MODEL_d5aec812c41b49d0b5189e90d7ace3a2",
       "value": " 456k/456k [00:00&lt;00:00, 30.6MB/s]"
      }
     },
     "3b4893da7ad847d29f998efb9acdfda3": {
      "model_module": "@jupyter-widgets/controls",
      "model_module_version": "1.5.0",
      "model_name": "DescriptionStyleModel",
      "state": {
       "_model_module": "@jupyter-widgets/controls",
       "_model_module_version": "1.5.0",
       "_model_name": "DescriptionStyleModel",
       "_view_count": null,
       "_view_module": "@jupyter-widgets/base",
       "_view_module_version": "1.2.0",
       "_view_name": "StyleView",
       "description_width": ""
      }
     },
     "3d540d1c4c1149c499656dfc143bf6df": {
      "model_module": "@jupyter-widgets/controls",
      "model_module_version": "1.5.0",
      "model_name": "HTMLModel",
      "state": {
       "_dom_classes": [],
       "_model_module": "@jupyter-widgets/controls",
       "_model_module_version": "1.5.0",
       "_model_name": "HTMLModel",
       "_view_count": null,
       "_view_module": "@jupyter-widgets/controls",
       "_view_module_version": "1.5.0",
       "_view_name": "HTMLView",
       "description": "",
       "description_tooltip": null,
       "layout": "IPY_MODEL_6983869141e24a989429995c0c950f3e",
       "placeholder": "​",
       "style": "IPY_MODEL_2cf1f5a230e74b59b7fba882a6486caa",
       "value": "Downloading pytorch_model.bin: 100%"
      }
     },
     "40e48a77390e40f3a5ec91adfe80495d": {
      "model_module": "@jupyter-widgets/base",
      "model_module_version": "1.2.0",
      "model_name": "LayoutModel",
      "state": {
       "_model_module": "@jupyter-widgets/base",
       "_model_module_version": "1.2.0",
       "_model_name": "LayoutModel",
       "_view_count": null,
       "_view_module": "@jupyter-widgets/base",
       "_view_module_version": "1.2.0",
       "_view_name": "LayoutView",
       "align_content": null,
       "align_items": null,
       "align_self": null,
       "border": null,
       "bottom": null,
       "display": null,
       "flex": null,
       "flex_flow": null,
       "grid_area": null,
       "grid_auto_columns": null,
       "grid_auto_flow": null,
       "grid_auto_rows": null,
       "grid_column": null,
       "grid_gap": null,
       "grid_row": null,
       "grid_template_areas": null,
       "grid_template_columns": null,
       "grid_template_rows": null,
       "height": null,
       "justify_content": null,
       "justify_items": null,
       "left": null,
       "margin": null,
       "max_height": null,
       "max_width": null,
       "min_height": null,
       "min_width": null,
       "object_fit": null,
       "object_position": null,
       "order": null,
       "overflow": null,
       "overflow_x": null,
       "overflow_y": null,
       "padding": null,
       "right": null,
       "top": null,
       "visibility": null,
       "width": null
      }
     },
     "42a7489e9b114c8aa81638c8685e5b52": {
      "model_module": "@jupyter-widgets/controls",
      "model_module_version": "1.5.0",
      "model_name": "DescriptionStyleModel",
      "state": {
       "_model_module": "@jupyter-widgets/controls",
       "_model_module_version": "1.5.0",
       "_model_name": "DescriptionStyleModel",
       "_view_count": null,
       "_view_module": "@jupyter-widgets/base",
       "_view_module_version": "1.2.0",
       "_view_name": "StyleView",
       "description_width": ""
      }
     },
     "47bc525380494652b34f1dbd775b1211": {
      "model_module": "@jupyter-widgets/base",
      "model_module_version": "1.2.0",
      "model_name": "LayoutModel",
      "state": {
       "_model_module": "@jupyter-widgets/base",
       "_model_module_version": "1.2.0",
       "_model_name": "LayoutModel",
       "_view_count": null,
       "_view_module": "@jupyter-widgets/base",
       "_view_module_version": "1.2.0",
       "_view_name": "LayoutView",
       "align_content": null,
       "align_items": null,
       "align_self": null,
       "border": null,
       "bottom": null,
       "display": null,
       "flex": null,
       "flex_flow": null,
       "grid_area": null,
       "grid_auto_columns": null,
       "grid_auto_flow": null,
       "grid_auto_rows": null,
       "grid_column": null,
       "grid_gap": null,
       "grid_row": null,
       "grid_template_areas": null,
       "grid_template_columns": null,
       "grid_template_rows": null,
       "height": null,
       "justify_content": null,
       "justify_items": null,
       "left": null,
       "margin": null,
       "max_height": null,
       "max_width": null,
       "min_height": null,
       "min_width": null,
       "object_fit": null,
       "object_position": null,
       "order": null,
       "overflow": null,
       "overflow_x": null,
       "overflow_y": null,
       "padding": null,
       "right": null,
       "top": null,
       "visibility": null,
       "width": null
      }
     },
     "49b921d80700480bb635dda9d1666926": {
      "model_module": "@jupyter-widgets/base",
      "model_module_version": "1.2.0",
      "model_name": "LayoutModel",
      "state": {
       "_model_module": "@jupyter-widgets/base",
       "_model_module_version": "1.2.0",
       "_model_name": "LayoutModel",
       "_view_count": null,
       "_view_module": "@jupyter-widgets/base",
       "_view_module_version": "1.2.0",
       "_view_name": "LayoutView",
       "align_content": null,
       "align_items": null,
       "align_self": null,
       "border": null,
       "bottom": null,
       "display": null,
       "flex": null,
       "flex_flow": null,
       "grid_area": null,
       "grid_auto_columns": null,
       "grid_auto_flow": null,
       "grid_auto_rows": null,
       "grid_column": null,
       "grid_gap": null,
       "grid_row": null,
       "grid_template_areas": null,
       "grid_template_columns": null,
       "grid_template_rows": null,
       "height": null,
       "justify_content": null,
       "justify_items": null,
       "left": null,
       "margin": null,
       "max_height": null,
       "max_width": null,
       "min_height": null,
       "min_width": null,
       "object_fit": null,
       "object_position": null,
       "order": null,
       "overflow": null,
       "overflow_x": null,
       "overflow_y": null,
       "padding": null,
       "right": null,
       "top": null,
       "visibility": null,
       "width": null
      }
     },
     "4b2be15a34ea4d6d8bb578ea5f328bbb": {
      "model_module": "@jupyter-widgets/controls",
      "model_module_version": "1.5.0",
      "model_name": "ProgressStyleModel",
      "state": {
       "_model_module": "@jupyter-widgets/controls",
       "_model_module_version": "1.5.0",
       "_model_name": "ProgressStyleModel",
       "_view_count": null,
       "_view_module": "@jupyter-widgets/base",
       "_view_module_version": "1.2.0",
       "_view_name": "StyleView",
       "bar_color": null,
       "description_width": ""
      }
     },
     "4c960a8746bd4efbba49519de1db3454": {
      "model_module": "@jupyter-widgets/base",
      "model_module_version": "1.2.0",
      "model_name": "LayoutModel",
      "state": {
       "_model_module": "@jupyter-widgets/base",
       "_model_module_version": "1.2.0",
       "_model_name": "LayoutModel",
       "_view_count": null,
       "_view_module": "@jupyter-widgets/base",
       "_view_module_version": "1.2.0",
       "_view_name": "LayoutView",
       "align_content": null,
       "align_items": null,
       "align_self": null,
       "border": null,
       "bottom": null,
       "display": null,
       "flex": null,
       "flex_flow": null,
       "grid_area": null,
       "grid_auto_columns": null,
       "grid_auto_flow": null,
       "grid_auto_rows": null,
       "grid_column": null,
       "grid_gap": null,
       "grid_row": null,
       "grid_template_areas": null,
       "grid_template_columns": null,
       "grid_template_rows": null,
       "height": null,
       "justify_content": null,
       "justify_items": null,
       "left": null,
       "margin": null,
       "max_height": null,
       "max_width": null,
       "min_height": null,
       "min_width": null,
       "object_fit": null,
       "object_position": null,
       "order": null,
       "overflow": null,
       "overflow_x": null,
       "overflow_y": null,
       "padding": null,
       "right": null,
       "top": null,
       "visibility": null,
       "width": null
      }
     },
     "4e63106ec17c492cac05a04d04c1356f": {
      "model_module": "@jupyter-widgets/controls",
      "model_module_version": "1.5.0",
      "model_name": "FloatProgressModel",
      "state": {
       "_dom_classes": [],
       "_model_module": "@jupyter-widgets/controls",
       "_model_module_version": "1.5.0",
       "_model_name": "FloatProgressModel",
       "_view_count": null,
       "_view_module": "@jupyter-widgets/controls",
       "_view_module_version": "1.5.0",
       "_view_name": "ProgressView",
       "bar_style": "success",
       "description": "",
       "description_tooltip": null,
       "layout": "IPY_MODEL_2601223194bc43ef862cd5d0566579d3",
       "max": 665.0,
       "min": 0.0,
       "orientation": "horizontal",
       "style": "IPY_MODEL_cd30e9aa7b2a4f2b906a0ff583f6b465",
       "value": 665.0
      }
     },
     "51548733d36942ae93e2b3d652dec11b": {
      "model_module": "@jupyter-widgets/controls",
      "model_module_version": "1.5.0",
      "model_name": "HTMLModel",
      "state": {
       "_dom_classes": [],
       "_model_module": "@jupyter-widgets/controls",
       "_model_module_version": "1.5.0",
       "_model_name": "HTMLModel",
       "_view_count": null,
       "_view_module": "@jupyter-widgets/controls",
       "_view_module_version": "1.5.0",
       "_view_name": "HTMLView",
       "description": "",
       "description_tooltip": null,
       "layout": "IPY_MODEL_40e48a77390e40f3a5ec91adfe80495d",
       "placeholder": "​",
       "style": "IPY_MODEL_e876f6ab246949439a454e010480a949",
       "value": " 2/2 [00:00&lt;00:00,  2.11ba/s]"
      }
     },
     "58c9e4f7bca14956ad31175fa9a23e59": {
      "model_module": "@jupyter-widgets/base",
      "model_module_version": "1.2.0",
      "model_name": "LayoutModel",
      "state": {
       "_model_module": "@jupyter-widgets/base",
       "_model_module_version": "1.2.0",
       "_model_name": "LayoutModel",
       "_view_count": null,
       "_view_module": "@jupyter-widgets/base",
       "_view_module_version": "1.2.0",
       "_view_name": "LayoutView",
       "align_content": null,
       "align_items": null,
       "align_self": null,
       "border": null,
       "bottom": null,
       "display": null,
       "flex": null,
       "flex_flow": null,
       "grid_area": null,
       "grid_auto_columns": null,
       "grid_auto_flow": null,
       "grid_auto_rows": null,
       "grid_column": null,
       "grid_gap": null,
       "grid_row": null,
       "grid_template_areas": null,
       "grid_template_columns": null,
       "grid_template_rows": null,
       "height": null,
       "justify_content": null,
       "justify_items": null,
       "left": null,
       "margin": null,
       "max_height": null,
       "max_width": null,
       "min_height": null,
       "min_width": null,
       "object_fit": null,
       "object_position": null,
       "order": null,
       "overflow": null,
       "overflow_x": null,
       "overflow_y": null,
       "padding": null,
       "right": null,
       "top": null,
       "visibility": null,
       "width": null
      }
     },
     "5e44a28600df4b6696b3f1bec69fbc97": {
      "model_module": "@jupyter-widgets/controls",
      "model_module_version": "1.5.0",
      "model_name": "HBoxModel",
      "state": {
       "_dom_classes": [],
       "_model_module": "@jupyter-widgets/controls",
       "_model_module_version": "1.5.0",
       "_model_name": "HBoxModel",
       "_view_count": null,
       "_view_module": "@jupyter-widgets/controls",
       "_view_module_version": "1.5.0",
       "_view_name": "HBoxView",
       "box_style": "",
       "children": [
        "IPY_MODEL_e00707f229bc42aeb1205b68fa257a7c",
        "IPY_MODEL_6ada1839be614c97a9be57837ab020f1",
        "IPY_MODEL_51548733d36942ae93e2b3d652dec11b"
       ],
       "layout": "IPY_MODEL_b7bb9217ef6a4dcb996d1b78afba0c57"
      }
     },
     "60cdcbce33714990b3b107a5d79f7381": {
      "model_module": "@jupyter-widgets/controls",
      "model_module_version": "1.5.0",
      "model_name": "HTMLModel",
      "state": {
       "_dom_classes": [],
       "_model_module": "@jupyter-widgets/controls",
       "_model_module_version": "1.5.0",
       "_model_name": "HTMLModel",
       "_view_count": null,
       "_view_module": "@jupyter-widgets/controls",
       "_view_module_version": "1.5.0",
       "_view_name": "HTMLView",
       "description": "",
       "description_tooltip": null,
       "layout": "IPY_MODEL_b23216dbbeaf468db7d0da47afe990bc",
       "placeholder": "​",
       "style": "IPY_MODEL_7657c44debe94586b6a939c57b798d9a",
       "value": "Downloading (…)lve/main/config.json: 100%"
      }
     },
     "652f86c88d504fc4a637355a0a157b14": {
      "model_module": "@jupyter-widgets/controls",
      "model_module_version": "1.5.0",
      "model_name": "ProgressStyleModel",
      "state": {
       "_model_module": "@jupyter-widgets/controls",
       "_model_module_version": "1.5.0",
       "_model_name": "ProgressStyleModel",
       "_view_count": null,
       "_view_module": "@jupyter-widgets/base",
       "_view_module_version": "1.2.0",
       "_view_name": "StyleView",
       "bar_color": null,
       "description_width": ""
      }
     },
     "6659b1d0a7194c4d8e44a999a334e6e9": {
      "model_module": "@jupyter-widgets/controls",
      "model_module_version": "1.5.0",
      "model_name": "DescriptionStyleModel",
      "state": {
       "_model_module": "@jupyter-widgets/controls",
       "_model_module_version": "1.5.0",
       "_model_name": "DescriptionStyleModel",
       "_view_count": null,
       "_view_module": "@jupyter-widgets/base",
       "_view_module_version": "1.2.0",
       "_view_name": "StyleView",
       "description_width": ""
      }
     },
     "686c8bcc716a48b498b82a190adc7959": {
      "model_module": "@jupyter-widgets/base",
      "model_module_version": "1.2.0",
      "model_name": "LayoutModel",
      "state": {
       "_model_module": "@jupyter-widgets/base",
       "_model_module_version": "1.2.0",
       "_model_name": "LayoutModel",
       "_view_count": null,
       "_view_module": "@jupyter-widgets/base",
       "_view_module_version": "1.2.0",
       "_view_name": "LayoutView",
       "align_content": null,
       "align_items": null,
       "align_self": null,
       "border": null,
       "bottom": null,
       "display": null,
       "flex": null,
       "flex_flow": null,
       "grid_area": null,
       "grid_auto_columns": null,
       "grid_auto_flow": null,
       "grid_auto_rows": null,
       "grid_column": null,
       "grid_gap": null,
       "grid_row": null,
       "grid_template_areas": null,
       "grid_template_columns": null,
       "grid_template_rows": null,
       "height": null,
       "justify_content": null,
       "justify_items": null,
       "left": null,
       "margin": null,
       "max_height": null,
       "max_width": null,
       "min_height": null,
       "min_width": null,
       "object_fit": null,
       "object_position": null,
       "order": null,
       "overflow": null,
       "overflow_x": null,
       "overflow_y": null,
       "padding": null,
       "right": null,
       "top": null,
       "visibility": null,
       "width": null
      }
     },
     "6983869141e24a989429995c0c950f3e": {
      "model_module": "@jupyter-widgets/base",
      "model_module_version": "1.2.0",
      "model_name": "LayoutModel",
      "state": {
       "_model_module": "@jupyter-widgets/base",
       "_model_module_version": "1.2.0",
       "_model_name": "LayoutModel",
       "_view_count": null,
       "_view_module": "@jupyter-widgets/base",
       "_view_module_version": "1.2.0",
       "_view_name": "LayoutView",
       "align_content": null,
       "align_items": null,
       "align_self": null,
       "border": null,
       "bottom": null,
       "display": null,
       "flex": null,
       "flex_flow": null,
       "grid_area": null,
       "grid_auto_columns": null,
       "grid_auto_flow": null,
       "grid_auto_rows": null,
       "grid_column": null,
       "grid_gap": null,
       "grid_row": null,
       "grid_template_areas": null,
       "grid_template_columns": null,
       "grid_template_rows": null,
       "height": null,
       "justify_content": null,
       "justify_items": null,
       "left": null,
       "margin": null,
       "max_height": null,
       "max_width": null,
       "min_height": null,
       "min_width": null,
       "object_fit": null,
       "object_position": null,
       "order": null,
       "overflow": null,
       "overflow_x": null,
       "overflow_y": null,
       "padding": null,
       "right": null,
       "top": null,
       "visibility": null,
       "width": null
      }
     },
     "6ada1839be614c97a9be57837ab020f1": {
      "model_module": "@jupyter-widgets/controls",
      "model_module_version": "1.5.0",
      "model_name": "FloatProgressModel",
      "state": {
       "_dom_classes": [],
       "_model_module": "@jupyter-widgets/controls",
       "_model_module_version": "1.5.0",
       "_model_name": "FloatProgressModel",
       "_view_count": null,
       "_view_module": "@jupyter-widgets/controls",
       "_view_module_version": "1.5.0",
       "_view_name": "ProgressView",
       "bar_style": "success",
       "description": "",
       "description_tooltip": null,
       "layout": "IPY_MODEL_49b921d80700480bb635dda9d1666926",
       "max": 2.0,
       "min": 0.0,
       "orientation": "horizontal",
       "style": "IPY_MODEL_652f86c88d504fc4a637355a0a157b14",
       "value": 2.0
      }
     },
     "70708a91c4264492b6ba739222099e32": {
      "model_module": "@jupyter-widgets/controls",
      "model_module_version": "1.5.0",
      "model_name": "HTMLModel",
      "state": {
       "_dom_classes": [],
       "_model_module": "@jupyter-widgets/controls",
       "_model_module_version": "1.5.0",
       "_model_name": "HTMLModel",
       "_view_count": null,
       "_view_module": "@jupyter-widgets/controls",
       "_view_module_version": "1.5.0",
       "_view_name": "HTMLView",
       "description": "",
       "description_tooltip": null,
       "layout": "IPY_MODEL_e84315e94a9640cd9b16e966170df2a2",
       "placeholder": "​",
       "style": "IPY_MODEL_1d0af7d2fe1648c9a9ee3a040ece8ce4",
       "value": "100%"
      }
     },
     "737ef4317d744da1afd954fc0b30f670": {
      "model_module": "@jupyter-widgets/base",
      "model_module_version": "1.2.0",
      "model_name": "LayoutModel",
      "state": {
       "_model_module": "@jupyter-widgets/base",
       "_model_module_version": "1.2.0",
       "_model_name": "LayoutModel",
       "_view_count": null,
       "_view_module": "@jupyter-widgets/base",
       "_view_module_version": "1.2.0",
       "_view_name": "LayoutView",
       "align_content": null,
       "align_items": null,
       "align_self": null,
       "border": null,
       "bottom": null,
       "display": null,
       "flex": null,
       "flex_flow": null,
       "grid_area": null,
       "grid_auto_columns": null,
       "grid_auto_flow": null,
       "grid_auto_rows": null,
       "grid_column": null,
       "grid_gap": null,
       "grid_row": null,
       "grid_template_areas": null,
       "grid_template_columns": null,
       "grid_template_rows": null,
       "height": null,
       "justify_content": null,
       "justify_items": null,
       "left": null,
       "margin": null,
       "max_height": null,
       "max_width": null,
       "min_height": null,
       "min_width": null,
       "object_fit": null,
       "object_position": null,
       "order": null,
       "overflow": null,
       "overflow_x": null,
       "overflow_y": null,
       "padding": null,
       "right": null,
       "top": null,
       "visibility": null,
       "width": null
      }
     },
     "746159aca19e4f859646b1555ec7b221": {
      "model_module": "@jupyter-widgets/controls",
      "model_module_version": "1.5.0",
      "model_name": "ProgressStyleModel",
      "state": {
       "_model_module": "@jupyter-widgets/controls",
       "_model_module_version": "1.5.0",
       "_model_name": "ProgressStyleModel",
       "_view_count": null,
       "_view_module": "@jupyter-widgets/base",
       "_view_module_version": "1.2.0",
       "_view_name": "StyleView",
       "bar_color": null,
       "description_width": ""
      }
     },
     "7510c64d777c453c999001a06caadb2c": {
      "model_module": "@jupyter-widgets/controls",
      "model_module_version": "1.5.0",
      "model_name": "FloatProgressModel",
      "state": {
       "_dom_classes": [],
       "_model_module": "@jupyter-widgets/controls",
       "_model_module_version": "1.5.0",
       "_model_name": "FloatProgressModel",
       "_view_count": null,
       "_view_module": "@jupyter-widgets/controls",
       "_view_module_version": "1.5.0",
       "_view_name": "ProgressView",
       "bar_style": "success",
       "description": "",
       "description_tooltip": null,
       "layout": "IPY_MODEL_04b0201149c64478a8e8149a85282059",
       "max": 1042301.0,
       "min": 0.0,
       "orientation": "horizontal",
       "style": "IPY_MODEL_746159aca19e4f859646b1555ec7b221",
       "value": 1042301.0
      }
     },
     "7657c44debe94586b6a939c57b798d9a": {
      "model_module": "@jupyter-widgets/controls",
      "model_module_version": "1.5.0",
      "model_name": "DescriptionStyleModel",
      "state": {
       "_model_module": "@jupyter-widgets/controls",
       "_model_module_version": "1.5.0",
       "_model_name": "DescriptionStyleModel",
       "_view_count": null,
       "_view_module": "@jupyter-widgets/base",
       "_view_module_version": "1.2.0",
       "_view_name": "StyleView",
       "description_width": ""
      }
     },
     "7da0d1614b414fd9a025fa7c4737c959": {
      "model_module": "@jupyter-widgets/controls",
      "model_module_version": "1.5.0",
      "model_name": "ProgressStyleModel",
      "state": {
       "_model_module": "@jupyter-widgets/controls",
       "_model_module_version": "1.5.0",
       "_model_name": "ProgressStyleModel",
       "_view_count": null,
       "_view_module": "@jupyter-widgets/base",
       "_view_module_version": "1.2.0",
       "_view_name": "StyleView",
       "bar_color": null,
       "description_width": ""
      }
     },
     "7dc25baaa18b47c0935e69e98a05b1d4": {
      "model_module": "@jupyter-widgets/controls",
      "model_module_version": "1.5.0",
      "model_name": "ProgressStyleModel",
      "state": {
       "_model_module": "@jupyter-widgets/controls",
       "_model_module_version": "1.5.0",
       "_model_name": "ProgressStyleModel",
       "_view_count": null,
       "_view_module": "@jupyter-widgets/base",
       "_view_module_version": "1.2.0",
       "_view_name": "StyleView",
       "bar_color": null,
       "description_width": ""
      }
     },
     "7ef84228cfd1489faa1cc44e04f57300": {
      "model_module": "@jupyter-widgets/base",
      "model_module_version": "1.2.0",
      "model_name": "LayoutModel",
      "state": {
       "_model_module": "@jupyter-widgets/base",
       "_model_module_version": "1.2.0",
       "_model_name": "LayoutModel",
       "_view_count": null,
       "_view_module": "@jupyter-widgets/base",
       "_view_module_version": "1.2.0",
       "_view_name": "LayoutView",
       "align_content": null,
       "align_items": null,
       "align_self": null,
       "border": null,
       "bottom": null,
       "display": null,
       "flex": null,
       "flex_flow": null,
       "grid_area": null,
       "grid_auto_columns": null,
       "grid_auto_flow": null,
       "grid_auto_rows": null,
       "grid_column": null,
       "grid_gap": null,
       "grid_row": null,
       "grid_template_areas": null,
       "grid_template_columns": null,
       "grid_template_rows": null,
       "height": null,
       "justify_content": null,
       "justify_items": null,
       "left": null,
       "margin": null,
       "max_height": null,
       "max_width": null,
       "min_height": null,
       "min_width": null,
       "object_fit": null,
       "object_position": null,
       "order": null,
       "overflow": null,
       "overflow_x": null,
       "overflow_y": null,
       "padding": null,
       "right": null,
       "top": null,
       "visibility": null,
       "width": null
      }
     },
     "815160f2a9184b85a90bc5646299f502": {
      "model_module": "@jupyter-widgets/controls",
      "model_module_version": "1.5.0",
      "model_name": "HBoxModel",
      "state": {
       "_dom_classes": [],
       "_model_module": "@jupyter-widgets/controls",
       "_model_module_version": "1.5.0",
       "_model_name": "HBoxModel",
       "_view_count": null,
       "_view_module": "@jupyter-widgets/controls",
       "_view_module_version": "1.5.0",
       "_view_name": "HBoxView",
       "box_style": "",
       "children": [
        "IPY_MODEL_70708a91c4264492b6ba739222099e32",
        "IPY_MODEL_d0b3724073da466889479478faa76a48",
        "IPY_MODEL_cf9089805a8b428aae1aaba3cf991619"
       ],
       "layout": "IPY_MODEL_cf967b93b77b440eb4b9fa92a3daa0d5"
      }
     },
     "8189b4703bc94ad7a7bb22475bdc60e6": {
      "model_module": "@jupyter-widgets/controls",
      "model_module_version": "1.5.0",
      "model_name": "DescriptionStyleModel",
      "state": {
       "_model_module": "@jupyter-widgets/controls",
       "_model_module_version": "1.5.0",
       "_model_name": "DescriptionStyleModel",
       "_view_count": null,
       "_view_module": "@jupyter-widgets/base",
       "_view_module_version": "1.2.0",
       "_view_name": "StyleView",
       "description_width": ""
      }
     },
     "83275ab272a740209630caccb4203873": {
      "model_module": "@jupyter-widgets/base",
      "model_module_version": "1.2.0",
      "model_name": "LayoutModel",
      "state": {
       "_model_module": "@jupyter-widgets/base",
       "_model_module_version": "1.2.0",
       "_model_name": "LayoutModel",
       "_view_count": null,
       "_view_module": "@jupyter-widgets/base",
       "_view_module_version": "1.2.0",
       "_view_name": "LayoutView",
       "align_content": null,
       "align_items": null,
       "align_self": null,
       "border": null,
       "bottom": null,
       "display": null,
       "flex": null,
       "flex_flow": null,
       "grid_area": null,
       "grid_auto_columns": null,
       "grid_auto_flow": null,
       "grid_auto_rows": null,
       "grid_column": null,
       "grid_gap": null,
       "grid_row": null,
       "grid_template_areas": null,
       "grid_template_columns": null,
       "grid_template_rows": null,
       "height": null,
       "justify_content": null,
       "justify_items": null,
       "left": null,
       "margin": null,
       "max_height": null,
       "max_width": null,
       "min_height": null,
       "min_width": null,
       "object_fit": null,
       "object_position": null,
       "order": null,
       "overflow": null,
       "overflow_x": null,
       "overflow_y": null,
       "padding": null,
       "right": null,
       "top": null,
       "visibility": null,
       "width": null
      }
     },
     "83c09a01005e473e8f87def7fda64c73": {
      "model_module": "@jupyter-widgets/controls",
      "model_module_version": "1.5.0",
      "model_name": "ProgressStyleModel",
      "state": {
       "_model_module": "@jupyter-widgets/controls",
       "_model_module_version": "1.5.0",
       "_model_name": "ProgressStyleModel",
       "_view_count": null,
       "_view_module": "@jupyter-widgets/base",
       "_view_module_version": "1.2.0",
       "_view_name": "StyleView",
       "bar_color": null,
       "description_width": ""
      }
     },
     "86c92e253a7a4a20a34eac817ea3f987": {
      "model_module": "@jupyter-widgets/controls",
      "model_module_version": "1.5.0",
      "model_name": "HBoxModel",
      "state": {
       "_dom_classes": [],
       "_model_module": "@jupyter-widgets/controls",
       "_model_module_version": "1.5.0",
       "_model_name": "HBoxModel",
       "_view_count": null,
       "_view_module": "@jupyter-widgets/controls",
       "_view_module_version": "1.5.0",
       "_view_name": "HBoxView",
       "box_style": "",
       "children": [
        "IPY_MODEL_a1629b33b02d4ac89f5410c73eaea5d9",
        "IPY_MODEL_7510c64d777c453c999001a06caadb2c",
        "IPY_MODEL_2e89fc4717a6447d8e619cfea1bd5a78"
       ],
       "layout": "IPY_MODEL_fb8b67e1de444606aa65807befbb2377"
      }
     },
     "898f95ea1d644f8ab4d6ac258099058a": {
      "model_module": "@jupyter-widgets/base",
      "model_module_version": "1.2.0",
      "model_name": "LayoutModel",
      "state": {
       "_model_module": "@jupyter-widgets/base",
       "_model_module_version": "1.2.0",
       "_model_name": "LayoutModel",
       "_view_count": null,
       "_view_module": "@jupyter-widgets/base",
       "_view_module_version": "1.2.0",
       "_view_name": "LayoutView",
       "align_content": null,
       "align_items": null,
       "align_self": null,
       "border": null,
       "bottom": null,
       "display": null,
       "flex": null,
       "flex_flow": null,
       "grid_area": null,
       "grid_auto_columns": null,
       "grid_auto_flow": null,
       "grid_auto_rows": null,
       "grid_column": null,
       "grid_gap": null,
       "grid_row": null,
       "grid_template_areas": null,
       "grid_template_columns": null,
       "grid_template_rows": null,
       "height": null,
       "justify_content": null,
       "justify_items": null,
       "left": null,
       "margin": null,
       "max_height": null,
       "max_width": null,
       "min_height": null,
       "min_width": null,
       "object_fit": null,
       "object_position": null,
       "order": null,
       "overflow": null,
       "overflow_x": null,
       "overflow_y": null,
       "padding": null,
       "right": null,
       "top": null,
       "visibility": null,
       "width": null
      }
     },
     "90c94cfb38794d09b2491d0a0d2da350": {
      "model_module": "@jupyter-widgets/base",
      "model_module_version": "1.2.0",
      "model_name": "LayoutModel",
      "state": {
       "_model_module": "@jupyter-widgets/base",
       "_model_module_version": "1.2.0",
       "_model_name": "LayoutModel",
       "_view_count": null,
       "_view_module": "@jupyter-widgets/base",
       "_view_module_version": "1.2.0",
       "_view_name": "LayoutView",
       "align_content": null,
       "align_items": null,
       "align_self": null,
       "border": null,
       "bottom": null,
       "display": null,
       "flex": null,
       "flex_flow": null,
       "grid_area": null,
       "grid_auto_columns": null,
       "grid_auto_flow": null,
       "grid_auto_rows": null,
       "grid_column": null,
       "grid_gap": null,
       "grid_row": null,
       "grid_template_areas": null,
       "grid_template_columns": null,
       "grid_template_rows": null,
       "height": null,
       "justify_content": null,
       "justify_items": null,
       "left": null,
       "margin": null,
       "max_height": null,
       "max_width": null,
       "min_height": null,
       "min_width": null,
       "object_fit": null,
       "object_position": null,
       "order": null,
       "overflow": null,
       "overflow_x": null,
       "overflow_y": null,
       "padding": null,
       "right": null,
       "top": null,
       "visibility": null,
       "width": null
      }
     },
     "9ab4cd25e0914f3a849c44e96167ff04": {
      "model_module": "@jupyter-widgets/controls",
      "model_module_version": "1.5.0",
      "model_name": "HTMLModel",
      "state": {
       "_dom_classes": [],
       "_model_module": "@jupyter-widgets/controls",
       "_model_module_version": "1.5.0",
       "_model_name": "HTMLModel",
       "_view_count": null,
       "_view_module": "@jupyter-widgets/controls",
       "_view_module_version": "1.5.0",
       "_view_name": "HTMLView",
       "description": "",
       "description_tooltip": null,
       "layout": "IPY_MODEL_d52b5aaae8c1497a99c8fccd267e1a25",
       "placeholder": "​",
       "style": "IPY_MODEL_42a7489e9b114c8aa81638c8685e5b52",
       "value": "Downloading (…)/main/tokenizer.json: 100%"
      }
     },
     "a1196c05dcf0420fb9c3fe6d35010719": {
      "model_module": "@jupyter-widgets/base",
      "model_module_version": "1.2.0",
      "model_name": "LayoutModel",
      "state": {
       "_model_module": "@jupyter-widgets/base",
       "_model_module_version": "1.2.0",
       "_model_name": "LayoutModel",
       "_view_count": null,
       "_view_module": "@jupyter-widgets/base",
       "_view_module_version": "1.2.0",
       "_view_name": "LayoutView",
       "align_content": null,
       "align_items": null,
       "align_self": null,
       "border": null,
       "bottom": null,
       "display": null,
       "flex": null,
       "flex_flow": null,
       "grid_area": null,
       "grid_auto_columns": null,
       "grid_auto_flow": null,
       "grid_auto_rows": null,
       "grid_column": null,
       "grid_gap": null,
       "grid_row": null,
       "grid_template_areas": null,
       "grid_template_columns": null,
       "grid_template_rows": null,
       "height": null,
       "justify_content": null,
       "justify_items": null,
       "left": null,
       "margin": null,
       "max_height": null,
       "max_width": null,
       "min_height": null,
       "min_width": null,
       "object_fit": null,
       "object_position": null,
       "order": null,
       "overflow": null,
       "overflow_x": null,
       "overflow_y": null,
       "padding": null,
       "right": null,
       "top": null,
       "visibility": null,
       "width": null
      }
     },
     "a1629b33b02d4ac89f5410c73eaea5d9": {
      "model_module": "@jupyter-widgets/controls",
      "model_module_version": "1.5.0",
      "model_name": "HTMLModel",
      "state": {
       "_dom_classes": [],
       "_model_module": "@jupyter-widgets/controls",
       "_model_module_version": "1.5.0",
       "_model_name": "HTMLModel",
       "_view_count": null,
       "_view_module": "@jupyter-widgets/controls",
       "_view_module_version": "1.5.0",
       "_view_name": "HTMLView",
       "description": "",
       "description_tooltip": null,
       "layout": "IPY_MODEL_c07cc572316443118e093ecf01594395",
       "placeholder": "​",
       "style": "IPY_MODEL_c44aca9fe3224f3b882a153c0cee88c7",
       "value": "Downloading (…)olve/main/vocab.json: 100%"
      }
     },
     "a2c39d4088d744b09729e9e9def31916": {
      "model_module": "@jupyter-widgets/controls",
      "model_module_version": "1.5.0",
      "model_name": "HTMLModel",
      "state": {
       "_dom_classes": [],
       "_model_module": "@jupyter-widgets/controls",
       "_model_module_version": "1.5.0",
       "_model_name": "HTMLModel",
       "_view_count": null,
       "_view_module": "@jupyter-widgets/controls",
       "_view_module_version": "1.5.0",
       "_view_name": "HTMLView",
       "description": "",
       "description_tooltip": null,
       "layout": "IPY_MODEL_a1196c05dcf0420fb9c3fe6d35010719",
       "placeholder": "​",
       "style": "IPY_MODEL_8189b4703bc94ad7a7bb22475bdc60e6",
       "value": "Downloading (…)olve/main/merges.txt: 100%"
      }
     },
     "ac53dc49b90f401e96f1a5270eafb6ca": {
      "model_module": "@jupyter-widgets/base",
      "model_module_version": "1.2.0",
      "model_name": "LayoutModel",
      "state": {
       "_model_module": "@jupyter-widgets/base",
       "_model_module_version": "1.2.0",
       "_model_name": "LayoutModel",
       "_view_count": null,
       "_view_module": "@jupyter-widgets/base",
       "_view_module_version": "1.2.0",
       "_view_name": "LayoutView",
       "align_content": null,
       "align_items": null,
       "align_self": null,
       "border": null,
       "bottom": null,
       "display": null,
       "flex": null,
       "flex_flow": null,
       "grid_area": null,
       "grid_auto_columns": null,
       "grid_auto_flow": null,
       "grid_auto_rows": null,
       "grid_column": null,
       "grid_gap": null,
       "grid_row": null,
       "grid_template_areas": null,
       "grid_template_columns": null,
       "grid_template_rows": null,
       "height": null,
       "justify_content": null,
       "justify_items": null,
       "left": null,
       "margin": null,
       "max_height": null,
       "max_width": null,
       "min_height": null,
       "min_width": null,
       "object_fit": null,
       "object_position": null,
       "order": null,
       "overflow": null,
       "overflow_x": null,
       "overflow_y": null,
       "padding": null,
       "right": null,
       "top": null,
       "visibility": null,
       "width": null
      }
     },
     "b016697863734284b33cfbf4f4830b24": {
      "model_module": "@jupyter-widgets/base",
      "model_module_version": "1.2.0",
      "model_name": "LayoutModel",
      "state": {
       "_model_module": "@jupyter-widgets/base",
       "_model_module_version": "1.2.0",
       "_model_name": "LayoutModel",
       "_view_count": null,
       "_view_module": "@jupyter-widgets/base",
       "_view_module_version": "1.2.0",
       "_view_name": "LayoutView",
       "align_content": null,
       "align_items": null,
       "align_self": null,
       "border": null,
       "bottom": null,
       "display": null,
       "flex": null,
       "flex_flow": null,
       "grid_area": null,
       "grid_auto_columns": null,
       "grid_auto_flow": null,
       "grid_auto_rows": null,
       "grid_column": null,
       "grid_gap": null,
       "grid_row": null,
       "grid_template_areas": null,
       "grid_template_columns": null,
       "grid_template_rows": null,
       "height": null,
       "justify_content": null,
       "justify_items": null,
       "left": null,
       "margin": null,
       "max_height": null,
       "max_width": null,
       "min_height": null,
       "min_width": null,
       "object_fit": null,
       "object_position": null,
       "order": null,
       "overflow": null,
       "overflow_x": null,
       "overflow_y": null,
       "padding": null,
       "right": null,
       "top": null,
       "visibility": null,
       "width": null
      }
     },
     "b23216dbbeaf468db7d0da47afe990bc": {
      "model_module": "@jupyter-widgets/base",
      "model_module_version": "1.2.0",
      "model_name": "LayoutModel",
      "state": {
       "_model_module": "@jupyter-widgets/base",
       "_model_module_version": "1.2.0",
       "_model_name": "LayoutModel",
       "_view_count": null,
       "_view_module": "@jupyter-widgets/base",
       "_view_module_version": "1.2.0",
       "_view_name": "LayoutView",
       "align_content": null,
       "align_items": null,
       "align_self": null,
       "border": null,
       "bottom": null,
       "display": null,
       "flex": null,
       "flex_flow": null,
       "grid_area": null,
       "grid_auto_columns": null,
       "grid_auto_flow": null,
       "grid_auto_rows": null,
       "grid_column": null,
       "grid_gap": null,
       "grid_row": null,
       "grid_template_areas": null,
       "grid_template_columns": null,
       "grid_template_rows": null,
       "height": null,
       "justify_content": null,
       "justify_items": null,
       "left": null,
       "margin": null,
       "max_height": null,
       "max_width": null,
       "min_height": null,
       "min_width": null,
       "object_fit": null,
       "object_position": null,
       "order": null,
       "overflow": null,
       "overflow_x": null,
       "overflow_y": null,
       "padding": null,
       "right": null,
       "top": null,
       "visibility": null,
       "width": null
      }
     },
     "b242bd3e5650404c8987815e66d4526c": {
      "model_module": "@jupyter-widgets/controls",
      "model_module_version": "1.5.0",
      "model_name": "HTMLModel",
      "state": {
       "_dom_classes": [],
       "_model_module": "@jupyter-widgets/controls",
       "_model_module_version": "1.5.0",
       "_model_name": "HTMLModel",
       "_view_count": null,
       "_view_module": "@jupyter-widgets/controls",
       "_view_module_version": "1.5.0",
       "_view_name": "HTMLView",
       "description": "",
       "description_tooltip": null,
       "layout": "IPY_MODEL_7ef84228cfd1489faa1cc44e04f57300",
       "placeholder": "​",
       "style": "IPY_MODEL_c2e798c4c06f4c9c8d40fb0af9e0aaea",
       "value": " 8/8 [00:34&lt;00:00,  4.37s/ba]"
      }
     },
     "b44cca73d0ce4e8d8d92d12ca99fe2b4": {
      "model_module": "@jupyter-widgets/controls",
      "model_module_version": "1.5.0",
      "model_name": "HBoxModel",
      "state": {
       "_dom_classes": [],
       "_model_module": "@jupyter-widgets/controls",
       "_model_module_version": "1.5.0",
       "_model_name": "HBoxModel",
       "_view_count": null,
       "_view_module": "@jupyter-widgets/controls",
       "_view_module_version": "1.5.0",
       "_view_name": "HBoxView",
       "box_style": "",
       "children": [
        "IPY_MODEL_3d540d1c4c1149c499656dfc143bf6df",
        "IPY_MODEL_c03c36d9da5f40bd9624e47d744dee87",
        "IPY_MODEL_208ec6529f3548ec9dc30d7a537f8956"
       ],
       "layout": "IPY_MODEL_084f75435c7144f09ad5a71eea0037f9"
      }
     },
     "b7bb9217ef6a4dcb996d1b78afba0c57": {
      "model_module": "@jupyter-widgets/base",
      "model_module_version": "1.2.0",
      "model_name": "LayoutModel",
      "state": {
       "_model_module": "@jupyter-widgets/base",
       "_model_module_version": "1.2.0",
       "_model_name": "LayoutModel",
       "_view_count": null,
       "_view_module": "@jupyter-widgets/base",
       "_view_module_version": "1.2.0",
       "_view_name": "LayoutView",
       "align_content": null,
       "align_items": null,
       "align_self": null,
       "border": null,
       "bottom": null,
       "display": null,
       "flex": null,
       "flex_flow": null,
       "grid_area": null,
       "grid_auto_columns": null,
       "grid_auto_flow": null,
       "grid_auto_rows": null,
       "grid_column": null,
       "grid_gap": null,
       "grid_row": null,
       "grid_template_areas": null,
       "grid_template_columns": null,
       "grid_template_rows": null,
       "height": null,
       "justify_content": null,
       "justify_items": null,
       "left": null,
       "margin": null,
       "max_height": null,
       "max_width": null,
       "min_height": null,
       "min_width": null,
       "object_fit": null,
       "object_position": null,
       "order": null,
       "overflow": null,
       "overflow_x": null,
       "overflow_y": null,
       "padding": null,
       "right": null,
       "top": null,
       "visibility": null,
       "width": null
      }
     },
     "bafaf6cbe03c4a48a2d9a11b16a6a937": {
      "model_module": "@jupyter-widgets/controls",
      "model_module_version": "1.5.0",
      "model_name": "DescriptionStyleModel",
      "state": {
       "_model_module": "@jupyter-widgets/controls",
       "_model_module_version": "1.5.0",
       "_model_name": "DescriptionStyleModel",
       "_view_count": null,
       "_view_module": "@jupyter-widgets/base",
       "_view_module_version": "1.2.0",
       "_view_name": "StyleView",
       "description_width": ""
      }
     },
     "c03c36d9da5f40bd9624e47d744dee87": {
      "model_module": "@jupyter-widgets/controls",
      "model_module_version": "1.5.0",
      "model_name": "FloatProgressModel",
      "state": {
       "_dom_classes": [],
       "_model_module": "@jupyter-widgets/controls",
       "_model_module_version": "1.5.0",
       "_model_name": "FloatProgressModel",
       "_view_count": null,
       "_view_module": "@jupyter-widgets/controls",
       "_view_module_version": "1.5.0",
       "_view_name": "ProgressView",
       "bar_style": "success",
       "description": "",
       "description_tooltip": null,
       "layout": "IPY_MODEL_dcc7749942964a1d8832dc390e3163c8",
       "max": 548118077.0,
       "min": 0.0,
       "orientation": "horizontal",
       "style": "IPY_MODEL_7dc25baaa18b47c0935e69e98a05b1d4",
       "value": 548118077.0
      }
     },
     "c07cc572316443118e093ecf01594395": {
      "model_module": "@jupyter-widgets/base",
      "model_module_version": "1.2.0",
      "model_name": "LayoutModel",
      "state": {
       "_model_module": "@jupyter-widgets/base",
       "_model_module_version": "1.2.0",
       "_model_name": "LayoutModel",
       "_view_count": null,
       "_view_module": "@jupyter-widgets/base",
       "_view_module_version": "1.2.0",
       "_view_name": "LayoutView",
       "align_content": null,
       "align_items": null,
       "align_self": null,
       "border": null,
       "bottom": null,
       "display": null,
       "flex": null,
       "flex_flow": null,
       "grid_area": null,
       "grid_auto_columns": null,
       "grid_auto_flow": null,
       "grid_auto_rows": null,
       "grid_column": null,
       "grid_gap": null,
       "grid_row": null,
       "grid_template_areas": null,
       "grid_template_columns": null,
       "grid_template_rows": null,
       "height": null,
       "justify_content": null,
       "justify_items": null,
       "left": null,
       "margin": null,
       "max_height": null,
       "max_width": null,
       "min_height": null,
       "min_width": null,
       "object_fit": null,
       "object_position": null,
       "order": null,
       "overflow": null,
       "overflow_x": null,
       "overflow_y": null,
       "padding": null,
       "right": null,
       "top": null,
       "visibility": null,
       "width": null
      }
     },
     "c11882764efb4f43a1af63bb3ad2ebfd": {
      "model_module": "@jupyter-widgets/controls",
      "model_module_version": "1.5.0",
      "model_name": "HTMLModel",
      "state": {
       "_dom_classes": [],
       "_model_module": "@jupyter-widgets/controls",
       "_model_module_version": "1.5.0",
       "_model_name": "HTMLModel",
       "_view_count": null,
       "_view_module": "@jupyter-widgets/controls",
       "_view_module_version": "1.5.0",
       "_view_name": "HTMLView",
       "description": "",
       "description_tooltip": null,
       "layout": "IPY_MODEL_47bc525380494652b34f1dbd775b1211",
       "placeholder": "​",
       "style": "IPY_MODEL_3b4893da7ad847d29f998efb9acdfda3",
       "value": "100%"
      }
     },
     "c2e798c4c06f4c9c8d40fb0af9e0aaea": {
      "model_module": "@jupyter-widgets/controls",
      "model_module_version": "1.5.0",
      "model_name": "DescriptionStyleModel",
      "state": {
       "_model_module": "@jupyter-widgets/controls",
       "_model_module_version": "1.5.0",
       "_model_name": "DescriptionStyleModel",
       "_view_count": null,
       "_view_module": "@jupyter-widgets/base",
       "_view_module_version": "1.2.0",
       "_view_name": "StyleView",
       "description_width": ""
      }
     },
     "c34071c1831842ffa8493087d61ee430": {
      "model_module": "@jupyter-widgets/controls",
      "model_module_version": "1.5.0",
      "model_name": "HTMLModel",
      "state": {
       "_dom_classes": [],
       "_model_module": "@jupyter-widgets/controls",
       "_model_module_version": "1.5.0",
       "_model_name": "HTMLModel",
       "_view_count": null,
       "_view_module": "@jupyter-widgets/controls",
       "_view_module_version": "1.5.0",
       "_view_name": "HTMLView",
       "description": "",
       "description_tooltip": null,
       "layout": "IPY_MODEL_01f74718a0a54748ada2e1202f325c25",
       "placeholder": "​",
       "style": "IPY_MODEL_0ca4ec8679e3474e92045f98f668a659",
       "value": " 1.36M/1.36M [00:00&lt;00:00, 26.6MB/s]"
      }
     },
     "c44aca9fe3224f3b882a153c0cee88c7": {
      "model_module": "@jupyter-widgets/controls",
      "model_module_version": "1.5.0",
      "model_name": "DescriptionStyleModel",
      "state": {
       "_model_module": "@jupyter-widgets/controls",
       "_model_module_version": "1.5.0",
       "_model_name": "DescriptionStyleModel",
       "_view_count": null,
       "_view_module": "@jupyter-widgets/base",
       "_view_module_version": "1.2.0",
       "_view_name": "StyleView",
       "description_width": ""
      }
     },
     "c7c385efa8284aeeae41ff675ec72138": {
      "model_module": "@jupyter-widgets/base",
      "model_module_version": "1.2.0",
      "model_name": "LayoutModel",
      "state": {
       "_model_module": "@jupyter-widgets/base",
       "_model_module_version": "1.2.0",
       "_model_name": "LayoutModel",
       "_view_count": null,
       "_view_module": "@jupyter-widgets/base",
       "_view_module_version": "1.2.0",
       "_view_name": "LayoutView",
       "align_content": null,
       "align_items": null,
       "align_self": null,
       "border": null,
       "bottom": null,
       "display": null,
       "flex": null,
       "flex_flow": null,
       "grid_area": null,
       "grid_auto_columns": null,
       "grid_auto_flow": null,
       "grid_auto_rows": null,
       "grid_column": null,
       "grid_gap": null,
       "grid_row": null,
       "grid_template_areas": null,
       "grid_template_columns": null,
       "grid_template_rows": null,
       "height": null,
       "justify_content": null,
       "justify_items": null,
       "left": null,
       "margin": null,
       "max_height": null,
       "max_width": null,
       "min_height": null,
       "min_width": null,
       "object_fit": null,
       "object_position": null,
       "order": null,
       "overflow": null,
       "overflow_x": null,
       "overflow_y": null,
       "padding": null,
       "right": null,
       "top": null,
       "visibility": null,
       "width": null
      }
     },
     "cd30e9aa7b2a4f2b906a0ff583f6b465": {
      "model_module": "@jupyter-widgets/controls",
      "model_module_version": "1.5.0",
      "model_name": "ProgressStyleModel",
      "state": {
       "_model_module": "@jupyter-widgets/controls",
       "_model_module_version": "1.5.0",
       "_model_name": "ProgressStyleModel",
       "_view_count": null,
       "_view_module": "@jupyter-widgets/base",
       "_view_module_version": "1.2.0",
       "_view_name": "StyleView",
       "bar_color": null,
       "description_width": ""
      }
     },
     "ce2f5d86e3ea415bb6039bc012f56e24": {
      "model_module": "@jupyter-widgets/base",
      "model_module_version": "1.2.0",
      "model_name": "LayoutModel",
      "state": {
       "_model_module": "@jupyter-widgets/base",
       "_model_module_version": "1.2.0",
       "_model_name": "LayoutModel",
       "_view_count": null,
       "_view_module": "@jupyter-widgets/base",
       "_view_module_version": "1.2.0",
       "_view_name": "LayoutView",
       "align_content": null,
       "align_items": null,
       "align_self": null,
       "border": null,
       "bottom": null,
       "display": null,
       "flex": null,
       "flex_flow": null,
       "grid_area": null,
       "grid_auto_columns": null,
       "grid_auto_flow": null,
       "grid_auto_rows": null,
       "grid_column": null,
       "grid_gap": null,
       "grid_row": null,
       "grid_template_areas": null,
       "grid_template_columns": null,
       "grid_template_rows": null,
       "height": null,
       "justify_content": null,
       "justify_items": null,
       "left": null,
       "margin": null,
       "max_height": null,
       "max_width": null,
       "min_height": null,
       "min_width": null,
       "object_fit": null,
       "object_position": null,
       "order": null,
       "overflow": null,
       "overflow_x": null,
       "overflow_y": null,
       "padding": null,
       "right": null,
       "top": null,
       "visibility": null,
       "width": null
      }
     },
     "cf9089805a8b428aae1aaba3cf991619": {
      "model_module": "@jupyter-widgets/controls",
      "model_module_version": "1.5.0",
      "model_name": "HTMLModel",
      "state": {
       "_dom_classes": [],
       "_model_module": "@jupyter-widgets/controls",
       "_model_module_version": "1.5.0",
       "_model_name": "HTMLModel",
       "_view_count": null,
       "_view_module": "@jupyter-widgets/controls",
       "_view_module_version": "1.5.0",
       "_view_name": "HTMLView",
       "description": "",
       "description_tooltip": null,
       "layout": "IPY_MODEL_4c960a8746bd4efbba49519de1db3454",
       "placeholder": "​",
       "style": "IPY_MODEL_d40d0d7eb044447bbbd6be8f77e43c52",
       "value": " 2/2 [00:01&lt;00:00,  2.08ba/s]"
      }
     },
     "cf967b93b77b440eb4b9fa92a3daa0d5": {
      "model_module": "@jupyter-widgets/base",
      "model_module_version": "1.2.0",
      "model_name": "LayoutModel",
      "state": {
       "_model_module": "@jupyter-widgets/base",
       "_model_module_version": "1.2.0",
       "_model_name": "LayoutModel",
       "_view_count": null,
       "_view_module": "@jupyter-widgets/base",
       "_view_module_version": "1.2.0",
       "_view_name": "LayoutView",
       "align_content": null,
       "align_items": null,
       "align_self": null,
       "border": null,
       "bottom": null,
       "display": null,
       "flex": null,
       "flex_flow": null,
       "grid_area": null,
       "grid_auto_columns": null,
       "grid_auto_flow": null,
       "grid_auto_rows": null,
       "grid_column": null,
       "grid_gap": null,
       "grid_row": null,
       "grid_template_areas": null,
       "grid_template_columns": null,
       "grid_template_rows": null,
       "height": null,
       "justify_content": null,
       "justify_items": null,
       "left": null,
       "margin": null,
       "max_height": null,
       "max_width": null,
       "min_height": null,
       "min_width": null,
       "object_fit": null,
       "object_position": null,
       "order": null,
       "overflow": null,
       "overflow_x": null,
       "overflow_y": null,
       "padding": null,
       "right": null,
       "top": null,
       "visibility": null,
       "width": null
      }
     },
     "d0b3724073da466889479478faa76a48": {
      "model_module": "@jupyter-widgets/controls",
      "model_module_version": "1.5.0",
      "model_name": "FloatProgressModel",
      "state": {
       "_dom_classes": [],
       "_model_module": "@jupyter-widgets/controls",
       "_model_module_version": "1.5.0",
       "_model_name": "FloatProgressModel",
       "_view_count": null,
       "_view_module": "@jupyter-widgets/controls",
       "_view_module_version": "1.5.0",
       "_view_name": "ProgressView",
       "bar_style": "success",
       "description": "",
       "description_tooltip": null,
       "layout": "IPY_MODEL_b016697863734284b33cfbf4f4830b24",
       "max": 2.0,
       "min": 0.0,
       "orientation": "horizontal",
       "style": "IPY_MODEL_4b2be15a34ea4d6d8bb578ea5f328bbb",
       "value": 2.0
      }
     },
     "d40d0d7eb044447bbbd6be8f77e43c52": {
      "model_module": "@jupyter-widgets/controls",
      "model_module_version": "1.5.0",
      "model_name": "DescriptionStyleModel",
      "state": {
       "_model_module": "@jupyter-widgets/controls",
       "_model_module_version": "1.5.0",
       "_model_name": "DescriptionStyleModel",
       "_view_count": null,
       "_view_module": "@jupyter-widgets/base",
       "_view_module_version": "1.2.0",
       "_view_name": "StyleView",
       "description_width": ""
      }
     },
     "d52b5aaae8c1497a99c8fccd267e1a25": {
      "model_module": "@jupyter-widgets/base",
      "model_module_version": "1.2.0",
      "model_name": "LayoutModel",
      "state": {
       "_model_module": "@jupyter-widgets/base",
       "_model_module_version": "1.2.0",
       "_model_name": "LayoutModel",
       "_view_count": null,
       "_view_module": "@jupyter-widgets/base",
       "_view_module_version": "1.2.0",
       "_view_name": "LayoutView",
       "align_content": null,
       "align_items": null,
       "align_self": null,
       "border": null,
       "bottom": null,
       "display": null,
       "flex": null,
       "flex_flow": null,
       "grid_area": null,
       "grid_auto_columns": null,
       "grid_auto_flow": null,
       "grid_auto_rows": null,
       "grid_column": null,
       "grid_gap": null,
       "grid_row": null,
       "grid_template_areas": null,
       "grid_template_columns": null,
       "grid_template_rows": null,
       "height": null,
       "justify_content": null,
       "justify_items": null,
       "left": null,
       "margin": null,
       "max_height": null,
       "max_width": null,
       "min_height": null,
       "min_width": null,
       "object_fit": null,
       "object_position": null,
       "order": null,
       "overflow": null,
       "overflow_x": null,
       "overflow_y": null,
       "padding": null,
       "right": null,
       "top": null,
       "visibility": null,
       "width": null
      }
     },
     "d5aec812c41b49d0b5189e90d7ace3a2": {
      "model_module": "@jupyter-widgets/controls",
      "model_module_version": "1.5.0",
      "model_name": "DescriptionStyleModel",
      "state": {
       "_model_module": "@jupyter-widgets/controls",
       "_model_module_version": "1.5.0",
       "_model_name": "DescriptionStyleModel",
       "_view_count": null,
       "_view_module": "@jupyter-widgets/base",
       "_view_module_version": "1.2.0",
       "_view_name": "StyleView",
       "description_width": ""
      }
     },
     "d8ea1bf739a44a3f8ec4f4af28bb8346": {
      "model_module": "@jupyter-widgets/controls",
      "model_module_version": "1.5.0",
      "model_name": "FloatProgressModel",
      "state": {
       "_dom_classes": [],
       "_model_module": "@jupyter-widgets/controls",
       "_model_module_version": "1.5.0",
       "_model_name": "FloatProgressModel",
       "_view_count": null,
       "_view_module": "@jupyter-widgets/controls",
       "_view_module_version": "1.5.0",
       "_view_name": "ProgressView",
       "bar_style": "success",
       "description": "",
       "description_tooltip": null,
       "layout": "IPY_MODEL_686c8bcc716a48b498b82a190adc7959",
       "max": 1355256.0,
       "min": 0.0,
       "orientation": "horizontal",
       "style": "IPY_MODEL_7da0d1614b414fd9a025fa7c4737c959",
       "value": 1355256.0
      }
     },
     "da168bec1b074020b27ba57c4ce3a55f": {
      "model_module": "@jupyter-widgets/controls",
      "model_module_version": "1.5.0",
      "model_name": "HBoxModel",
      "state": {
       "_dom_classes": [],
       "_model_module": "@jupyter-widgets/controls",
       "_model_module_version": "1.5.0",
       "_model_name": "HBoxModel",
       "_view_count": null,
       "_view_module": "@jupyter-widgets/controls",
       "_view_module_version": "1.5.0",
       "_view_name": "HBoxView",
       "box_style": "",
       "children": [
        "IPY_MODEL_a2c39d4088d744b09729e9e9def31916",
        "IPY_MODEL_13c5b664eb364c92a3ddbfa8e5ef9449",
        "IPY_MODEL_366b8c1154974927b91030deb4d4af03"
       ],
       "layout": "IPY_MODEL_2c7f52fda65d40d385613348bb113ce1"
      }
     },
     "dcc7749942964a1d8832dc390e3163c8": {
      "model_module": "@jupyter-widgets/base",
      "model_module_version": "1.2.0",
      "model_name": "LayoutModel",
      "state": {
       "_model_module": "@jupyter-widgets/base",
       "_model_module_version": "1.2.0",
       "_model_name": "LayoutModel",
       "_view_count": null,
       "_view_module": "@jupyter-widgets/base",
       "_view_module_version": "1.2.0",
       "_view_name": "LayoutView",
       "align_content": null,
       "align_items": null,
       "align_self": null,
       "border": null,
       "bottom": null,
       "display": null,
       "flex": null,
       "flex_flow": null,
       "grid_area": null,
       "grid_auto_columns": null,
       "grid_auto_flow": null,
       "grid_auto_rows": null,
       "grid_column": null,
       "grid_gap": null,
       "grid_row": null,
       "grid_template_areas": null,
       "grid_template_columns": null,
       "grid_template_rows": null,
       "height": null,
       "justify_content": null,
       "justify_items": null,
       "left": null,
       "margin": null,
       "max_height": null,
       "max_width": null,
       "min_height": null,
       "min_width": null,
       "object_fit": null,
       "object_position": null,
       "order": null,
       "overflow": null,
       "overflow_x": null,
       "overflow_y": null,
       "padding": null,
       "right": null,
       "top": null,
       "visibility": null,
       "width": null
      }
     },
     "e00707f229bc42aeb1205b68fa257a7c": {
      "model_module": "@jupyter-widgets/controls",
      "model_module_version": "1.5.0",
      "model_name": "HTMLModel",
      "state": {
       "_dom_classes": [],
       "_model_module": "@jupyter-widgets/controls",
       "_model_module_version": "1.5.0",
       "_model_name": "HTMLModel",
       "_view_count": null,
       "_view_module": "@jupyter-widgets/controls",
       "_view_module_version": "1.5.0",
       "_view_name": "HTMLView",
       "description": "",
       "description_tooltip": null,
       "layout": "IPY_MODEL_ac53dc49b90f401e96f1a5270eafb6ca",
       "placeholder": "​",
       "style": "IPY_MODEL_bafaf6cbe03c4a48a2d9a11b16a6a937",
       "value": "100%"
      }
     },
     "e84315e94a9640cd9b16e966170df2a2": {
      "model_module": "@jupyter-widgets/base",
      "model_module_version": "1.2.0",
      "model_name": "LayoutModel",
      "state": {
       "_model_module": "@jupyter-widgets/base",
       "_model_module_version": "1.2.0",
       "_model_name": "LayoutModel",
       "_view_count": null,
       "_view_module": "@jupyter-widgets/base",
       "_view_module_version": "1.2.0",
       "_view_name": "LayoutView",
       "align_content": null,
       "align_items": null,
       "align_self": null,
       "border": null,
       "bottom": null,
       "display": null,
       "flex": null,
       "flex_flow": null,
       "grid_area": null,
       "grid_auto_columns": null,
       "grid_auto_flow": null,
       "grid_auto_rows": null,
       "grid_column": null,
       "grid_gap": null,
       "grid_row": null,
       "grid_template_areas": null,
       "grid_template_columns": null,
       "grid_template_rows": null,
       "height": null,
       "justify_content": null,
       "justify_items": null,
       "left": null,
       "margin": null,
       "max_height": null,
       "max_width": null,
       "min_height": null,
       "min_width": null,
       "object_fit": null,
       "object_position": null,
       "order": null,
       "overflow": null,
       "overflow_x": null,
       "overflow_y": null,
       "padding": null,
       "right": null,
       "top": null,
       "visibility": null,
       "width": null
      }
     },
     "e876f6ab246949439a454e010480a949": {
      "model_module": "@jupyter-widgets/controls",
      "model_module_version": "1.5.0",
      "model_name": "DescriptionStyleModel",
      "state": {
       "_model_module": "@jupyter-widgets/controls",
       "_model_module_version": "1.5.0",
       "_model_name": "DescriptionStyleModel",
       "_view_count": null,
       "_view_module": "@jupyter-widgets/base",
       "_view_module_version": "1.2.0",
       "_view_name": "StyleView",
       "description_width": ""
      }
     },
     "eefe4b42de084cd88c9bc5eb8a9aa6bb": {
      "model_module": "@jupyter-widgets/controls",
      "model_module_version": "1.5.0",
      "model_name": "HBoxModel",
      "state": {
       "_dom_classes": [],
       "_model_module": "@jupyter-widgets/controls",
       "_model_module_version": "1.5.0",
       "_model_name": "HBoxModel",
       "_view_count": null,
       "_view_module": "@jupyter-widgets/controls",
       "_view_module_version": "1.5.0",
       "_view_name": "HBoxView",
       "box_style": "",
       "children": [
        "IPY_MODEL_c11882764efb4f43a1af63bb3ad2ebfd",
        "IPY_MODEL_1ca8ec9d5127457b97e4da60b8385ed5",
        "IPY_MODEL_b242bd3e5650404c8987815e66d4526c"
       ],
       "layout": "IPY_MODEL_32e9ddfa6fe341bdadc81524eb3ddc19"
      }
     },
     "f9fc008d8fb44b219e6e2d5b46463303": {
      "model_module": "@jupyter-widgets/controls",
      "model_module_version": "1.5.0",
      "model_name": "ProgressStyleModel",
      "state": {
       "_model_module": "@jupyter-widgets/controls",
       "_model_module_version": "1.5.0",
       "_model_name": "ProgressStyleModel",
       "_view_count": null,
       "_view_module": "@jupyter-widgets/base",
       "_view_module_version": "1.2.0",
       "_view_name": "StyleView",
       "bar_color": null,
       "description_width": ""
      }
     },
     "fa3f8f5dc7ba46809ec1e3a616803e9d": {
      "model_module": "@jupyter-widgets/controls",
      "model_module_version": "1.5.0",
      "model_name": "DescriptionStyleModel",
      "state": {
       "_model_module": "@jupyter-widgets/controls",
       "_model_module_version": "1.5.0",
       "_model_name": "DescriptionStyleModel",
       "_view_count": null,
       "_view_module": "@jupyter-widgets/base",
       "_view_module_version": "1.2.0",
       "_view_name": "StyleView",
       "description_width": ""
      }
     },
     "fb8b67e1de444606aa65807befbb2377": {
      "model_module": "@jupyter-widgets/base",
      "model_module_version": "1.2.0",
      "model_name": "LayoutModel",
      "state": {
       "_model_module": "@jupyter-widgets/base",
       "_model_module_version": "1.2.0",
       "_model_name": "LayoutModel",
       "_view_count": null,
       "_view_module": "@jupyter-widgets/base",
       "_view_module_version": "1.2.0",
       "_view_name": "LayoutView",
       "align_content": null,
       "align_items": null,
       "align_self": null,
       "border": null,
       "bottom": null,
       "display": null,
       "flex": null,
       "flex_flow": null,
       "grid_area": null,
       "grid_auto_columns": null,
       "grid_auto_flow": null,
       "grid_auto_rows": null,
       "grid_column": null,
       "grid_gap": null,
       "grid_row": null,
       "grid_template_areas": null,
       "grid_template_columns": null,
       "grid_template_rows": null,
       "height": null,
       "justify_content": null,
       "justify_items": null,
       "left": null,
       "margin": null,
       "max_height": null,
       "max_width": null,
       "min_height": null,
       "min_width": null,
       "object_fit": null,
       "object_position": null,
       "order": null,
       "overflow": null,
       "overflow_x": null,
       "overflow_y": null,
       "padding": null,
       "right": null,
       "top": null,
       "visibility": null,
       "width": null
      }
     }
    },
    "version_major": 2,
    "version_minor": 0
   }
  }
 },
 "nbformat": 4,
 "nbformat_minor": 5
}
