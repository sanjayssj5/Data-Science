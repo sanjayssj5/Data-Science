{
 "cells": [
  {
   "cell_type": "markdown",
   "id": "ea7bea65",
   "metadata": {
    "papermill": {
     "duration": 0.004288,
     "end_time": "2023-03-07T14:57:33.472208",
     "exception": false,
     "start_time": "2023-03-07T14:57:33.467920",
     "status": "completed"
    },
    "tags": []
   },
   "source": [
    "**This notebook is an exercise in the [Intro to Deep Learning](https://www.kaggle.com/learn/intro-to-deep-learning) course.  You can reference the tutorial at [this link](https://www.kaggle.com/ryanholbrook/binary-classification).**\n",
    "\n",
    "---\n"
   ]
  },
  {
   "cell_type": "markdown",
   "id": "e920513a",
   "metadata": {
    "papermill": {
     "duration": 0.002929,
     "end_time": "2023-03-07T14:57:33.478524",
     "exception": false,
     "start_time": "2023-03-07T14:57:33.475595",
     "status": "completed"
    },
    "tags": []
   },
   "source": [
    "# Introduction #\n",
    "\n",
    "In this exercise, you'll build a model to predict hotel cancellations with a binary classifier."
   ]
  },
  {
   "cell_type": "code",
   "execution_count": 1,
   "id": "8ed70520",
   "metadata": {
    "execution": {
     "iopub.execute_input": "2023-03-07T14:57:33.486785Z",
     "iopub.status.busy": "2023-03-07T14:57:33.486299Z",
     "iopub.status.idle": "2023-03-07T14:57:33.518289Z",
     "shell.execute_reply": "2023-03-07T14:57:33.517366Z"
    },
    "lines_to_next_cell": 0,
    "papermill": {
     "duration": 0.038724,
     "end_time": "2023-03-07T14:57:33.520379",
     "exception": false,
     "start_time": "2023-03-07T14:57:33.481655",
     "status": "completed"
    },
    "tags": []
   },
   "outputs": [],
   "source": [
    "# Setup plotting\n",
    "import matplotlib.pyplot as plt\n",
    "plt.style.use('seaborn-whitegrid')\n",
    "# Set Matplotlib defaults\n",
    "plt.rc('figure', autolayout=True)\n",
    "plt.rc('axes', labelweight='bold', labelsize='large',\n",
    "       titleweight='bold', titlesize=18, titlepad=10)\n",
    "plt.rc('animation', html='html5')\n",
    "\n",
    "# Setup feedback system\n",
    "from learntools.core import binder\n",
    "binder.bind(globals())\n",
    "from learntools.deep_learning_intro.ex6 import *"
   ]
  },
  {
   "cell_type": "markdown",
   "id": "11322b0e",
   "metadata": {
    "papermill": {
     "duration": 0.003093,
     "end_time": "2023-03-07T14:57:33.526767",
     "exception": false,
     "start_time": "2023-03-07T14:57:33.523674",
     "status": "completed"
    },
    "tags": []
   },
   "source": [
    "First, load the *Hotel Cancellations* dataset."
   ]
  },
  {
   "cell_type": "code",
   "execution_count": 2,
   "id": "ebed11c9",
   "metadata": {
    "execution": {
     "iopub.execute_input": "2023-03-07T14:57:33.535018Z",
     "iopub.status.busy": "2023-03-07T14:57:33.534193Z",
     "iopub.status.idle": "2023-03-07T14:57:36.004502Z",
     "shell.execute_reply": "2023-03-07T14:57:36.003402Z"
    },
    "lines_to_next_cell": 2,
    "papermill": {
     "duration": 2.477168,
     "end_time": "2023-03-07T14:57:36.007182",
     "exception": false,
     "start_time": "2023-03-07T14:57:33.530014",
     "status": "completed"
    },
    "tags": []
   },
   "outputs": [],
   "source": [
    "import pandas as pd\n",
    "\n",
    "from sklearn.model_selection import train_test_split\n",
    "from sklearn.preprocessing import StandardScaler, OneHotEncoder\n",
    "from sklearn.impute import SimpleImputer\n",
    "from sklearn.pipeline import make_pipeline\n",
    "from sklearn.compose import make_column_transformer\n",
    "\n",
    "hotel = pd.read_csv('../input/dl-course-data/hotel.csv')\n",
    "\n",
    "X = hotel.copy()\n",
    "y = X.pop('is_canceled')\n",
    "\n",
    "X['arrival_date_month'] = \\\n",
    "    X['arrival_date_month'].map(\n",
    "        {'January':1, 'February': 2, 'March':3,\n",
    "         'April':4, 'May':5, 'June':6, 'July':7,\n",
    "         'August':8, 'September':9, 'October':10,\n",
    "         'November':11, 'December':12}\n",
    "    )\n",
    "\n",
    "features_num = [\n",
    "    \"lead_time\", \"arrival_date_week_number\",\n",
    "    \"arrival_date_day_of_month\", \"stays_in_weekend_nights\",\n",
    "    \"stays_in_week_nights\", \"adults\", \"children\", \"babies\",\n",
    "    \"is_repeated_guest\", \"previous_cancellations\",\n",
    "    \"previous_bookings_not_canceled\", \"required_car_parking_spaces\",\n",
    "    \"total_of_special_requests\", \"adr\",\n",
    "]\n",
    "features_cat = [\n",
    "    \"hotel\", \"arrival_date_month\", \"meal\",\n",
    "    \"market_segment\", \"distribution_channel\",\n",
    "    \"reserved_room_type\", \"deposit_type\", \"customer_type\",\n",
    "]\n",
    "\n",
    "transformer_num = make_pipeline(\n",
    "    SimpleImputer(strategy=\"constant\"), # there are a few missing values\n",
    "    StandardScaler(),\n",
    ")\n",
    "transformer_cat = make_pipeline(\n",
    "    SimpleImputer(strategy=\"constant\", fill_value=\"NA\"),\n",
    "    OneHotEncoder(handle_unknown='ignore'),\n",
    ")\n",
    "\n",
    "preprocessor = make_column_transformer(\n",
    "    (transformer_num, features_num),\n",
    "    (transformer_cat, features_cat),\n",
    ")\n",
    "\n",
    "# stratify - make sure classes are evenlly represented across splits\n",
    "X_train, X_valid, y_train, y_valid = \\\n",
    "    train_test_split(X, y, stratify=y, train_size=0.75)\n",
    "\n",
    "X_train = preprocessor.fit_transform(X_train)\n",
    "X_valid = preprocessor.transform(X_valid)\n",
    "\n",
    "input_shape = [X_train.shape[1]]"
   ]
  },
  {
   "cell_type": "markdown",
   "id": "78842320",
   "metadata": {
    "papermill": {
     "duration": 0.003496,
     "end_time": "2023-03-07T14:57:36.015852",
     "exception": false,
     "start_time": "2023-03-07T14:57:36.012356",
     "status": "completed"
    },
    "tags": []
   },
   "source": [
    "# 1) Define Model #\n",
    "\n",
    "The model we'll use this time will have both batch normalization and dropout layers. To ease reading we've broken the diagram into blocks, but you can define it layer by layer as usual.\n",
    "\n",
    "Define a model with an architecture given by this diagram:\n",
    "\n",
    "<figure style=\"padding: 1em;\">\n",
    "<img src=\"https://i.imgur.com/V04o59Z.png\" width=\"400\" alt=\"Diagram of network architecture: BatchNorm, Dense, BatchNorm, Dropout, Dense, BatchNorm, Dropout, Dense.\">\n",
    "<figcaption style=\"textalign: center; font-style: italic\"><center>Diagram of a binary classifier.</center></figcaption>\n",
    "</figure>\n"
   ]
  },
  {
   "cell_type": "code",
   "execution_count": 3,
   "id": "6d4f9c66",
   "metadata": {
    "execution": {
     "iopub.execute_input": "2023-03-07T14:57:36.023790Z",
     "iopub.status.busy": "2023-03-07T14:57:36.023477Z",
     "iopub.status.idle": "2023-03-07T14:57:45.386497Z",
     "shell.execute_reply": "2023-03-07T14:57:45.385467Z"
    },
    "lines_to_next_cell": 2,
    "papermill": {
     "duration": 9.369646,
     "end_time": "2023-03-07T14:57:45.388724",
     "exception": false,
     "start_time": "2023-03-07T14:57:36.019078",
     "status": "completed"
    },
    "tags": []
   },
   "outputs": [
    {
     "data": {
      "application/javascript": [
       "parent.postMessage({\"jupyterEvent\": \"custom.exercise_interaction\", \"data\": {\"outcomeType\": 1, \"valueTowardsCompletion\": 0.3333333333333333, \"interactionType\": 1, \"questionType\": 2, \"questionId\": \"1_Q1\", \"learnToolsVersion\": \"0.3.4\", \"failureMessage\": \"\", \"exceptionClass\": \"\", \"trace\": \"\"}}, \"*\")"
      ],
      "text/plain": [
       "<IPython.core.display.Javascript object>"
      ]
     },
     "metadata": {},
     "output_type": "display_data"
    },
    {
     "data": {
      "text/markdown": [
       "<span style=\"color:#33cc33\">Correct</span>"
      ],
      "text/plain": [
       "Correct"
      ]
     },
     "metadata": {},
     "output_type": "display_data"
    }
   ],
   "source": [
    "from tensorflow import keras\n",
    "from tensorflow.keras import layers\n",
    "\n",
    "# YOUR CODE HERE: define the model given in the diagram\n",
    "model = keras.Sequential([\n",
    "    layers.BatchNormalization(),\n",
    "    layers.Dense(256, activation='relu', input_shape=input_shape),\n",
    "    layers.BatchNormalization(),\n",
    "    layers.Dropout(0.3),\n",
    "    layers.Dense(256, activation='relu'),\n",
    "    layers.BatchNormalization(),\n",
    "    layers.Dropout(0.3),\n",
    "    layers.Dense(1,activation='sigmoid'),\n",
    "])\n",
    "\n",
    "# Check your answer\n",
    "q_1.check()"
   ]
  },
  {
   "cell_type": "markdown",
   "id": "6ec96460",
   "metadata": {
    "papermill": {
     "duration": 0.003283,
     "end_time": "2023-03-07T14:57:45.395657",
     "exception": false,
     "start_time": "2023-03-07T14:57:45.392374",
     "status": "completed"
    },
    "tags": []
   },
   "source": [
    "# 2) Add Optimizer, Loss, and Metric #\n",
    "\n",
    "Now compile the model with the Adam optimizer and binary versions of the cross-entropy loss and accuracy metric."
   ]
  },
  {
   "cell_type": "code",
   "execution_count": 4,
   "id": "8500e6ac",
   "metadata": {
    "execution": {
     "iopub.execute_input": "2023-03-07T14:57:45.403798Z",
     "iopub.status.busy": "2023-03-07T14:57:45.403508Z",
     "iopub.status.idle": "2023-03-07T14:57:45.434119Z",
     "shell.execute_reply": "2023-03-07T14:57:45.433152Z"
    },
    "lines_to_next_cell": 0,
    "papermill": {
     "duration": 0.037356,
     "end_time": "2023-03-07T14:57:45.436351",
     "exception": false,
     "start_time": "2023-03-07T14:57:45.398995",
     "status": "completed"
    },
    "tags": []
   },
   "outputs": [
    {
     "data": {
      "application/javascript": [
       "parent.postMessage({\"jupyterEvent\": \"custom.exercise_interaction\", \"data\": {\"outcomeType\": 1, \"valueTowardsCompletion\": 0.3333333333333333, \"interactionType\": 1, \"questionType\": 2, \"questionId\": \"2_Q2\", \"learnToolsVersion\": \"0.3.4\", \"failureMessage\": \"\", \"exceptionClass\": \"\", \"trace\": \"\"}}, \"*\")"
      ],
      "text/plain": [
       "<IPython.core.display.Javascript object>"
      ]
     },
     "metadata": {},
     "output_type": "display_data"
    },
    {
     "data": {
      "text/markdown": [
       "<span style=\"color:#33cc33\">Correct</span>"
      ],
      "text/plain": [
       "Correct"
      ]
     },
     "metadata": {},
     "output_type": "display_data"
    }
   ],
   "source": [
    "# YOUR CODE HERE\n",
    "model.compile(\n",
    "    optimizer='adam',\n",
    "    loss='binary_crossentropy',\n",
    "    metrics=['binary_accuracy'],\n",
    ")\n",
    "\n",
    "# Check your answer\n",
    "q_2.check()"
   ]
  },
  {
   "cell_type": "code",
   "execution_count": 5,
   "id": "a5ee5334",
   "metadata": {
    "execution": {
     "iopub.execute_input": "2023-03-07T14:57:45.445433Z",
     "iopub.status.busy": "2023-03-07T14:57:45.444603Z",
     "iopub.status.idle": "2023-03-07T14:57:45.449710Z",
     "shell.execute_reply": "2023-03-07T14:57:45.448846Z"
    },
    "lines_to_next_cell": 0,
    "papermill": {
     "duration": 0.01174,
     "end_time": "2023-03-07T14:57:45.451797",
     "exception": false,
     "start_time": "2023-03-07T14:57:45.440057",
     "status": "completed"
    },
    "tags": []
   },
   "outputs": [],
   "source": [
    "# Lines below will give you a hint or solution code\n",
    "#q_2.hint()\n",
    "#q_2.solution()"
   ]
  },
  {
   "cell_type": "markdown",
   "id": "9b5cebcb",
   "metadata": {
    "papermill": {
     "duration": 0.003443,
     "end_time": "2023-03-07T14:57:45.458830",
     "exception": false,
     "start_time": "2023-03-07T14:57:45.455387",
     "status": "completed"
    },
    "tags": []
   },
   "source": [
    "Finally, run this cell to train the model and view the learning curves. It may run for around 60 to 70 epochs, which could take a minute or two."
   ]
  },
  {
   "cell_type": "code",
   "execution_count": 6,
   "id": "85073a64",
   "metadata": {
    "execution": {
     "iopub.execute_input": "2023-03-07T14:57:45.467787Z",
     "iopub.status.busy": "2023-03-07T14:57:45.467079Z",
     "iopub.status.idle": "2023-03-07T14:58:28.803859Z",
     "shell.execute_reply": "2023-03-07T14:58:28.802862Z"
    },
    "papermill": {
     "duration": 43.343791,
     "end_time": "2023-03-07T14:58:28.806220",
     "exception": false,
     "start_time": "2023-03-07T14:57:45.462429",
     "status": "completed"
    },
    "tags": []
   },
   "outputs": [
    {
     "name": "stdout",
     "output_type": "stream",
     "text": [
      "Epoch 1/200\n",
      "175/175 [==============================] - 6s 7ms/step - loss: 0.4842 - binary_accuracy: 0.7698 - val_loss: 0.4323 - val_binary_accuracy: 0.8022\n",
      "Epoch 2/200\n",
      "175/175 [==============================] - 1s 5ms/step - loss: 0.4248 - binary_accuracy: 0.7994 - val_loss: 0.4004 - val_binary_accuracy: 0.8135\n",
      "Epoch 3/200\n",
      "175/175 [==============================] - 1s 6ms/step - loss: 0.4096 - binary_accuracy: 0.8096 - val_loss: 0.3913 - val_binary_accuracy: 0.8170\n",
      "Epoch 4/200\n",
      "175/175 [==============================] - 1s 6ms/step - loss: 0.4019 - binary_accuracy: 0.8126 - val_loss: 0.3878 - val_binary_accuracy: 0.8207\n",
      "Epoch 5/200\n",
      "175/175 [==============================] - 1s 6ms/step - loss: 0.3979 - binary_accuracy: 0.8143 - val_loss: 0.3863 - val_binary_accuracy: 0.8217\n",
      "Epoch 6/200\n",
      "175/175 [==============================] - 1s 6ms/step - loss: 0.3939 - binary_accuracy: 0.8181 - val_loss: 0.3835 - val_binary_accuracy: 0.8225\n",
      "Epoch 7/200\n",
      "175/175 [==============================] - 1s 6ms/step - loss: 0.3891 - binary_accuracy: 0.8186 - val_loss: 0.3790 - val_binary_accuracy: 0.8246\n",
      "Epoch 8/200\n",
      "175/175 [==============================] - 1s 5ms/step - loss: 0.3873 - binary_accuracy: 0.8202 - val_loss: 0.3748 - val_binary_accuracy: 0.8289\n",
      "Epoch 9/200\n",
      "175/175 [==============================] - 1s 7ms/step - loss: 0.3831 - binary_accuracy: 0.8224 - val_loss: 0.3762 - val_binary_accuracy: 0.8282\n",
      "Epoch 10/200\n",
      "175/175 [==============================] - 1s 7ms/step - loss: 0.3809 - binary_accuracy: 0.8233 - val_loss: 0.3757 - val_binary_accuracy: 0.8275\n",
      "Epoch 11/200\n",
      "175/175 [==============================] - 1s 5ms/step - loss: 0.3778 - binary_accuracy: 0.8256 - val_loss: 0.3700 - val_binary_accuracy: 0.8303\n",
      "Epoch 12/200\n",
      "175/175 [==============================] - 1s 6ms/step - loss: 0.3752 - binary_accuracy: 0.8281 - val_loss: 0.3751 - val_binary_accuracy: 0.8269\n",
      "Epoch 13/200\n",
      "175/175 [==============================] - 1s 6ms/step - loss: 0.3718 - binary_accuracy: 0.8290 - val_loss: 0.3681 - val_binary_accuracy: 0.8312\n",
      "Epoch 14/200\n",
      "175/175 [==============================] - 1s 6ms/step - loss: 0.3713 - binary_accuracy: 0.8290 - val_loss: 0.3676 - val_binary_accuracy: 0.8319\n",
      "Epoch 15/200\n",
      "175/175 [==============================] - 1s 7ms/step - loss: 0.3687 - binary_accuracy: 0.8293 - val_loss: 0.3680 - val_binary_accuracy: 0.8309\n",
      "Epoch 16/200\n",
      "175/175 [==============================] - 1s 6ms/step - loss: 0.3672 - binary_accuracy: 0.8309 - val_loss: 0.3658 - val_binary_accuracy: 0.8341\n",
      "Epoch 17/200\n",
      "175/175 [==============================] - 1s 5ms/step - loss: 0.3651 - binary_accuracy: 0.8312 - val_loss: 0.3627 - val_binary_accuracy: 0.8350\n",
      "Epoch 18/200\n",
      "175/175 [==============================] - 1s 5ms/step - loss: 0.3634 - binary_accuracy: 0.8322 - val_loss: 0.3628 - val_binary_accuracy: 0.8338\n",
      "Epoch 19/200\n",
      "175/175 [==============================] - 1s 5ms/step - loss: 0.3618 - binary_accuracy: 0.8331 - val_loss: 0.3625 - val_binary_accuracy: 0.8336\n",
      "Epoch 20/200\n",
      "175/175 [==============================] - 1s 6ms/step - loss: 0.3604 - binary_accuracy: 0.8337 - val_loss: 0.3638 - val_binary_accuracy: 0.8342\n",
      "Epoch 21/200\n",
      "175/175 [==============================] - 1s 5ms/step - loss: 0.3585 - binary_accuracy: 0.8342 - val_loss: 0.3592 - val_binary_accuracy: 0.8367\n",
      "Epoch 22/200\n",
      "175/175 [==============================] - 1s 6ms/step - loss: 0.3581 - binary_accuracy: 0.8343 - val_loss: 0.3584 - val_binary_accuracy: 0.8363\n",
      "Epoch 23/200\n",
      "175/175 [==============================] - 1s 6ms/step - loss: 0.3561 - binary_accuracy: 0.8355 - val_loss: 0.3593 - val_binary_accuracy: 0.8375\n",
      "Epoch 24/200\n",
      "175/175 [==============================] - 1s 6ms/step - loss: 0.3554 - binary_accuracy: 0.8359 - val_loss: 0.3595 - val_binary_accuracy: 0.8351\n",
      "Epoch 25/200\n",
      "175/175 [==============================] - 1s 6ms/step - loss: 0.3543 - binary_accuracy: 0.8367 - val_loss: 0.3577 - val_binary_accuracy: 0.8380\n",
      "Epoch 26/200\n",
      "175/175 [==============================] - 1s 8ms/step - loss: 0.3522 - binary_accuracy: 0.8376 - val_loss: 0.3607 - val_binary_accuracy: 0.8351\n",
      "Epoch 27/200\n",
      "175/175 [==============================] - 1s 6ms/step - loss: 0.3511 - binary_accuracy: 0.8383 - val_loss: 0.3557 - val_binary_accuracy: 0.8387\n",
      "Epoch 28/200\n",
      "175/175 [==============================] - 1s 6ms/step - loss: 0.3502 - binary_accuracy: 0.8383 - val_loss: 0.3572 - val_binary_accuracy: 0.8372\n",
      "Epoch 29/200\n",
      "175/175 [==============================] - 1s 5ms/step - loss: 0.3487 - binary_accuracy: 0.8404 - val_loss: 0.3550 - val_binary_accuracy: 0.8390\n",
      "Epoch 30/200\n",
      "175/175 [==============================] - 1s 6ms/step - loss: 0.3477 - binary_accuracy: 0.8403 - val_loss: 0.3561 - val_binary_accuracy: 0.8394\n",
      "Epoch 31/200\n",
      "175/175 [==============================] - 1s 6ms/step - loss: 0.3459 - binary_accuracy: 0.8405 - val_loss: 0.3567 - val_binary_accuracy: 0.8379\n",
      "Epoch 32/200\n",
      "175/175 [==============================] - 1s 6ms/step - loss: 0.3464 - binary_accuracy: 0.8406 - val_loss: 0.3552 - val_binary_accuracy: 0.8388\n"
     ]
    },
    {
     "data": {
      "text/plain": [
       "<AxesSubplot:title={'center':'Accuracy'}>"
      ]
     },
     "execution_count": 6,
     "metadata": {},
     "output_type": "execute_result"
    },
    {
     "data": {
      "image/png": "[encoded data removed]",
      "text/plain": [
       "<Figure size 640x480 with 1 Axes>"
      ]
     },
     "metadata": {},
     "output_type": "display_data"
    },
    {
     "data": {
      "image/png": "[encoded data removed]",
      "text/plain": [
       "<Figure size 640x480 with 1 Axes>"
      ]
     },
     "metadata": {},
     "output_type": "display_data"
    }
   ],
   "source": [
    "early_stopping = keras.callbacks.EarlyStopping(\n",
    "    patience=5,\n",
    "    min_delta=0.001,\n",
    "    restore_best_weights=True,\n",
    ")\n",
    "history = model.fit(\n",
    "    X_train, y_train,\n",
    "    validation_data=(X_valid, y_valid),\n",
    "    batch_size=512,\n",
    "    epochs=200,\n",
    "    callbacks=[early_stopping],\n",
    ")\n",
    "\n",
    "history_df = pd.DataFrame(history.history)\n",
    "history_df.loc[:, ['loss', 'val_loss']].plot(title=\"Cross-entropy\")\n",
    "history_df.loc[:, ['binary_accuracy', 'val_binary_accuracy']].plot(title=\"Accuracy\")"
   ]
  },
  {
   "cell_type": "markdown",
   "id": "6cb68fb3",
   "metadata": {
    "papermill": {
     "duration": 0.034657,
     "end_time": "2023-03-07T14:58:28.876707",
     "exception": false,
     "start_time": "2023-03-07T14:58:28.842050",
     "status": "completed"
    },
    "tags": []
   },
   "source": [
    "# 3) Train and Evaluate #\n",
    "\n",
    "\n",
    "What do you think about the learning curves? Does it look like the model underfit or overfit? Was the cross-entropy loss a good stand-in for accuracy?"
   ]
  },
  {
   "cell_type": "code",
   "execution_count": 7,
   "id": "6d49f1ed",
   "metadata": {
    "execution": {
     "iopub.execute_input": "2023-03-07T14:58:28.950022Z",
     "iopub.status.busy": "2023-03-07T14:58:28.948982Z",
     "iopub.status.idle": "2023-03-07T14:58:28.958933Z",
     "shell.execute_reply": "2023-03-07T14:58:28.957873Z"
    },
    "papermill": {
     "duration": 0.0486,
     "end_time": "2023-03-07T14:58:28.960950",
     "exception": false,
     "start_time": "2023-03-07T14:58:28.912350",
     "status": "completed"
    },
    "tags": []
   },
   "outputs": [
    {
     "data": {
      "application/javascript": [
       "parent.postMessage({\"jupyterEvent\": \"custom.exercise_interaction\", \"data\": {\"outcomeType\": 1, \"valueTowardsCompletion\": 0.3333333333333333, \"interactionType\": 1, \"questionType\": 4, \"questionId\": \"3_Q3\", \"learnToolsVersion\": \"0.3.4\", \"failureMessage\": \"\", \"exceptionClass\": \"\", \"trace\": \"\"}}, \"*\")"
      ],
      "text/plain": [
       "<IPython.core.display.Javascript object>"
      ]
     },
     "metadata": {},
     "output_type": "display_data"
    },
    {
     "data": {
      "text/markdown": [
       "<span style=\"color:#33cc33\">Correct:</span> \n",
       "\n",
       "Though we can see the training loss continuing to fall, the early stopping callback prevented any overfitting. Moreover, the accuracy rose at the same rate as the cross-entropy fell, so it appears that minimizing cross-entropy was a good stand-in. All in all, it looks like this training was a success!"
      ],
      "text/plain": [
       "Correct: \n",
       "\n",
       "Though we can see the training loss continuing to fall, the early stopping callback prevented any overfitting. Moreover, the accuracy rose at the same rate as the cross-entropy fell, so it appears that minimizing cross-entropy was a good stand-in. All in all, it looks like this training was a success!"
      ]
     },
     "metadata": {},
     "output_type": "display_data"
    }
   ],
   "source": [
    "# View the solution (Run this cell to receive credit!)\n",
    "q_3.check()"
   ]
  },
  {
   "cell_type": "markdown",
   "id": "c82a6383",
   "metadata": {
    "papermill": {
     "duration": 0.034952,
     "end_time": "2023-03-07T14:58:29.030736",
     "exception": false,
     "start_time": "2023-03-07T14:58:28.995784",
     "status": "completed"
    },
    "tags": []
   },
   "source": [
    "# Conclusion #\n",
    "\n",
    "Congratulations! You've completed Kaggle's *Introduction to Deep Learning* course!\n",
    "\n",
    "With your new skills you're ready to take on more advanced applications like computer vision and sentiment classification. What would you like to do next?\n",
    "\n",
    "Why not try one of our *Getting Started* competitions?\n",
    "\n",
    "- Classify images with TPUs in [**Petals to the Metal**](https://www.kaggle.com/c/tpu-getting-started)\n",
    "- Create art with GANs in [**I'm Something of a Painter Myself**](https://www.kaggle.com/c/gan-getting-started)\n",
    "- Classify Tweets in [**Real or Not? NLP with Disaster Tweets**](https://www.kaggle.com/c/nlp-getting-started)\n",
    "- Detect contradiction and entailment in [**Contradictory, My Dear Watson**](https://www.kaggle.com/c/contradictory-my-dear-watson)\n",
    "\n",
    "Until next time, Kagglers!"
   ]
  },
  {
   "cell_type": "markdown",
   "id": "3c0acbc4",
   "metadata": {
    "papermill": {
     "duration": 0.034247,
     "end_time": "2023-03-07T14:58:29.099735",
     "exception": false,
     "start_time": "2023-03-07T14:58:29.065488",
     "status": "completed"
    },
    "tags": []
   },
   "source": [
    "---\n",
    "\n",
    "\n",
    "\n",
    "\n",
    "*Have questions or comments? Visit the [course discussion forum](https://www.kaggle.com/learn/intro-to-deep-learning/discussion) to chat with other learners.*"
   ]
  }
 ],
 "metadata": {
  "kernelspec": {
   "display_name": "Python 3",
   "language": "python",
   "name": "python3"
  },
  "language_info": {
   "codemirror_mode": {
    "name": "ipython",
    "version": 3
   },
   "file_extension": ".py",
   "mimetype": "text/x-python",
   "name": "python",
   "nbconvert_exporter": "python",
   "pygments_lexer": "ipython3",
   "version": "3.7.12"
  },
  "papermill": {
   "default_parameters": {},
   "duration": 68.782944,
   "end_time": "2023-03-07T14:58:32.946637",
   "environment_variables": {},
   "exception": null,
   "input_path": "__notebook__.ipynb",
   "output_path": "__notebook__.ipynb",
   "parameters": {},
   "start_time": "2023-03-07T14:57:24.163693",
   "version": "2.4.0"
  }
 },
 "nbformat": 4,
 "nbformat_minor": 5
}
